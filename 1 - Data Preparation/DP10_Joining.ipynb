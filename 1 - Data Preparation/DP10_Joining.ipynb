{
 "cells": [
  {
   "cell_type": "markdown",
   "metadata": {},
   "source": [
    "<center><h1>Indra Rusyadi Adiwijaya<br/>20921001<br/>\n",
    "MODUL BAHASA PEMROGRAMAN PYTHON - DATA SCIENCE</h1><br/>SK6091 Independent Research in Computational Science 1<br/>S2 SAINS KOMPUTASI ITB</center>"
   ]
  },
  {
   "cell_type": "markdown",
   "metadata": {},
   "source": [
    "<center><h1>DATA PREPARATION - JOINING</h1></center>\n",
    "<hr>"
   ]
  },
  {
   "cell_type": "markdown",
   "metadata": {},
   "source": [
    "Membahas tentang cara __joining__ dataframe di Python."
   ]
  },
  {
   "cell_type": "markdown",
   "metadata": {},
   "source": [
    "<h2>Table of Contents</h2>\n",
    "<div class=\"alert alert-block alert-info\" style=\"margin-top: 25px\">\n",
    "    <ul>\n",
    "        <li>\n",
    "            Apa itu Joining ?\n",
    "        </li>\n",
    "        <li>\n",
    "            Load dataset\n",
    "        </li>\n",
    "        <li>\n",
    "            Fungsi <b>concat()</b>\n",
    "            <ul>\n",
    "                <li>Menggabungkan baris</li>\n",
    "                <li>Menggabungkan kolom</li>\n",
    "            </ul>\n",
    "        </li>\n",
    "        <li>\n",
    "            Fungsi <b>merge()</b>\n",
    "            <ul>\n",
    "                <li>Full Outer Join</li>\n",
    "                <li>Inner Join</li>\n",
    "                <li>Left Join</li>\n",
    "                <li>Right Join</li>\n",
    "            </ul>\n",
    "        </li>\n",
    "        <li>\n",
    "            Fungsi <b>join()</b>\n",
    "            <ul>\n",
    "                <li>Menggabungkan dataframe dengan join()</li>\n",
    "                <li>Menggabungkan banyak dataframe</li>\n",
    "            </ul>\n",
    "        </li>\n",
    "    </ul>\n",
    "</div>"
   ]
  },
  {
   "cell_type": "markdown",
   "metadata": {},
   "source": [
    "## Apa itu Joining ?"
   ]
  },
  {
   "cell_type": "markdown",
   "metadata": {},
   "source": [
    "__Joining__ atau menggabungkan data adalah proses menggabungkan dataframe berdasarkan kolom tertentu yang menjadi acuan, misalnya ID. <i>Joining</i> data merupakan salah satu hal penting yang harus dikuasai oleh seseorang yang bergelut dengan data karena data yang digunakan bisa jadi berasal dari beberapa sumber dan harus digabungkan untuk menganalisisnya.\n",
    "\n",
    "Ada beberapa logika penggabungan data, di antaranya:\n",
    "1. Full Outer Join\n",
    "2. Inner Join\n",
    "3. Left Join\n",
    "4. Right Join\n",
    "    \n",
    "Di Python, ada beberapa <i>function</i> yang dapat digunakan untuk <i>joining</i> data, di antaranya <code>concat()</code>, <code>merge()</code>, dan <code>join()</code>."
   ]
  },
  {
   "cell_type": "markdown",
   "metadata": {},
   "source": [
    "<hr>"
   ]
  },
  {
   "cell_type": "markdown",
   "metadata": {},
   "source": [
    "## Load dataset"
   ]
  },
  {
   "cell_type": "markdown",
   "metadata": {},
   "source": [
    "Dalam praktek kali ini, kita akan menggunakan dataset <a href=\"https://www.kaggle.com/new-york-city/nyc-baby-names\">NYC Baby Names</a> dan <a href=\"https://www.kaggle.com/new-york-city/nyc-most-popular-baby-names?select=most-popular-baby-names-by-sex-and-mothers-ethnic-group-new-york-city.csv\">NYC Most Popular Baby Names</a>.\n",
    "\n",
    "Kedua dataset tersebut sama-sama memiliki 6 fitur/kolom yang sama karena memang dataset NYC Most Popular Baby Names adalah data versi terbaru dari dataset NYC Baby Names.\n",
    "\n",
    "__Feature Information__\n",
    "\n",
    "* __Year of Birth :__ Year the baby was born\n",
    "* __Gender :__ Gender of the baby\n",
    "* __Ethnicity :__ Mother's Ethnicity\n",
    "* __Child's First Name :__ Baby's first names\n",
    "* __Count :__ Number of babies with this name\n",
    "* __Rank :__ Frequency of baby names in descending order"
   ]
  },
  {
   "cell_type": "markdown",
   "metadata": {},
   "source": [
    "Pertama kita impor Pandas, kemudian <i>load</i> data ke dataframe menggunakan <code>read_csv()</code>."
   ]
  },
  {
   "cell_type": "code",
   "execution_count": 1,
   "metadata": {},
   "outputs": [],
   "source": [
    "import pandas as pd\n",
    "\n",
    "df_names1 = pd.read_csv('../datasets/NYC-Baby-Names.csv')\n",
    "df_names2 = pd.read_csv('../datasets/NYC-Most-Popular-Baby-Names.csv')"
   ]
  },
  {
   "cell_type": "code",
   "execution_count": 2,
   "metadata": {},
   "outputs": [
    {
     "data": {
      "text/html": [
       "<div>\n",
       "<style scoped>\n",
       "    .dataframe tbody tr th:only-of-type {\n",
       "        vertical-align: middle;\n",
       "    }\n",
       "\n",
       "    .dataframe tbody tr th {\n",
       "        vertical-align: top;\n",
       "    }\n",
       "\n",
       "    .dataframe thead th {\n",
       "        text-align: right;\n",
       "    }\n",
       "</style>\n",
       "<table border=\"1\" class=\"dataframe\">\n",
       "  <thead>\n",
       "    <tr style=\"text-align: right;\">\n",
       "      <th></th>\n",
       "      <th>Year of Birth</th>\n",
       "      <th>Gender</th>\n",
       "      <th>Ethnicity</th>\n",
       "      <th>Child's First Name</th>\n",
       "      <th>Count</th>\n",
       "      <th>Rank</th>\n",
       "    </tr>\n",
       "  </thead>\n",
       "  <tbody>\n",
       "    <tr>\n",
       "      <th>0</th>\n",
       "      <td>2011</td>\n",
       "      <td>FEMALE</td>\n",
       "      <td>HISPANIC</td>\n",
       "      <td>GERALDINE</td>\n",
       "      <td>13</td>\n",
       "      <td>75</td>\n",
       "    </tr>\n",
       "    <tr>\n",
       "      <th>1</th>\n",
       "      <td>2011</td>\n",
       "      <td>FEMALE</td>\n",
       "      <td>HISPANIC</td>\n",
       "      <td>GIA</td>\n",
       "      <td>21</td>\n",
       "      <td>67</td>\n",
       "    </tr>\n",
       "    <tr>\n",
       "      <th>2</th>\n",
       "      <td>2011</td>\n",
       "      <td>FEMALE</td>\n",
       "      <td>HISPANIC</td>\n",
       "      <td>GIANNA</td>\n",
       "      <td>49</td>\n",
       "      <td>42</td>\n",
       "    </tr>\n",
       "    <tr>\n",
       "      <th>3</th>\n",
       "      <td>2011</td>\n",
       "      <td>FEMALE</td>\n",
       "      <td>HISPANIC</td>\n",
       "      <td>GISELLE</td>\n",
       "      <td>38</td>\n",
       "      <td>51</td>\n",
       "    </tr>\n",
       "    <tr>\n",
       "      <th>4</th>\n",
       "      <td>2011</td>\n",
       "      <td>FEMALE</td>\n",
       "      <td>HISPANIC</td>\n",
       "      <td>GRACE</td>\n",
       "      <td>36</td>\n",
       "      <td>53</td>\n",
       "    </tr>\n",
       "  </tbody>\n",
       "</table>\n",
       "</div>"
      ],
      "text/plain": [
       "   Year of Birth  Gender Ethnicity Child's First Name  Count  Rank\n",
       "0           2011  FEMALE  HISPANIC          GERALDINE     13    75\n",
       "1           2011  FEMALE  HISPANIC                GIA     21    67\n",
       "2           2011  FEMALE  HISPANIC             GIANNA     49    42\n",
       "3           2011  FEMALE  HISPANIC            GISELLE     38    51\n",
       "4           2011  FEMALE  HISPANIC              GRACE     36    53"
      ]
     },
     "execution_count": 2,
     "metadata": {},
     "output_type": "execute_result"
    }
   ],
   "source": [
    "df_names1.head()"
   ]
  },
  {
   "cell_type": "code",
   "execution_count": 3,
   "metadata": {},
   "outputs": [
    {
     "data": {
      "text/html": [
       "<div>\n",
       "<style scoped>\n",
       "    .dataframe tbody tr th:only-of-type {\n",
       "        vertical-align: middle;\n",
       "    }\n",
       "\n",
       "    .dataframe tbody tr th {\n",
       "        vertical-align: top;\n",
       "    }\n",
       "\n",
       "    .dataframe thead th {\n",
       "        text-align: right;\n",
       "    }\n",
       "</style>\n",
       "<table border=\"1\" class=\"dataframe\">\n",
       "  <thead>\n",
       "    <tr style=\"text-align: right;\">\n",
       "      <th></th>\n",
       "      <th>Year of Birth</th>\n",
       "      <th>Gender</th>\n",
       "      <th>Ethnicity</th>\n",
       "      <th>Child's First Name</th>\n",
       "      <th>Count</th>\n",
       "      <th>Rank</th>\n",
       "    </tr>\n",
       "  </thead>\n",
       "  <tbody>\n",
       "    <tr>\n",
       "      <th>29459</th>\n",
       "      <td>2011</td>\n",
       "      <td>MALE</td>\n",
       "      <td>WHITE NON HISPANIC</td>\n",
       "      <td>ASHTON</td>\n",
       "      <td>10</td>\n",
       "      <td>97</td>\n",
       "    </tr>\n",
       "    <tr>\n",
       "      <th>29460</th>\n",
       "      <td>2011</td>\n",
       "      <td>MALE</td>\n",
       "      <td>WHITE NON HISPANIC</td>\n",
       "      <td>AUGUSTUS</td>\n",
       "      <td>10</td>\n",
       "      <td>97</td>\n",
       "    </tr>\n",
       "    <tr>\n",
       "      <th>29461</th>\n",
       "      <td>2011</td>\n",
       "      <td>MALE</td>\n",
       "      <td>WHITE NON HISPANIC</td>\n",
       "      <td>BENNETT</td>\n",
       "      <td>10</td>\n",
       "      <td>97</td>\n",
       "    </tr>\n",
       "    <tr>\n",
       "      <th>29462</th>\n",
       "      <td>2011</td>\n",
       "      <td>MALE</td>\n",
       "      <td>WHITE NON HISPANIC</td>\n",
       "      <td>SILAS</td>\n",
       "      <td>10</td>\n",
       "      <td>97</td>\n",
       "    </tr>\n",
       "    <tr>\n",
       "      <th>29463</th>\n",
       "      <td>2011</td>\n",
       "      <td>MALE</td>\n",
       "      <td>WHITE NON HISPANIC</td>\n",
       "      <td>BERISH</td>\n",
       "      <td>10</td>\n",
       "      <td>97</td>\n",
       "    </tr>\n",
       "  </tbody>\n",
       "</table>\n",
       "</div>"
      ],
      "text/plain": [
       "       Year of Birth Gender           Ethnicity Child's First Name  Count  \\\n",
       "29459           2011   MALE  WHITE NON HISPANIC             ASHTON     10   \n",
       "29460           2011   MALE  WHITE NON HISPANIC           AUGUSTUS     10   \n",
       "29461           2011   MALE  WHITE NON HISPANIC            BENNETT     10   \n",
       "29462           2011   MALE  WHITE NON HISPANIC              SILAS     10   \n",
       "29463           2011   MALE  WHITE NON HISPANIC             BERISH     10   \n",
       "\n",
       "       Rank  \n",
       "29459    97  \n",
       "29460    97  \n",
       "29461    97  \n",
       "29462    97  \n",
       "29463    97  "
      ]
     },
     "execution_count": 3,
     "metadata": {},
     "output_type": "execute_result"
    }
   ],
   "source": [
    "df_names2.tail()"
   ]
  },
  {
   "cell_type": "markdown",
   "metadata": {},
   "source": [
    "Mari kita cek dimensi dari kedua dataset tersebut menggunakan <code>shape</code>."
   ]
  },
  {
   "cell_type": "code",
   "execution_count": 4,
   "metadata": {},
   "outputs": [
    {
     "name": "stdout",
     "output_type": "stream",
     "text": [
      "Dimensi data \"NYC-Baby-Names.csv\" :\n",
      "(22035, 6)\n",
      "Dimensi data \"NYC-Most-Popular-Baby-Names.csv\" :\n",
      "(29464, 6)\n"
     ]
    }
   ],
   "source": [
    "# Memeriksa dimensi dari kedua dataset\n",
    "print('Dimensi data \"NYC-Baby-Names.csv\" :')\n",
    "print(df_names1.shape)\n",
    "\n",
    "print('Dimensi data \"NYC-Most-Popular-Baby-Names.csv\" :')\n",
    "print(df_names2.shape)"
   ]
  },
  {
   "cell_type": "markdown",
   "metadata": {},
   "source": [
    "Dari output di atas, <code>df_names1</code> memiliki jumlah baris data sebanyak 22035, sedangkan <code>df_names2</code> memiliki jumlah baris data sebanyak 29464. Terlihat bahwa dataframe <code>df_names2</code> memiliki jumlah yang lebih banyak dibandingkan <code>df_names1</code>."
   ]
  },
  {
   "cell_type": "markdown",
   "metadata": {},
   "source": [
    "Sekarang mari kita coba praktekkan penggabungan kedua dataframe tersebut dengan <i>function</i> <code>concat()</code>, <code>merge()</code>, dan <code>join()</code>."
   ]
  },
  {
   "cell_type": "markdown",
   "metadata": {},
   "source": [
    "<hr>"
   ]
  },
  {
   "cell_type": "markdown",
   "metadata": {},
   "source": [
    "## Fungsi concat()"
   ]
  },
  {
   "cell_type": "markdown",
   "metadata": {},
   "source": [
    "Yang pertama akan kita praktekkan yaitu penggabungan data menggunakan <code>concat()</code>.\n",
    "\n",
    "Fungsi ini dapat digunakan untuk menggabungkan data berdasarkan sumbu tertentu, yaitu indeks (baris) atau kolom, dari dua dataframe atau lebih. Kita hanya perlu memberikan parameter __axis__ yang nilainya antara 0 dan 1. <code>axis = 0</code> untuk menggabungkan indeks/baris dan <code>axis = 1</code> untuk menggabungkan kolom. <i>Default</i>-nya adalah __0__."
   ]
  },
  {
   "cell_type": "markdown",
   "metadata": {},
   "source": [
    "### Menggabungkan baris"
   ]
  },
  {
   "cell_type": "markdown",
   "metadata": {},
   "source": [
    "Mari kita praktekkan penggabungan baris dari dataframe <code>df_names1</code> dan <code>df_names2</code>. Pada contoh ini, saya tidak memberikan nilai untuk parameter <code>axis</code> karena kita akan menggabungkan baris sehingga tanpa memberikan parameter tersebut, Python akan otomatis menggabungkan data secara vertikal karena <i>default</i>-nya adalah penggabungan baris.\n",
    "\n",
    "Perhatikan kode berikut."
   ]
  },
  {
   "cell_type": "code",
   "execution_count": 5,
   "metadata": {},
   "outputs": [
    {
     "data": {
      "text/html": [
       "<div>\n",
       "<style scoped>\n",
       "    .dataframe tbody tr th:only-of-type {\n",
       "        vertical-align: middle;\n",
       "    }\n",
       "\n",
       "    .dataframe tbody tr th {\n",
       "        vertical-align: top;\n",
       "    }\n",
       "\n",
       "    .dataframe thead th {\n",
       "        text-align: right;\n",
       "    }\n",
       "</style>\n",
       "<table border=\"1\" class=\"dataframe\">\n",
       "  <thead>\n",
       "    <tr style=\"text-align: right;\">\n",
       "      <th></th>\n",
       "      <th>Year of Birth</th>\n",
       "      <th>Gender</th>\n",
       "      <th>Ethnicity</th>\n",
       "      <th>Child's First Name</th>\n",
       "      <th>Count</th>\n",
       "      <th>Rank</th>\n",
       "    </tr>\n",
       "  </thead>\n",
       "  <tbody>\n",
       "    <tr>\n",
       "      <th>0</th>\n",
       "      <td>2011</td>\n",
       "      <td>FEMALE</td>\n",
       "      <td>HISPANIC</td>\n",
       "      <td>GERALDINE</td>\n",
       "      <td>13</td>\n",
       "      <td>75</td>\n",
       "    </tr>\n",
       "    <tr>\n",
       "      <th>1</th>\n",
       "      <td>2011</td>\n",
       "      <td>FEMALE</td>\n",
       "      <td>HISPANIC</td>\n",
       "      <td>GIA</td>\n",
       "      <td>21</td>\n",
       "      <td>67</td>\n",
       "    </tr>\n",
       "    <tr>\n",
       "      <th>2</th>\n",
       "      <td>2011</td>\n",
       "      <td>FEMALE</td>\n",
       "      <td>HISPANIC</td>\n",
       "      <td>GIANNA</td>\n",
       "      <td>49</td>\n",
       "      <td>42</td>\n",
       "    </tr>\n",
       "    <tr>\n",
       "      <th>3</th>\n",
       "      <td>2011</td>\n",
       "      <td>FEMALE</td>\n",
       "      <td>HISPANIC</td>\n",
       "      <td>GISELLE</td>\n",
       "      <td>38</td>\n",
       "      <td>51</td>\n",
       "    </tr>\n",
       "    <tr>\n",
       "      <th>4</th>\n",
       "      <td>2011</td>\n",
       "      <td>FEMALE</td>\n",
       "      <td>HISPANIC</td>\n",
       "      <td>GRACE</td>\n",
       "      <td>36</td>\n",
       "      <td>53</td>\n",
       "    </tr>\n",
       "  </tbody>\n",
       "</table>\n",
       "</div>"
      ],
      "text/plain": [
       "   Year of Birth  Gender Ethnicity Child's First Name  Count  Rank\n",
       "0           2011  FEMALE  HISPANIC          GERALDINE     13    75\n",
       "1           2011  FEMALE  HISPANIC                GIA     21    67\n",
       "2           2011  FEMALE  HISPANIC             GIANNA     49    42\n",
       "3           2011  FEMALE  HISPANIC            GISELLE     38    51\n",
       "4           2011  FEMALE  HISPANIC              GRACE     36    53"
      ]
     },
     "execution_count": 5,
     "metadata": {},
     "output_type": "execute_result"
    }
   ],
   "source": [
    "# Menggabungkan df_names1 dan df_names2\n",
    "\n",
    "df_names = pd.concat([df_names1, df_names2])\n",
    "df_names.head()"
   ]
  },
  {
   "cell_type": "markdown",
   "metadata": {},
   "source": [
    "Kita dapat menuliskan kode penggabungan dataframe dengan <code>concat()</code> dengan langsung memasukkan nama dataframe yang akan digabungkan di dalam tanda kurung <code>()</code> dengan format list atau didalam kurung siku <code>[]</code>.\n",
    "\n",
    "Sekarang mari kita periksa dimensi setelah penggabungan baris tersebut."
   ]
  },
  {
   "cell_type": "code",
   "execution_count": 6,
   "metadata": {},
   "outputs": [
    {
     "name": "stdout",
     "output_type": "stream",
     "text": [
      "Dimensi data setelah penggabungan :\n",
      "(51499, 6)\n"
     ]
    }
   ],
   "source": [
    "# Memeriksa dimensi setelah penggabungan\n",
    "\n",
    "print('Dimensi data setelah penggabungan :')\n",
    "print(df_names.shape)"
   ]
  },
  {
   "cell_type": "markdown",
   "metadata": {},
   "source": [
    "Terlihat bahwa saat ini dimensi dari dataframe baru <code>df_names</code> yang merupakan gabungan dari <code>df_names1</code> dan <code>df_names2</code> adalah __(51499, 6)__ yang berarti memiliki __51499__ baris dan __6__ kolom.\n",
    "\n",
    "Sekarang mari kita cek data terakhir dari dataframe <code>df_names</code>."
   ]
  },
  {
   "cell_type": "code",
   "execution_count": 7,
   "metadata": {},
   "outputs": [
    {
     "data": {
      "text/html": [
       "<div>\n",
       "<style scoped>\n",
       "    .dataframe tbody tr th:only-of-type {\n",
       "        vertical-align: middle;\n",
       "    }\n",
       "\n",
       "    .dataframe tbody tr th {\n",
       "        vertical-align: top;\n",
       "    }\n",
       "\n",
       "    .dataframe thead th {\n",
       "        text-align: right;\n",
       "    }\n",
       "</style>\n",
       "<table border=\"1\" class=\"dataframe\">\n",
       "  <thead>\n",
       "    <tr style=\"text-align: right;\">\n",
       "      <th></th>\n",
       "      <th>Year of Birth</th>\n",
       "      <th>Gender</th>\n",
       "      <th>Ethnicity</th>\n",
       "      <th>Child's First Name</th>\n",
       "      <th>Count</th>\n",
       "      <th>Rank</th>\n",
       "    </tr>\n",
       "  </thead>\n",
       "  <tbody>\n",
       "    <tr>\n",
       "      <th>29459</th>\n",
       "      <td>2011</td>\n",
       "      <td>MALE</td>\n",
       "      <td>WHITE NON HISPANIC</td>\n",
       "      <td>ASHTON</td>\n",
       "      <td>10</td>\n",
       "      <td>97</td>\n",
       "    </tr>\n",
       "    <tr>\n",
       "      <th>29460</th>\n",
       "      <td>2011</td>\n",
       "      <td>MALE</td>\n",
       "      <td>WHITE NON HISPANIC</td>\n",
       "      <td>AUGUSTUS</td>\n",
       "      <td>10</td>\n",
       "      <td>97</td>\n",
       "    </tr>\n",
       "    <tr>\n",
       "      <th>29461</th>\n",
       "      <td>2011</td>\n",
       "      <td>MALE</td>\n",
       "      <td>WHITE NON HISPANIC</td>\n",
       "      <td>BENNETT</td>\n",
       "      <td>10</td>\n",
       "      <td>97</td>\n",
       "    </tr>\n",
       "    <tr>\n",
       "      <th>29462</th>\n",
       "      <td>2011</td>\n",
       "      <td>MALE</td>\n",
       "      <td>WHITE NON HISPANIC</td>\n",
       "      <td>SILAS</td>\n",
       "      <td>10</td>\n",
       "      <td>97</td>\n",
       "    </tr>\n",
       "    <tr>\n",
       "      <th>29463</th>\n",
       "      <td>2011</td>\n",
       "      <td>MALE</td>\n",
       "      <td>WHITE NON HISPANIC</td>\n",
       "      <td>BERISH</td>\n",
       "      <td>10</td>\n",
       "      <td>97</td>\n",
       "    </tr>\n",
       "  </tbody>\n",
       "</table>\n",
       "</div>"
      ],
      "text/plain": [
       "       Year of Birth Gender           Ethnicity Child's First Name  Count  \\\n",
       "29459           2011   MALE  WHITE NON HISPANIC             ASHTON     10   \n",
       "29460           2011   MALE  WHITE NON HISPANIC           AUGUSTUS     10   \n",
       "29461           2011   MALE  WHITE NON HISPANIC            BENNETT     10   \n",
       "29462           2011   MALE  WHITE NON HISPANIC              SILAS     10   \n",
       "29463           2011   MALE  WHITE NON HISPANIC             BERISH     10   \n",
       "\n",
       "       Rank  \n",
       "29459    97  \n",
       "29460    97  \n",
       "29461    97  \n",
       "29462    97  \n",
       "29463    97  "
      ]
     },
     "execution_count": 7,
     "metadata": {},
     "output_type": "execute_result"
    }
   ],
   "source": [
    "df_names.tail()"
   ]
  },
  {
   "cell_type": "markdown",
   "metadata": {},
   "source": [
    "Jika kita lihat dari output di atas, data terakhir dari dataframe <code>df_names</code> masih memiliki indeks __29463__ yang merupakan indeks terakhir dari dataframe <code>df_names2</code>. Penggabungan data dengan <code>concat()</code> akan menumpuk dataframe berdasarkan urutan yang kita tulis. Kode penggabungan yang kita buat, <code>pd.concat([df_names1, df_names2])</code> akan menghasilkan dataframe baru dengan <code>df_names1</code> berada di atas, kemudian <code>df_names2</code> berada di bawahnya.\n",
    "\n",
    "Agar indeks dari gabungan dataframe tersebut terurut, kita dapat menambahkan parameter <code>ignore_index</code> yang diberikan nilai __True__ untuk mengabaikan indeks dari dua dataframe tersebut dan otomatis membuat indeks baru yang terurut dari awal sampai akhir."
   ]
  },
  {
   "cell_type": "code",
   "execution_count": 8,
   "metadata": {},
   "outputs": [
    {
     "data": {
      "text/html": [
       "<div>\n",
       "<style scoped>\n",
       "    .dataframe tbody tr th:only-of-type {\n",
       "        vertical-align: middle;\n",
       "    }\n",
       "\n",
       "    .dataframe tbody tr th {\n",
       "        vertical-align: top;\n",
       "    }\n",
       "\n",
       "    .dataframe thead th {\n",
       "        text-align: right;\n",
       "    }\n",
       "</style>\n",
       "<table border=\"1\" class=\"dataframe\">\n",
       "  <thead>\n",
       "    <tr style=\"text-align: right;\">\n",
       "      <th></th>\n",
       "      <th>Year of Birth</th>\n",
       "      <th>Gender</th>\n",
       "      <th>Ethnicity</th>\n",
       "      <th>Child's First Name</th>\n",
       "      <th>Count</th>\n",
       "      <th>Rank</th>\n",
       "    </tr>\n",
       "  </thead>\n",
       "  <tbody>\n",
       "    <tr>\n",
       "      <th>51494</th>\n",
       "      <td>2011</td>\n",
       "      <td>MALE</td>\n",
       "      <td>WHITE NON HISPANIC</td>\n",
       "      <td>ASHTON</td>\n",
       "      <td>10</td>\n",
       "      <td>97</td>\n",
       "    </tr>\n",
       "    <tr>\n",
       "      <th>51495</th>\n",
       "      <td>2011</td>\n",
       "      <td>MALE</td>\n",
       "      <td>WHITE NON HISPANIC</td>\n",
       "      <td>AUGUSTUS</td>\n",
       "      <td>10</td>\n",
       "      <td>97</td>\n",
       "    </tr>\n",
       "    <tr>\n",
       "      <th>51496</th>\n",
       "      <td>2011</td>\n",
       "      <td>MALE</td>\n",
       "      <td>WHITE NON HISPANIC</td>\n",
       "      <td>BENNETT</td>\n",
       "      <td>10</td>\n",
       "      <td>97</td>\n",
       "    </tr>\n",
       "    <tr>\n",
       "      <th>51497</th>\n",
       "      <td>2011</td>\n",
       "      <td>MALE</td>\n",
       "      <td>WHITE NON HISPANIC</td>\n",
       "      <td>SILAS</td>\n",
       "      <td>10</td>\n",
       "      <td>97</td>\n",
       "    </tr>\n",
       "    <tr>\n",
       "      <th>51498</th>\n",
       "      <td>2011</td>\n",
       "      <td>MALE</td>\n",
       "      <td>WHITE NON HISPANIC</td>\n",
       "      <td>BERISH</td>\n",
       "      <td>10</td>\n",
       "      <td>97</td>\n",
       "    </tr>\n",
       "  </tbody>\n",
       "</table>\n",
       "</div>"
      ],
      "text/plain": [
       "       Year of Birth Gender           Ethnicity Child's First Name  Count  \\\n",
       "51494           2011   MALE  WHITE NON HISPANIC             ASHTON     10   \n",
       "51495           2011   MALE  WHITE NON HISPANIC           AUGUSTUS     10   \n",
       "51496           2011   MALE  WHITE NON HISPANIC            BENNETT     10   \n",
       "51497           2011   MALE  WHITE NON HISPANIC              SILAS     10   \n",
       "51498           2011   MALE  WHITE NON HISPANIC             BERISH     10   \n",
       "\n",
       "       Rank  \n",
       "51494    97  \n",
       "51495    97  \n",
       "51496    97  \n",
       "51497    97  \n",
       "51498    97  "
      ]
     },
     "execution_count": 8,
     "metadata": {},
     "output_type": "execute_result"
    }
   ],
   "source": [
    "# Menggabungkan df_names1 dan df_names2 dengan ignore_index\n",
    "\n",
    "df_reindex = pd.concat([df_names1, df_names2], ignore_index=True)\n",
    "\n",
    "df_reindex.tail()"
   ]
  },
  {
   "cell_type": "markdown",
   "metadata": {},
   "source": [
    "Kita juga dapat memberikan parameter <code>keys</code> untuk menandakan dataframe. Misalnya pada contoh berikut, kita akan menggabungkan dataframe dengan memberikan tanda <code>x</code> untuk <code>df_names1</code> dan <code>y</code> untuk <code>df_names2</code>."
   ]
  },
  {
   "cell_type": "code",
   "execution_count": 9,
   "metadata": {},
   "outputs": [
    {
     "data": {
      "text/html": [
       "<div>\n",
       "<style scoped>\n",
       "    .dataframe tbody tr th:only-of-type {\n",
       "        vertical-align: middle;\n",
       "    }\n",
       "\n",
       "    .dataframe tbody tr th {\n",
       "        vertical-align: top;\n",
       "    }\n",
       "\n",
       "    .dataframe thead th {\n",
       "        text-align: right;\n",
       "    }\n",
       "</style>\n",
       "<table border=\"1\" class=\"dataframe\">\n",
       "  <thead>\n",
       "    <tr style=\"text-align: right;\">\n",
       "      <th></th>\n",
       "      <th></th>\n",
       "      <th>Year of Birth</th>\n",
       "      <th>Gender</th>\n",
       "      <th>Ethnicity</th>\n",
       "      <th>Child's First Name</th>\n",
       "      <th>Count</th>\n",
       "      <th>Rank</th>\n",
       "    </tr>\n",
       "  </thead>\n",
       "  <tbody>\n",
       "    <tr>\n",
       "      <th rowspan=\"5\" valign=\"top\">x</th>\n",
       "      <th>0</th>\n",
       "      <td>2011</td>\n",
       "      <td>FEMALE</td>\n",
       "      <td>HISPANIC</td>\n",
       "      <td>GERALDINE</td>\n",
       "      <td>13</td>\n",
       "      <td>75</td>\n",
       "    </tr>\n",
       "    <tr>\n",
       "      <th>1</th>\n",
       "      <td>2011</td>\n",
       "      <td>FEMALE</td>\n",
       "      <td>HISPANIC</td>\n",
       "      <td>GIA</td>\n",
       "      <td>21</td>\n",
       "      <td>67</td>\n",
       "    </tr>\n",
       "    <tr>\n",
       "      <th>2</th>\n",
       "      <td>2011</td>\n",
       "      <td>FEMALE</td>\n",
       "      <td>HISPANIC</td>\n",
       "      <td>GIANNA</td>\n",
       "      <td>49</td>\n",
       "      <td>42</td>\n",
       "    </tr>\n",
       "    <tr>\n",
       "      <th>3</th>\n",
       "      <td>2011</td>\n",
       "      <td>FEMALE</td>\n",
       "      <td>HISPANIC</td>\n",
       "      <td>GISELLE</td>\n",
       "      <td>38</td>\n",
       "      <td>51</td>\n",
       "    </tr>\n",
       "    <tr>\n",
       "      <th>4</th>\n",
       "      <td>2011</td>\n",
       "      <td>FEMALE</td>\n",
       "      <td>HISPANIC</td>\n",
       "      <td>GRACE</td>\n",
       "      <td>36</td>\n",
       "      <td>53</td>\n",
       "    </tr>\n",
       "    <tr>\n",
       "      <th>...</th>\n",
       "      <th>...</th>\n",
       "      <td>...</td>\n",
       "      <td>...</td>\n",
       "      <td>...</td>\n",
       "      <td>...</td>\n",
       "      <td>...</td>\n",
       "      <td>...</td>\n",
       "    </tr>\n",
       "    <tr>\n",
       "      <th rowspan=\"5\" valign=\"top\">y</th>\n",
       "      <th>29459</th>\n",
       "      <td>2011</td>\n",
       "      <td>MALE</td>\n",
       "      <td>WHITE NON HISPANIC</td>\n",
       "      <td>ASHTON</td>\n",
       "      <td>10</td>\n",
       "      <td>97</td>\n",
       "    </tr>\n",
       "    <tr>\n",
       "      <th>29460</th>\n",
       "      <td>2011</td>\n",
       "      <td>MALE</td>\n",
       "      <td>WHITE NON HISPANIC</td>\n",
       "      <td>AUGUSTUS</td>\n",
       "      <td>10</td>\n",
       "      <td>97</td>\n",
       "    </tr>\n",
       "    <tr>\n",
       "      <th>29461</th>\n",
       "      <td>2011</td>\n",
       "      <td>MALE</td>\n",
       "      <td>WHITE NON HISPANIC</td>\n",
       "      <td>BENNETT</td>\n",
       "      <td>10</td>\n",
       "      <td>97</td>\n",
       "    </tr>\n",
       "    <tr>\n",
       "      <th>29462</th>\n",
       "      <td>2011</td>\n",
       "      <td>MALE</td>\n",
       "      <td>WHITE NON HISPANIC</td>\n",
       "      <td>SILAS</td>\n",
       "      <td>10</td>\n",
       "      <td>97</td>\n",
       "    </tr>\n",
       "    <tr>\n",
       "      <th>29463</th>\n",
       "      <td>2011</td>\n",
       "      <td>MALE</td>\n",
       "      <td>WHITE NON HISPANIC</td>\n",
       "      <td>BERISH</td>\n",
       "      <td>10</td>\n",
       "      <td>97</td>\n",
       "    </tr>\n",
       "  </tbody>\n",
       "</table>\n",
       "<p>51499 rows × 6 columns</p>\n",
       "</div>"
      ],
      "text/plain": [
       "         Year of Birth  Gender           Ethnicity Child's First Name  Count  \\\n",
       "x 0               2011  FEMALE            HISPANIC          GERALDINE     13   \n",
       "  1               2011  FEMALE            HISPANIC                GIA     21   \n",
       "  2               2011  FEMALE            HISPANIC             GIANNA     49   \n",
       "  3               2011  FEMALE            HISPANIC            GISELLE     38   \n",
       "  4               2011  FEMALE            HISPANIC              GRACE     36   \n",
       "...                ...     ...                 ...                ...    ...   \n",
       "y 29459           2011    MALE  WHITE NON HISPANIC             ASHTON     10   \n",
       "  29460           2011    MALE  WHITE NON HISPANIC           AUGUSTUS     10   \n",
       "  29461           2011    MALE  WHITE NON HISPANIC            BENNETT     10   \n",
       "  29462           2011    MALE  WHITE NON HISPANIC              SILAS     10   \n",
       "  29463           2011    MALE  WHITE NON HISPANIC             BERISH     10   \n",
       "\n",
       "         Rank  \n",
       "x 0        75  \n",
       "  1        67  \n",
       "  2        42  \n",
       "  3        51  \n",
       "  4        53  \n",
       "...       ...  \n",
       "y 29459    97  \n",
       "  29460    97  \n",
       "  29461    97  \n",
       "  29462    97  \n",
       "  29463    97  \n",
       "\n",
       "[51499 rows x 6 columns]"
      ]
     },
     "execution_count": 9,
     "metadata": {},
     "output_type": "execute_result"
    }
   ],
   "source": [
    "# Menggabungkan df_names1 dan df_names2 dengan keys\n",
    "\n",
    "df_keys = pd.concat([df_names1, df_names2], keys=['x', 'y'])\n",
    "df_keys"
   ]
  },
  {
   "cell_type": "markdown",
   "metadata": {},
   "source": [
    "Kita dapat melihat data dari dataframe yang telah digabung berdasarkan <code>keys</code>-nya menggunakan <code>loc</code> seperti di bawah ini."
   ]
  },
  {
   "cell_type": "code",
   "execution_count": 10,
   "metadata": {},
   "outputs": [
    {
     "data": {
      "text/html": [
       "<div>\n",
       "<style scoped>\n",
       "    .dataframe tbody tr th:only-of-type {\n",
       "        vertical-align: middle;\n",
       "    }\n",
       "\n",
       "    .dataframe tbody tr th {\n",
       "        vertical-align: top;\n",
       "    }\n",
       "\n",
       "    .dataframe thead th {\n",
       "        text-align: right;\n",
       "    }\n",
       "</style>\n",
       "<table border=\"1\" class=\"dataframe\">\n",
       "  <thead>\n",
       "    <tr style=\"text-align: right;\">\n",
       "      <th></th>\n",
       "      <th>Year of Birth</th>\n",
       "      <th>Gender</th>\n",
       "      <th>Ethnicity</th>\n",
       "      <th>Child's First Name</th>\n",
       "      <th>Count</th>\n",
       "      <th>Rank</th>\n",
       "    </tr>\n",
       "  </thead>\n",
       "  <tbody>\n",
       "    <tr>\n",
       "      <th>0</th>\n",
       "      <td>2017</td>\n",
       "      <td>FEMALE</td>\n",
       "      <td>ASIAN AND PACIFIC ISLANDER</td>\n",
       "      <td>Olivia</td>\n",
       "      <td>136</td>\n",
       "      <td>1</td>\n",
       "    </tr>\n",
       "    <tr>\n",
       "      <th>1</th>\n",
       "      <td>2017</td>\n",
       "      <td>FEMALE</td>\n",
       "      <td>ASIAN AND PACIFIC ISLANDER</td>\n",
       "      <td>Emma</td>\n",
       "      <td>109</td>\n",
       "      <td>2</td>\n",
       "    </tr>\n",
       "    <tr>\n",
       "      <th>2</th>\n",
       "      <td>2017</td>\n",
       "      <td>FEMALE</td>\n",
       "      <td>ASIAN AND PACIFIC ISLANDER</td>\n",
       "      <td>Chloe</td>\n",
       "      <td>103</td>\n",
       "      <td>3</td>\n",
       "    </tr>\n",
       "    <tr>\n",
       "      <th>3</th>\n",
       "      <td>2017</td>\n",
       "      <td>FEMALE</td>\n",
       "      <td>ASIAN AND PACIFIC ISLANDER</td>\n",
       "      <td>Sophia</td>\n",
       "      <td>86</td>\n",
       "      <td>4</td>\n",
       "    </tr>\n",
       "    <tr>\n",
       "      <th>4</th>\n",
       "      <td>2017</td>\n",
       "      <td>FEMALE</td>\n",
       "      <td>ASIAN AND PACIFIC ISLANDER</td>\n",
       "      <td>Mia</td>\n",
       "      <td>79</td>\n",
       "      <td>5</td>\n",
       "    </tr>\n",
       "    <tr>\n",
       "      <th>5</th>\n",
       "      <td>2017</td>\n",
       "      <td>FEMALE</td>\n",
       "      <td>ASIAN AND PACIFIC ISLANDER</td>\n",
       "      <td>Emily</td>\n",
       "      <td>78</td>\n",
       "      <td>6</td>\n",
       "    </tr>\n",
       "    <tr>\n",
       "      <th>6</th>\n",
       "      <td>2017</td>\n",
       "      <td>FEMALE</td>\n",
       "      <td>ASIAN AND PACIFIC ISLANDER</td>\n",
       "      <td>Hannah</td>\n",
       "      <td>73</td>\n",
       "      <td>7</td>\n",
       "    </tr>\n",
       "    <tr>\n",
       "      <th>7</th>\n",
       "      <td>2017</td>\n",
       "      <td>FEMALE</td>\n",
       "      <td>ASIAN AND PACIFIC ISLANDER</td>\n",
       "      <td>Charlotte</td>\n",
       "      <td>57</td>\n",
       "      <td>8</td>\n",
       "    </tr>\n",
       "    <tr>\n",
       "      <th>8</th>\n",
       "      <td>2017</td>\n",
       "      <td>FEMALE</td>\n",
       "      <td>ASIAN AND PACIFIC ISLANDER</td>\n",
       "      <td>Ella</td>\n",
       "      <td>49</td>\n",
       "      <td>9</td>\n",
       "    </tr>\n",
       "    <tr>\n",
       "      <th>9</th>\n",
       "      <td>2017</td>\n",
       "      <td>FEMALE</td>\n",
       "      <td>ASIAN AND PACIFIC ISLANDER</td>\n",
       "      <td>Isabella</td>\n",
       "      <td>46</td>\n",
       "      <td>10</td>\n",
       "    </tr>\n",
       "  </tbody>\n",
       "</table>\n",
       "</div>"
      ],
      "text/plain": [
       "   Year of Birth  Gender                   Ethnicity Child's First Name  \\\n",
       "0           2017  FEMALE  ASIAN AND PACIFIC ISLANDER             Olivia   \n",
       "1           2017  FEMALE  ASIAN AND PACIFIC ISLANDER               Emma   \n",
       "2           2017  FEMALE  ASIAN AND PACIFIC ISLANDER              Chloe   \n",
       "3           2017  FEMALE  ASIAN AND PACIFIC ISLANDER             Sophia   \n",
       "4           2017  FEMALE  ASIAN AND PACIFIC ISLANDER                Mia   \n",
       "5           2017  FEMALE  ASIAN AND PACIFIC ISLANDER              Emily   \n",
       "6           2017  FEMALE  ASIAN AND PACIFIC ISLANDER             Hannah   \n",
       "7           2017  FEMALE  ASIAN AND PACIFIC ISLANDER          Charlotte   \n",
       "8           2017  FEMALE  ASIAN AND PACIFIC ISLANDER               Ella   \n",
       "9           2017  FEMALE  ASIAN AND PACIFIC ISLANDER           Isabella   \n",
       "\n",
       "   Count  Rank  \n",
       "0    136     1  \n",
       "1    109     2  \n",
       "2    103     3  \n",
       "3     86     4  \n",
       "4     79     5  \n",
       "5     78     6  \n",
       "6     73     7  \n",
       "7     57     8  \n",
       "8     49     9  \n",
       "9     46    10  "
      ]
     },
     "execution_count": 10,
     "metadata": {},
     "output_type": "execute_result"
    }
   ],
   "source": [
    "# Melihat data dengan keys=y\n",
    "\n",
    "df_keys.loc['y'].head(10)"
   ]
  },
  {
   "cell_type": "markdown",
   "metadata": {},
   "source": [
    "### Menggabungkan kolom"
   ]
  },
  {
   "cell_type": "markdown",
   "metadata": {},
   "source": [
    "Selanjutnya kita coba praktekkan penggabungan kolom menggunakan <code>concat()</code>. Untuk menggabungkan kolom, kita harus mendefinisikan parameter <code>axis = 1</code>. Perhatikan kode berikut."
   ]
  },
  {
   "cell_type": "code",
   "execution_count": 11,
   "metadata": {},
   "outputs": [
    {
     "data": {
      "text/html": [
       "<div>\n",
       "<style scoped>\n",
       "    .dataframe tbody tr th:only-of-type {\n",
       "        vertical-align: middle;\n",
       "    }\n",
       "\n",
       "    .dataframe tbody tr th {\n",
       "        vertical-align: top;\n",
       "    }\n",
       "\n",
       "    .dataframe thead th {\n",
       "        text-align: right;\n",
       "    }\n",
       "</style>\n",
       "<table border=\"1\" class=\"dataframe\">\n",
       "  <thead>\n",
       "    <tr style=\"text-align: right;\">\n",
       "      <th></th>\n",
       "      <th>Year of Birth</th>\n",
       "      <th>Gender</th>\n",
       "      <th>Ethnicity</th>\n",
       "      <th>Child's First Name</th>\n",
       "      <th>Count</th>\n",
       "      <th>Rank</th>\n",
       "      <th>Year of Birth</th>\n",
       "      <th>Gender</th>\n",
       "      <th>Ethnicity</th>\n",
       "      <th>Child's First Name</th>\n",
       "      <th>Count</th>\n",
       "      <th>Rank</th>\n",
       "    </tr>\n",
       "  </thead>\n",
       "  <tbody>\n",
       "    <tr>\n",
       "      <th>0</th>\n",
       "      <td>2011.0</td>\n",
       "      <td>FEMALE</td>\n",
       "      <td>HISPANIC</td>\n",
       "      <td>GERALDINE</td>\n",
       "      <td>13.0</td>\n",
       "      <td>75.0</td>\n",
       "      <td>2017</td>\n",
       "      <td>FEMALE</td>\n",
       "      <td>ASIAN AND PACIFIC ISLANDER</td>\n",
       "      <td>Olivia</td>\n",
       "      <td>136</td>\n",
       "      <td>1</td>\n",
       "    </tr>\n",
       "    <tr>\n",
       "      <th>1</th>\n",
       "      <td>2011.0</td>\n",
       "      <td>FEMALE</td>\n",
       "      <td>HISPANIC</td>\n",
       "      <td>GIA</td>\n",
       "      <td>21.0</td>\n",
       "      <td>67.0</td>\n",
       "      <td>2017</td>\n",
       "      <td>FEMALE</td>\n",
       "      <td>ASIAN AND PACIFIC ISLANDER</td>\n",
       "      <td>Emma</td>\n",
       "      <td>109</td>\n",
       "      <td>2</td>\n",
       "    </tr>\n",
       "    <tr>\n",
       "      <th>2</th>\n",
       "      <td>2011.0</td>\n",
       "      <td>FEMALE</td>\n",
       "      <td>HISPANIC</td>\n",
       "      <td>GIANNA</td>\n",
       "      <td>49.0</td>\n",
       "      <td>42.0</td>\n",
       "      <td>2017</td>\n",
       "      <td>FEMALE</td>\n",
       "      <td>ASIAN AND PACIFIC ISLANDER</td>\n",
       "      <td>Chloe</td>\n",
       "      <td>103</td>\n",
       "      <td>3</td>\n",
       "    </tr>\n",
       "    <tr>\n",
       "      <th>3</th>\n",
       "      <td>2011.0</td>\n",
       "      <td>FEMALE</td>\n",
       "      <td>HISPANIC</td>\n",
       "      <td>GISELLE</td>\n",
       "      <td>38.0</td>\n",
       "      <td>51.0</td>\n",
       "      <td>2017</td>\n",
       "      <td>FEMALE</td>\n",
       "      <td>ASIAN AND PACIFIC ISLANDER</td>\n",
       "      <td>Sophia</td>\n",
       "      <td>86</td>\n",
       "      <td>4</td>\n",
       "    </tr>\n",
       "    <tr>\n",
       "      <th>4</th>\n",
       "      <td>2011.0</td>\n",
       "      <td>FEMALE</td>\n",
       "      <td>HISPANIC</td>\n",
       "      <td>GRACE</td>\n",
       "      <td>36.0</td>\n",
       "      <td>53.0</td>\n",
       "      <td>2017</td>\n",
       "      <td>FEMALE</td>\n",
       "      <td>ASIAN AND PACIFIC ISLANDER</td>\n",
       "      <td>Mia</td>\n",
       "      <td>79</td>\n",
       "      <td>5</td>\n",
       "    </tr>\n",
       "  </tbody>\n",
       "</table>\n",
       "</div>"
      ],
      "text/plain": [
       "   Year of Birth  Gender Ethnicity Child's First Name  Count  Rank  \\\n",
       "0         2011.0  FEMALE  HISPANIC          GERALDINE   13.0  75.0   \n",
       "1         2011.0  FEMALE  HISPANIC                GIA   21.0  67.0   \n",
       "2         2011.0  FEMALE  HISPANIC             GIANNA   49.0  42.0   \n",
       "3         2011.0  FEMALE  HISPANIC            GISELLE   38.0  51.0   \n",
       "4         2011.0  FEMALE  HISPANIC              GRACE   36.0  53.0   \n",
       "\n",
       "   Year of Birth  Gender                   Ethnicity Child's First Name  \\\n",
       "0           2017  FEMALE  ASIAN AND PACIFIC ISLANDER             Olivia   \n",
       "1           2017  FEMALE  ASIAN AND PACIFIC ISLANDER               Emma   \n",
       "2           2017  FEMALE  ASIAN AND PACIFIC ISLANDER              Chloe   \n",
       "3           2017  FEMALE  ASIAN AND PACIFIC ISLANDER             Sophia   \n",
       "4           2017  FEMALE  ASIAN AND PACIFIC ISLANDER                Mia   \n",
       "\n",
       "   Count  Rank  \n",
       "0    136     1  \n",
       "1    109     2  \n",
       "2    103     3  \n",
       "3     86     4  \n",
       "4     79     5  "
      ]
     },
     "execution_count": 11,
     "metadata": {},
     "output_type": "execute_result"
    }
   ],
   "source": [
    "# Menggabungkan kolom df_names1 dan df_names2\n",
    "\n",
    "df_names_col = pd.concat([df_names1, df_names2], axis=1)\n",
    "df_names_col.head()"
   ]
  },
  {
   "cell_type": "markdown",
   "metadata": {},
   "source": [
    "Seperti yang dapat kita lihat dari output di atas, penggunaan parameter <code>axis = 1</code> menggabungkan dataframe secara horizontal atau ke samping.\n",
    "\n",
    "Sekarang mari kita cek dimensinya."
   ]
  },
  {
   "cell_type": "code",
   "execution_count": 12,
   "metadata": {},
   "outputs": [
    {
     "name": "stdout",
     "output_type": "stream",
     "text": [
      "Dimensi data setelah penggabungan :\n",
      "(29464, 12)\n"
     ]
    }
   ],
   "source": [
    "# Memeriksa dimensi setelah penggabungan\n",
    "\n",
    "print('Dimensi data setelah penggabungan :')\n",
    "print(df_names_col.shape)"
   ]
  },
  {
   "cell_type": "markdown",
   "metadata": {},
   "source": [
    "Karena dataframe memiliki jumlah baris yang berbeda, maka otomatis dimensi setelah penggabungan kolom akan mengikuti dataframe dengan jumlah baris terbanyak, dalam hal ini yaitu 29464 baris data dari <code>df_names2</code>.\n",
    "\n",
    "Sekarang mari kita cek data terakhir dari <code>df_names_col</code>."
   ]
  },
  {
   "cell_type": "code",
   "execution_count": 13,
   "metadata": {},
   "outputs": [
    {
     "data": {
      "text/html": [
       "<div>\n",
       "<style scoped>\n",
       "    .dataframe tbody tr th:only-of-type {\n",
       "        vertical-align: middle;\n",
       "    }\n",
       "\n",
       "    .dataframe tbody tr th {\n",
       "        vertical-align: top;\n",
       "    }\n",
       "\n",
       "    .dataframe thead th {\n",
       "        text-align: right;\n",
       "    }\n",
       "</style>\n",
       "<table border=\"1\" class=\"dataframe\">\n",
       "  <thead>\n",
       "    <tr style=\"text-align: right;\">\n",
       "      <th></th>\n",
       "      <th>Year of Birth</th>\n",
       "      <th>Gender</th>\n",
       "      <th>Ethnicity</th>\n",
       "      <th>Child's First Name</th>\n",
       "      <th>Count</th>\n",
       "      <th>Rank</th>\n",
       "      <th>Year of Birth</th>\n",
       "      <th>Gender</th>\n",
       "      <th>Ethnicity</th>\n",
       "      <th>Child's First Name</th>\n",
       "      <th>Count</th>\n",
       "      <th>Rank</th>\n",
       "    </tr>\n",
       "  </thead>\n",
       "  <tbody>\n",
       "    <tr>\n",
       "      <th>29459</th>\n",
       "      <td>NaN</td>\n",
       "      <td>NaN</td>\n",
       "      <td>NaN</td>\n",
       "      <td>NaN</td>\n",
       "      <td>NaN</td>\n",
       "      <td>NaN</td>\n",
       "      <td>2011</td>\n",
       "      <td>MALE</td>\n",
       "      <td>WHITE NON HISPANIC</td>\n",
       "      <td>ASHTON</td>\n",
       "      <td>10</td>\n",
       "      <td>97</td>\n",
       "    </tr>\n",
       "    <tr>\n",
       "      <th>29460</th>\n",
       "      <td>NaN</td>\n",
       "      <td>NaN</td>\n",
       "      <td>NaN</td>\n",
       "      <td>NaN</td>\n",
       "      <td>NaN</td>\n",
       "      <td>NaN</td>\n",
       "      <td>2011</td>\n",
       "      <td>MALE</td>\n",
       "      <td>WHITE NON HISPANIC</td>\n",
       "      <td>AUGUSTUS</td>\n",
       "      <td>10</td>\n",
       "      <td>97</td>\n",
       "    </tr>\n",
       "    <tr>\n",
       "      <th>29461</th>\n",
       "      <td>NaN</td>\n",
       "      <td>NaN</td>\n",
       "      <td>NaN</td>\n",
       "      <td>NaN</td>\n",
       "      <td>NaN</td>\n",
       "      <td>NaN</td>\n",
       "      <td>2011</td>\n",
       "      <td>MALE</td>\n",
       "      <td>WHITE NON HISPANIC</td>\n",
       "      <td>BENNETT</td>\n",
       "      <td>10</td>\n",
       "      <td>97</td>\n",
       "    </tr>\n",
       "    <tr>\n",
       "      <th>29462</th>\n",
       "      <td>NaN</td>\n",
       "      <td>NaN</td>\n",
       "      <td>NaN</td>\n",
       "      <td>NaN</td>\n",
       "      <td>NaN</td>\n",
       "      <td>NaN</td>\n",
       "      <td>2011</td>\n",
       "      <td>MALE</td>\n",
       "      <td>WHITE NON HISPANIC</td>\n",
       "      <td>SILAS</td>\n",
       "      <td>10</td>\n",
       "      <td>97</td>\n",
       "    </tr>\n",
       "    <tr>\n",
       "      <th>29463</th>\n",
       "      <td>NaN</td>\n",
       "      <td>NaN</td>\n",
       "      <td>NaN</td>\n",
       "      <td>NaN</td>\n",
       "      <td>NaN</td>\n",
       "      <td>NaN</td>\n",
       "      <td>2011</td>\n",
       "      <td>MALE</td>\n",
       "      <td>WHITE NON HISPANIC</td>\n",
       "      <td>BERISH</td>\n",
       "      <td>10</td>\n",
       "      <td>97</td>\n",
       "    </tr>\n",
       "  </tbody>\n",
       "</table>\n",
       "</div>"
      ],
      "text/plain": [
       "       Year of Birth Gender Ethnicity Child's First Name  Count  Rank  \\\n",
       "29459            NaN    NaN       NaN                NaN    NaN   NaN   \n",
       "29460            NaN    NaN       NaN                NaN    NaN   NaN   \n",
       "29461            NaN    NaN       NaN                NaN    NaN   NaN   \n",
       "29462            NaN    NaN       NaN                NaN    NaN   NaN   \n",
       "29463            NaN    NaN       NaN                NaN    NaN   NaN   \n",
       "\n",
       "       Year of Birth Gender           Ethnicity Child's First Name  Count  \\\n",
       "29459           2011   MALE  WHITE NON HISPANIC             ASHTON     10   \n",
       "29460           2011   MALE  WHITE NON HISPANIC           AUGUSTUS     10   \n",
       "29461           2011   MALE  WHITE NON HISPANIC            BENNETT     10   \n",
       "29462           2011   MALE  WHITE NON HISPANIC              SILAS     10   \n",
       "29463           2011   MALE  WHITE NON HISPANIC             BERISH     10   \n",
       "\n",
       "       Rank  \n",
       "29459    97  \n",
       "29460    97  \n",
       "29461    97  \n",
       "29462    97  \n",
       "29463    97  "
      ]
     },
     "execution_count": 13,
     "metadata": {},
     "output_type": "execute_result"
    }
   ],
   "source": [
    "df_names_col.tail()"
   ]
  },
  {
   "cell_type": "markdown",
   "metadata": {},
   "source": [
    "Dapat kita lihat bahwa pada 6 kolom pertama dari dataframe <code>df_names_col</code> berisi __NaN__ atau <i>missing values</i> karena 6 kolom tersebut merupakan <code>df_names1</code> yang hanya memiliki 22035 baris data, sehingga sisanya diisi oleh NaN."
   ]
  },
  {
   "cell_type": "markdown",
   "metadata": {},
   "source": [
    "<hr>"
   ]
  },
  {
   "cell_type": "markdown",
   "metadata": {},
   "source": [
    "## Fungsi merge()"
   ]
  },
  {
   "cell_type": "markdown",
   "metadata": {},
   "source": [
    "<i>Function</i> selanjutnya yang dapat digunakan untuk menggabungkan dataframe adalah <code>merge()</code>. Seperti yang telah disebutkan sebelumnya, ada beberapa logika penggabungan data, di antaranya __Full Outer Join__, __Inner Join__, __Left Join__, dan __Right Join__. Pada bagian ini, kita akan coba mempraktekkan cara penggabungan tersebut.\n",
    "\n",
    "Agar dapat lebih mudah dipahami, saya membuat dataframe baru dengan jumlah data yang sedikit agar terlihat perbedaannya."
   ]
  },
  {
   "cell_type": "code",
   "execution_count": 14,
   "metadata": {},
   "outputs": [],
   "source": [
    "# Membuat 2 dataframe\n",
    "\n",
    "data1 = {'id': [1, 2, 3, 4, 5],\n",
    "        'IPA': ['Matematika', 'Statistika', 'Fisika', 'Kimia', 'Biologi']}\n",
    "\n",
    "data2 = {'id': [1, 3, 4, 6, 7], \n",
    "         'IPS': ['Ekonomi', 'Sejarah', 'Sosiologi', 'Bahasa Indonesia', 'Geografi']}\n",
    "\n",
    "df_1 = pd.DataFrame(data1)\n",
    "df_2 = pd.DataFrame(data2)"
   ]
  },
  {
   "cell_type": "markdown",
   "metadata": {},
   "source": [
    "Setelah itu, mari kita lihat dataframe <code>df_1</code> dan <code>df_2</code>."
   ]
  },
  {
   "cell_type": "code",
   "execution_count": 15,
   "metadata": {},
   "outputs": [
    {
     "data": {
      "text/html": [
       "<div>\n",
       "<style scoped>\n",
       "    .dataframe tbody tr th:only-of-type {\n",
       "        vertical-align: middle;\n",
       "    }\n",
       "\n",
       "    .dataframe tbody tr th {\n",
       "        vertical-align: top;\n",
       "    }\n",
       "\n",
       "    .dataframe thead th {\n",
       "        text-align: right;\n",
       "    }\n",
       "</style>\n",
       "<table border=\"1\" class=\"dataframe\">\n",
       "  <thead>\n",
       "    <tr style=\"text-align: right;\">\n",
       "      <th></th>\n",
       "      <th>id</th>\n",
       "      <th>IPA</th>\n",
       "    </tr>\n",
       "  </thead>\n",
       "  <tbody>\n",
       "    <tr>\n",
       "      <th>0</th>\n",
       "      <td>1</td>\n",
       "      <td>Matematika</td>\n",
       "    </tr>\n",
       "    <tr>\n",
       "      <th>1</th>\n",
       "      <td>2</td>\n",
       "      <td>Statistika</td>\n",
       "    </tr>\n",
       "    <tr>\n",
       "      <th>2</th>\n",
       "      <td>3</td>\n",
       "      <td>Fisika</td>\n",
       "    </tr>\n",
       "    <tr>\n",
       "      <th>3</th>\n",
       "      <td>4</td>\n",
       "      <td>Kimia</td>\n",
       "    </tr>\n",
       "    <tr>\n",
       "      <th>4</th>\n",
       "      <td>5</td>\n",
       "      <td>Biologi</td>\n",
       "    </tr>\n",
       "  </tbody>\n",
       "</table>\n",
       "</div>"
      ],
      "text/plain": [
       "   id         IPA\n",
       "0   1  Matematika\n",
       "1   2  Statistika\n",
       "2   3      Fisika\n",
       "3   4       Kimia\n",
       "4   5     Biologi"
      ]
     },
     "execution_count": 15,
     "metadata": {},
     "output_type": "execute_result"
    }
   ],
   "source": [
    "df_1"
   ]
  },
  {
   "cell_type": "code",
   "execution_count": 16,
   "metadata": {},
   "outputs": [
    {
     "data": {
      "text/html": [
       "<div>\n",
       "<style scoped>\n",
       "    .dataframe tbody tr th:only-of-type {\n",
       "        vertical-align: middle;\n",
       "    }\n",
       "\n",
       "    .dataframe tbody tr th {\n",
       "        vertical-align: top;\n",
       "    }\n",
       "\n",
       "    .dataframe thead th {\n",
       "        text-align: right;\n",
       "    }\n",
       "</style>\n",
       "<table border=\"1\" class=\"dataframe\">\n",
       "  <thead>\n",
       "    <tr style=\"text-align: right;\">\n",
       "      <th></th>\n",
       "      <th>id</th>\n",
       "      <th>IPS</th>\n",
       "    </tr>\n",
       "  </thead>\n",
       "  <tbody>\n",
       "    <tr>\n",
       "      <th>0</th>\n",
       "      <td>1</td>\n",
       "      <td>Ekonomi</td>\n",
       "    </tr>\n",
       "    <tr>\n",
       "      <th>1</th>\n",
       "      <td>3</td>\n",
       "      <td>Sejarah</td>\n",
       "    </tr>\n",
       "    <tr>\n",
       "      <th>2</th>\n",
       "      <td>4</td>\n",
       "      <td>Sosiologi</td>\n",
       "    </tr>\n",
       "    <tr>\n",
       "      <th>3</th>\n",
       "      <td>6</td>\n",
       "      <td>Bahasa Indonesia</td>\n",
       "    </tr>\n",
       "    <tr>\n",
       "      <th>4</th>\n",
       "      <td>7</td>\n",
       "      <td>Geografi</td>\n",
       "    </tr>\n",
       "  </tbody>\n",
       "</table>\n",
       "</div>"
      ],
      "text/plain": [
       "   id               IPS\n",
       "0   1           Ekonomi\n",
       "1   3           Sejarah\n",
       "2   4         Sosiologi\n",
       "3   6  Bahasa Indonesia\n",
       "4   7          Geografi"
      ]
     },
     "execution_count": 16,
     "metadata": {},
     "output_type": "execute_result"
    }
   ],
   "source": [
    "df_2"
   ]
  },
  {
   "cell_type": "markdown",
   "metadata": {},
   "source": [
    "Selanjutnya mari kita praktekkan logika penggabungan data satu per satu."
   ]
  },
  {
   "cell_type": "markdown",
   "metadata": {},
   "source": [
    "### Full Outer Join"
   ]
  },
  {
   "cell_type": "markdown",
   "metadata": {},
   "source": [
    "Yang pertama adalah <i>full outer join</i>. Metode ini akan menggabungkan indeks baris dari setiap data berdasarkan kolom tertentu. Misalnya kita akan melakukan <i>full outer join</i> pada kolom <code>id</code> menggunakan <code>merge()</code>. \n",
    "\n",
    "Kita dapat memberikan parameter <code>on = 'id'</code> untuk mendefinisikan bahwa kita ingin menggabungkan data berdasarkan kolom <code>id</code> sebagai variabel <i>identifier</i>. Kemudian parameter <code>how = 'outer'</code> akan mendefinisikan bahwa gabungan akan dilakukan dengan metode <i>full outer join</i>. Perhatikan kode berikut."
   ]
  },
  {
   "cell_type": "code",
   "execution_count": 17,
   "metadata": {},
   "outputs": [
    {
     "data": {
      "text/html": [
       "<div>\n",
       "<style scoped>\n",
       "    .dataframe tbody tr th:only-of-type {\n",
       "        vertical-align: middle;\n",
       "    }\n",
       "\n",
       "    .dataframe tbody tr th {\n",
       "        vertical-align: top;\n",
       "    }\n",
       "\n",
       "    .dataframe thead th {\n",
       "        text-align: right;\n",
       "    }\n",
       "</style>\n",
       "<table border=\"1\" class=\"dataframe\">\n",
       "  <thead>\n",
       "    <tr style=\"text-align: right;\">\n",
       "      <th></th>\n",
       "      <th>id</th>\n",
       "      <th>IPA</th>\n",
       "      <th>IPS</th>\n",
       "    </tr>\n",
       "  </thead>\n",
       "  <tbody>\n",
       "    <tr>\n",
       "      <th>0</th>\n",
       "      <td>1</td>\n",
       "      <td>Matematika</td>\n",
       "      <td>Ekonomi</td>\n",
       "    </tr>\n",
       "    <tr>\n",
       "      <th>1</th>\n",
       "      <td>2</td>\n",
       "      <td>Statistika</td>\n",
       "      <td>NaN</td>\n",
       "    </tr>\n",
       "    <tr>\n",
       "      <th>2</th>\n",
       "      <td>3</td>\n",
       "      <td>Fisika</td>\n",
       "      <td>Sejarah</td>\n",
       "    </tr>\n",
       "    <tr>\n",
       "      <th>3</th>\n",
       "      <td>4</td>\n",
       "      <td>Kimia</td>\n",
       "      <td>Sosiologi</td>\n",
       "    </tr>\n",
       "    <tr>\n",
       "      <th>4</th>\n",
       "      <td>5</td>\n",
       "      <td>Biologi</td>\n",
       "      <td>NaN</td>\n",
       "    </tr>\n",
       "    <tr>\n",
       "      <th>5</th>\n",
       "      <td>6</td>\n",
       "      <td>NaN</td>\n",
       "      <td>Bahasa Indonesia</td>\n",
       "    </tr>\n",
       "    <tr>\n",
       "      <th>6</th>\n",
       "      <td>7</td>\n",
       "      <td>NaN</td>\n",
       "      <td>Geografi</td>\n",
       "    </tr>\n",
       "  </tbody>\n",
       "</table>\n",
       "</div>"
      ],
      "text/plain": [
       "   id         IPA               IPS\n",
       "0   1  Matematika           Ekonomi\n",
       "1   2  Statistika               NaN\n",
       "2   3      Fisika           Sejarah\n",
       "3   4       Kimia         Sosiologi\n",
       "4   5     Biologi               NaN\n",
       "5   6         NaN  Bahasa Indonesia\n",
       "6   7         NaN          Geografi"
      ]
     },
     "execution_count": 17,
     "metadata": {},
     "output_type": "execute_result"
    }
   ],
   "source": [
    "# Menggabungkan data dengan metode full outer join\n",
    "\n",
    "df_outer_join = pd.merge(df_1, df_2, on='id', how='outer')\n",
    "df_outer_join"
   ]
  },
  {
   "cell_type": "markdown",
   "metadata": {},
   "source": [
    "<i>Full outer join</i> akan mengeluarkan seluruh baris data dengan indeks unik dan memberikan nilai NaN pada kolom yang di dataframe asalnya tidak memiliki <code>id</code> tersebut."
   ]
  },
  {
   "cell_type": "markdown",
   "metadata": {},
   "source": [
    "### Inner Join"
   ]
  },
  {
   "cell_type": "markdown",
   "metadata": {},
   "source": [
    "Metode <i>inner join</i> akan menggabungkan data berdasarkan kolom tertentu yang memiliki nilai beririsan. Untuk menerapkan penggabungan dengan <i>inner join</i>, kita dapat memberikan parameter <code>how = 'inner'</code>."
   ]
  },
  {
   "cell_type": "code",
   "execution_count": 18,
   "metadata": {},
   "outputs": [
    {
     "data": {
      "text/html": [
       "<div>\n",
       "<style scoped>\n",
       "    .dataframe tbody tr th:only-of-type {\n",
       "        vertical-align: middle;\n",
       "    }\n",
       "\n",
       "    .dataframe tbody tr th {\n",
       "        vertical-align: top;\n",
       "    }\n",
       "\n",
       "    .dataframe thead th {\n",
       "        text-align: right;\n",
       "    }\n",
       "</style>\n",
       "<table border=\"1\" class=\"dataframe\">\n",
       "  <thead>\n",
       "    <tr style=\"text-align: right;\">\n",
       "      <th></th>\n",
       "      <th>id</th>\n",
       "      <th>IPA</th>\n",
       "      <th>IPS</th>\n",
       "    </tr>\n",
       "  </thead>\n",
       "  <tbody>\n",
       "    <tr>\n",
       "      <th>0</th>\n",
       "      <td>1</td>\n",
       "      <td>Matematika</td>\n",
       "      <td>Ekonomi</td>\n",
       "    </tr>\n",
       "    <tr>\n",
       "      <th>1</th>\n",
       "      <td>3</td>\n",
       "      <td>Fisika</td>\n",
       "      <td>Sejarah</td>\n",
       "    </tr>\n",
       "    <tr>\n",
       "      <th>2</th>\n",
       "      <td>4</td>\n",
       "      <td>Kimia</td>\n",
       "      <td>Sosiologi</td>\n",
       "    </tr>\n",
       "  </tbody>\n",
       "</table>\n",
       "</div>"
      ],
      "text/plain": [
       "   id         IPA        IPS\n",
       "0   1  Matematika    Ekonomi\n",
       "1   3      Fisika    Sejarah\n",
       "2   4       Kimia  Sosiologi"
      ]
     },
     "execution_count": 18,
     "metadata": {},
     "output_type": "execute_result"
    }
   ],
   "source": [
    "# Menggabungkan data dengan metode inner join\n",
    "\n",
    "df_inner_join = pd.merge(df_1, df_2, on='id', how='inner')\n",
    "df_inner_join"
   ]
  },
  {
   "cell_type": "markdown",
   "metadata": {},
   "source": [
    "Dataframe <code>df_1</code> dan <code>df_2</code> sama-sama memiliki data dengan <code>id</code> 1, 3, dan 4, sehingga hanya data dengan id tersebut sajalah yang terambil."
   ]
  },
  {
   "cell_type": "markdown",
   "metadata": {},
   "source": [
    "### Left Join"
   ]
  },
  {
   "cell_type": "markdown",
   "metadata": {},
   "source": [
    "<i>Left join</i> akan menghasilkan gabungan data berupa seluruh dari kiri atau dataframe yang pertama didefinisikan dan data kanan yang memiliki nilai <code>id</code> yang sama dengan data kiri."
   ]
  },
  {
   "cell_type": "code",
   "execution_count": 19,
   "metadata": {},
   "outputs": [
    {
     "data": {
      "text/html": [
       "<div>\n",
       "<style scoped>\n",
       "    .dataframe tbody tr th:only-of-type {\n",
       "        vertical-align: middle;\n",
       "    }\n",
       "\n",
       "    .dataframe tbody tr th {\n",
       "        vertical-align: top;\n",
       "    }\n",
       "\n",
       "    .dataframe thead th {\n",
       "        text-align: right;\n",
       "    }\n",
       "</style>\n",
       "<table border=\"1\" class=\"dataframe\">\n",
       "  <thead>\n",
       "    <tr style=\"text-align: right;\">\n",
       "      <th></th>\n",
       "      <th>id</th>\n",
       "      <th>IPA</th>\n",
       "      <th>IPS</th>\n",
       "    </tr>\n",
       "  </thead>\n",
       "  <tbody>\n",
       "    <tr>\n",
       "      <th>0</th>\n",
       "      <td>1</td>\n",
       "      <td>Matematika</td>\n",
       "      <td>Ekonomi</td>\n",
       "    </tr>\n",
       "    <tr>\n",
       "      <th>1</th>\n",
       "      <td>2</td>\n",
       "      <td>Statistika</td>\n",
       "      <td>NaN</td>\n",
       "    </tr>\n",
       "    <tr>\n",
       "      <th>2</th>\n",
       "      <td>3</td>\n",
       "      <td>Fisika</td>\n",
       "      <td>Sejarah</td>\n",
       "    </tr>\n",
       "    <tr>\n",
       "      <th>3</th>\n",
       "      <td>4</td>\n",
       "      <td>Kimia</td>\n",
       "      <td>Sosiologi</td>\n",
       "    </tr>\n",
       "    <tr>\n",
       "      <th>4</th>\n",
       "      <td>5</td>\n",
       "      <td>Biologi</td>\n",
       "      <td>NaN</td>\n",
       "    </tr>\n",
       "  </tbody>\n",
       "</table>\n",
       "</div>"
      ],
      "text/plain": [
       "   id         IPA        IPS\n",
       "0   1  Matematika    Ekonomi\n",
       "1   2  Statistika        NaN\n",
       "2   3      Fisika    Sejarah\n",
       "3   4       Kimia  Sosiologi\n",
       "4   5     Biologi        NaN"
      ]
     },
     "execution_count": 19,
     "metadata": {},
     "output_type": "execute_result"
    }
   ],
   "source": [
    "# Menggabungkan data dengan metode left join\n",
    "\n",
    "df_left_join = pd.merge(df_1, df_2, on='id', how='left')\n",
    "df_left_join"
   ]
  },
  {
   "cell_type": "markdown",
   "metadata": {},
   "source": [
    "Perhatikan bahwa seluruh nilai <code>id</code> dari dataframe <code>df_1</code> ditampilkan, sedangkan tidak ada data dari <code>df_2</code> dengan nilai <code>id</code> yang tidak sama dengan nilai <code>id</code> pada <code>df_1</code>."
   ]
  },
  {
   "cell_type": "markdown",
   "metadata": {},
   "source": [
    "### Right Join"
   ]
  },
  {
   "cell_type": "markdown",
   "metadata": {},
   "source": [
    "Metode <i>right join</i> adalah kebalikan dari <i>left join</i>. <i>Right join</i> akan menghasilkan gabungan data berupa seluruh dari kanan atau dataframe yang terakhir didefinisikan dan data kiri yang memiliki nilai <code>id</code> yang sama dengan data kanan."
   ]
  },
  {
   "cell_type": "code",
   "execution_count": 20,
   "metadata": {},
   "outputs": [
    {
     "data": {
      "text/html": [
       "<div>\n",
       "<style scoped>\n",
       "    .dataframe tbody tr th:only-of-type {\n",
       "        vertical-align: middle;\n",
       "    }\n",
       "\n",
       "    .dataframe tbody tr th {\n",
       "        vertical-align: top;\n",
       "    }\n",
       "\n",
       "    .dataframe thead th {\n",
       "        text-align: right;\n",
       "    }\n",
       "</style>\n",
       "<table border=\"1\" class=\"dataframe\">\n",
       "  <thead>\n",
       "    <tr style=\"text-align: right;\">\n",
       "      <th></th>\n",
       "      <th>id</th>\n",
       "      <th>IPA</th>\n",
       "      <th>IPS</th>\n",
       "    </tr>\n",
       "  </thead>\n",
       "  <tbody>\n",
       "    <tr>\n",
       "      <th>0</th>\n",
       "      <td>1</td>\n",
       "      <td>Matematika</td>\n",
       "      <td>Ekonomi</td>\n",
       "    </tr>\n",
       "    <tr>\n",
       "      <th>1</th>\n",
       "      <td>3</td>\n",
       "      <td>Fisika</td>\n",
       "      <td>Sejarah</td>\n",
       "    </tr>\n",
       "    <tr>\n",
       "      <th>2</th>\n",
       "      <td>4</td>\n",
       "      <td>Kimia</td>\n",
       "      <td>Sosiologi</td>\n",
       "    </tr>\n",
       "    <tr>\n",
       "      <th>3</th>\n",
       "      <td>6</td>\n",
       "      <td>NaN</td>\n",
       "      <td>Bahasa Indonesia</td>\n",
       "    </tr>\n",
       "    <tr>\n",
       "      <th>4</th>\n",
       "      <td>7</td>\n",
       "      <td>NaN</td>\n",
       "      <td>Geografi</td>\n",
       "    </tr>\n",
       "  </tbody>\n",
       "</table>\n",
       "</div>"
      ],
      "text/plain": [
       "   id         IPA               IPS\n",
       "0   1  Matematika           Ekonomi\n",
       "1   3      Fisika           Sejarah\n",
       "2   4       Kimia         Sosiologi\n",
       "3   6         NaN  Bahasa Indonesia\n",
       "4   7         NaN          Geografi"
      ]
     },
     "execution_count": 20,
     "metadata": {},
     "output_type": "execute_result"
    }
   ],
   "source": [
    "# Menggabungkan data dengan metode right join\n",
    "\n",
    "df_right_join = pd.merge(df_1, df_2, on='id', how='right')\n",
    "df_right_join"
   ]
  },
  {
   "cell_type": "markdown",
   "metadata": {},
   "source": [
    "Perhatikan bahwa seluruh nilai <code>id</code> dari dataframe <code>df_2</code> ditampilkan, sedangkan tidak ada data dari <code>df_1</code> dengan nilai <code>id</code> yang tidak sama dengan nilai <code>id</code> pada <code>df_2</code>."
   ]
  },
  {
   "cell_type": "markdown",
   "metadata": {},
   "source": [
    "### Menggabungkan data dengan nama kolom 'key' yang berbeda"
   ]
  },
  {
   "cell_type": "markdown",
   "metadata": {},
   "source": [
    "Bagaimana jika nama kolom yang dijadikan referensi memiliki nama yang berbeda?\n",
    "\n",
    "Misalnya kita buat dahulu 2 dataframe dengan nama kolom 'key' yang berbeda. Disini kolom <code>id</code> yang akan digunakan sebagai 'key' saya ganti menjadi <code>id_IPA</code> dan <code>id_IPS</code>."
   ]
  },
  {
   "cell_type": "code",
   "execution_count": 21,
   "metadata": {},
   "outputs": [],
   "source": [
    "# Membuat 2 dataframe dengan nama kolom id yang berbeda\n",
    "\n",
    "data1 = {'id_IPA': [1, 2, 3, 4, 5],\n",
    "        'IPA': ['Matematika', 'Statistika', 'Fisika', 'Kimia', 'Biologi']}\n",
    "\n",
    "data2 = {'id_IPS': [1, 3, 4, 6, 7], \n",
    "         'IPS': ['Ekonomi', 'Sejarah', 'Sosiologi', 'Bahasa Indonesia', 'Geografi']}\n",
    "\n",
    "df_1 = pd.DataFrame(data1)\n",
    "df_2 = pd.DataFrame(data2)"
   ]
  },
  {
   "cell_type": "markdown",
   "metadata": {},
   "source": [
    "Untuk menggabungkan data dengan nama kolom 'key' yang berbeda, dapat kita definisikan dengan parameter <code>left_on</code> dan <code>right_on</code>. Coba perhatikan kode berikut untuk cara penggunaannya."
   ]
  },
  {
   "cell_type": "code",
   "execution_count": 22,
   "metadata": {},
   "outputs": [
    {
     "data": {
      "text/html": [
       "<div>\n",
       "<style scoped>\n",
       "    .dataframe tbody tr th:only-of-type {\n",
       "        vertical-align: middle;\n",
       "    }\n",
       "\n",
       "    .dataframe tbody tr th {\n",
       "        vertical-align: top;\n",
       "    }\n",
       "\n",
       "    .dataframe thead th {\n",
       "        text-align: right;\n",
       "    }\n",
       "</style>\n",
       "<table border=\"1\" class=\"dataframe\">\n",
       "  <thead>\n",
       "    <tr style=\"text-align: right;\">\n",
       "      <th></th>\n",
       "      <th>id_IPA</th>\n",
       "      <th>IPA</th>\n",
       "      <th>id_IPS</th>\n",
       "      <th>IPS</th>\n",
       "    </tr>\n",
       "  </thead>\n",
       "  <tbody>\n",
       "    <tr>\n",
       "      <th>0</th>\n",
       "      <td>1</td>\n",
       "      <td>Matematika</td>\n",
       "      <td>1</td>\n",
       "      <td>Ekonomi</td>\n",
       "    </tr>\n",
       "    <tr>\n",
       "      <th>1</th>\n",
       "      <td>3</td>\n",
       "      <td>Fisika</td>\n",
       "      <td>3</td>\n",
       "      <td>Sejarah</td>\n",
       "    </tr>\n",
       "    <tr>\n",
       "      <th>2</th>\n",
       "      <td>4</td>\n",
       "      <td>Kimia</td>\n",
       "      <td>4</td>\n",
       "      <td>Sosiologi</td>\n",
       "    </tr>\n",
       "  </tbody>\n",
       "</table>\n",
       "</div>"
      ],
      "text/plain": [
       "   id_IPA         IPA  id_IPS        IPS\n",
       "0       1  Matematika       1    Ekonomi\n",
       "1       3      Fisika       3    Sejarah\n",
       "2       4       Kimia       4  Sosiologi"
      ]
     },
     "execution_count": 22,
     "metadata": {},
     "output_type": "execute_result"
    }
   ],
   "source": [
    "# Menggabungkan data yang memiliki kolom 'key' yang berbeda\n",
    "\n",
    "df_different_label = pd.merge(df_1, df_2, how='inner', left_on=['id_IPA'], right_on=['id_IPS'])\n",
    "df_different_label"
   ]
  },
  {
   "cell_type": "markdown",
   "metadata": {},
   "source": [
    "<hr>"
   ]
  },
  {
   "cell_type": "markdown",
   "metadata": {},
   "source": [
    "## Fungsi join()"
   ]
  },
  {
   "cell_type": "markdown",
   "metadata": {},
   "source": [
    "Fungsi <code>join()</code> memiliki cara penulisan yang berbeda dengan <code>concat()</code> dan <code>merge()</code>. Mari kita bahas cara menggabungkan data dengan <code>join()</code>."
   ]
  },
  {
   "cell_type": "markdown",
   "metadata": {},
   "source": [
    "### Penggabungan dataframe dengan join()"
   ]
  },
  {
   "cell_type": "markdown",
   "metadata": {},
   "source": [
    "Coba perhatikan kode di bawah ini. Kita membuat dataframe dengan nama kolom 'key' yang sama, yaitu <code>id</code>. Selanjutnya kita gabungkan dengan <code>join()</code>."
   ]
  },
  {
   "cell_type": "code",
   "execution_count": 23,
   "metadata": {},
   "outputs": [
    {
     "data": {
      "text/html": [
       "<div>\n",
       "<style scoped>\n",
       "    .dataframe tbody tr th:only-of-type {\n",
       "        vertical-align: middle;\n",
       "    }\n",
       "\n",
       "    .dataframe tbody tr th {\n",
       "        vertical-align: top;\n",
       "    }\n",
       "\n",
       "    .dataframe thead th {\n",
       "        text-align: right;\n",
       "    }\n",
       "</style>\n",
       "<table border=\"1\" class=\"dataframe\">\n",
       "  <thead>\n",
       "    <tr style=\"text-align: right;\">\n",
       "      <th></th>\n",
       "      <th>id_1</th>\n",
       "      <th>IPA</th>\n",
       "      <th>id_2</th>\n",
       "      <th>IPS</th>\n",
       "    </tr>\n",
       "  </thead>\n",
       "  <tbody>\n",
       "    <tr>\n",
       "      <th>0</th>\n",
       "      <td>1</td>\n",
       "      <td>Matematika</td>\n",
       "      <td>1</td>\n",
       "      <td>Ekonomi</td>\n",
       "    </tr>\n",
       "    <tr>\n",
       "      <th>1</th>\n",
       "      <td>2</td>\n",
       "      <td>Statistika</td>\n",
       "      <td>3</td>\n",
       "      <td>Sejarah</td>\n",
       "    </tr>\n",
       "    <tr>\n",
       "      <th>2</th>\n",
       "      <td>3</td>\n",
       "      <td>Fisika</td>\n",
       "      <td>4</td>\n",
       "      <td>Sosiologi</td>\n",
       "    </tr>\n",
       "    <tr>\n",
       "      <th>3</th>\n",
       "      <td>4</td>\n",
       "      <td>Kimia</td>\n",
       "      <td>6</td>\n",
       "      <td>Bahasa Indonesia</td>\n",
       "    </tr>\n",
       "    <tr>\n",
       "      <th>4</th>\n",
       "      <td>5</td>\n",
       "      <td>Biologi</td>\n",
       "      <td>7</td>\n",
       "      <td>Geografi</td>\n",
       "    </tr>\n",
       "  </tbody>\n",
       "</table>\n",
       "</div>"
      ],
      "text/plain": [
       "   id_1         IPA  id_2               IPS\n",
       "0     1  Matematika     1           Ekonomi\n",
       "1     2  Statistika     3           Sejarah\n",
       "2     3      Fisika     4         Sosiologi\n",
       "3     4       Kimia     6  Bahasa Indonesia\n",
       "4     5     Biologi     7          Geografi"
      ]
     },
     "execution_count": 23,
     "metadata": {},
     "output_type": "execute_result"
    }
   ],
   "source": [
    "# Membuat dataframe\n",
    "\n",
    "data1 = {'id': [1, 2, 3, 4, 5],\n",
    "        'IPA': ['Matematika', 'Statistika', 'Fisika', 'Kimia', 'Biologi']}\n",
    "\n",
    "data2 = {'id': [1, 3, 4, 6, 7], \n",
    "         'IPS': ['Ekonomi', 'Sejarah', 'Sosiologi', 'Bahasa Indonesia', 'Geografi']}\n",
    "\n",
    "df_1 = pd.DataFrame(data1)\n",
    "df_2 = pd.DataFrame(data2)\n",
    "\n",
    "\n",
    "# Menggabungkan data dengan join()\n",
    "\n",
    "df_join = df_1.join(df_2, lsuffix='_1', rsuffix='_2')\n",
    "df_join"
   ]
  },
  {
   "cell_type": "markdown",
   "metadata": {},
   "source": [
    "Untuk nama kolom 'key' yang sama, kita diharuskan memberikan parameter <code>lsuffix</code> dan <code>rsuffix</code>. Jika tidak, maka akan terjadi <i>error</i>.\n",
    "\n",
    "Namun, jika nama kolom 'key'-nya memang sudah berbeda, kita tidak perlu menambahkannya seperti pada contoh berikut."
   ]
  },
  {
   "cell_type": "code",
   "execution_count": 24,
   "metadata": {},
   "outputs": [
    {
     "data": {
      "text/html": [
       "<div>\n",
       "<style scoped>\n",
       "    .dataframe tbody tr th:only-of-type {\n",
       "        vertical-align: middle;\n",
       "    }\n",
       "\n",
       "    .dataframe tbody tr th {\n",
       "        vertical-align: top;\n",
       "    }\n",
       "\n",
       "    .dataframe thead th {\n",
       "        text-align: right;\n",
       "    }\n",
       "</style>\n",
       "<table border=\"1\" class=\"dataframe\">\n",
       "  <thead>\n",
       "    <tr style=\"text-align: right;\">\n",
       "      <th></th>\n",
       "      <th>id_A</th>\n",
       "      <th>IPA</th>\n",
       "      <th>id_S</th>\n",
       "      <th>IPS</th>\n",
       "    </tr>\n",
       "  </thead>\n",
       "  <tbody>\n",
       "    <tr>\n",
       "      <th>0</th>\n",
       "      <td>1</td>\n",
       "      <td>Matematika</td>\n",
       "      <td>1</td>\n",
       "      <td>Ekonomi</td>\n",
       "    </tr>\n",
       "    <tr>\n",
       "      <th>1</th>\n",
       "      <td>2</td>\n",
       "      <td>Statistika</td>\n",
       "      <td>3</td>\n",
       "      <td>Sejarah</td>\n",
       "    </tr>\n",
       "    <tr>\n",
       "      <th>2</th>\n",
       "      <td>3</td>\n",
       "      <td>Fisika</td>\n",
       "      <td>4</td>\n",
       "      <td>Sosiologi</td>\n",
       "    </tr>\n",
       "    <tr>\n",
       "      <th>3</th>\n",
       "      <td>4</td>\n",
       "      <td>Kimia</td>\n",
       "      <td>6</td>\n",
       "      <td>Bahasa Indonesia</td>\n",
       "    </tr>\n",
       "    <tr>\n",
       "      <th>4</th>\n",
       "      <td>5</td>\n",
       "      <td>Biologi</td>\n",
       "      <td>7</td>\n",
       "      <td>Geografi</td>\n",
       "    </tr>\n",
       "  </tbody>\n",
       "</table>\n",
       "</div>"
      ],
      "text/plain": [
       "   id_A         IPA  id_S               IPS\n",
       "0     1  Matematika     1           Ekonomi\n",
       "1     2  Statistika     3           Sejarah\n",
       "2     3      Fisika     4         Sosiologi\n",
       "3     4       Kimia     6  Bahasa Indonesia\n",
       "4     5     Biologi     7          Geografi"
      ]
     },
     "execution_count": 24,
     "metadata": {},
     "output_type": "execute_result"
    }
   ],
   "source": [
    "# Membuat dataframe\n",
    "\n",
    "data1 = {'id_A': [1, 2, 3, 4, 5],\n",
    "        'IPA': ['Matematika', 'Statistika', 'Fisika', 'Kimia', 'Biologi']}\n",
    "\n",
    "data2 = {'id_S': [1, 3, 4, 6, 7], \n",
    "         'IPS': ['Ekonomi', 'Sejarah', 'Sosiologi', 'Bahasa Indonesia', 'Geografi']}\n",
    "\n",
    "df_1 = pd.DataFrame(data1)\n",
    "df_2 = pd.DataFrame(data2)\n",
    "\n",
    "\n",
    "# Menggabungkan data dengan join()\n",
    "\n",
    "df_join = df_1.join(df_2)\n",
    "df_join"
   ]
  },
  {
   "cell_type": "markdown",
   "metadata": {},
   "source": [
    "### Menggabungkan banyak dataframe"
   ]
  },
  {
   "cell_type": "markdown",
   "metadata": {},
   "source": [
    "Kita dapat menggabungkan banyak dataframe dengan nama kolom 'key' yang sama dengan menjadikan kolom 'key' tersebut sebagai indeks. Misalnya kita memiliki 4 dataframe sebagai berikut."
   ]
  },
  {
   "cell_type": "code",
   "execution_count": 25,
   "metadata": {},
   "outputs": [],
   "source": [
    "# Membuat dataframe\n",
    "\n",
    "data1 = {'id': [1, 2, 3, 4, 5],\n",
    "        'fitur_1': ['Matematika', 'Statistika', 'Fisika', 'Kimia', 'Biologi']}\n",
    "\n",
    "data2 = {'id': [1, 3, 4, 6, 7], \n",
    "         'fitur_2': ['Ekonomi', 'Sejarah', 'Sosiologi', 'Bahasa Indonesia', 'Geografi']}\n",
    "\n",
    "data3 = {'id': [1, 2, 3, 4, 5],\n",
    "        'fitur_3': [20, 26, 31, 29, 30]}\n",
    "\n",
    "data4 = {'id': [1, 3, 4, 6, 7], \n",
    "         'fitur_4': [32, 29, 23, 27, 22]}\n",
    "\n",
    "df1 = pd.DataFrame(data1)\n",
    "df2 = pd.DataFrame(data2)\n",
    "df3 = pd.DataFrame(data3)\n",
    "df4 = pd.DataFrame(data4)"
   ]
  },
  {
   "cell_type": "markdown",
   "metadata": {},
   "source": [
    "Selanjutnya kita harus menjadikan kolom <code>id</code> pada 4 dataframe tersebut sebagai indeks."
   ]
  },
  {
   "cell_type": "code",
   "execution_count": 26,
   "metadata": {},
   "outputs": [],
   "source": [
    "# Menjadikan kolom id sebagai indeks\n",
    "\n",
    "df1 = df1.set_index('id')\n",
    "df2 = df2.set_index('id')\n",
    "df3 = df3.set_index('id')\n",
    "df4 = df4.set_index('id')"
   ]
  },
  {
   "cell_type": "markdown",
   "metadata": {},
   "source": [
    "Untuk menggabungkannya, kita dapat melakukannya seperti kode berikut."
   ]
  },
  {
   "cell_type": "code",
   "execution_count": 27,
   "metadata": {},
   "outputs": [
    {
     "data": {
      "text/html": [
       "<div>\n",
       "<style scoped>\n",
       "    .dataframe tbody tr th:only-of-type {\n",
       "        vertical-align: middle;\n",
       "    }\n",
       "\n",
       "    .dataframe tbody tr th {\n",
       "        vertical-align: top;\n",
       "    }\n",
       "\n",
       "    .dataframe thead th {\n",
       "        text-align: right;\n",
       "    }\n",
       "</style>\n",
       "<table border=\"1\" class=\"dataframe\">\n",
       "  <thead>\n",
       "    <tr style=\"text-align: right;\">\n",
       "      <th></th>\n",
       "      <th>fitur_1</th>\n",
       "      <th>fitur_2</th>\n",
       "      <th>fitur_3</th>\n",
       "      <th>fitur_4</th>\n",
       "    </tr>\n",
       "    <tr>\n",
       "      <th>id</th>\n",
       "      <th></th>\n",
       "      <th></th>\n",
       "      <th></th>\n",
       "      <th></th>\n",
       "    </tr>\n",
       "  </thead>\n",
       "  <tbody>\n",
       "    <tr>\n",
       "      <th>1</th>\n",
       "      <td>Matematika</td>\n",
       "      <td>Ekonomi</td>\n",
       "      <td>20.0</td>\n",
       "      <td>32.0</td>\n",
       "    </tr>\n",
       "    <tr>\n",
       "      <th>2</th>\n",
       "      <td>Statistika</td>\n",
       "      <td>NaN</td>\n",
       "      <td>26.0</td>\n",
       "      <td>NaN</td>\n",
       "    </tr>\n",
       "    <tr>\n",
       "      <th>3</th>\n",
       "      <td>Fisika</td>\n",
       "      <td>Sejarah</td>\n",
       "      <td>31.0</td>\n",
       "      <td>29.0</td>\n",
       "    </tr>\n",
       "    <tr>\n",
       "      <th>4</th>\n",
       "      <td>Kimia</td>\n",
       "      <td>Sosiologi</td>\n",
       "      <td>29.0</td>\n",
       "      <td>23.0</td>\n",
       "    </tr>\n",
       "    <tr>\n",
       "      <th>5</th>\n",
       "      <td>Biologi</td>\n",
       "      <td>NaN</td>\n",
       "      <td>30.0</td>\n",
       "      <td>NaN</td>\n",
       "    </tr>\n",
       "  </tbody>\n",
       "</table>\n",
       "</div>"
      ],
      "text/plain": [
       "       fitur_1    fitur_2  fitur_3  fitur_4\n",
       "id                                         \n",
       "1   Matematika    Ekonomi     20.0     32.0\n",
       "2   Statistika        NaN     26.0      NaN\n",
       "3       Fisika    Sejarah     31.0     29.0\n",
       "4        Kimia  Sosiologi     29.0     23.0\n",
       "5      Biologi        NaN     30.0      NaN"
      ]
     },
     "execution_count": 27,
     "metadata": {},
     "output_type": "execute_result"
    }
   ],
   "source": [
    "# Menggabungkan banyak dataframe\n",
    "\n",
    "df_join = df1.join([df2, df3, df4])\n",
    "df_join"
   ]
  },
  {
   "cell_type": "markdown",
   "metadata": {},
   "source": [
    "Dataframe <code>df1</code> digunakan sebagai acuan, sehingga yang tertampil hanya data dengan <code>id</code> yang ada pada <code>df1</code>.\n",
    "\n",
    "Jika ingin menampilkan seluruh data <code>id</code> yang ada, kita dapat menambahkan parameter <code>how = 'outer'</code> yang menandakan bahwa kita ingin penggabungan data tersebut menggunakan metode <i>full outer join</i>."
   ]
  },
  {
   "cell_type": "code",
   "execution_count": 28,
   "metadata": {},
   "outputs": [
    {
     "data": {
      "text/html": [
       "<div>\n",
       "<style scoped>\n",
       "    .dataframe tbody tr th:only-of-type {\n",
       "        vertical-align: middle;\n",
       "    }\n",
       "\n",
       "    .dataframe tbody tr th {\n",
       "        vertical-align: top;\n",
       "    }\n",
       "\n",
       "    .dataframe thead th {\n",
       "        text-align: right;\n",
       "    }\n",
       "</style>\n",
       "<table border=\"1\" class=\"dataframe\">\n",
       "  <thead>\n",
       "    <tr style=\"text-align: right;\">\n",
       "      <th></th>\n",
       "      <th>fitur_2</th>\n",
       "      <th>fitur_1</th>\n",
       "      <th>fitur_3</th>\n",
       "      <th>fitur_4</th>\n",
       "    </tr>\n",
       "    <tr>\n",
       "      <th>id</th>\n",
       "      <th></th>\n",
       "      <th></th>\n",
       "      <th></th>\n",
       "      <th></th>\n",
       "    </tr>\n",
       "  </thead>\n",
       "  <tbody>\n",
       "    <tr>\n",
       "      <th>1</th>\n",
       "      <td>Ekonomi</td>\n",
       "      <td>Matematika</td>\n",
       "      <td>20.0</td>\n",
       "      <td>32.0</td>\n",
       "    </tr>\n",
       "    <tr>\n",
       "      <th>2</th>\n",
       "      <td>NaN</td>\n",
       "      <td>Statistika</td>\n",
       "      <td>26.0</td>\n",
       "      <td>NaN</td>\n",
       "    </tr>\n",
       "    <tr>\n",
       "      <th>3</th>\n",
       "      <td>Sejarah</td>\n",
       "      <td>Fisika</td>\n",
       "      <td>31.0</td>\n",
       "      <td>29.0</td>\n",
       "    </tr>\n",
       "    <tr>\n",
       "      <th>4</th>\n",
       "      <td>Sosiologi</td>\n",
       "      <td>Kimia</td>\n",
       "      <td>29.0</td>\n",
       "      <td>23.0</td>\n",
       "    </tr>\n",
       "    <tr>\n",
       "      <th>5</th>\n",
       "      <td>NaN</td>\n",
       "      <td>Biologi</td>\n",
       "      <td>30.0</td>\n",
       "      <td>NaN</td>\n",
       "    </tr>\n",
       "    <tr>\n",
       "      <th>6</th>\n",
       "      <td>Bahasa Indonesia</td>\n",
       "      <td>NaN</td>\n",
       "      <td>NaN</td>\n",
       "      <td>27.0</td>\n",
       "    </tr>\n",
       "    <tr>\n",
       "      <th>7</th>\n",
       "      <td>Geografi</td>\n",
       "      <td>NaN</td>\n",
       "      <td>NaN</td>\n",
       "      <td>22.0</td>\n",
       "    </tr>\n",
       "  </tbody>\n",
       "</table>\n",
       "</div>"
      ],
      "text/plain": [
       "             fitur_2     fitur_1  fitur_3  fitur_4\n",
       "id                                                \n",
       "1            Ekonomi  Matematika     20.0     32.0\n",
       "2                NaN  Statistika     26.0      NaN\n",
       "3            Sejarah      Fisika     31.0     29.0\n",
       "4          Sosiologi       Kimia     29.0     23.0\n",
       "5                NaN     Biologi     30.0      NaN\n",
       "6   Bahasa Indonesia         NaN      NaN     27.0\n",
       "7           Geografi         NaN      NaN     22.0"
      ]
     },
     "execution_count": 28,
     "metadata": {},
     "output_type": "execute_result"
    }
   ],
   "source": [
    "# Menggabungkan banyak dataframe dengan metode full outer join\n",
    "\n",
    "df_join = df2.join([df1, df3, df4], how='outer')\n",
    "df_join"
   ]
  },
  {
   "cell_type": "markdown",
   "metadata": {},
   "source": [
    "Begitu juga jika kita ingin menggunakan metode <i>inner join</i>."
   ]
  },
  {
   "cell_type": "code",
   "execution_count": 29,
   "metadata": {},
   "outputs": [
    {
     "data": {
      "text/html": [
       "<div>\n",
       "<style scoped>\n",
       "    .dataframe tbody tr th:only-of-type {\n",
       "        vertical-align: middle;\n",
       "    }\n",
       "\n",
       "    .dataframe tbody tr th {\n",
       "        vertical-align: top;\n",
       "    }\n",
       "\n",
       "    .dataframe thead th {\n",
       "        text-align: right;\n",
       "    }\n",
       "</style>\n",
       "<table border=\"1\" class=\"dataframe\">\n",
       "  <thead>\n",
       "    <tr style=\"text-align: right;\">\n",
       "      <th></th>\n",
       "      <th>fitur_2</th>\n",
       "      <th>fitur_1</th>\n",
       "      <th>fitur_3</th>\n",
       "      <th>fitur_4</th>\n",
       "    </tr>\n",
       "    <tr>\n",
       "      <th>id</th>\n",
       "      <th></th>\n",
       "      <th></th>\n",
       "      <th></th>\n",
       "      <th></th>\n",
       "    </tr>\n",
       "  </thead>\n",
       "  <tbody>\n",
       "    <tr>\n",
       "      <th>1</th>\n",
       "      <td>Ekonomi</td>\n",
       "      <td>Matematika</td>\n",
       "      <td>20</td>\n",
       "      <td>32</td>\n",
       "    </tr>\n",
       "    <tr>\n",
       "      <th>3</th>\n",
       "      <td>Sejarah</td>\n",
       "      <td>Fisika</td>\n",
       "      <td>31</td>\n",
       "      <td>29</td>\n",
       "    </tr>\n",
       "    <tr>\n",
       "      <th>4</th>\n",
       "      <td>Sosiologi</td>\n",
       "      <td>Kimia</td>\n",
       "      <td>29</td>\n",
       "      <td>23</td>\n",
       "    </tr>\n",
       "  </tbody>\n",
       "</table>\n",
       "</div>"
      ],
      "text/plain": [
       "      fitur_2     fitur_1  fitur_3  fitur_4\n",
       "id                                         \n",
       "1     Ekonomi  Matematika       20       32\n",
       "3     Sejarah      Fisika       31       29\n",
       "4   Sosiologi       Kimia       29       23"
      ]
     },
     "execution_count": 29,
     "metadata": {},
     "output_type": "execute_result"
    }
   ],
   "source": [
    "# Menggabungkan banyak dataframe dengan metode inner join\n",
    "\n",
    "df_join = df2.join([df1, df3, df4], how='inner')\n",
    "df_join"
   ]
  },
  {
   "cell_type": "markdown",
   "metadata": {},
   "source": [
    "<hr>"
   ]
  },
  {
   "cell_type": "markdown",
   "metadata": {},
   "source": [
    "Copyright @ <a href=\"https://ilmudatapy.com/\" target=\"_blank\">ilmudatapy.com</a>."
   ]
  }
 ],
 "metadata": {
  "kernelspec": {
   "display_name": "Python 3",
   "language": "python",
   "name": "python3"
  },
  "language_info": {
   "codemirror_mode": {
    "name": "ipython",
    "version": 3
   },
   "file_extension": ".py",
   "mimetype": "text/x-python",
   "name": "python",
   "nbconvert_exporter": "python",
   "pygments_lexer": "ipython3",
   "version": "3.8.8"
  }
 },
 "nbformat": 4,
 "nbformat_minor": 2
}
