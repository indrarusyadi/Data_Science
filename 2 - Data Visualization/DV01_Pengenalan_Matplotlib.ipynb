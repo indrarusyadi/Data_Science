{
 "cells": [
  {
   "cell_type": "markdown",
   "metadata": {},
   "source": [
    "<img src=\"../images/ilmudatapy-logo.png\" width=\"350\" align=\"center\">\n",
    "<br>"
   ]
  },
  {
   "cell_type": "markdown",
   "metadata": {},
   "source": [
    "<center><h1>Pengenalan Matplotlib</h1></center>\n",
    "<hr>"
   ]
  },
  {
   "cell_type": "markdown",
   "metadata": {},
   "source": [
    "__Halo, Learners!__ Di notebook ini, kita akan membahas sekilas tentang __Matplotlib__, dari mulai apa itu __Matplotlib__, cara menginstall dan mengecek versi yang digunakan. Kita juga akan sedikit membahas apa itu Figure dan Axes serta bagaimana cara membuat plot sederhana di Matplotlib, juga memplot multiple data dalam satu axes hingga mengatur style dna menyimpan gambar."
   ]
  },
  {
   "cell_type": "markdown",
   "metadata": {},
   "source": [
    "<h2>Table of Contents</h2>\n",
    "<div class=\"alert alert-block alert-info\" style=\"margin-top: 25px\">\n",
    "    <ul>\n",
    "        <li>\n",
    "            Apa itu Matplotlib ?\n",
    "            <ul>\n",
    "                <li>Install Matplotlib</li>\n",
    "                <li>Mengecek versi Matplotlib</li>\n",
    "            </ul>\n",
    "        </li>\n",
    "        <li>\n",
    "            Figure dan Axes di Matplotlib\n",
    "        </li>\n",
    "        <li>\n",
    "            Membuat plot sederhana\n",
    "            <ul>\n",
    "                <li>Cara Explicit</li>\n",
    "                <li>Cara Implicit</li>\n",
    "            </ul>\n",
    "        </li>\n",
    "        <li>\n",
    "            Plotting multiple data dalam satu Axes\n",
    "        </li>\n",
    "        <li>\n",
    "            Mengatur style\n",
    "        </li>\n",
    "        <li>\n",
    "            Menyimpan gambar\n",
    "        </li>\n",
    "    </ul>\n",
    "</div>"
   ]
  },
  {
   "cell_type": "markdown",
   "metadata": {},
   "source": [
    "<hr>\n",
    "<div class=\"alert alert-success\" style=\"margin-top: 20px\">\n",
    "    <strong>Catatan:</strong> Untuk menjalankan kode program Python di Jupyter Notebook, klik pada <i>cell</i> yang ingin di-<i>run</i> lalu tekan <kbd>Shift</kbd> + <kbd>Enter</kbd>.\n",
    "</div>"
   ]
  },
  {
   "cell_type": "markdown",
   "metadata": {},
   "source": [
    "<div class=\"alert alert-danger\" style=\"margin-top: 20px\">\n",
    "    <strong>Warning!:</strong> Jika ada kode program yang <i>error</i> atau output yang dihasilkan tidak sesuai, silahkan <b>Restart & Run All</b> kernel pada bagian menu <b>Kernel</b> di menu bar Jupyter Notebook, atau <b>Restart & Clear Output</b> kernel kemudian jalankan satu per satu <i>cell</i> secara berurutan dari atas ke bawah.\n",
    "</div>\n",
    "<hr>"
   ]
  },
  {
   "cell_type": "markdown",
   "metadata": {},
   "source": [
    "## Apa itu Matplotlib?"
   ]
  },
  {
   "cell_type": "markdown",
   "metadata": {},
   "source": [
    "__Matplotlib__ adalah sebuah <i>library</i> di Python yang sering digunakan untuk visualisasi data. Matplotlib dilengkapi dengan <i>scripting interface</i> yang direpresentasikan dengan __pyplot__ untuk memudahkan kita membuat grafik. Arsitektur matplotlib terdiri dari tiga layer utama, yaitu <i>backend layer</i>, <i>artist layer</i>, dan <i>scripting layer</i>.\n",
    "\n",
    "Matplotlib dapat digunakan di banyak <i>tools</i>, salah satunya Jupyter Notebook, yang sedang kita gunakan saat ini. Seperti <i>library</i> yang lainnya, matplotlib harus di-<i>install</i> terlebih dahulu. "
   ]
  },
  {
   "cell_type": "markdown",
   "metadata": {},
   "source": [
    "### Install Matplotlib"
   ]
  },
  {
   "cell_type": "markdown",
   "metadata": {},
   "source": [
    "Jika Anda belum pernah menginstal Matplotlib, jalankan kode berikut untuk menginstalnya."
   ]
  },
  {
   "cell_type": "code",
   "execution_count": null,
   "metadata": {},
   "outputs": [],
   "source": [
    "pip install matplotlib"
   ]
  },
  {
   "cell_type": "markdown",
   "metadata": {},
   "source": [
    "Sekarang matplotlib siap digunakan."
   ]
  },
  {
   "cell_type": "markdown",
   "metadata": {},
   "source": [
    "### Mengecek Versi Matplotlib"
   ]
  },
  {
   "cell_type": "markdown",
   "metadata": {},
   "source": [
    "Kita juga dapat mengecek versi dari Matplotlib yang terinstal di komputer kita."
   ]
  },
  {
   "cell_type": "code",
   "execution_count": null,
   "metadata": {},
   "outputs": [],
   "source": [
    "# Mengecek versi Matplotlib\n",
    "\n",
    "import matplotlib\n",
    "\n",
    "matplotlib.__version__"
   ]
  },
  {
   "cell_type": "markdown",
   "metadata": {},
   "source": [
    "<hr>"
   ]
  },
  {
   "cell_type": "markdown",
   "metadata": {},
   "source": [
    "## Figure dan Axes di Matplotlib"
   ]
  },
  {
   "cell_type": "markdown",
   "metadata": {},
   "source": [
    "__Figure__ adalah objek Matplotlib yang mengandung semua elemen dari sebuah grafik, sedangkan __Axes__ merupakan tempat dimana <i>method</i> untuk <i>plotting</i> didefinisikan, termasuk <i>method</i> untuk membuat dan memanipulasi garis axis, grid, label tick, ataupun background."
   ]
  },
  {
   "cell_type": "markdown",
   "metadata": {},
   "source": [
    "<img src=\"../images/matplotlib-fig-ax.png\" width=\"350\" align=\"center\">\n",
    "<center>Pic source: matplotlib.org</center>"
   ]
  },
  {
   "cell_type": "markdown",
   "metadata": {},
   "source": [
    "Jika kita asumsikan seperti melukis, Figure adalah kertasnya atau kanvasnya, sedangkan Axes adalah gambarnya. Figure setidaknya mengandung satu Axes. Satu plot (gambar) adalah satu Axes, jadi misalnya kita akan membuat sebuah Figure terdiri dari beberapa plot, katakanlah 4 plot, berarti Figure tersebut harus memiliki 4 Axes."
   ]
  },
  {
   "cell_type": "markdown",
   "metadata": {},
   "source": [
    "<hr>"
   ]
  },
  {
   "cell_type": "markdown",
   "metadata": {},
   "source": [
    "## Membuat plot sederhana"
   ]
  },
  {
   "cell_type": "markdown",
   "metadata": {},
   "source": [
    "Untuk membuat sebuat plot, kita harus mengimpor <code>matplotlib.pyplot</code> terlebih dahulu."
   ]
  },
  {
   "cell_type": "code",
   "execution_count": null,
   "metadata": {},
   "outputs": [],
   "source": [
    "# Import matplotlib.pyplot\n",
    "\n",
    "import matplotlib.pyplot as plt"
   ]
  },
  {
   "cell_type": "markdown",
   "metadata": {},
   "source": [
    "<code>plt</code> disini adalah sebagai singkatan agar saat dipanggil kita tidak perlu repot menuliskan <code>matplotlib.pyplot</code> tetapi cukup dengan <code>plt</code>. Sama halnya kita menyingkat Pandas dengan <code>pd</code> dan Numpy dengan <code>np</code>. \n",
    "\n",
    "Sekarang kita buat plot sederhana. Ada dua cara yang dapat kita gunakan yaitu cara __Explicit__ dan __Implicit__."
   ]
  },
  {
   "cell_type": "markdown",
   "metadata": {},
   "source": [
    "### Cara Explicit"
   ]
  },
  {
   "cell_type": "markdown",
   "metadata": {},
   "source": [
    "Disini kita akan membuat grafik sederhana dari dua buah kumpulan bilangan yang didefinisikan di dalam dua buah list, yaitu <code>x</code> dan <code>y</code>. "
   ]
  },
  {
   "cell_type": "code",
   "execution_count": null,
   "metadata": {},
   "outputs": [],
   "source": [
    "# Membuat plot sederhana dengan cara explicit\n",
    "\n",
    "x = [2, 4, 6, 8, 10]\n",
    "y = [8, 1, 6, 5, 6]\n",
    "\n",
    "# Membuat objek figure\n",
    "fig = plt.figure()  \n",
    "\n",
    "# Membuat objek axes\n",
    "ax = fig.add_subplot()\n",
    "\n",
    "# Menambahkan data ke objek axes\n",
    "ax.plot(x, y)\n",
    "\n",
    "# Menampilkan visualisasi data\n",
    "plt.show()"
   ]
  },
  {
   "cell_type": "markdown",
   "metadata": {},
   "source": [
    "Jika menggunakan cara explicit, kita diharuskan membuat objek figure dan axes terlebih dahulu. Cara ini terbilang sedikit rumit, namun direkomendasikan jika kita ingin membuat visualisasi data yang lebih kompleks. Dengan cara ini, kita dapat mengontrol berbagai macam komponen yang terdapat di dalam objek figure dan axes.\n",
    "\n",
    "Untuk menampilkan visualisasi data kita dapat memanggil <i>method</i> <code>show()</code> di akhir blok kode, baik dengan cara <i>explicit</i> maupun <i>implicit</i>."
   ]
  },
  {
   "cell_type": "markdown",
   "metadata": {},
   "source": [
    "### Cara Implicit"
   ]
  },
  {
   "cell_type": "markdown",
   "metadata": {},
   "source": [
    "Dengan menggunakan data yang sama, mari kita coba praktekkan penggunaan cara implicit untuk visualisasi data."
   ]
  },
  {
   "cell_type": "code",
   "execution_count": null,
   "metadata": {},
   "outputs": [],
   "source": [
    "# Membuat plot sederhana dengan implicit\n",
    "\n",
    "x = [2, 4, 6, 8, 10]\n",
    "y = [8, 1, 6, 5, 6]\n",
    "\n",
    "# Membuat objek visual \n",
    "plt.plot(x, y)\n",
    "\n",
    "# Menampilkan visualisasi data\n",
    "plt.show()"
   ]
  },
  {
   "cell_type": "markdown",
   "metadata": {},
   "source": [
    "Dapat kita lihat di atas, kode yang digunakan untuk membuat plot yang sama dengan sebelumnya terlihat lebih sederhana."
   ]
  },
  {
   "cell_type": "markdown",
   "metadata": {},
   "source": [
    "<hr>"
   ]
  },
  {
   "cell_type": "markdown",
   "metadata": {},
   "source": [
    "## Plotting multiple data dalam satu Axes"
   ]
  },
  {
   "cell_type": "markdown",
   "metadata": {},
   "source": [
    "Kita juga bisa memplot dua data dalam satu Axes. Pada contoh ini, kita akan menggunakan Numpy untuk men-<i>generate</i> bilangan sehingga kita perlu mengimpor Numpy terlebih dahulu. Perhatikan kode berikut."
   ]
  },
  {
   "cell_type": "code",
   "execution_count": null,
   "metadata": {},
   "outputs": [],
   "source": [
    "# Plotting multiple data dalam satu Axes\n",
    "\n",
    "import numpy as np\n",
    "\n",
    "X = np.linspace(0, 30, 100)\n",
    "y1 = np.cos(X*2)\n",
    "y2 = np.cos(X)\n",
    "y3 = np.sin(X/3)\n",
    "y4 = np.sin(X)\n",
    "\n",
    "fig, ax = plt.subplots(figsize=(10,6))\n",
    "\n",
    "ax.plot(X, y1, color='red')\n",
    "ax.plot(X, y2, color='blue')\n",
    "ax.plot(X, y3, color='green') \n",
    "ax.plot(X, y4, color='black') \n",
    "\n",
    "plt.show()"
   ]
  },
  {
   "cell_type": "markdown",
   "metadata": {},
   "source": [
    "<hr>"
   ]
  },
  {
   "cell_type": "markdown",
   "metadata": {},
   "source": [
    "## Mengatur style"
   ]
  },
  {
   "cell_type": "markdown",
   "metadata": {},
   "source": [
    "Kita dapat mengatur <i>style</i> di Matplotlib. Untuk mengetahui <i>style</i> apa saja yang tersedia, kita dapat mengeceknya dengan kode di bawah ini."
   ]
  },
  {
   "cell_type": "code",
   "execution_count": null,
   "metadata": {},
   "outputs": [],
   "source": [
    "# Mengecek style yang tersedia\n",
    "\n",
    "print(plt.style.available)"
   ]
  },
  {
   "cell_type": "markdown",
   "metadata": {},
   "source": [
    "Sekarang mari kita coba atur <i>style</i> untuk data trigonometri yang sebelumnya. Misalnya kita coba <i>style</i> <code>tableau-colorblind10</code>."
   ]
  },
  {
   "cell_type": "code",
   "execution_count": null,
   "metadata": {},
   "outputs": [],
   "source": [
    "# Mengatur style \n",
    "\n",
    "plt.style.use('tableau-colorblind10')\n",
    "\n",
    "X = np.linspace(0, 30, 100)\n",
    "y1 = np.cos(X*2)\n",
    "y2 = np.cos(X)\n",
    "y3 = np.sin(X/3)\n",
    "y4 = np.sin(X)\n",
    "\n",
    "fig, ax = plt.subplots(figsize=(10,6))\n",
    "\n",
    "ax.plot(X, y1)\n",
    "ax.plot(X, y2)\n",
    "ax.plot(X, y3) \n",
    "ax.plot(X, y4) \n",
    "\n",
    "plt.show()"
   ]
  },
  {
   "cell_type": "markdown",
   "metadata": {},
   "source": [
    "Sekarang kita coba dengan <i>style</i> <code>ggplot</code>."
   ]
  },
  {
   "cell_type": "code",
   "execution_count": null,
   "metadata": {},
   "outputs": [],
   "source": [
    "# Mengatur style \n",
    "\n",
    "plt.style.use('ggplot')\n",
    "\n",
    "X = np.linspace(0, 30, 100)\n",
    "y1 = np.cos(X*2)\n",
    "y2 = np.cos(X)\n",
    "y3 = np.sin(X/3)\n",
    "y4 = np.sin(X)\n",
    "\n",
    "fig, ax = plt.subplots(figsize=(10,6))\n",
    "\n",
    "ax.plot(X, y1)\n",
    "ax.plot(X, y2)\n",
    "ax.plot(X, y3) \n",
    "ax.plot(X, y4) \n",
    "\n",
    "plt.show()"
   ]
  },
  {
   "cell_type": "markdown",
   "metadata": {},
   "source": [
    "<hr>"
   ]
  },
  {
   "cell_type": "markdown",
   "metadata": {},
   "source": [
    "## Menyimpan gambar"
   ]
  },
  {
   "cell_type": "markdown",
   "metadata": {},
   "source": [
    "Untuk menyimpan gambar grafik yang telah dibuat, kita dapat menggunakan <i>method</i> <code>savefig()</code> yang diberikan argumen berupa nama <i>file</i> gambar yang ingin kita simpan. Misalnya dari contoh sebelumnya, kita ingin menyimpan gambar hasil visualisasi data tersebut dengan nama <code>contoh_visualisasi.png</code>. Perhatikan kode berikut."
   ]
  },
  {
   "cell_type": "code",
   "execution_count": null,
   "metadata": {},
   "outputs": [],
   "source": [
    "plt.style.use('ggplot')\n",
    "\n",
    "X = np.linspace(0, 30, 100)\n",
    "y1 = np.cos(X*2)\n",
    "y2 = np.cos(X)\n",
    "y3 = np.sin(X/3)\n",
    "y4 = np.sin(X)\n",
    "\n",
    "fig, ax = plt.subplots(figsize=(10,6))\n",
    "\n",
    "ax.plot(X, y1)\n",
    "ax.plot(X, y2)\n",
    "ax.plot(X, y3) \n",
    "ax.plot(X, y4) \n",
    "\n",
    "# Menyimpan gambar\n",
    "fig.savefig('contoh_visualisasi.png')"
   ]
  },
  {
   "cell_type": "markdown",
   "metadata": {},
   "source": [
    "Setelah itu, coba Anda cek di folder yang sama dengan yang Anda gunakan untuk menyimpan <i>file</i> notebook ini, <i>file</i> <code>contoh_visualisasi.png</code> otomatis tersimpan disana."
   ]
  },
  {
   "cell_type": "markdown",
   "metadata": {},
   "source": [
    "<hr>"
   ]
  },
  {
   "cell_type": "markdown",
   "metadata": {},
   "source": [
    "Copyright @ <a href=\"https://ilmudatapy.com/\">ilmudatapy.com</a>"
   ]
  }
 ],
 "metadata": {
  "kernelspec": {
   "display_name": "Python 3",
   "language": "python",
   "name": "python3"
  },
  "language_info": {
   "codemirror_mode": {
    "name": "ipython",
    "version": 3
   },
   "file_extension": ".py",
   "mimetype": "text/x-python",
   "name": "python",
   "nbconvert_exporter": "python",
   "pygments_lexer": "ipython3",
   "version": "3.7.3"
  }
 },
 "nbformat": 4,
 "nbformat_minor": 2
}
