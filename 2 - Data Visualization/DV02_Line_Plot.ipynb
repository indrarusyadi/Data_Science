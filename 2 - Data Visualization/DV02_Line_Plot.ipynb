{
 "cells": [
  {
   "cell_type": "markdown",
   "metadata": {},
   "source": [
    "<img src=\"../images/ilmudatapy-logo.png\" width=\"350\" align=\"center\">\n",
    "<br>"
   ]
  },
  {
   "cell_type": "markdown",
   "metadata": {},
   "source": [
    "<center><h1>Line Plot</h1></center>\n",
    "<hr>"
   ]
  },
  {
   "cell_type": "markdown",
   "metadata": {},
   "source": [
    "__Halo, Learners!__ Di notebook ini, kita akan membahas __Line Plot__. Disini kita akan membuat <i>line plot</i> menggunakan dataset asli dengan menerapkan beberapa teknik data preparation yang dibutuhkan sebelum visualisasi data. Kita juga akan mempraktekkan cara mengatur ukuran <i>figure</i>, label, <i>linestyle</i>, dan sebagainya."
   ]
  },
  {
   "cell_type": "markdown",
   "metadata": {},
   "source": [
    "<h2>Table of Contents</h2>\n",
    "<div class=\"alert alert-block alert-info\" style=\"margin-top: 25px\">\n",
    "    <ul>\n",
    "        <li>\n",
    "            Load Dataset\n",
    "        </li>\n",
    "        <li>\n",
    "            Visualisasi data dengan <b>Line Plot</b>\n",
    "            <ul>\n",
    "                <li>Single line</li>\n",
    "                <li>Multiple line</li>\n",
    "            </ul>\n",
    "        </li>\n",
    "        <li>\n",
    "            Pengaturan dasar\n",
    "            <ul>\n",
    "                <li>Figure size</li>\n",
    "                <li>Title</li>\n",
    "                <li>Label</li>\n",
    "                <li>Ticks</li>\n",
    "                <li>Legend</li>\n",
    "                <li>Line color</li>\n",
    "                <li>Line style</li>\n",
    "                <li>Line width</li>\n",
    "            </ul>\n",
    "        </li>\n",
    "    </ul>\n",
    "</div>"
   ]
  },
  {
   "cell_type": "markdown",
   "metadata": {},
   "source": [
    "<hr>\n",
    "<div class=\"alert alert-success\" style=\"margin-top: 20px\">\n",
    "    <strong>Catatan:</strong> Untuk menjalankan kode program Python di Jupyter Notebook, klik pada <i>cell</i> yang ingin di-<i>run</i> lalu tekan <kbd>Shift</kbd> + <kbd>Enter</kbd>.\n",
    "</div>"
   ]
  },
  {
   "cell_type": "markdown",
   "metadata": {},
   "source": [
    "<div class=\"alert alert-danger\" style=\"margin-top: 20px\">\n",
    "    <strong>Warning!:</strong> Jika ada kode program yang <i>error</i> atau output yang dihasilkan tidak sesuai, silahkan <b>Restart & Run All</b> kernel pada bagian menu <b>Kernel</b> di menu bar Jupyter Notebook, atau <b>Restart & Clear Output</b> kernel kemudian jalankan satu per satu <i>cell</i> secara berurutan dari atas ke bawah.\n",
    "</div>\n",
    "<hr>"
   ]
  },
  {
   "cell_type": "markdown",
   "metadata": {},
   "source": [
    "## Load dataset"
   ]
  },
  {
   "cell_type": "markdown",
   "metadata": {},
   "source": [
    "Dataset yang digunakan adalah dataset <a href='https://www.kaggle.com/szamil/who-suicide-statistics'>WHO Suicide Statistics</a> yang terdiri dari 43776 baris dan 6 kolom.\n",
    "\n",
    "__Feature Information:__\n",
    "\n",
    "* __country :__ nama negara yang terdata\n",
    "* __year :__ tahun\n",
    "* __sex :__ jenis kelamin \n",
    "* __age :__ rentang usia\n",
    "* __suicides_no :__ jumlah orang yang melakukan bunuh diri\n",
    "* __population :__ populasi penduduk "
   ]
  },
  {
   "cell_type": "markdown",
   "metadata": {},
   "source": [
    "Pertama kita <i>import</i> dahulu <i>library</i> yang akan digunakan. Dalam praktek ini, kita akan menggunakan Pandas dan Matplotlib."
   ]
  },
  {
   "cell_type": "code",
   "execution_count": null,
   "metadata": {},
   "outputs": [],
   "source": [
    "import pandas as pd\n",
    "import matplotlib.pyplot as plt"
   ]
  },
  {
   "cell_type": "markdown",
   "metadata": {},
   "source": [
    "Kemudian kita <i>load</i> dataset menggunakan <code>read_csv()</code> dan menyimpannya dalam variabel <code>df</code>."
   ]
  },
  {
   "cell_type": "code",
   "execution_count": null,
   "metadata": {},
   "outputs": [],
   "source": [
    "df = pd.read_csv(\"../datasets/who_suicide_statistics.csv\")\n",
    "df.head(10)"
   ]
  },
  {
   "cell_type": "markdown",
   "metadata": {},
   "source": [
    "Sekarang kita lakukan pengecekan."
   ]
  },
  {
   "cell_type": "code",
   "execution_count": null,
   "metadata": {},
   "outputs": [],
   "source": [
    "df.info()"
   ]
  },
  {
   "cell_type": "markdown",
   "metadata": {},
   "source": [
    "Dari informasi di atas, kolom <code>suicides_no</code> dan <code>population</code> bertipe float, padahal itu mengandung bilangan integer. Karena itu kita akan mengubah tipe data <code>suicides_no</code> menjadi <code>Int64</code>. Sementara itu, kolom <code>populasi</code> kita akan membiarkannya karena tidak akan digunakan dalam praktek ini."
   ]
  },
  {
   "cell_type": "code",
   "execution_count": null,
   "metadata": {},
   "outputs": [],
   "source": [
    "# Mengubah tipe data kolom suicides_no\n",
    "\n",
    "df['suicides_no'] = df['suicides_no'].astype('Int64')\n",
    "df['suicides_no'].dtypes"
   ]
  },
  {
   "cell_type": "markdown",
   "metadata": {},
   "source": [
    "Sekarang tipe data sudah berubah menjadi Int64."
   ]
  },
  {
   "cell_type": "markdown",
   "metadata": {},
   "source": [
    "<hr>"
   ]
  },
  {
   "cell_type": "markdown",
   "metadata": {},
   "source": [
    "## Visualisasi data dengan Line Plot"
   ]
  },
  {
   "cell_type": "markdown",
   "metadata": {},
   "source": [
    "Sebelumnya mari definisikan sedikit apa itu <i>line plot</i> ?\n",
    "\n",
    "__Line plot__ atau <i>line chart</i> adalah jenis plot yang menampilkan informasi berupa rangkaian titik data yang terhubung dengan segmen garis lurus. Line plot merupakan jenis plot dasar dalam visualisasi data. Plot jenis ini dapat digunakan pada dataset yang memiliki nilai kontinu untuk melihat pergerakan data dari waktu ke waktu.\n",
    "\n",
    "Sekarang mari kita mencoba melakukan visualisasi data dengan <i>line plot</i>. Disini kita akan mencoba <i>plotting</i> menggunakan satu data dan beberapa data atau kategori."
   ]
  },
  {
   "cell_type": "markdown",
   "metadata": {},
   "source": [
    "### Single line"
   ]
  },
  {
   "cell_type": "markdown",
   "metadata": {},
   "source": [
    "Misalnya kita ingin menampilkan grafik jumlah orang yang melakukan bunuh diri setiap tahunnya di dunia. Sebelumnya kita harus membuat dataframe baru yang menyediakan data tersebut.\n",
    "\n",
    "Dari dataframe <code>df</code> di atas, kita akan melakukan <i>grouping</i> berdasarkan tahun atau kolom <code>year</code> dan menampilkan jumlah total orang yang melakukan bunuh diri atau kolom <code>suicides_no</code> menggunakan agregasi <code>sum</code>.\n",
    "\n",
    "Perhatikan kode berikut."
   ]
  },
  {
   "cell_type": "code",
   "execution_count": null,
   "metadata": {},
   "outputs": [],
   "source": [
    "# Grouping data\n",
    "\n",
    "df_year = df.groupby(['year'])[['suicides_no']].sum()\n",
    "df_year"
   ]
  },
  {
   "cell_type": "markdown",
   "metadata": {},
   "source": [
    "Sekarang kita telah mendapatkan data yang diperlukan. Indeks dari dataframe <code>df_year</code> adalah tahun atau <code>year</code>.\n",
    "\n",
    "Jika kita lihat dari dataframe <code>df_year</code> di atas, baris dengan indeks __2016__ sangat sedikit jumlahnya dan dirasa tidak sesuai dengan tahun-tahun sebelumnya. Kemungkinan karena tidak semua negara telah memiliki data <i>suicides</i> pada tahun tersebut dan melaporkannya. Oleh karena itu, kita akan menghapus data tersebut karena merupakan <i>outliers</i>."
   ]
  },
  {
   "cell_type": "code",
   "execution_count": null,
   "metadata": {},
   "outputs": [],
   "source": [
    "# Menghapus baris 2016\n",
    "\n",
    "df_year = df_year.drop(2016, axis=0)\n",
    "df_year.tail()"
   ]
  },
  {
   "cell_type": "markdown",
   "metadata": {},
   "source": [
    "Sekarang saatnya kita membuat <i>line plot</i>.\n",
    "\n",
    "Di Pandas, kita dapat dengan mudah membuat <i>line plot</i> dengan <i>method</i> <code>plot()</code> yang sudah disediakan oleh Python. Kita hanya perlu memasukkan dua nilai/data sebagai sumbu <code>x</code> dan <code>y</code> di dalam tanda kurung <code>()</code>.\n",
    "\n",
    "Perhatikan contoh berikut."
   ]
  },
  {
   "cell_type": "code",
   "execution_count": null,
   "metadata": {},
   "outputs": [],
   "source": [
    "# Plotting dengan Pandas\n",
    "\n",
    "df_year.plot()"
   ]
  },
  {
   "cell_type": "markdown",
   "metadata": {},
   "source": [
    "Jika menggunakan Pandas, kita hanya perlu menuliskan variabel dataframe/series-nya yang diikuti oleh <i>method</i> <code>.plot()</code>.\n",
    "\n",
    "Bagaimana jika ingin menggunakan Matplotlib untuk menampilkan visualisasinya?\n",
    "\n",
    "Pertama kita harus definisikan dahulu nilai x dan y. Disini untuk axis x akan ditempati oleh indeks <code>df_year</code>, sedangkan untuk axis y akan ditempati oleh <code>df_year['suicides_no']</code>. Dalam beberapa kasus, kita mungkin dapat langsung mendefinisikannya tanpa mengubahnya menjadi list. Namun, untuk mengantisipasi <i>error</i> yang mungkin terjadi, sebaiknya kita ubah dulu menjadi list seperti di bawah ini. \n",
    "\n",
    "__FYI:__ Awalnya saya tidak mengubahnya menjadi list, namun beberapa hari kemudian saat saya coba jalankan lagi notebook ini malah terjadi <i>error</i> di bagian ini."
   ]
  },
  {
   "cell_type": "code",
   "execution_count": null,
   "metadata": {},
   "outputs": [],
   "source": [
    "# Mendefinisikan nilai x dan y\n",
    "\n",
    "x = list(df_year.index)\n",
    "y = list(df_year['suicides_no'])"
   ]
  },
  {
   "cell_type": "markdown",
   "metadata": {},
   "source": [
    "Setelah itu kita buat plotnya dengan Matplotlib menggunakan cara <i>implicit</i> seperti di bawah ini."
   ]
  },
  {
   "cell_type": "code",
   "execution_count": null,
   "metadata": {},
   "outputs": [],
   "source": [
    "# Visualisasi data dengan Matplotlib\n",
    "\n",
    "plt.plot(x, y)"
   ]
  },
  {
   "cell_type": "markdown",
   "metadata": {},
   "source": [
    "<code>df_year.index</code> yang dalam hal ini adalah tahunnya, menjadi sumbu <code>x</code>, sedangkan <code>df_year['suicides_no']</code> atau kolom yang berisi jumlah orang yang melakukan bunuh diri, menjadi sumbu <code>y</code>."
   ]
  },
  {
   "cell_type": "markdown",
   "metadata": {},
   "source": [
    "### Multiple line"
   ]
  },
  {
   "cell_type": "markdown",
   "metadata": {},
   "source": [
    "Sekarang kita akan mencoba mempraktekkan <i>plotting</i> beberapa data. Jadi nanti dalam satu gambar ada beberapa garis yang mewakili masing-masing kategori.\n",
    "\n",
    "Misalnya kita ingin menampilkan grafik data orang yang melakukan bunuh dari dari negara-negara tertentu pada rentang tahun tertentu. Disini kita akan ambil negara <code>Australia</code>, <code>Japan</code>, <code>Republic of Korea</code>, <code>United Kingdom</code>, dan <code>United States of America</code>. Sementara tahunnya, kita akan ambil dari tahun __2006__ hingga __2015__.\n",
    "\n",
    "Pertama, kita buat dua buah kondisi untuk memilih <code>country</code> dan <code>year</code> seperti di bawah ini. Tanda <code>|</code> merupakan simbol <code>or</code> alias __'atau'__."
   ]
  },
  {
   "cell_type": "code",
   "execution_count": null,
   "metadata": {},
   "outputs": [],
   "source": [
    "# Membuat kondisi\n",
    "\n",
    "con_countries = (df['country']=='Australia') | (df['country']=='Japan') | (df['country']=='Republic of Korea') |     \\\n",
    "                (df['country']=='United Kingdom') | (df['country']=='United States of America')\n",
    "\n",
    "con_years = (df['year']==2006) | (df['year']==2007) | (df['year']==2008) | (df['year']==2009) | (df['year']==2010) |   \\\n",
    "            (df['year']==2011) | (df['year']==2012) | (df['year']==2013) | (df['year']==2014) | (df['year']==2015)"
   ]
  },
  {
   "cell_type": "markdown",
   "metadata": {},
   "source": [
    "Setelah membuat kondisi, sekarang coba kita lihat dataframe yang di-<i>filter</i> dengan kondisi tersebut. Misalnya kita akan menyimpan hasil <i>filter</i> tersebut ke dalam variabel <code>df_choice</code>. Jangan lupa untuk me-<i>reset</i> indeks dari dataframe tersebut."
   ]
  },
  {
   "cell_type": "code",
   "execution_count": null,
   "metadata": {},
   "outputs": [],
   "source": [
    "# Membuat dataframe yang di-filter dengan kondisi\n",
    "\n",
    "df_choice = df[con_countries & con_years].reset_index(drop=True)\n",
    "df_choice"
   ]
  },
  {
   "cell_type": "markdown",
   "metadata": {},
   "source": [
    "Sekarang kita telah mendapatkan dataframe yang dibutuhkan. Selanjutnya untuk memudahkan proses visualisasi dengan <i>line plot</i>, kita perlu mentransformasi dataframe di atas menjadi bentuk <i>pivot table</i> menggunakan <i>method</i> <code>pivot_table()</code> dari Python."
   ]
  },
  {
   "cell_type": "code",
   "execution_count": null,
   "metadata": {},
   "outputs": [],
   "source": [
    "# Tranformasi menjadi pivot table\n",
    "\n",
    "pivot_choice = df_choice.pivot_table(index='year', columns='country', values='suicides_no', aggfunc='sum')\n",
    "pivot_choice"
   ]
  },
  {
   "cell_type": "markdown",
   "metadata": {},
   "source": [
    "Ada beberapa parameter yang kita gunakan pada kode di atas untuk membuat <i>pivot table</i>.\n",
    "\n",
    "* <code>index</code> untuk menentukan fitur/kolom yang akan menjadi indeksnya, \n",
    "* <code>columns</code> untuk menentukan fitur yang akan menjadi kolom, \n",
    "* <code>values</code> untuk menentukan fitur yang akan dijadikan nilai dari dataframe, dan \n",
    "* <code>aggfunc</code> adalah metode agregasi apa yang akan digunakan untuk memproses <i>values</i>.\n",
    "\n",
    "Dari kode di atas, kita menjadikan <code>year</code> sebagai indeks dan <code>country</code> sebagai kolom. Sementara itu, nilainya sudah pasti adalah <code>suicides_no</code> dengan agregasi <code>sum</code> karena kita ingin mengetahui total jumlahnya.\n",
    "\n",
    "Setelah mendapatkan bentuk dataframe yang ideal, sekarang mari kita melakukan <i>plotting</i>."
   ]
  },
  {
   "cell_type": "code",
   "execution_count": null,
   "metadata": {},
   "outputs": [],
   "source": [
    "# Plotting data\n",
    "\n",
    "pivot_choice.plot(kind='line')"
   ]
  },
  {
   "cell_type": "markdown",
   "metadata": {},
   "source": [
    "Sekarang kita sudah mendapatkan visualisasi yang diinginkan. \n",
    "\n",
    "Namun seperti yang kita lihat, gambar visualisasi tersebut masih sangat sederhana. Ukurannya adalah ukuran <i>default</i>. Nah, untuk mengatur serta menambahkan beberapa komponen pada grafik tersebut, kita dapat menambahkan beberapa pengaturan."
   ]
  },
  {
   "cell_type": "markdown",
   "metadata": {},
   "source": [
    "<hr>"
   ]
  },
  {
   "cell_type": "markdown",
   "metadata": {},
   "source": [
    "## Pengaturan dasar"
   ]
  },
  {
   "cell_type": "markdown",
   "metadata": {},
   "source": [
    "Ada banyak <i>method</i> di Matplotlib yang dapat digunakan untuk mempercantik visualisasi data kita. Disini kita akan membahas beberapa <i>method</i> dasar untuk mengatur visualisasi data kita."
   ]
  },
  {
   "cell_type": "markdown",
   "metadata": {},
   "source": [
    "### Figure Size"
   ]
  },
  {
   "cell_type": "markdown",
   "metadata": {},
   "source": [
    "Yang pertama adalah cara mengatur ukuran <i>figure</i>. Kita dapat dengan mudah mengatur ukuran <i>figure</i> dengan parameter <code>figsize</code> yang dapat diberikan nilai berupa tuple yang terdiri dari dua bilangan untuk mendefinisikan lebar dan tingginya.\n",
    "\n",
    "Misalnya kita ingin memperbesar grafik kita dengan mengatur <i>figure size</i>-nya menjadi <code>figsize=(16, 8)</code>."
   ]
  },
  {
   "cell_type": "code",
   "execution_count": null,
   "metadata": {},
   "outputs": [],
   "source": [
    "# Contoh pengaturan figure size\n",
    "\n",
    "plt.style.use('ggplot')    # style matplotlib\n",
    "\n",
    "# Mengatur figure size\n",
    "pivot_choice.plot(kind='line', figsize=(16, 8))\n",
    "\n",
    "plt.show()"
   ]
  },
  {
   "cell_type": "markdown",
   "metadata": {},
   "source": [
    "### Title"
   ]
  },
  {
   "cell_type": "markdown",
   "metadata": {},
   "source": [
    "Untuk menambahkan <i>title</i> atau judul di visualisasi data kita, kita dapat menggunakan <i>method</i> <code>.title()</code> pada Matplotlib <code>plt</code>."
   ]
  },
  {
   "cell_type": "code",
   "execution_count": null,
   "metadata": {},
   "outputs": [],
   "source": [
    "# Contoh pengaturan title\n",
    "\n",
    "plt.style.use('ggplot')    # style matplotlib\n",
    "\n",
    "pivot_choice.plot(kind='line', figsize=(16, 8))\n",
    "\n",
    "# Mengatur judul grafik\n",
    "plt.title('WHO Suicide Statistics\\n', size=25)\n",
    "\n",
    "plt.show()"
   ]
  },
  {
   "cell_type": "markdown",
   "metadata": {},
   "source": [
    "### Label"
   ]
  },
  {
   "cell_type": "markdown",
   "metadata": {},
   "source": [
    "Kita juga dapat memberikan label sebagai keterangan sumbu <code>x</code> dan <code>y</code> menggunakan <i>method</i> <code>.xlabel()</code> dan <code>.ylabel()</code>.\n",
    "\n",
    "* <code>.xlabel()</code> untuk memberikan label pada sumbu <code>x</code>.\n",
    "* <code>.ylabel()</code> untuk memberikan label pada sumbu <code>y</code>.\n",
    "\n",
    "Kita juga dapat mengatur ukuran hurufnya dengan menambahkan parameter <code>size</code>."
   ]
  },
  {
   "cell_type": "code",
   "execution_count": null,
   "metadata": {},
   "outputs": [],
   "source": [
    "# Contoh pengaturan label\n",
    "\n",
    "plt.style.use('ggplot')    # style matplotlib\n",
    "\n",
    "pivot_choice.plot(kind='line', figsize=(16, 8))\n",
    "plt.title('WHO Suicide Statistics\\n', size=25)\n",
    "\n",
    "# Mengatur label pada sumbu x dan y\n",
    "plt.ylabel('Number of Suicide', size=20)\n",
    "plt.xlabel('Years', size=20)\n",
    "\n",
    "plt.show()"
   ]
  },
  {
   "cell_type": "markdown",
   "metadata": {},
   "source": [
    "### Ticks"
   ]
  },
  {
   "cell_type": "markdown",
   "metadata": {},
   "source": [
    "Untuk mengatur ukuran dari <i>ticks</i>, kita dapat menggunakan <code>.xticks()</code> dan <code>.yticks()</code> dengan memberikan parameter <code>size</code>. Perhatikan kode berikut."
   ]
  },
  {
   "cell_type": "code",
   "execution_count": null,
   "metadata": {},
   "outputs": [],
   "source": [
    "# Contoh pengaturan ticks\n",
    "\n",
    "plt.style.use('ggplot')    # style matplotlib\n",
    "\n",
    "pivot_choice.plot(kind='line', figsize=(16, 8))\n",
    "plt.title('WHO Suicide Statistics\\n', size=25)\n",
    "plt.ylabel('Number of Suicide', size=20)\n",
    "plt.xlabel('Years', size=20)\n",
    "\n",
    "# Mengatur xticks dan yticks\n",
    "plt.xticks(size=16)\n",
    "plt.yticks(size=16)\n",
    "\n",
    "plt.show()"
   ]
  },
  {
   "cell_type": "markdown",
   "metadata": {},
   "source": [
    "### Legend"
   ]
  },
  {
   "cell_type": "markdown",
   "metadata": {},
   "source": [
    "<i>Legend</i> juga dapat kita atur ukurannya menggunakan <code>.legend()</code> seperti di bawah ini."
   ]
  },
  {
   "cell_type": "code",
   "execution_count": null,
   "metadata": {},
   "outputs": [],
   "source": [
    "# Contoh pengaturan legend\n",
    "\n",
    "plt.style.use('ggplot')    # style matplotlib\n",
    "\n",
    "pivot_choice.plot(kind='line', figsize=(16, 8))\n",
    "plt.title('WHO Suicide Statistics\\n', size=25)\n",
    "plt.ylabel('Number of Suicide', size=20)\n",
    "plt.xlabel('Years', size=20)\n",
    "plt.xticks(size=16)\n",
    "plt.yticks(size=16)\n",
    "\n",
    "# Mengatur legend\n",
    "plt.legend(prop={'size': 14})\n",
    "\n",
    "plt.show()"
   ]
  },
  {
   "cell_type": "markdown",
   "metadata": {},
   "source": [
    "Jika tidak di-<i>set</i>, posisi <i>legend</i> akan otomatis mencari <i>space</i> yang kosong sehingga tidak menutupi <i>line</i>."
   ]
  },
  {
   "cell_type": "markdown",
   "metadata": {},
   "source": [
    "### Line color"
   ]
  },
  {
   "cell_type": "markdown",
   "metadata": {},
   "source": [
    "Kita dapat mengatur <i>line color</i> atau warna garisnya dengan menambahkan parameter <code>color</code> atau dapat disingkat dengan <code>c</code>. Jadi misalnya kita ingin warna garisnya __orange__, maka kita dapat menambahkan <code>color = 'orange'</code> atau <code>c = 'orange'</code>."
   ]
  },
  {
   "cell_type": "code",
   "execution_count": null,
   "metadata": {},
   "outputs": [],
   "source": [
    "# Contoh pengaturan line color\n",
    "\n",
    "plt.figure(figsize=(16, 8))      # Mengatur figsize dengan Matplotlib\n",
    "\n",
    "# Mengatur line color\n",
    "plt.plot(x, y, color='orange')\n",
    "\n",
    "plt.title('WHO Suicide Statistics Globally', size=25)\n",
    "plt.ylabel('Number of Suicide', size=20)\n",
    "plt.xlabel('Years', size=20)\n",
    "plt.xticks(size=16)\n",
    "plt.yticks(size=16)\n",
    "\n",
    "plt.show()"
   ]
  },
  {
   "cell_type": "markdown",
   "metadata": {},
   "source": [
    "Selain langsung menuliskan nama warnanya, kita juga dapat menggunakan kode warna <i>hexadecimal</i>."
   ]
  },
  {
   "cell_type": "code",
   "execution_count": null,
   "metadata": {},
   "outputs": [],
   "source": [
    "# Contoh pengaturan line color\n",
    "\n",
    "plt.figure(figsize=(16, 8))\n",
    "\n",
    "# Mengatur line color dengan kode warna hexadecimal\n",
    "plt.plot(x, y, c='#00b85a')\n",
    "\n",
    "plt.title('WHO Suicide Statistics Globally', size=25)\n",
    "plt.ylabel('Number of Suicide', size=20)\n",
    "plt.xlabel('Years', size=20)\n",
    "plt.xticks(size=16)\n",
    "plt.yticks(size=16)\n",
    "\n",
    "plt.show()"
   ]
  },
  {
   "cell_type": "markdown",
   "metadata": {},
   "source": [
    "### Line style"
   ]
  },
  {
   "cell_type": "markdown",
   "metadata": {},
   "source": [
    "Untuk mengatur jenis garis, kita dapat menggunakan parameter <code>linestyle</code> atau <code>ls</code>. Misalnya jika ingin menampilkan garis putus-putus, kita dapat menambahakan <code>linestyle = 'dashed'</code>."
   ]
  },
  {
   "cell_type": "code",
   "execution_count": null,
   "metadata": {},
   "outputs": [],
   "source": [
    "# Contoh pengaturan line style\n",
    "\n",
    "plt.figure(figsize=(16, 8))\n",
    "\n",
    "# Mengatur line style\n",
    "plt.plot(x, y, linestyle='dashed')\n",
    "\n",
    "plt.title('WHO Suicide Statistics Globally', size=25)\n",
    "plt.ylabel('Number of Suicide', size=20)\n",
    "plt.xlabel('Years', size=20)\n",
    "plt.xticks(size=16)\n",
    "plt.yticks(size=16)\n",
    "\n",
    "plt.show()"
   ]
  },
  {
   "cell_type": "markdown",
   "metadata": {},
   "source": [
    "Kita juga dapat menggunakan simbol <code>'--'</code> untuk menampilkan garis putus-putus."
   ]
  },
  {
   "cell_type": "code",
   "execution_count": null,
   "metadata": {},
   "outputs": [],
   "source": [
    "# Contoh pengaturan line style\n",
    "\n",
    "plt.figure(figsize=(16, 8))\n",
    "\n",
    "# Mengatur line style dengan simbol \n",
    "plt.plot(x, y, ls='--')\n",
    "\n",
    "plt.title('WHO Suicide Statistics Globally', size=25)\n",
    "plt.ylabel('Number of Suicide', size=20)\n",
    "plt.xlabel('Years', size=20)\n",
    "plt.xticks(size=16)\n",
    "plt.yticks(size=16)\n",
    "\n",
    "plt.show()"
   ]
  },
  {
   "cell_type": "markdown",
   "metadata": {},
   "source": [
    "### Line width"
   ]
  },
  {
   "cell_type": "markdown",
   "metadata": {},
   "source": [
    "Ketebalan garis juga dapat kita atur. Caranya yaitu dengan memberikan parameter <code>linewidth</code> atau <code>lw</code>, dimana nilai yang berisi bilaingan float."
   ]
  },
  {
   "cell_type": "code",
   "execution_count": null,
   "metadata": {},
   "outputs": [],
   "source": [
    "# Contoh pengaturan line width\n",
    "\n",
    "plt.figure(figsize=(16, 8))\n",
    "\n",
    "# Mengatur line width\n",
    "plt.plot(x, y, linewidth='5')\n",
    "\n",
    "plt.title('WHO Suicide Statistics Globally', size=25)\n",
    "plt.ylabel('Number of Suicide', size=20)\n",
    "plt.xlabel('Years', size=20)\n",
    "plt.xticks(size=16)\n",
    "plt.yticks(size=16)\n",
    "\n",
    "plt.show()"
   ]
  },
  {
   "cell_type": "markdown",
   "metadata": {},
   "source": [
    "Kita juga dapat menggunakan <code>lw</code>."
   ]
  },
  {
   "cell_type": "code",
   "execution_count": null,
   "metadata": {},
   "outputs": [],
   "source": [
    "# Contoh pengaturan line width\n",
    "\n",
    "plt.figure(figsize=(16, 8))\n",
    "\n",
    "# Mengatur line width\n",
    "plt.plot(x, y, lw='15.5')\n",
    "\n",
    "plt.title('WHO Suicide Statistics Globally', size=25)\n",
    "plt.ylabel('Number of Suicide', size=20)\n",
    "plt.xlabel('Years', size=20)\n",
    "plt.xticks(size=16)\n",
    "plt.yticks(size=16)\n",
    "\n",
    "plt.show()"
   ]
  },
  {
   "cell_type": "markdown",
   "metadata": {},
   "source": [
    "### Marker"
   ]
  },
  {
   "cell_type": "markdown",
   "metadata": {},
   "source": [
    "Kita juga dapat menambahkan tanda pada setiap titik di <i>line plot</i> dengan parameter <code>marker</code>. Misalnya disini kita ingin garisnya berupa lingkaran-lingkaran kecil."
   ]
  },
  {
   "cell_type": "code",
   "execution_count": null,
   "metadata": {},
   "outputs": [],
   "source": [
    "# Contoh pengaturan marker\n",
    "\n",
    "plt.figure(figsize=(16, 8))\n",
    "\n",
    "# Mengatur marker\n",
    "plt.plot(x, y, marker='o')\n",
    "\n",
    "plt.title('WHO Suicide Statistics Globally', size=25)\n",
    "plt.ylabel('Number of Suicide', size=20)\n",
    "plt.xlabel('Years', size=20)\n",
    "plt.xticks(size=16)\n",
    "plt.yticks(size=16)\n",
    "\n",
    "plt.show()"
   ]
  },
  {
   "cell_type": "markdown",
   "metadata": {},
   "source": [
    "Contoh di bawah ini adalah <i>line plot</i> dengan marker berupa kotak persegi."
   ]
  },
  {
   "cell_type": "code",
   "execution_count": null,
   "metadata": {},
   "outputs": [],
   "source": [
    "# Contoh pengaturan marker\n",
    "\n",
    "plt.figure(figsize=(16, 8))\n",
    "\n",
    "# Mengatur marker\n",
    "plt.plot(x, y, marker='s')\n",
    "\n",
    "plt.title('WHO Suicide Statistics Globally', size=25)\n",
    "plt.ylabel('Number of Suicide', size=20)\n",
    "plt.xlabel('Years', size=20)\n",
    "plt.xticks(size=16)\n",
    "plt.yticks(size=16)\n",
    "\n",
    "plt.show()"
   ]
  },
  {
   "cell_type": "markdown",
   "metadata": {},
   "source": [
    "<hr>"
   ]
  },
  {
   "cell_type": "markdown",
   "metadata": {},
   "source": [
    "Copyright @ <a href=\"https://ilmudatapy.com/\">ilmudatapy.com</a>"
   ]
  }
 ],
 "metadata": {
  "kernelspec": {
   "display_name": "Python 3",
   "language": "python",
   "name": "python3"
  },
  "language_info": {
   "codemirror_mode": {
    "name": "ipython",
    "version": 3
   },
   "file_extension": ".py",
   "mimetype": "text/x-python",
   "name": "python",
   "nbconvert_exporter": "python",
   "pygments_lexer": "ipython3",
   "version": "3.7.3"
  }
 },
 "nbformat": 4,
 "nbformat_minor": 2
}
