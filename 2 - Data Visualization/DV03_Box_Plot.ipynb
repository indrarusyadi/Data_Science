{
 "cells": [
  {
   "cell_type": "markdown",
   "metadata": {},
   "source": [
    "<img src=\"../images/ilmudatapy-logo.png\" width=\"350\" align=\"center\">\n",
    "<br>"
   ]
  },
  {
   "cell_type": "markdown",
   "metadata": {},
   "source": [
    "<center><h1>Box Plot</h1></center>\n",
    "<hr>"
   ]
  },
  {
   "cell_type": "markdown",
   "metadata": {},
   "source": [
    "__Halo, Learners!__ Di notebook ini, kita akan membahas __Box Plot__. Disini kita akan membuat <i>box plot</i> menggunakan dataset asli dengan menerapkan beberapa teknik data preparation di antaranya seperti melakukan <i>reshaping</i> sebelum visualisasi data. Kita juga akan mempraktekkan cara membuat subplot dengan Matplotlib."
   ]
  },
  {
   "cell_type": "markdown",
   "metadata": {},
   "source": [
    "<h2>Table of Contents</h2>\n",
    "<div class=\"alert alert-block alert-info\" style=\"margin-top: 25px\">\n",
    "    <ul>\n",
    "        <li>\n",
    "            Load Dataset\n",
    "        </li>\n",
    "        <li>\n",
    "            Visualisasi data dengan <b>Box Plot</b>\n",
    "            <ul>\n",
    "                <li>Single Box Plot</li>\n",
    "                <li>Multiple Box Plot</li>\n",
    "            </ul>\n",
    "        </li>\n",
    "        <li>\n",
    "            Horizontal Box Plot\n",
    "        </li>\n",
    "        <li>\n",
    "            Membuat Subplot\n",
    "        </li>\n",
    "    </ul>\n",
    "</div>"
   ]
  },
  {
   "cell_type": "markdown",
   "metadata": {},
   "source": [
    "<hr>\n",
    "<div class=\"alert alert-success\" style=\"margin-top: 20px\">\n",
    "    <strong>Catatan:</strong> Untuk menjalankan kode program Python di Jupyter Notebook, klik pada <i>cell</i> yang ingin di-<i>run</i> lalu tekan <kbd>Shift</kbd> + <kbd>Enter</kbd>.\n",
    "</div>"
   ]
  },
  {
   "cell_type": "markdown",
   "metadata": {},
   "source": [
    "<div class=\"alert alert-danger\" style=\"margin-top: 20px\">\n",
    "    <strong>Warning!:</strong> Jika ada kode program yang <i>error</i> atau output yang dihasilkan tidak sesuai, silahkan <b>Restart & Run All</b> kernel pada bagian menu <b>Kernel</b> di menu bar Jupyter Notebook, atau <b>Restart & Clear Output</b> kernel kemudian jalankan satu per satu <i>cell</i> secara berurutan dari atas ke bawah.\n",
    "</div>\n",
    "<hr>"
   ]
  },
  {
   "cell_type": "markdown",
   "metadata": {},
   "source": [
    "## Load dataset"
   ]
  },
  {
   "cell_type": "markdown",
   "metadata": {},
   "source": [
    "Dataset yang digunakan adalah dataset <a href='https://www.kaggle.com/szamil/who-suicide-statistics'>WHO Suicide Statistics</a> yang terdiri dari 43776 baris dan 6 kolom.\n",
    "\n",
    "__Feature Information:__\n",
    "\n",
    "* __country :__ nama negara yang terdata\n",
    "* __year :__ tahun\n",
    "* __sex :__ jenis kelamin \n",
    "* __age :__ rentang usia\n",
    "* __suicides_no :__ jumlah orang yang melakukan bunuh diri\n",
    "* __population :__ populasi penduduk "
   ]
  },
  {
   "cell_type": "markdown",
   "metadata": {},
   "source": [
    "Pertama kita <i>import</i> dahulu <i>library</i> yang akan digunakan. Dalam praktek ini, kita akan menggunakan Pandas dan Matplotlib."
   ]
  },
  {
   "cell_type": "code",
   "execution_count": null,
   "metadata": {},
   "outputs": [],
   "source": [
    "import pandas as pd\n",
    "import matplotlib.pyplot as plt\n",
    "\n",
    "%matplotlib inline\n",
    "\n",
    "plt.style.use('seaborn')    # style matplotlib"
   ]
  },
  {
   "cell_type": "markdown",
   "metadata": {},
   "source": [
    "Kemudian kita <i>load</i> dataset menggunakan <code>read_csv()</code> dan menyimpannya dalam variabel <code>df</code>."
   ]
  },
  {
   "cell_type": "code",
   "execution_count": null,
   "metadata": {},
   "outputs": [],
   "source": [
    "df = pd.read_csv(\"../datasets/who_suicide_statistics.csv\")\n",
    "df.head(10)"
   ]
  },
  {
   "cell_type": "markdown",
   "metadata": {},
   "source": [
    "Selanjutnya mari kita mulai <i>plotting</i> data."
   ]
  },
  {
   "cell_type": "markdown",
   "metadata": {},
   "source": [
    "<hr>"
   ]
  },
  {
   "cell_type": "markdown",
   "metadata": {},
   "source": [
    "## Visualisasi data dengan Box Plot"
   ]
  },
  {
   "cell_type": "markdown",
   "metadata": {},
   "source": [
    "__Box plot__ adalah jenis visualisasi data yang secara statistik merepresentasikan distribusi data melalui lima dimensi utama, yaitu nilai minimum, kuartil 1, kuartil 2 (median), kuartil 3, dan nilai maksimum. Biasanya box plot digunakan untuk memeriksa keberadaan <i>outlier</i> dalam dataset.\n",
    "\n",
    "Sebelum mulai membuat <i>box plot</i>, mari kita siapkan dahulu datasetnya. Disini kita akan melakukan <i>reshaping</i> atau mengubah bentuk dataset menjadi bentuk <i>pivot table</i>.\n",
    "\n",
    "Di Python, kita dapat menggunakan <i>method</i> <code>pivot_table()</code> dengan memberikan beberapa parameter seperti <code>index</code>, <code>columns</code>, <code>values</code>, dan <code>aggfunc</code>.\n",
    "\n",
    "Kita akan menjadikan <code>country</code> sebagai indeks, <code>year</code> sebagai kolom, <code>suicide_no</code> sebagai nilainya, dan <code>sum</code> sebagai fungsi agregasinya."
   ]
  },
  {
   "cell_type": "code",
   "execution_count": null,
   "metadata": {},
   "outputs": [],
   "source": [
    "# Reshaping data\n",
    "\n",
    "df_pivot = df.pivot_table(index='country', columns='year', values='suicides_no', aggfunc='sum')\n",
    "df_pivot"
   ]
  },
  {
   "cell_type": "markdown",
   "metadata": {},
   "source": [
    "Setelah mendapatkan dataframe yang ideal, kita dapat langsung membuat visualisasi data."
   ]
  },
  {
   "cell_type": "markdown",
   "metadata": {},
   "source": [
    "### Single Boxplot"
   ]
  },
  {
   "cell_type": "markdown",
   "metadata": {},
   "source": [
    "Yang pertama kita akan membuat <i>single box plot</i>. Misalnya kita ingin melihat visualisasi data dengan <i>box plot</i> untuk data negara __Japan__.\n",
    "\n",
    "Sebelumnya, kita akan membuat list tahun terlebih dahulu yang nantinya berfungsi untuk melakukan <i>filter</i> data."
   ]
  },
  {
   "cell_type": "code",
   "execution_count": null,
   "metadata": {},
   "outputs": [],
   "source": [
    "# Membuat list tahun\n",
    "\n",
    "years = list(range(1980, 2016))\n",
    "years"
   ]
  },
  {
   "cell_type": "markdown",
   "metadata": {},
   "source": [
    "Kemudian kita <i>filter</i> data menggunakan <code>loc</code> dengan memberikan nilai <code>['Japan']</code> sebagai indeks yang akan dipilih dan list <code>years</code> yang baru saja kita buat di atas sebagai kolom yang dipilih. \n",
    "\n",
    "Kita juga melakukan <code>transpose()</code> dataframe. Perhatikan kode di bawah ini."
   ]
  },
  {
   "cell_type": "code",
   "execution_count": null,
   "metadata": {},
   "outputs": [],
   "source": [
    "# Filter dan transpose dataframe\n",
    "\n",
    "df_japan = df_pivot.loc[['Japan'], years].transpose()\n",
    "df_japan.head()"
   ]
  },
  {
   "cell_type": "markdown",
   "metadata": {},
   "source": [
    "Selanjutnya kita membuat <i>box plot</i> dengan kode di bawah ini. Pastikan kita memberikan parameter <code>kind = 'box'</code> untuk menandakan bahwa yang ingin kita buat adalah <i>box plot</i>."
   ]
  },
  {
   "cell_type": "code",
   "execution_count": null,
   "metadata": {},
   "outputs": [],
   "source": [
    "# Membuat box plot\n",
    "\n",
    "df_japan.plot(kind='box', figsize=(8, 6))\n",
    "\n",
    "plt.title('Box plot of Suicide Cases in Japan from 1980 - 2015\\n', size=16)\n",
    "plt.ylabel('Number of Suicide Cases\\n', size=14)\n",
    "plt.xticks(size=14)\n",
    "plt.yticks(size=14)\n",
    "\n",
    "plt.show()"
   ]
  },
  {
   "cell_type": "markdown",
   "metadata": {},
   "source": [
    "Dari visualisasi di atas, kita dapat mengamati sekilas tentang dataset, di antaranya:\n",
    "\n",
    "1. Nilai minimum dari kasus bunuh diri di Jepang dari tahun 1980 - 2015 adalah kurang sedikit dari 20000 kasus.\n",
    "2. Nilai maksimum dari kasus bunuh diri di Jepang dari tahun 1980 - 2015 adalah sekitar 32000.\n",
    "3. Nilai median (kuartil 2) dari kasus bunuh diri di Jepang dari tahun 1980 - 2015 adalah sekitar 24500.\n",
    "4. Kuartil 1 atau 25% dari periode 1980 - 2015 memiliki jumlah kasus tahunan sekitar 21000.\n",
    "5. Kuartil 3 atau 50% dari periode 1980 - 2015 memiliki jumlah kasus tahunan sekitar 30000.\n",
    "\n",
    "Untuk melihat angka-angka sebenarnya, kita dapat menggunakan <i>method</i> <code>describe()</code> pada dataframe <code>df_japan</code> seperti di bawah ini."
   ]
  },
  {
   "cell_type": "code",
   "execution_count": null,
   "metadata": {},
   "outputs": [],
   "source": [
    "# Melihat statistik dataframe\n",
    "\n",
    "df_japan.describe()"
   ]
  },
  {
   "cell_type": "markdown",
   "metadata": {},
   "source": [
    "### Multiple Boxplot"
   ]
  },
  {
   "cell_type": "markdown",
   "metadata": {},
   "source": [
    "Kita juga dapat membuat beberapa <i>box plot</i> di dalam satu axes. Jika tadi kita hanya mengamati negara Jepang, sekarang kita akan mengamati beberapa negara sekaligus, misalnya Jepang, Korea, dan Amerika. \n",
    "\n",
    "Pertama kita harus mem-<i>filter</i> dataframe dan memasukkannya ke dalam variabel baru. Jangan lupa lakukan juga <code>transpose()</code> untuk data ini."
   ]
  },
  {
   "cell_type": "code",
   "execution_count": null,
   "metadata": {},
   "outputs": [],
   "source": [
    "# Memfilter dan transpose dataframe\n",
    "\n",
    "df_JKA = df_pivot.loc[['Japan', 'Republic of Korea', 'United States of America'], years].transpose()\n",
    "df_JKA.head(10)"
   ]
  },
  {
   "cell_type": "markdown",
   "metadata": {},
   "source": [
    "Setelah itu, untuk menampilkan visualisasinya, kita dapat melakukannya dengan cara yang sama persis seperti sebelumnya hanya saja kali ini diterapkan pada dataframe <code>df_JKA</code>."
   ]
  },
  {
   "cell_type": "code",
   "execution_count": null,
   "metadata": {},
   "outputs": [],
   "source": [
    "# Visualisasi data dengan box plot\n",
    "\n",
    "df_JKA.plot(kind='box', figsize=(12, 7))\n",
    "\n",
    "plt.title('Box plot of Suicide Cases in Japan, South Korea, and USA from 1980 - 2015\\n', size=18)\n",
    "plt.ylabel('Number of Suicide Cases\\n', size=14)\n",
    "plt.xticks(size=14)\n",
    "plt.yticks(size=14)\n",
    "\n",
    "plt.show()"
   ]
  },
  {
   "cell_type": "markdown",
   "metadata": {},
   "source": [
    "Sekarang mari kita lihat distribusi data detailnya."
   ]
  },
  {
   "cell_type": "code",
   "execution_count": null,
   "metadata": {},
   "outputs": [],
   "source": [
    "# Menampilkan statistik data\n",
    "\n",
    "df_JKA.describe()"
   ]
  },
  {
   "cell_type": "markdown",
   "metadata": {},
   "source": [
    "<hr>"
   ]
  },
  {
   "cell_type": "markdown",
   "metadata": {},
   "source": [
    "## Horizontal Boxplot"
   ]
  },
  {
   "cell_type": "markdown",
   "metadata": {},
   "source": [
    "<i>Default box plot</i> adalah berbentuk vertikal seperti contoh sebelumnya. Namun, kita juga dapat mengaturnya menjadi bentuk horizontal dengan menambahkan parameter <code>vert = False</code>. \n",
    "\n",
    "Misalnya kita akan membuat <i>box plot</i> horizontal menggunakan dataframe <code>df_JKA</code>. Perhatikan kode di bawah ini."
   ]
  },
  {
   "cell_type": "code",
   "execution_count": null,
   "metadata": {},
   "outputs": [],
   "source": [
    "# Box plot horizontal\n",
    "\n",
    "df_JKA.plot(kind='box', figsize=(12, 7), color='red', vert=False)\n",
    "\n",
    "plt.title('Box plot of Suicide Cases in Japan, South Korea, and USA from 1980 - 2015\\n', size=18)\n",
    "plt.xlabel('\\nNumber of Suicide Cases', size=14)\n",
    "plt.xticks(size=14)\n",
    "plt.yticks(size=14)\n",
    "\n",
    "plt.show()"
   ]
  },
  {
   "cell_type": "markdown",
   "metadata": {},
   "source": [
    "<hr>"
   ]
  },
  {
   "cell_type": "markdown",
   "metadata": {},
   "source": [
    "## Membuat Subplot"
   ]
  },
  {
   "cell_type": "markdown",
   "metadata": {},
   "source": [
    "Terkadang kita mungkin ingin menampilkan beberapa plot di dalam satu <i>figure</i>. Misalnya kita ingin melakukan perbandingan dari dua plot, maka kita perlu menempatkannya bersebelahan agar lebih mudah dibandingkan.\n",
    "\n",
    "Untuk memvisualisasikan beberapa plot bersamaan, kita dapat menggunakan cara <i>explicit</i> dengan membuat <code>figure</code> dan membaginya menjadi <code>subplot</code> yang masing-masingnya mengandung sebuah plot. \n",
    "\n",
    "Secara umum, kita dapat menuliskannya sebagai berikut:<br>\n",
    "```python\n",
    "    fig = plt.figure() # membuat figure\n",
    "    ax = fig.add_subplot(nrows, ncols, plot_number) # membuat subplots\n",
    "```\n",
    " dimana\n",
    " * `nrows` adalah jumlah baris axes yang diinginkan\n",
    " * `ncols` adalah jumlah kolom axes yang diinginkan\n",
    " * `plot_number` adalah nomor plotnya, digunakan untuk mengidentifikasi subplot tertentu. `plot_number` dimulai berurutan dari angka 1 sampai angka maksimumnya adalah `nrows` * `ncols`.\n",
    "\n",
    "Sebagai contoh misalnya kita ingin membuat 2 plot (<i>box plot</i> dan <i>line plot</i>) bersebelahan yang artinya kita harus membuat <i>figure</i> yang terdiri dari 1 baris axes dan 2 kolom axes. Perhatikan kode berikut."
   ]
  },
  {
   "cell_type": "code",
   "execution_count": null,
   "metadata": {},
   "outputs": [],
   "source": [
    "# Membuat subplot\n",
    "\n",
    "fig = plt.figure() # membuat figure\n",
    "\n",
    "ax0 = fig.add_subplot(1, 2, 1) # menambahkan subplot 1 (1 baris, 2 kolom, plot pertama)\n",
    "ax1 = fig.add_subplot(1, 2, 2) # menambahkan subplot 2 (1 baris, 2 kolom, plot kedua). \n",
    "\n",
    "# Subplot 1: Box plot\n",
    "df_JKA.plot(kind='box', color='blue', vert=False, figsize=(20, 7), ax=ax0) \n",
    "ax0.set_title('Box plot of Suicide Cases in Japan, South Korea, and USA from 1980 - 2015', size=14)\n",
    "ax0.set_xlabel('Number of Suicide Cases')\n",
    "ax0.set_ylabel('Countries')\n",
    "\n",
    "# Subplot 2: Line plot\n",
    "df_JKA.plot(kind='line', figsize=(20, 7), ax=ax1) \n",
    "ax1.set_title ('Line Plot of Suicide Cases in Japan, South Korea, and USA from 1980 - 2015', size=14)\n",
    "ax1.set_ylabel('Number of Suicide Cases')\n",
    "ax1.set_xlabel('Years')\n",
    "\n",
    "plt.show()"
   ]
  },
  {
   "cell_type": "markdown",
   "metadata": {},
   "source": [
    "Jika <code>nrows</code>, <code>ncols</code>, dan <code>plot_number</code>-nya kurang dari 10, kita dapat menuliskannya tanpa dipisahkan koma. \n",
    "\n",
    "Jadi, \n",
    "\n",
    "```python\n",
    "   subplot(211) == subplot(2, 1, 1) \n",
    "```"
   ]
  },
  {
   "cell_type": "markdown",
   "metadata": {},
   "source": [
    "<hr>"
   ]
  },
  {
   "cell_type": "markdown",
   "metadata": {},
   "source": [
    "Copyright @ <a href=\"https://ilmudatapy.com/\">ilmudatapy.com</a>"
   ]
  }
 ],
 "metadata": {
  "kernelspec": {
   "display_name": "Python 3",
   "language": "python",
   "name": "python3"
  },
  "language_info": {
   "codemirror_mode": {
    "name": "ipython",
    "version": 3
   },
   "file_extension": ".py",
   "mimetype": "text/x-python",
   "name": "python",
   "nbconvert_exporter": "python",
   "pygments_lexer": "ipython3",
   "version": "3.7.3"
  }
 },
 "nbformat": 4,
 "nbformat_minor": 2
}
