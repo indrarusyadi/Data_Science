{
 "cells": [
  {
   "cell_type": "markdown",
   "metadata": {},
   "source": [
    "<img src=\"../images/ilmudatapy-logo.png\" width=\"350\" align=\"center\">\n",
    "<br>"
   ]
  },
  {
   "cell_type": "markdown",
   "metadata": {},
   "source": [
    "<center><h1>Scatter Plot</h1></center>\n",
    "<hr>"
   ]
  },
  {
   "cell_type": "markdown",
   "metadata": {},
   "source": [
    "__Halo, Learners!__ Di notebook ini, kita akan membahas __Scatter Plot__. Disini kita akan membuat <i>scatter plot</i> menggunakan dataset asli dan mengatur warna <i>data point</i> berdasarkan kategori dan nilai kontinue serta mengatur ukuran <i>data point</i>."
   ]
  },
  {
   "cell_type": "markdown",
   "metadata": {},
   "source": [
    "<h2>Table of Contents</h2>\n",
    "<div class=\"alert alert-block alert-info\" style=\"margin-top: 25px\">\n",
    "    <ul>\n",
    "        <li>\n",
    "            Load Dataset\n",
    "        </li>\n",
    "        <li>\n",
    "            Visualisasi data dengan <b>Scatter Plot</b>\n",
    "        </li>\n",
    "        <li>\n",
    "            Mengatur warna berdasarkan kategori\n",
    "            <ul>\n",
    "                <li>Menambahkan legend</li>\n",
    "            </ul>\n",
    "        </li>\n",
    "        <li>\n",
    "            Mengatur warna berdasarkan nilai kontinu\n",
    "            <ul>\n",
    "                <li>Colormap</li>\n",
    "                <li>Colorbar</li>\n",
    "            </ul>\n",
    "        </li>\n",
    "        <li>\n",
    "            Bubble Plot\n",
    "        </li>\n",
    "    </ul>\n",
    "</div>"
   ]
  },
  {
   "cell_type": "markdown",
   "metadata": {},
   "source": [
    "<hr>\n",
    "<div class=\"alert alert-success\" style=\"margin-top: 20px\">\n",
    "    <strong>Catatan:</strong> Untuk menjalankan kode program Python di Jupyter Notebook, klik pada <i>cell</i> yang ingin di-<i>run</i> lalu tekan <kbd>Shift</kbd> + <kbd>Enter</kbd>.\n",
    "</div>"
   ]
  },
  {
   "cell_type": "markdown",
   "metadata": {},
   "source": [
    "<div class=\"alert alert-danger\" style=\"margin-top: 20px\">\n",
    "    <strong>Warning!:</strong> Jika ada kode program yang <i>error</i> atau output yang dihasilkan tidak sesuai, silahkan <b>Restart & Run All</b> kernel pada bagian menu <b>Kernel</b> di menu bar Jupyter Notebook, atau <b>Restart & Clear Output</b> kernel kemudian jalankan satu per satu <i>cell</i> secara berurutan dari atas ke bawah.\n",
    "</div>\n",
    "<hr>"
   ]
  },
  {
   "cell_type": "markdown",
   "metadata": {},
   "source": [
    "## Load dataset"
   ]
  },
  {
   "cell_type": "markdown",
   "metadata": {},
   "source": [
    "Dataset yang digunakan adalah dataset <a href='https://www.kaggle.com/grubenm/austin-weather'>Austin Weather</a> yang terdiri dari 43776 baris dan 6 kolom.\n",
    "\n",
    "__Feature Information:__\n",
    "\n",
    "* __Date__ (YYYY-MM-DD)\n",
    "* __TempHighF__ (High temperature, in Fahrenheit)\n",
    "* __TempAvgF__ (Average temperature, in Fahrenheit)\n",
    "* __TempLowF__ (Low temperature, in Fahrenheit)\n",
    "* __DewPointHighF__ (High dew point, in Fahrenheit)\n",
    "* __DewPointAvgF__ (Average dew point, in Fahrenheit)\n",
    "* __DewPointLowF__ (Low dew point, in Fahrenheit)\n",
    "* __HumidityHighPercent__ (High humidity, as a percentage)\n",
    "* __HumidityAvgPercent__ (Average humidity, as a percentage)\n",
    "* __HumidityLowPercent__ (Low humidity, as a percentage)\n",
    "* __SeaLevelPressureHighInches__ (High sea level pressure, in inches)\n",
    "* __SeaLevelPressureAvgInches__ (Average sea level pressure, in inches)\n",
    "* __SeaLevelPressureLowInches__ (Low sea level pressure, in inches)\n",
    "* __VisibilityHighMiles__ (High visibility, in miles)\n",
    "* __VisibilityAvgMiles__ (Average visibility, in miles)\n",
    "* __VisibilityLowMiles__ (Low visibility, in miles)\n",
    "* __WindHighMPH__ (High wind speed, in miles per hour)\n",
    "* __WindAvgMPH__ (Average wind speed, in miles per hour)\n",
    "* __WindGustMPH__ (Highest wind speed gust, in miles per hour)\n",
    "* __PrecipitationSumInches__ (Total precipitation, in inches) ('T' if Trace)\n",
    "* __Events__ (Adverse weather events. ' ' if None) "
   ]
  },
  {
   "cell_type": "markdown",
   "metadata": {},
   "source": [
    "Pertama kita <i>import</i> dahulu <i>library</i> yang akan digunakan. Dalam praktek ini, kita akan menggunakan Pandas dan Matplotlib."
   ]
  },
  {
   "cell_type": "code",
   "execution_count": null,
   "metadata": {},
   "outputs": [],
   "source": [
    "import pandas as pd\n",
    "import numpy as np\n",
    "import matplotlib.pyplot as plt\n",
    "\n",
    "%matplotlib inline"
   ]
  },
  {
   "cell_type": "markdown",
   "metadata": {},
   "source": [
    "Kemudian kita <i>load</i> dataset menggunakan <code>read_csv()</code> dan menyimpannya dalam variabel <code>df</code>."
   ]
  },
  {
   "cell_type": "code",
   "execution_count": null,
   "metadata": {},
   "outputs": [],
   "source": [
    "df = pd.read_csv('../datasets/austin_weather.csv')\n",
    "df.head(10)"
   ]
  },
  {
   "cell_type": "markdown",
   "metadata": {},
   "source": [
    "Sekarang mari kita lihat info dari dataset tersebut."
   ]
  },
  {
   "cell_type": "code",
   "execution_count": null,
   "metadata": {},
   "outputs": [],
   "source": [
    "# Cek info dataset\n",
    "\n",
    "df.info()"
   ]
  },
  {
   "cell_type": "markdown",
   "metadata": {},
   "source": [
    "Dilihat dari output di atas, tipe data dari sebagian kolom banyak yang belum sesuai. Hampir semua kolom (kecuali <code>Events</code>) bertipe numerik, namun pada dataset tersebut masih bertipe 'object' yang berarti dianggap string. Jika kita cek dataframenya ada beberapa data yang memiliki <i>missing values</i> yang berupa simbol <code>-</code>. Ini yang menyebabkan tipenya terdeteksi sebagai 'object'.\n",
    "\n",
    "Sekarang mari kita cek apakah ada <i>missing values</i> yang berupa <code>-</code> ?"
   ]
  },
  {
   "cell_type": "code",
   "execution_count": null,
   "metadata": {},
   "outputs": [],
   "source": [
    "# Mengecek keberadaan '-' di dataframe\n",
    "\n",
    "df.isin(['-']).any()"
   ]
  },
  {
   "cell_type": "markdown",
   "metadata": {},
   "source": [
    "Ternyata sebagian besar kolom dalam dataframe mengandung <code>-</code>. Sebelum lanjut ke visualisasi data, kita harus menangani <i>missing values</i> tersebut terlebih dahulu.\n",
    "\n",
    "Pertama, kita harus <i>replace</i> simbol <code>-</code> dengan <code>NaN</code>, kemudian mengisi <code>NaN</code> dengan nilai yang sama dengan <i>cell</i> sebelumnya (di atasnya) menggunakan <i>method</i> <code>ffill</code>."
   ]
  },
  {
   "cell_type": "code",
   "execution_count": null,
   "metadata": {},
   "outputs": [],
   "source": [
    "# Replace dan fill missing values\n",
    "\n",
    "df = df.replace('-', np.NaN).fillna(method='ffill')"
   ]
  },
  {
   "cell_type": "markdown",
   "metadata": {},
   "source": [
    "Setelah itu kita ubah tipe datanya.\n",
    "\n",
    "Dalam praktek visualisasi data kali ini, saya nantinya hanya akan menggunakan empat kolom tertentu yaitu <code>TempAvgF</code>, <code>DewPointAvgF</code>, <code>HumidityAvgPercent</code>, dan <code>WindAvgMPH</code> sehingga kita akan mengubah tipe data dari kolom-kolom tersebut saja.\n",
    "\n",
    "Tipe data <code>TempAvgF</code> sudah sesuai, karena itu kita tidak perlu mengubahnya. Sementara itu untuk tiga kolom lainnya, kita akan mengubahnya menjadi bertipe float."
   ]
  },
  {
   "cell_type": "code",
   "execution_count": null,
   "metadata": {},
   "outputs": [],
   "source": [
    "# Mengubah tipe data\n",
    "\n",
    "df['DewPointAvgF'] = df['DewPointAvgF'].astype('float')\n",
    "df['HumidityAvgPercent'] = df['HumidityAvgPercent'].astype('float')\n",
    "df['WindAvgMPH'] = df['WindAvgMPH'].astype('float')"
   ]
  },
  {
   "cell_type": "markdown",
   "metadata": {},
   "source": [
    "Sekarang data yang diperlukan sudah siap divisualisasi. "
   ]
  },
  {
   "cell_type": "markdown",
   "metadata": {},
   "source": [
    "<hr>"
   ]
  },
  {
   "cell_type": "markdown",
   "metadata": {},
   "source": [
    "## Visualisasi data dengan Scatter Plot"
   ]
  },
  {
   "cell_type": "markdown",
   "metadata": {},
   "source": [
    "__Scatter plot__ adalah jenis visualisasi data untuk menunjukkan hubungan antara dua variabel. Dengan <i>scatter plot</i>, Anda dapat melihat distribusi data dan bagaimana <i>trend</i>-nya. Kita dapat membuat <i>scatter plot</i> dengan cara <i>explicit</i> dan <i>implicit</i>. \n",
    "\n",
    "Misalnya disini kita ingin membuat <i>scatter plot</i> untuk melihat hubungan antara variabel <code>HumidityAvgPercent</code> dan <code>TempAvgF</code>. "
   ]
  },
  {
   "cell_type": "code",
   "execution_count": null,
   "metadata": {},
   "outputs": [],
   "source": [
    "# Membuat scatter plot dengan cara implicit\n",
    "\n",
    "plt.scatter(df['HumidityAvgPercent'], df['TempAvgF'])\n",
    "plt.show()"
   ]
  },
  {
   "cell_type": "markdown",
   "metadata": {},
   "source": [
    "Selain cara <i>implicit</i> yang terbilang mudah seperti di atas, kita juga dapat menggunakan cara <i>explicit</i> seperti di bawah ini."
   ]
  },
  {
   "cell_type": "code",
   "execution_count": null,
   "metadata": {},
   "outputs": [],
   "source": [
    "# Membuat scatter plot dengan cara explicit\n",
    "\n",
    "fig, ax = plt.subplots()\n",
    "ax.scatter(df['HumidityAvgPercent'], df['TempAvgF'])\n",
    "\n",
    "plt.show()"
   ]
  },
  {
   "cell_type": "markdown",
   "metadata": {},
   "source": [
    "Kita dapat mengatur ukuran <i>figure</i>, label, serta menambahkan judul."
   ]
  },
  {
   "cell_type": "code",
   "execution_count": null,
   "metadata": {},
   "outputs": [],
   "source": [
    "# Mengatur figsize, label, dan judul\n",
    "\n",
    "fig, ax = plt.subplots(figsize=(12,8))\n",
    "ax.scatter(df['HumidityAvgPercent'], df['TempAvgF'])\n",
    "\n",
    "ax.set_title('Austin Weather', size=18)\n",
    "ax.set_xlabel('Humidity Avg %', size=14)\n",
    "ax.set_ylabel('Temp Avg (F)', size=14)\n",
    "\n",
    "plt.show()"
   ]
  },
  {
   "cell_type": "markdown",
   "metadata": {},
   "source": [
    "<hr>"
   ]
  },
  {
   "cell_type": "markdown",
   "metadata": {},
   "source": [
    "## Mengatur warna berdasarkan kategori"
   ]
  },
  {
   "cell_type": "markdown",
   "metadata": {},
   "source": [
    "kita dapat menggunakan <i>scatter plot</i> untuk melihat hubungan dari beberapa kelompok data dengan memberikan warna yang berbeda untuk membedakan tiap kelompok data. \n",
    "\n",
    "Misalnya kita ingin melihat hubungan antara variabel <code>HumidityAvgPercent</code>, <code>TempAvgF</code>, dan <code>Events</code>. Kita dapat meletakkan <code>HumidityAvgPercent</code> di sumbu X, <code>TempAvgF</code> di sumbu Y, dan <code>Events</code> sebagai warnanya.\n",
    "\n",
    "Sebelumnya, kita cek terlebih dahulu nilai unik dari kolom <code>Events</code>."
   ]
  },
  {
   "cell_type": "code",
   "execution_count": null,
   "metadata": {},
   "outputs": [],
   "source": [
    "# Menampilkan nilai unik dari kolom Events\n",
    "\n",
    "df['Events'].unique()"
   ]
  },
  {
   "cell_type": "markdown",
   "metadata": {},
   "source": [
    "Ada 9 kategori di kolom <code>Events</code> dimana salah satunya adalah berupa string kosong. Agar lebih dapat dipahami, mari kita ganti terlebih dahulu string kosong tersebut menjadi __None__ sesuai penjelasan dataset di awal."
   ]
  },
  {
   "cell_type": "code",
   "execution_count": null,
   "metadata": {},
   "outputs": [],
   "source": [
    "# Replace string kosong dengan None\n",
    "\n",
    "df['Events'] = df['Events'].replace(' ', 'None')\n",
    "df['Events'].unique()"
   ]
  },
  {
   "cell_type": "markdown",
   "metadata": {},
   "source": [
    "Setelah itu kita harus menentukan warna yang akan merepresentasikan setiap kategori tersebut dengan mendefinisikannya di dalam sebuah <i>dictionary</i>. Misalnya disini kita akan membuat <i>dictionary</i> dengan nama variabel <code>colors</code>."
   ]
  },
  {
   "cell_type": "code",
   "execution_count": null,
   "metadata": {},
   "outputs": [],
   "source": [
    "# Menentukan warna untuk setiap kategori\n",
    "\n",
    "colors = {'Rain , Thunderstorm':'red', \n",
    "          'None':'magenta', \n",
    "          'Rain':'yellow',\n",
    "          'Fog':'blue', \n",
    "          'Rain , Snow':'purple', \n",
    "          'Fog , Rain':'orange',\n",
    "          'Thunderstorm':'navy', \n",
    "          'Fog , Rain , Thunderstorm':'green', \n",
    "          'Fog , Thunderstorm':'lime'}"
   ]
  },
  {
   "cell_type": "markdown",
   "metadata": {},
   "source": [
    "Sekarang kita dapat membuat <i>scatter plot</i> dan menambahkan parameter <code>c</code> dengan diberikan nilai berupa <code>df['Event'].map(colors)</code> untuk <i>mapping</i> warna berdasarkan kategori."
   ]
  },
  {
   "cell_type": "code",
   "execution_count": null,
   "metadata": {},
   "outputs": [],
   "source": [
    "# Mengatur warna scatter plot berdasarkan kategori\n",
    "\n",
    "fig, ax = plt.subplots(figsize=(14,9))\n",
    "x = ax.scatter(df['HumidityAvgPercent'], df['TempAvgF'], c=df['Events'].map(colors))\n",
    "\n",
    "ax.set_title('Austin Weather', size=18)\n",
    "ax.set_xlabel('Humidity Avg %', size=14)\n",
    "ax.set_ylabel('Temp Avg (F)', size=14)\n",
    "\n",
    "plt.show()"
   ]
  },
  {
   "cell_type": "markdown",
   "metadata": {},
   "source": [
    "### Menambahkan Legend"
   ]
  },
  {
   "cell_type": "markdown",
   "metadata": {},
   "source": [
    "Untuk menambahkan legend dengan Matplotlib, kita dapat memodifikasi kode menjadi seperti di bawah ini."
   ]
  },
  {
   "cell_type": "code",
   "execution_count": null,
   "metadata": {},
   "outputs": [],
   "source": [
    "# Mengatur warna berdasarkan kategori dan menambahkan legend\n",
    "\n",
    "fig, ax = plt.subplots(figsize=(14,9))\n",
    "\n",
    "group = df.groupby('Events')     # Mengelompokkan berdasarkan kolom Events\n",
    "\n",
    "for name, category in group:\n",
    "    category.plot(ax=ax, kind='scatter', x='HumidityAvgPercent', y='TempAvgF',  c=colors[name], label=name)\n",
    "\n",
    "ax.set_title('Austin Weather', size=18)\n",
    "ax.set_xlabel('Humidity Avg %', size=14)\n",
    "ax.set_ylabel('Temp Avg (F)', size=14)\n",
    "\n",
    "plt.legend(fontsize=12)    # Mengatur ukuran legend\n",
    "plt.show()"
   ]
  },
  {
   "cell_type": "markdown",
   "metadata": {},
   "source": [
    "<hr>"
   ]
  },
  {
   "cell_type": "markdown",
   "metadata": {},
   "source": [
    "## Mengatur warna berdasarkan nilai kontinu"
   ]
  },
  {
   "cell_type": "markdown",
   "metadata": {},
   "source": [
    "Selain berdasarkan kategori, kita juga dapat mengatur warna berdasarkan kolom yang berisi nilai kontinue. Misalnya disini kita akan membuat <i>scatter plot</i> dan mengatur kolom <code>DewPointAvgF</code> sebagai warnanya."
   ]
  },
  {
   "cell_type": "markdown",
   "metadata": {},
   "source": [
    "### Colormap"
   ]
  },
  {
   "cell_type": "markdown",
   "metadata": {},
   "source": [
    "Untuk memberikan warna pada <i>scatter plot</i> berdasarkan kolom yang bernilai kontinue, kita dapat menggunakan <i>Colormap</i> di Matplotlib dengan menambahkan variabel <code>cmap</code>. Ada banyak jenis <i>colormap</i> yang dapat Anda lihat di website <a href='https://matplotlib.org/3.1.0/tutorials/colors/colormaps.html'>Matplotlib Colormap</a>. \n",
    "\n",
    "Misalnya kita ingin menggunakan <i>color map</i> jenis <code>viridis</code>."
   ]
  },
  {
   "cell_type": "code",
   "execution_count": null,
   "metadata": {},
   "outputs": [],
   "source": [
    "# Mengatur warna scatter plot dengan color map\n",
    "\n",
    "fig, ax = plt.subplots(figsize=(12,8))\n",
    "ax.scatter(df['HumidityAvgPercent'], df['TempAvgF'], c=df['DewPointAvgF'], cmap='viridis')\n",
    "\n",
    "ax.set_title('Austin Weather', size=18)\n",
    "ax.set_xlabel('Humidity Avg %', size=14)\n",
    "ax.set_ylabel('Temp Avg (F)', size=14)\n",
    "\n",
    "plt.show()"
   ]
  },
  {
   "cell_type": "markdown",
   "metadata": {},
   "source": [
    "### Colorbar"
   ]
  },
  {
   "cell_type": "markdown",
   "metadata": {},
   "source": [
    "Untuk melihat rentang nilai dari kolom yang di-<i>set</i> sebagai warna, kita dapat menggunakan <i>colorbar</i>. Anda cukup menambahkan <i>method</i> <code>colorbar</code> pada <i>figure</i>."
   ]
  },
  {
   "cell_type": "code",
   "execution_count": null,
   "metadata": {},
   "outputs": [],
   "source": [
    "# Menambahkan colorbar\n",
    "\n",
    "fig, ax = plt.subplots(figsize=(14,8))\n",
    "x = ax.scatter(df['HumidityAvgPercent'], df['TempAvgF'], c=df['DewPointAvgF'], cmap='cool')\n",
    "\n",
    "ax.set_title('Austin Weather', size=18)\n",
    "ax.set_xlabel('Humidity Avg %', size=14)\n",
    "ax.set_ylabel('Temp Avg (F)', size=14)\n",
    "\n",
    "# Menambakan color bar\n",
    "fig.colorbar(x)\n",
    "\n",
    "plt.show()"
   ]
  },
  {
   "cell_type": "markdown",
   "metadata": {},
   "source": [
    "<hr>"
   ]
  },
  {
   "cell_type": "markdown",
   "metadata": {},
   "source": [
    "## Bubble Plot"
   ]
  },
  {
   "cell_type": "markdown",
   "metadata": {},
   "source": [
    "__Bubble plot__ adalah salah satu variasi dari <i>scatter plot</i> yang menampilkan data tiga dimensi (x, y, z). <i>Data point</i> pada <i>scatter plot</i> digantikan oleh <i>bubble</i>, dimana ukuran dari <i>bubble</i> ditentukan oleh variabel ke tiga yaitu __'z'__ yang disebut juga sebagai bobotnya. Di Matplotlib, Anda dapat menambahkan parameter <code>s</code> yang berarti <i>scalar</i> pada <code>plot()</code> atau <code>scatter()</code>. Perhatikan contoh penggunaannya di bawah ini.\n",
    "\n",
    "Misalnya disini kita memberikan nilai pada parameter <code>s</code> dengan nilai dari kolom <code>WindAvgMPH</code> yang dikalikan 50."
   ]
  },
  {
   "cell_type": "code",
   "execution_count": null,
   "metadata": {},
   "outputs": [],
   "source": [
    "# Membuat bubble plot\n",
    "\n",
    "fig, ax = plt.subplots(figsize=(16,8))\n",
    "x = ax.scatter(df['HumidityAvgPercent'], df['TempAvgF'], c=df['DewPointAvgF'], cmap='Paired', s=df['WindAvgMPH']*50)\n",
    "\n",
    "ax.set_title('Austin Weather', size=18)\n",
    "ax.set_xlabel('Humidity Avg %', size=14)\n",
    "ax.set_ylabel('Temp Avg (F)', size=14)\n",
    "\n",
    "fig.colorbar(x)\n",
    "plt.show()"
   ]
  },
  {
   "cell_type": "markdown",
   "metadata": {},
   "source": [
    "Kita juga dapat mengatur transparansi <i>bubble</i> dengan menambahkan parameter <code>alpha</code>. Lihat contoh di bawah ini."
   ]
  },
  {
   "cell_type": "code",
   "execution_count": null,
   "metadata": {},
   "outputs": [],
   "source": [
    "# Membuat bubble plot dengan mengatur transparansi\n",
    "\n",
    "fig, ax = plt.subplots(figsize=(16,8))\n",
    "x = ax.scatter(df['HumidityAvgPercent'], df['TempAvgF'], c=df['DewPointAvgF'], cmap='Paired', s=df['WindAvgMPH']*50, alpha=0.6)\n",
    "\n",
    "ax.set_title('Austin Weather', size=18)\n",
    "ax.set_xlabel('Humidity Avg %', size=14)\n",
    "ax.set_ylabel('Temp Avg (F)', size=14)\n",
    "\n",
    "fig.colorbar(x)\n",
    "plt.show()"
   ]
  },
  {
   "cell_type": "markdown",
   "metadata": {},
   "source": [
    "<hr>"
   ]
  },
  {
   "cell_type": "markdown",
   "metadata": {},
   "source": [
    "Copyright @ <a href=\"https://ilmudatapy.com/\">ilmudatapy.com</a>"
   ]
  }
 ],
 "metadata": {
  "kernelspec": {
   "display_name": "Python 3",
   "language": "python",
   "name": "python3"
  },
  "language_info": {
   "codemirror_mode": {
    "name": "ipython",
    "version": 3
   },
   "file_extension": ".py",
   "mimetype": "text/x-python",
   "name": "python",
   "nbconvert_exporter": "python",
   "pygments_lexer": "ipython3",
   "version": "3.7.3"
  }
 },
 "nbformat": 4,
 "nbformat_minor": 2
}
