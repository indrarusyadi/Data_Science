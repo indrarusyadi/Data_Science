{
 "cells": [
  {
   "cell_type": "markdown",
   "metadata": {},
   "source": [
    "<img src=\"../images/ilmudatapy-logo.png\" width=\"350\" align=\"center\">\n",
    "<br>"
   ]
  },
  {
   "cell_type": "markdown",
   "metadata": {},
   "source": [
    "<center><h1>Bar Plot</h1></center>\n",
    "<hr>"
   ]
  },
  {
   "cell_type": "markdown",
   "metadata": {},
   "source": [
    "__Halo, Learners!__ Di notebook ini, kita akan membahas __Bar Plot__. Disini kita akan membuat <i>bar plot</i> menggunakan dataset asli, termasuk di antaranya membuat <i>horizontal bar chart</i>, <i>grouped bar chart</i>, dan <i>stacked bar chart</i>. Kita juga akan belajar cara menambahkan label di ujung bar, mengatur warna, serta menambahkan <i>error bar</i>."
   ]
  },
  {
   "cell_type": "markdown",
   "metadata": {},
   "source": [
    "<h2>Table of Contents</h2>\n",
    "<div class=\"alert alert-block alert-info\" style=\"margin-top: 25px\">\n",
    "    <ul>\n",
    "        <li>\n",
    "            Load Dataset\n",
    "        </li>\n",
    "        <li>\n",
    "            Visualisasi data dengan <b>Bar Plot</b>\n",
    "            <ul>\n",
    "                <li>Mengatur warna</li>\n",
    "                <li>Mengatur width</li>\n",
    "                <li>Menambahkan label di ujung bar</li>\n",
    "                <li>Error bars</li>\n",
    "            </ul>\n",
    "        </li>\n",
    "        <li>\n",
    "            Horizontal bar chart\n",
    "        </li>\n",
    "        <li>\n",
    "            Grouped bar chart\n",
    "        </li>\n",
    "        <li>\n",
    "            Stacked bar chart\n",
    "        </li>\n",
    "    </ul>\n",
    "</div>"
   ]
  },
  {
   "cell_type": "markdown",
   "metadata": {},
   "source": [
    "<hr>\n",
    "<div class=\"alert alert-success\" style=\"margin-top: 20px\">\n",
    "    <strong>Catatan:</strong> Untuk menjalankan kode program Python di Jupyter Notebook, klik pada <i>cell</i> yang ingin di-<i>run</i> lalu tekan <kbd>Shift</kbd> + <kbd>Enter</kbd>.\n",
    "</div>"
   ]
  },
  {
   "cell_type": "markdown",
   "metadata": {},
   "source": [
    "<div class=\"alert alert-danger\" style=\"margin-top: 20px\">\n",
    "    <strong>Warning!:</strong> Jika ada kode program yang <i>error</i> atau output yang dihasilkan tidak sesuai, silahkan <b>Restart & Run All</b> kernel pada bagian menu <b>Kernel</b> di menu bar Jupyter Notebook, atau <b>Restart & Clear Output</b> kernel kemudian jalankan satu per satu <i>cell</i> secara berurutan dari atas ke bawah.\n",
    "</div>\n",
    "<hr>"
   ]
  },
  {
   "cell_type": "markdown",
   "metadata": {},
   "source": [
    "## Load dataset"
   ]
  },
  {
   "cell_type": "markdown",
   "metadata": {},
   "source": [
    "Dataset yang digunakan adalah dataset <a href='https://archive.ics.uci.edu/ml/datasets/automobile'>Automobile</a> yang berasal dari UCI Machine Learning Repository dengan informasi detail tentang tiap kolom (terurut dari awal sampai akhir) sebagai berikut:\n",
    "\n",
    "__Attribute Information:__\n",
    "\n",
    "1. __symboling:__ -3, -2, -1, 0, 1, 2, 3.\n",
    "2. __normalized-losses:__ continuous from 65 to 256.\n",
    "3. __make:__\n",
    "alfa-romero, audi, bmw, chevrolet, dodge, honda,\n",
    "isuzu, jaguar, mazda, mercedes-benz, mercury,\n",
    "mitsubishi, nissan, peugot, plymouth, porsche,\n",
    "renault, saab, subaru, toyota, volkswagen, volvo\n",
    "\n",
    "4. __fuel-type:__ diesel, gas.\n",
    "5. __aspiration:__ std, turbo.\n",
    "6. __num-of-doors:__ four, two.\n",
    "7. __body-style:__ hardtop, wagon, sedan, hatchback, convertible.\n",
    "8. __drive-wheels:__ 4wd, fwd, rwd.\n",
    "9. __engine-location:__ front, rear.\n",
    "10. __wheel-base:__ continuous from 86.6 120.9.\n",
    "11. __length:__ continuous from 141.1 to 208.1.\n",
    "12. __width:__ continuous from 60.3 to 72.3.\n",
    "13. __height:__ continuous from 47.8 to 59.8.\n",
    "14. __curb-weight:__ continuous from 1488 to 4066.\n",
    "15. __engine-type:__ dohc, dohcv, l, ohc, ohcf, ohcv, rotor.\n",
    "16. __num-of-cylinders:__ eight, five, four, six, three, twelve, two.\n",
    "17. __engine-size:__ continuous from 61 to 326.\n",
    "18. __fuel-system:__ 1bbl, 2bbl, 4bbl, idi, mfi, mpfi, spdi, spfi.\n",
    "19. __bore:__ continuous from 2.54 to 3.94.\n",
    "20. __stroke:__ continuous from 2.07 to 4.17.\n",
    "21. __compression-ratio:__ continuous from 7 to 23.\n",
    "22. __horsepower:__ continuous from 48 to 288.\n",
    "23. __peak-rpm:__ continuous from 4150 to 6600.\n",
    "24. __city-mpg:__ continuous from 13 to 49.\n",
    "25. __highway-mpg:__ continuous from 16 to 54.\n",
    "26. __price:__ continuous from 5118 to 45400."
   ]
  },
  {
   "cell_type": "markdown",
   "metadata": {},
   "source": [
    "Pertama kita <i>import</i> dahulu <i>library</i> yang akan digunakan. Dalam praktek ini, kita akan menggunakan Pandas, Numpy, dan Matplotlib."
   ]
  },
  {
   "cell_type": "code",
   "execution_count": null,
   "metadata": {},
   "outputs": [],
   "source": [
    "import pandas as pd\n",
    "import numpy as np\n",
    "import matplotlib.pyplot as plt\n",
    "plt.style.use('ggplot')\n",
    "\n",
    "%matplotlib inline"
   ]
  },
  {
   "cell_type": "markdown",
   "metadata": {},
   "source": [
    "Selanjutnnya kita <i>load</i> dataset dengan <code>read_csv()</code> dan menyimpannya di dalam variabel <code>df</code>. Dataset ini belum memiliki nama kolom yang jelas, sehingga kita buat nama kolom yang mewakili data dari masing-masing kolom."
   ]
  },
  {
   "cell_type": "code",
   "execution_count": null,
   "metadata": {},
   "outputs": [],
   "source": [
    "# list nama kolom\n",
    "column_names = ['symboling', 'normalized-losses', 'make', 'fuel-type', 'aspiration', 'num-of-doors', 'body-style', \n",
    "              'drive-wheels', 'engine-location', 'wheel-base', 'length', 'width', 'height', 'curb-weight', 'engine-type',\n",
    "              'num-of-cylinders', 'engine-size', 'fuel-system', 'bore', 'stroke', 'compression-ratio', 'horsepower',\n",
    "              'peak-rpm', 'city-mpg', 'highway-mpg', 'price']\n",
    "\n",
    "# read dataset\n",
    "df = pd.read_csv('../datasets/automobile.data', names=column_names)\n",
    "\n",
    "df.head()"
   ]
  },
  {
   "cell_type": "markdown",
   "metadata": {},
   "source": [
    "Seperti yang kita lihat dari contoh dataframe <code>df</code>, ada beberapa <i>cell</i> yang mengandung <i>missing values</i> berupa simbol tanda tanya <code>?</code>. Oleh karena itu, kita harus menangani dulu <i>missing values</i> ini.\n",
    "\n",
    "Pertama, kita harus mengubah dulu tanda <code>?</code> menjadi __NaN__."
   ]
  },
  {
   "cell_type": "code",
   "execution_count": null,
   "metadata": {},
   "outputs": [],
   "source": [
    "# replace missing values '?' dengan NaN\n",
    "\n",
    "df = df.replace('?', np.nan)\n",
    "df.head()"
   ]
  },
  {
   "cell_type": "markdown",
   "metadata": {},
   "source": [
    "Kemudian kita hapus data yang menganding NaN pada kolom <code>price</code> menggunakan <code>dropna()</code>. Sementara itu, untuk kolom lainnya, kita ganti nilai NaN dengan nilai tertentu seperti di bawah ini. Penjelasan tentang <i>missing values</i> yang lebih detail dapat Anda pelajari di modul <i>data preparation</i>, notebook <i>missing values</i>."
   ]
  },
  {
   "cell_type": "code",
   "execution_count": null,
   "metadata": {},
   "outputs": [],
   "source": [
    "# Menghapus baris yang mengandung mising values di kolom price\n",
    "df.dropna(subset=['price'], axis=0, inplace=True)\n",
    "\n",
    "# Me-reset indeks karena ada data yang terhapus\n",
    "df.reset_index(drop=True, inplace=True)\n",
    "\n",
    "# Mengganti missing values dengan 'four' untuk kolom num-of-doors\n",
    "df['num-of-doors'].fillna('four', inplace=True)\n",
    "\n",
    "# Mengganti missing values dengan mean-nya untuk kolom lainnya\n",
    "avg_norm = df['normalized-losses'].astype('float').mean(axis=0)\n",
    "df['normalized-losses'].replace(np.nan, avg_norm, inplace=True)\n",
    "\n",
    "avg_stroke = df['stroke'].astype('float').mean(axis=0)\n",
    "df['stroke'].replace(np.nan, avg_stroke, inplace=True)\n",
    "\n",
    "avg_bore = df['bore'].astype('float').mean(axis=0)\n",
    "df['bore'].replace(np.nan, avg_bore, inplace=True)\n",
    "\n",
    "avg_horse = df['horsepower'].astype('float').mean(axis=0)\n",
    "df['horsepower'].replace(np.nan, avg_horse, inplace=True)\n",
    "\n",
    "avg_peak = df['peak-rpm'].astype('float').mean(axis=0)\n",
    "df['peak-rpm'].replace(np.nan, avg_norm, inplace=True)\n",
    "\n",
    "df.head()"
   ]
  },
  {
   "cell_type": "markdown",
   "metadata": {},
   "source": [
    "Selanjutnya kita ganti tipe datanya."
   ]
  },
  {
   "cell_type": "code",
   "execution_count": null,
   "metadata": {},
   "outputs": [],
   "source": [
    "# Konversi tipe data\n",
    "\n",
    "df[['bore', 'stroke', 'peak-rpm']] = df[['bore', 'stroke', 'peak-rpm']].astype('float')\n",
    "df[['normalized-losses', 'horsepower']] = df[['normalized-losses', 'horsepower']].astype('int')\n",
    "df[['price']] = df[['price']].astype('float')"
   ]
  },
  {
   "cell_type": "markdown",
   "metadata": {},
   "source": [
    "Sekarang kita cek info dataframe <code>df</code> setelah penanganan <i>missing values</i>."
   ]
  },
  {
   "cell_type": "code",
   "execution_count": null,
   "metadata": {},
   "outputs": [],
   "source": [
    "# Mengecek info dataframe\n",
    "\n",
    "df.info()"
   ]
  },
  {
   "cell_type": "markdown",
   "metadata": {},
   "source": [
    "<hr>"
   ]
  },
  {
   "cell_type": "markdown",
   "metadata": {},
   "source": [
    "## Visualisasi data dengan Bar Plot"
   ]
  },
  {
   "cell_type": "markdown",
   "metadata": {},
   "source": [
    "Dalam praktek kali ini, kita akan menggunakan kolom <code>make</code> untuk melihat total jumlah mobil dari masing-masing merek yang ada dalam dataframe tersebut.\n",
    "\n",
    "Untuk memperoleh jumlah mobil atau data dari masing-masing merek, kita dapat menggunakan <i>method</i> <code>size()</code> dengan mengelompokkannya berdasarkan kolom <code>make</code>. Setelah itu, kita masukkan data tersebut menjadi sebuah dataframe baru, misalnya disini kita beri nama variabel dataframe baru dengan <code>df_tot</code>."
   ]
  },
  {
   "cell_type": "code",
   "execution_count": null,
   "metadata": {},
   "outputs": [],
   "source": [
    "# Membuat dataframe total data untuk masing-masing merek mobil\n",
    "\n",
    "group_make = df.groupby('make').size()\n",
    "df_tot = pd.DataFrame(group_make).reset_index()\n",
    "df_tot = df_tot.rename(columns={0: 'total'})\n",
    "df_tot"
   ]
  },
  {
   "cell_type": "markdown",
   "metadata": {},
   "source": [
    "Setelah dataframe siap, kita dapat memvisualisasikannya dengan <i>bar plot</i> seperti di bawah ini."
   ]
  },
  {
   "cell_type": "code",
   "execution_count": null,
   "metadata": {},
   "outputs": [],
   "source": [
    "# Visualisasi dengan bar plot\n",
    "\n",
    "plt.figure(figsize=(16,8))\n",
    "plt.bar(df_tot['make'], df_tot['total'])\n",
    "\n",
    "plt.title('Total for Each Make', size=18)\n",
    "plt.xlabel('\\nMake', size=14)\n",
    "plt.ylabel('Total\\n', size=14)\n",
    "plt.xticks(size=14, rotation=90)\n",
    "plt.yticks(size=14)\n",
    "plt.show()"
   ]
  },
  {
   "cell_type": "markdown",
   "metadata": {},
   "source": [
    "Kita dapat menggunakan <i>method</i> <code>bar()</code> dari Matplotlib yang diberi argumen berupa data yang akan dimasukkan ke sumbu x dan sumbu y. Dalam hal ini, kita menetapkan <code>df_tot['make']</code> sebagai sumbu x, dan <code>df_tot['total']</code> sebagai sumbu y."
   ]
  },
  {
   "cell_type": "markdown",
   "metadata": {},
   "source": [
    "### Mengatur warna"
   ]
  },
  {
   "cell_type": "markdown",
   "metadata": {},
   "source": [
    "Untuk mengatur warna <i>bar</i>, kita dapat menambahkan parameter <code>color</code> dan memberikan nama warna yang diinginkan."
   ]
  },
  {
   "cell_type": "code",
   "execution_count": null,
   "metadata": {},
   "outputs": [],
   "source": [
    "# Mengatur warna bar\n",
    "\n",
    "plt.figure(figsize=(16,8))\n",
    "plt.bar(df_tot['make'], df_tot['total'], color='green')\n",
    "\n",
    "plt.title('Total for Each Make', size=18)\n",
    "plt.xlabel('\\nMake', size=14)\n",
    "plt.ylabel('Total\\n', size=14)\n",
    "plt.xticks(size=14, rotation=90)\n",
    "plt.yticks(size=14)\n",
    "plt.show()"
   ]
  },
  {
   "cell_type": "markdown",
   "metadata": {},
   "source": [
    "Selain dengan memberikan nama warnanya, kita juga dapat menggunakan kode warna <i>hexagonal</i> seperti di bawah ini."
   ]
  },
  {
   "cell_type": "code",
   "execution_count": null,
   "metadata": {},
   "outputs": [],
   "source": [
    "# Menggunakan kode warna hexagonal\n",
    "\n",
    "plt.figure(figsize=(16,8))\n",
    "plt.bar(df_tot['make'], df_tot['total'], color='#c60cef')\n",
    "\n",
    "plt.title('Total for Each Make', size=18)\n",
    "plt.xlabel('\\nMake', size=14)\n",
    "plt.ylabel('Total\\n', size=14)\n",
    "plt.xticks(size=14, rotation=90)\n",
    "plt.yticks(size=14)\n",
    "plt.show()"
   ]
  },
  {
   "cell_type": "markdown",
   "metadata": {},
   "source": [
    "### Mengatur width"
   ]
  },
  {
   "cell_type": "markdown",
   "metadata": {},
   "source": [
    "Lebar dari <i>bar</i> juga dapat kita atur dengan menambahkan parameter <code>width</code> yang dapat kita berikan nilai berupa bilangan float antara 0 sampai 1. Misalnya di bawah ini kita mengatur <i>width</i> sebesar __0.9__."
   ]
  },
  {
   "cell_type": "code",
   "execution_count": null,
   "metadata": {},
   "outputs": [],
   "source": [
    "# Mengatur width bar\n",
    "\n",
    "plt.figure(figsize=(16,8))\n",
    "plt.bar(df_tot['make'], df_tot['total'], width=0.9)\n",
    "\n",
    "plt.title('Total for Each Make', size=18)\n",
    "plt.xlabel('\\nMake', size=14)\n",
    "plt.ylabel('Total\\n', size=14)\n",
    "plt.xticks(size=14, rotation=90)\n",
    "plt.yticks(size=14)\n",
    "plt.show()"
   ]
  },
  {
   "cell_type": "markdown",
   "metadata": {},
   "source": [
    "Sebagai perbandingan, mari kita coba berikan nilai __0.5__ untuk <i>width</i>-nya."
   ]
  },
  {
   "cell_type": "code",
   "execution_count": null,
   "metadata": {},
   "outputs": [],
   "source": [
    "# Mengatur width bar\n",
    "\n",
    "plt.figure(figsize=(16,8))\n",
    "plt.bar(df_tot['make'], df_tot['total'], width=0.5)\n",
    "\n",
    "plt.title('Total for Each Make', size=18)\n",
    "plt.xlabel('\\nMake', size=14)\n",
    "plt.ylabel('Total\\n', size=14)\n",
    "plt.xticks(size=14, rotation=90)\n",
    "plt.yticks(size=14)\n",
    "plt.show()"
   ]
  },
  {
   "cell_type": "markdown",
   "metadata": {},
   "source": [
    "Terlihat perbedaannya, bukan?"
   ]
  },
  {
   "cell_type": "markdown",
   "metadata": {},
   "source": [
    "### Menambahkan label di ujung bar"
   ]
  },
  {
   "cell_type": "markdown",
   "metadata": {},
   "source": [
    "Kita juga menambahkan label di ujung <i>bar</i>. Untuk menambahkan label, kita perlu menggunakan cara <i>explicit</i> yaitu dengan membuat <i>figure</i> dan <i>axes</i> karena agak rumit. Perhatikan kode di bawah ini."
   ]
  },
  {
   "cell_type": "code",
   "execution_count": null,
   "metadata": {},
   "outputs": [],
   "source": [
    "fig, ax = plt.subplots(figsize=(16,8))\n",
    "\n",
    "plot_data = ax.bar(df_tot['make'], df_tot['total'], color='#c60cef', width=0.85)\n",
    "\n",
    "for rect in plot_data:\n",
    "    height = rect.get_height()\n",
    "    ax.annotate('{}'.format(height), \n",
    "                xy=(rect.get_x() + rect.get_width() / 2, height),\n",
    "                xytext=(0, 2),  \n",
    "                textcoords='offset points',\n",
    "                ha='center', \n",
    "                va='bottom',\n",
    "                fontsize=14)\n",
    "\n",
    "plt.title('Total for Each Make', size=18)\n",
    "plt.xlabel('\\nMake', size=14)\n",
    "plt.ylabel('Total\\n', size=14)\n",
    "plt.xticks(size=14, rotation=90)\n",
    "plt.yticks(size=14)\n",
    "plt.show()"
   ]
  },
  {
   "cell_type": "markdown",
   "metadata": {},
   "source": [
    "Dari kode di atas untuk menambahkan label di atas masing-masing <i>bar</i>, kita dapat menggunakan <code>annotate()</code> yang diletakkan di dalam perulangan __for__. \n",
    "\n",
    "* <code>get_height()</code> digunakan untuk mendapatkan tinggi dari <i>bar</i>.\n",
    "* <code>get_x()</code> digunakan untuk mendapatkan kooordinat kiri dari <i>bar</i>.\n",
    "* <code>get_width()</code> digunakan untuk mendapatkan lebar dari <i>bar</i>.\n",
    "\n",
    "Parameter dari <code>annotate()</code>.\n",
    "* <code>xy</code> : Titik koordinat x,y atau titik dimana kita akan menuliskan label.\n",
    "* <code>xytext</code> : Posisi penulisan label, <i>default</i>-nya adalah nilai <code>xy</code>.\n",
    "* <code>textcoords</code> : Sistem koordinat, ada dua nilai yang dapat diberikan, yaitu __offset points__ atau __offset pixels__.\n",
    "* <code>ha</code> : Horizontal Alignment\n",
    "* <code>va</code> : Vertical Alignment\n",
    "* <code>fontsize</code> : Ukuran huruf\n",
    "\n",
    "Ada beberapa parameter lagi dari <code>annotate()</code> yang tidak digunakan di praktek ini, namun mungkin akan berguna untuk penggunaan lainnya."
   ]
  },
  {
   "cell_type": "markdown",
   "metadata": {},
   "source": [
    "### Error bars"
   ]
  },
  {
   "cell_type": "markdown",
   "metadata": {},
   "source": [
    "Kita juga dapat menambahkan <i>error bars</i> di <i>bar plot</i>. Misalnya disini kita akan membuat <i>bar plot</i> nilai rata-rata <i>wheel base</i> untuk masing-masing merek mobil. Namun, kita juga ingin menambahkan <i>error bar</i> di setiap <i>bar</i>-nya yang berupa nilai standar deviasinya.\n",
    "\n",
    "Pertama kita harus membuat dataframe baru yang terdiri dari 3 kolom, yaitu merek mobil, nilai <i>mean</i> untuk tiap merek, dan nilai std juga untuk tiap merek.\n",
    "\n",
    "Sebelumnya kita harus mengelompokkan data berdasarkan kolom <code>make</code> yang menghitung nilai <code>mean</code> dan <code>std</code>-nya. Kemudian kita buat 2 dataframe, <code>df_mean</code> dan <code>df_std</code> dan <i>rename</i> nama kolomnya agar berbeda dan merepresentasikan data pada kolom tersebut."
   ]
  },
  {
   "cell_type": "code",
   "execution_count": null,
   "metadata": {},
   "outputs": [],
   "source": [
    "# Mengelompokkan data berdasarkan 'make'\n",
    "wheel_mean = df.groupby('make')['wheel-base'].mean()\n",
    "wheel_std = df.groupby('make')['wheel-base'].std()\n",
    "\n",
    "# Membuat dataframe mean dan std dari 'make'\n",
    "df_mean = pd.DataFrame(wheel_mean).reset_index()\n",
    "df_std = pd.DataFrame(wheel_std).reset_index()\n",
    "\n",
    "# Rename kolom pada dataframe\n",
    "df_mean = df_mean.rename(columns={'wheel-base': 'wheel-base-mean'})\n",
    "df_std = df_std.rename(columns={'wheel-base': 'wheel-base-std'})"
   ]
  },
  {
   "cell_type": "markdown",
   "metadata": {},
   "source": [
    "Selanjutnya setelah kita memiliki dua dataframe tersebut, kita dapat menggabungkannya menggunakan <code>merge()</code> seperti di bawah ini."
   ]
  },
  {
   "cell_type": "code",
   "execution_count": null,
   "metadata": {},
   "outputs": [],
   "source": [
    "# Menggabungkan dataframe \n",
    "\n",
    "df_join = pd.merge(df_mean, df_std, on='make')\n",
    "df_join"
   ]
  },
  {
   "cell_type": "markdown",
   "metadata": {},
   "source": [
    "Setelah kita mendapatkan dataframe yang dibutuhkan, sekarang kita dapat membuat <i>bar plot</i> dengan menambahkan <i>error bar</i>. Untuk menambahkan <i>error bar</i>, kita dapat menambahkan parameter <code>yerr</code> pada <code>bar()</code> seperti di bawah ini."
   ]
  },
  {
   "cell_type": "code",
   "execution_count": null,
   "metadata": {},
   "outputs": [],
   "source": [
    "# Membuat bar plot dengan error bar\n",
    "\n",
    "plt.figure(figsize=(16,8))\n",
    "plt.bar(df_join['make'], df_join['wheel-base-mean'], width=0.8, yerr=df_join['wheel-base-std'])\n",
    "\n",
    "plt.title('Wheel Base for Each Make', size=18)\n",
    "plt.xlabel('\\nMake', size=14)\n",
    "plt.ylabel('Wheel Base Mean\\n', size=14)\n",
    "plt.xticks(size=14, rotation=90)\n",
    "plt.yticks(size=14)\n",
    "plt.show()"
   ]
  },
  {
   "cell_type": "markdown",
   "metadata": {},
   "source": [
    "<hr>"
   ]
  },
  {
   "cell_type": "markdown",
   "metadata": {},
   "source": [
    "## Horizontal bar chart"
   ]
  },
  {
   "cell_type": "markdown",
   "metadata": {},
   "source": [
    "Kita juga dapat membuat <i>horizontal bar chart</i>. Caranya mirip seperti membuat <i>vertical bar chart</i>, hanya saja berbeda <i>function</i> yang digunakan, yaitu menggunakan <code>barh()</code>. Perhatikan kode di bawah ini."
   ]
  },
  {
   "cell_type": "code",
   "execution_count": null,
   "metadata": {},
   "outputs": [],
   "source": [
    "# Membuat horizontal bar chart\n",
    "\n",
    "plt.figure(figsize=(16,12))\n",
    "plt.barh(df_tot['make'], df_tot['total'], color='steelblue')\n",
    "\n",
    "plt.title('Total for Each Make', size=18)\n",
    "plt.xlabel('\\nMake', size=14)\n",
    "plt.ylabel('Total\\n', size=14)\n",
    "plt.xticks(size=14)\n",
    "plt.yticks(size=12)\n",
    "plt.show()"
   ]
  },
  {
   "cell_type": "markdown",
   "metadata": {},
   "source": [
    "Kita juga dapat menambahkan label pada <i>horizontal bar chart</i> dengan menggunakan <code>annotate()</code> seperti di bawah ini."
   ]
  },
  {
   "cell_type": "code",
   "execution_count": null,
   "metadata": {},
   "outputs": [],
   "source": [
    "# Membuat horizontal bar chart dengan label\n",
    "\n",
    "plt.figure(figsize=(16,12))\n",
    "plot_data = plt.barh(df_tot['make'], df_tot['total'], color='steelblue')\n",
    "\n",
    "for index, value in enumerate(df_tot['total']): \n",
    "    plt.annotate(value, xy=(value+0.1, index), fontsize=12)\n",
    "\n",
    "plt.title('Total for Each Make', size=18)\n",
    "plt.xlabel('\\nMake', size=14)\n",
    "plt.ylabel('Total\\n', size=14)\n",
    "plt.xticks(size=14)\n",
    "plt.yticks(size=12)\n",
    "plt.show()"
   ]
  },
  {
   "cell_type": "markdown",
   "metadata": {},
   "source": [
    "<hr>"
   ]
  },
  {
   "cell_type": "markdown",
   "metadata": {},
   "source": [
    "## Grouped bar chart"
   ]
  },
  {
   "cell_type": "markdown",
   "metadata": {},
   "source": [
    "Kita juga dapat membuat <i>grouped bar chart</i>. Misalnya kita ingin membuat <i>bar chart</i> dimana kita ingin menampilkan jumlah data untuk masing-masing <code>body-style</code> yang dikelompokkan juga berdasarkan <code>fuel-type</code>.\n",
    "\n",
    "Pertama kita harus membuat dataframe baru untuk menampung data yang dibutuhkan. Disini, kita mengelompokkan data berdasarkan <code>body-style</code> dan <code>fuel-type</code> dan mengkalkulasi jumlahnya menggunakan <code>size()</code>. Setelah itu, kita buat dataframe dari pengelompokkan tersebut."
   ]
  },
  {
   "cell_type": "code",
   "execution_count": null,
   "metadata": {},
   "outputs": [],
   "source": [
    "# Mengelompokkan data dan membuat dataframe\n",
    "\n",
    "body_style = df.groupby(['body-style', 'fuel-type']).size()\n",
    "df_body = pd.DataFrame(body_style).reset_index()\n",
    "df_body = df_body.rename(columns={0: 'total'})\n",
    "df_body"
   ]
  },
  {
   "cell_type": "markdown",
   "metadata": {},
   "source": [
    "Kita perlu membuat list yang berisi nilai unik dari kolom <code>body-style</code> yang akan digunakan sebagai <i>xticklabels</i> nantinya."
   ]
  },
  {
   "cell_type": "code",
   "execution_count": null,
   "metadata": {},
   "outputs": [],
   "source": [
    "# Membuat list nilai unik dari body-style\n",
    "\n",
    "body = list(df_body['body-style'].unique())\n",
    "body"
   ]
  },
  {
   "cell_type": "markdown",
   "metadata": {},
   "source": [
    "Sekarang kita <i>filter</i> dataframe <code>df_body</code> untuk data dengan <code>fuel-type =='gas'</code> dan menyimpannya sebagai dataframe <code>gas</code>."
   ]
  },
  {
   "cell_type": "code",
   "execution_count": null,
   "metadata": {},
   "outputs": [],
   "source": [
    "# Filter data dengan fuel-type == 'gas'\n",
    "\n",
    "gas = df_body[df_body['fuel-type']=='gas'].sort_values(by='body-style').reset_index(drop=True)\n",
    "gas"
   ]
  },
  {
   "cell_type": "markdown",
   "metadata": {},
   "source": [
    "Lakukan hal yang sama untuk <code>fuel-type == 'diesel'</code>."
   ]
  },
  {
   "cell_type": "code",
   "execution_count": null,
   "metadata": {},
   "outputs": [],
   "source": [
    "# Filter data dengan fuel-type == 'diesel'\n",
    "\n",
    "diesel = df_body[df_body['fuel-type']=='diesel']\n",
    "diesel"
   ]
  },
  {
   "cell_type": "markdown",
   "metadata": {},
   "source": [
    "Jika kita lihat dari dataframe <code>diesel</code>, hanya ada 4 kategori <code>body-style</code>, sementara yang kita tahu ada 5 kategori. Jika dibiarkan, ini akan menjadi masalah perbedaan dimensi. Oleh karena itu, kita harus menambahkan data baru pada dataframe <code>diesel</code> yang menyatakan bahwa jenis __convertible__ dengan <i>fuel type</i> diesel berjumlah __0__. Perhatikan kode berikut."
   ]
  },
  {
   "cell_type": "code",
   "execution_count": null,
   "metadata": {},
   "outputs": [],
   "source": [
    "# Menambahkan data baru pada dataframe diesel.\n",
    "\n",
    "new_data = {'body-style': 'convertible', 'fuel-type': 'diesel', 'total': 0}\n",
    "diesel = diesel.append(new_data, ignore_index=True).sort_values(by='body-style').reset_index(drop=True)\n",
    "diesel"
   ]
  },
  {
   "cell_type": "markdown",
   "metadata": {},
   "source": [
    "Sekarang kita telah memiliki dataframe yang dibutuhkan. Selanjutnya adalah visualisasi data. \n",
    "\n",
    "Untuk membuat <i>grouped bar chart</i>, kita mendefinisikan dua <i>bar plot</i> dalam satu <i>axes</i> yang kita simpan dalam variabel, misalnya <code>d1</code> dan <code>d2</code>. Kita juga perlu mendefinisikan panjang dari sumbu x, dalam hal ini ada berapa label pada sumbu x yang kita simpan pada variabel <code>x</code>. Selanjutnya kita juga harus mendefinisikan <i>width</i>-nya.\n",
    "\n",
    "Untuk lebih jelasnya perhatikan kode berikut."
   ]
  },
  {
   "cell_type": "code",
   "execution_count": null,
   "metadata": {},
   "outputs": [],
   "source": [
    "# Membuat grouped bar chart\n",
    "\n",
    "x = np.arange(len(body))\n",
    "width = 0.4\n",
    "labels = body\n",
    "\n",
    "fig, ax = plt.subplots(figsize=(16, 8))\n",
    "d1 = ax.bar(x - width/2, gas['total'], width, label='Gas')\n",
    "d2 = ax.bar(x + width/2, diesel['total'], width, label='Diesel')\n",
    "\n",
    "ax.set_title('Total by Body Style and Fuel type', size=18)\n",
    "ax.set_ylabel('Total', size=14)\n",
    "ax.set_xticks(x)\n",
    "ax.set_xticklabels(labels, size=14)\n",
    "ax.legend(fontsize=16)\n",
    "\n",
    "plt.show()"
   ]
  },
  {
   "cell_type": "markdown",
   "metadata": {},
   "source": [
    "Kita dapat menambahkan label di atas tiap <i>bar</i>. Namun, untuk <i>grouped bar chart</i> akan lebih mudah jika kita membuat sebuah fungsi terpisah dari kode utama untuk menampilkan label. Kita tinggal memanggilnya saja di kode utama."
   ]
  },
  {
   "cell_type": "code",
   "execution_count": null,
   "metadata": {},
   "outputs": [],
   "source": [
    "# Membuat fungsi untuk menampilkan label\n",
    "\n",
    "def peaklabel(data):\n",
    "    for rect in data:\n",
    "        height = rect.get_height()\n",
    "        ax.annotate('{}'.format(height), \n",
    "                    xy=(rect.get_x() + rect.get_width() / 2, height),\n",
    "                    xytext=(0, 2), \n",
    "                    textcoords='offset points',\n",
    "                    ha='center', \n",
    "                    va='bottom',\n",
    "                    fontsize=14)"
   ]
  },
  {
   "cell_type": "markdown",
   "metadata": {},
   "source": [
    "Sekarang kita buat kode seperti sebelumnya, namun ditambahkan dengan memanggil fungsi <code>peaklabel</code> untuk menampilkan label pada tiap <i>bar</i>."
   ]
  },
  {
   "cell_type": "code",
   "execution_count": null,
   "metadata": {},
   "outputs": [],
   "source": [
    "# Membuat grouped bar chart dengan label\n",
    "\n",
    "x = np.arange(len(body))\n",
    "width = 0.4\n",
    "labels = body\n",
    "\n",
    "fig, ax = plt.subplots(figsize=(16, 8))\n",
    "d1 = ax.bar(x - width/2, gas['total'], width, label='Gas')\n",
    "d2 = ax.bar(x + width/2, diesel['total'], width, label='Diesel')\n",
    "\n",
    "ax.set_title('Total by Body Style and Fuel type', size=18)\n",
    "ax.set_ylabel('Total', size=14)\n",
    "ax.set_xticks(x)\n",
    "ax.set_xticklabels(labels, size=14)\n",
    "ax.legend(fontsize=16)\n",
    "\n",
    "peaklabel(d1)\n",
    "peaklabel(d2)\n",
    "\n",
    "plt.show()"
   ]
  },
  {
   "cell_type": "markdown",
   "metadata": {},
   "source": [
    "<hr>"
   ]
  },
  {
   "cell_type": "markdown",
   "metadata": {},
   "source": [
    "## Stacked bar chart"
   ]
  },
  {
   "cell_type": "markdown",
   "metadata": {},
   "source": [
    "<i>Stacked bar chart</i> adalah <i>grouped bar chart</i> yang ditampilkan secara bersusun ke atas. Perhatikan kode berikut untuk cara membuatnya."
   ]
  },
  {
   "cell_type": "code",
   "execution_count": null,
   "metadata": {},
   "outputs": [],
   "source": [
    "# Membuat stacked bar chart\n",
    "\n",
    "x = np.arange(len(body))\n",
    "labels = body\n",
    "\n",
    "fig, ax = plt.subplots(figsize=(12, 8))\n",
    "d1 = ax.bar(x, gas['total'], label='Gas')\n",
    "d2 = ax.bar(x, diesel['total'], label='Diesel', bottom=gas['total'])\n",
    "\n",
    "ax.set_title('Total by Body Style and Fuel type', size=18)\n",
    "ax.set_ylabel('Total', size=14)\n",
    "ax.set_xticks(x)\n",
    "ax.set_xticklabels(labels, size=14)\n",
    "\n",
    "ax.legend(fontsize=16)\n",
    "\n",
    "plt.show()"
   ]
  },
  {
   "cell_type": "markdown",
   "metadata": {},
   "source": [
    "Disini kita ingin meletakkan <i>bar</i> <code>d1</code> di bawah, sehingga kita tidak perlu menambahkan parameter apapun lagi. Sementara itu, untuk variabel <code>d2</code> kita harus menambahkan parameter <code>bottom</code> untuk mendefinisikan data apa yang ada di bawahnya."
   ]
  },
  {
   "cell_type": "markdown",
   "metadata": {},
   "source": [
    "<hr>"
   ]
  },
  {
   "cell_type": "markdown",
   "metadata": {},
   "source": [
    "Copyright @ <a href=\"https://ilmudatapy.com/\">ilmudatapy.com</a>"
   ]
  }
 ],
 "metadata": {
  "kernelspec": {
   "display_name": "Python 3",
   "language": "python",
   "name": "python3"
  },
  "language_info": {
   "codemirror_mode": {
    "name": "ipython",
    "version": 3
   },
   "file_extension": ".py",
   "mimetype": "text/x-python",
   "name": "python",
   "nbconvert_exporter": "python",
   "pygments_lexer": "ipython3",
   "version": "3.7.3"
  }
 },
 "nbformat": 4,
 "nbformat_minor": 2
}
