{
 "cells": [
  {
   "cell_type": "markdown",
   "metadata": {},
   "source": [
    "<img src=\"../images/ilmudatapy-logo.png\" width=\"350\" align=\"center\">\n",
    "<br>"
   ]
  },
  {
   "cell_type": "markdown",
   "metadata": {},
   "source": [
    "<center><h1>Area Plot</h1></center>\n",
    "<hr>"
   ]
  },
  {
   "cell_type": "markdown",
   "metadata": {},
   "source": [
    "__Halo, Learners!__ Di notebook ini, kita akan membahas __Area Plot__. Disini kita akan membuat <i>area plot</i> menggunakan dataset asli, baik itu <i>stacked</i> atau <i>unstacked area plot</i>, serta 100% <i>stacked area plot."
   ]
  },
  {
   "cell_type": "markdown",
   "metadata": {},
   "source": [
    "<h2>Table of Contents</h2>\n",
    "<div class=\"alert alert-block alert-info\" style=\"margin-top: 25px\">\n",
    "    <ul>\n",
    "        <li>\n",
    "            Load Dataset\n",
    "        </li>\n",
    "        <li>\n",
    "            Visualisasi data dengan <b>Area Plot</b>\n",
    "            <ul>\n",
    "                <li>Mengatur warna</li>\n",
    "                <li>Mengatur transparansi</li>\n",
    "            </ul>\n",
    "        </li>\n",
    "        <li>\n",
    "            Unstacked Area Plot\n",
    "        </li>\n",
    "        <li>\n",
    "            100% Stacked Area Plot\n",
    "        </li>\n",
    "    </ul>\n",
    "</div>"
   ]
  },
  {
   "cell_type": "markdown",
   "metadata": {},
   "source": [
    "<hr>\n",
    "<div class=\"alert alert-success\" style=\"margin-top: 20px\">\n",
    "    <strong>Catatan:</strong> Untuk menjalankan kode program Python di Jupyter Notebook, klik pada <i>cell</i> yang ingin di-<i>run</i> lalu tekan <kbd>Shift</kbd> + <kbd>Enter</kbd>.\n",
    "</div>"
   ]
  },
  {
   "cell_type": "markdown",
   "metadata": {},
   "source": [
    "<div class=\"alert alert-danger\" style=\"margin-top: 20px\">\n",
    "    <strong>Warning!:</strong> Jika ada kode program yang <i>error</i> atau output yang dihasilkan tidak sesuai, silahkan <b>Restart & Run All</b> kernel pada bagian menu <b>Kernel</b> di menu bar Jupyter Notebook, atau <b>Restart & Clear Output</b> kernel kemudian jalankan satu per satu <i>cell</i> secara berurutan dari atas ke bawah.\n",
    "</div>\n",
    "<hr>"
   ]
  },
  {
   "cell_type": "markdown",
   "metadata": {},
   "source": [
    "## Load dataset"
   ]
  },
  {
   "cell_type": "markdown",
   "metadata": {},
   "source": [
    "Dataset yang akan digunakan untuk praktek kali ini adalah dataset <a href='https://www.kaggle.com/vaishnavivenkatesan/world-population'>World Population</a> dari tahun 1960 - 2019.\n",
    "\n",
    "__Feature Information:__\n",
    "\n",
    "* __Country Name__ : Nama negara, termasuk benua dan kriteria lainnya yang dianalisis.\n",
    "* __Country Code__ : Kode negara atau lainnya yang dianalisis.\n",
    "* __Indicator Name__ : Indikator data\n",
    "* __1960 - 2019__ : Data total populasi pada tahun tersebut (1960 - 2019)."
   ]
  },
  {
   "cell_type": "markdown",
   "metadata": {},
   "source": [
    "Pertama kita <i>import</i> dulu <i>library</i> yang dibutuhkan seperti Pandas, Numpy, dan Matplotlib."
   ]
  },
  {
   "cell_type": "code",
   "execution_count": null,
   "metadata": {},
   "outputs": [],
   "source": [
    "import pandas as pd\n",
    "import numpy as np\n",
    "import matplotlib.pyplot as plt\n",
    "\n",
    "plt.style.use('fivethirtyeight')\n",
    "\n",
    "%matplotlib inline"
   ]
  },
  {
   "cell_type": "markdown",
   "metadata": {},
   "source": [
    "Selanjutnya kita <i>load</i> dataset ke dalam dataframe Pandas dengan <code>read_csv()</code>."
   ]
  },
  {
   "cell_type": "code",
   "execution_count": null,
   "metadata": {},
   "outputs": [],
   "source": [
    "# Load dataset dan menampilkan 10 data pertama\n",
    "\n",
    "df = pd.read_csv(\"../datasets/world-population.csv\")\n",
    "df.head(10)"
   ]
  },
  {
   "cell_type": "markdown",
   "metadata": {},
   "source": [
    "Agar lebih mudah dalam pengindeksan, kita akan mengatur <code>Country Name</code> menjadi indeks dengan <code>set_index()</code>."
   ]
  },
  {
   "cell_type": "code",
   "execution_count": null,
   "metadata": {},
   "outputs": [],
   "source": [
    "# Set 'Country Name' menjadi indeks\n",
    "\n",
    "df.set_index('Country Name', inplace=True)\n",
    "df.head()"
   ]
  },
  {
   "cell_type": "markdown",
   "metadata": {},
   "source": [
    "Dalam praktek kali ini, saya akan memvisualisasikan data top 5 negara dengan populasi terbanyak, jadi kita harus membuat dataframe baru untuk menampung data tersebut. Sebenarnya kita dapat men-<i>sorting</i> total populasi yang pada kolom <code>2019</code>, namun setelah diteliti dataset tersebut tidak hanya menghitung total populasi tiap negara tetapi juga benua dan kriteria lainnya. Oleh karena itu, kita tidak dapat menggunakan <i>sorting</i> untuk mengambil data top 5 populasi terbanyak.\n",
    "\n",
    "Alternatifnya, kita harus mencari tahu apa 5 negara dengan populasi terbanyak di dunia, baik dengan teknik lain dari dataset tersebut ataupun langsung mencari tahunya di sumber lain. Disini, saya asumsikan 5 negara dengan total populasi terbanyak adalah __China__, __India__, __United States__, __Indonesia__, dan __Pakistan__.\n",
    "\n",
    "Kemudian kita masukkan daftar negara tersebut ke dalam list, dan mem-<i>filter</i>-nya menggunakan <code>loc</code> seperti kode di bawah ini."
   ]
  },
  {
   "cell_type": "code",
   "execution_count": null,
   "metadata": {},
   "outputs": [],
   "source": [
    "# Membuat list negara top 5\n",
    "countries = ['China', 'India', 'United States', 'Indonesia', 'Pakistan']\n",
    "\n",
    "# Memfilter dataframe dan memasukkannya ke dalam variabel baru df_top5\n",
    "df_top5 = df.loc[countries, :]\n",
    "df_top5"
   ]
  },
  {
   "cell_type": "markdown",
   "metadata": {},
   "source": [
    "Lalu disini saya membuat list tahun dari 1960 - 2019 yang akan digunakan untuk memfilter kolom."
   ]
  },
  {
   "cell_type": "code",
   "execution_count": null,
   "metadata": {},
   "outputs": [],
   "source": [
    "# Membuat list tahun\n",
    "\n",
    "years = list(map(str, range(1960, 2020)))\n",
    "print(years)"
   ]
  },
  {
   "cell_type": "markdown",
   "metadata": {},
   "source": [
    "Selanjutnya <code>df_top5</code> tadi kita <i>filter</i> dengan hanya mengambil kolom tahun, lalu men-<i>transpose</i>-nya."
   ]
  },
  {
   "cell_type": "code",
   "execution_count": null,
   "metadata": {},
   "outputs": [],
   "source": [
    "# Filter dan transpose dataframe df_top5\n",
    "\n",
    "df_top5 = df_top5[years].transpose()\n",
    "df_top5.head()"
   ]
  },
  {
   "cell_type": "markdown",
   "metadata": {},
   "source": [
    "Sekarang dataframe telah siap untuk divisualisasikan dengan <i>Area Plot</i>."
   ]
  },
  {
   "cell_type": "markdown",
   "metadata": {},
   "source": [
    "<hr>"
   ]
  },
  {
   "cell_type": "markdown",
   "metadata": {},
   "source": [
    "## Visualisasi data dengan Area Plot"
   ]
  },
  {
   "cell_type": "markdown",
   "metadata": {},
   "source": [
    "Kita dapat membuat <i>area plot</i> dengan <code>stackplot()</code>. Untuk argumennya, kita harus memasukkan indeks dan kolom, serta parameter label untuk membuat <i>legend</i>. Perhatikan kode berikut."
   ]
  },
  {
   "cell_type": "code",
   "execution_count": null,
   "metadata": {},
   "outputs": [],
   "source": [
    "# Membuat area plot dengan stackplot()\n",
    "\n",
    "plt.figure(figsize=(14, 8))\n",
    "plt.stackplot(df_top5.index, \n",
    "              [df_top5['China'], df_top5['India'], df_top5['United States'], df_top5['Indonesia'], df_top5['Pakistan']],\n",
    "              labels=['China', 'India', 'United States', 'Indonesia', 'Pakistan'])\n",
    "\n",
    "plt.title('Top 5 World Population', size=18)\n",
    "plt.xlabel('\\nYear', size=14)\n",
    "plt.ylabel('Total Population\\n', size=14)\n",
    "plt.xticks(rotation=90)\n",
    "plt.yticks(size=14)\n",
    "plt.legend(fontsize=14, loc='upper left')\n",
    "plt.margins(0,0)\n",
    "\n",
    "plt.show()"
   ]
  },
  {
   "cell_type": "markdown",
   "metadata": {},
   "source": [
    "Ada cara lain yang lebih <i>simple</i> untuk membuat <i>area plot</i> yaitu dengan menggunakan <code>plot()</code> dan menambahkan parameter <code>kind = 'area'</code> sebagai argumennya. Perhatikan kode berikut."
   ]
  },
  {
   "cell_type": "code",
   "execution_count": null,
   "metadata": {},
   "outputs": [],
   "source": [
    "# Membuat area plot menggunakan plot()\n",
    "\n",
    "df_top5.plot(kind='area', figsize=(14,8))\n",
    "\n",
    "plt.title('Top 5 World Population', size=18)\n",
    "plt.xlabel('\\nYear', size=14)\n",
    "plt.ylabel('Total Population\\n', size=14)\n",
    "plt.xticks(size=14)\n",
    "plt.yticks(size=14)\n",
    "plt.legend(fontsize=14)\n",
    "plt.show()"
   ]
  },
  {
   "cell_type": "markdown",
   "metadata": {},
   "source": [
    "### Mengatur warna"
   ]
  },
  {
   "cell_type": "markdown",
   "metadata": {},
   "source": [
    "Sama seperti pengaturan warna dalam visualisasi data lainnya, kita dapat menggunakan parameter <code>color</code> untuk mengatur warna."
   ]
  },
  {
   "cell_type": "code",
   "execution_count": null,
   "metadata": {},
   "outputs": [],
   "source": [
    "# Mengatur warna area plot\n",
    "\n",
    "colors = ['magenta', 'purple', 'steelblue', 'green', 'lime']\n",
    "\n",
    "df_top5.plot(kind='area', figsize=(14,8), color=colors)\n",
    "\n",
    "plt.title('Top 5 World Population', size=18)\n",
    "plt.xlabel('\\nYear', size=14)\n",
    "plt.ylabel('Total Population\\n', size=14)\n",
    "plt.xticks(size=14)\n",
    "plt.yticks(size=14)\n",
    "plt.legend(fontsize=14)\n",
    "plt.show()"
   ]
  },
  {
   "cell_type": "markdown",
   "metadata": {},
   "source": [
    "Kita juga dapat menggunakan <i>colormap</i> atau __cmap__. Misalnya disini kita menggunakan <code>cmap = 'plasma'</code>. Jenis <i>colormap</i> dapat dilihat pada website Matplotlib."
   ]
  },
  {
   "cell_type": "code",
   "execution_count": null,
   "metadata": {},
   "outputs": [],
   "source": [
    "# Mengatur warna dengan cmap\n",
    "\n",
    "df_top5.plot(kind='area', figsize=(14,8), cmap='plasma')\n",
    "\n",
    "plt.title('Top 5 World Population', size=18)\n",
    "plt.xlabel('\\nYear', size=14)\n",
    "plt.ylabel('Total Population\\n', size=14)\n",
    "plt.xticks(size=14)\n",
    "plt.yticks(size=14)\n",
    "plt.legend(fontsize=14)\n",
    "plt.show()"
   ]
  },
  {
   "cell_type": "markdown",
   "metadata": {},
   "source": [
    "### Mengatur transparansi"
   ]
  },
  {
   "cell_type": "markdown",
   "metadata": {},
   "source": [
    "Kita dapat mengatur transparansi <i>area plot</i> dengan menambahkan parameter <code>alpha</code>. Misalnya disini kita memberikan nilai <code>alpha = 0.5</code>."
   ]
  },
  {
   "cell_type": "code",
   "execution_count": null,
   "metadata": {},
   "outputs": [],
   "source": [
    "# Mengatur transparansi area plot\n",
    "\n",
    "df_top5.plot(kind='area', figsize=(14,8), cmap='plasma', alpha=0.5)\n",
    "\n",
    "plt.title('Top 5 World Population', size=18)\n",
    "plt.xlabel('\\nYear', size=14)\n",
    "plt.ylabel('Total Population\\n', size=14)\n",
    "plt.xticks(size=14)\n",
    "plt.yticks(size=14)\n",
    "plt.legend(fontsize=14)\n",
    "plt.show()"
   ]
  },
  {
   "cell_type": "markdown",
   "metadata": {},
   "source": [
    "Mari kita bandingkan hasilnya jika kita memberikan nilai <code>alpha = 0.8</code>."
   ]
  },
  {
   "cell_type": "code",
   "execution_count": null,
   "metadata": {},
   "outputs": [],
   "source": [
    "# Mengatur transparansi area plot dengan alpha = 0.8\n",
    "\n",
    "df_top5.plot(kind='area', figsize=(14,8), cmap='plasma', alpha=0.8)\n",
    "\n",
    "plt.title('Top 5 World Population', size=18)\n",
    "plt.xlabel('\\nYear', size=14)\n",
    "plt.ylabel('Total Population\\n', size=14)\n",
    "plt.xticks(size=14)\n",
    "plt.yticks(size=14)\n",
    "plt.legend(fontsize=14)\n",
    "plt.show()"
   ]
  },
  {
   "cell_type": "markdown",
   "metadata": {},
   "source": [
    "<hr>"
   ]
  },
  {
   "cell_type": "markdown",
   "metadata": {},
   "source": [
    "## Unstacked Area Plot"
   ]
  },
  {
   "cell_type": "markdown",
   "metadata": {},
   "source": [
    "Contoh-contoh <i>area plot</i> sebelumnya memperlihatkan <i>stacked area plot</i> (<i>default</i>-nya <code>stacked = True</code>) yang berarti <i>area plot</i> untuk masing-masing kategori menumpuk dengan data pertama dalam dataframe adalah yang terbawah di <i>area plot</i>.\n",
    "\n",
    "Nah, bagaimana jika kita tidak ingin membuat <i>area plot</i> yang menumpuk seperti itu?\n",
    "\n",
    "Jika kita ingin membuat <i>unstacked area plot</i>, kita dapat menambahkan parameter <code>stacked = False</code>. Perhatikan kode berikut."
   ]
  },
  {
   "cell_type": "code",
   "execution_count": null,
   "metadata": {},
   "outputs": [],
   "source": [
    "# Membuat unstacked area plot\n",
    "\n",
    "df_top5.plot(kind='area', figsize=(14,8), cmap='plasma', alpha=0.5, stacked=False)\n",
    "\n",
    "plt.title('Top 5 World Population', size=18)\n",
    "plt.xlabel('\\nYear', size=14)\n",
    "plt.ylabel('Total Population\\n', size=14)\n",
    "plt.xticks(size=14)\n",
    "plt.yticks(size=14)\n",
    "plt.legend(fontsize=14)\n",
    "plt.show()"
   ]
  },
  {
   "cell_type": "markdown",
   "metadata": {},
   "source": [
    "Mari kita lihat contoh <i>unstacked area plot</i> lain dengan warna berbeda."
   ]
  },
  {
   "cell_type": "code",
   "execution_count": null,
   "metadata": {},
   "outputs": [],
   "source": [
    "# Unstacked area plot \n",
    "\n",
    "colors = ['magenta', 'purple', 'steelblue', 'green', 'lime']\n",
    "\n",
    "df_top5.plot(kind='area', figsize=(14,8), color=colors, stacked=False)\n",
    "\n",
    "plt.title('Top 5 World Population', size=18)\n",
    "plt.xlabel('\\nYear', size=14)\n",
    "plt.ylabel('Total Population\\n', size=14)\n",
    "plt.xticks(size=14)\n",
    "plt.yticks(size=14)\n",
    "plt.legend(fontsize=14)\n",
    "plt.show()"
   ]
  },
  {
   "cell_type": "markdown",
   "metadata": {},
   "source": [
    "<hr>"
   ]
  },
  {
   "cell_type": "markdown",
   "metadata": {},
   "source": [
    "## 100% Stacked Area Plot"
   ]
  },
  {
   "cell_type": "markdown",
   "metadata": {},
   "source": [
    "Kita juga dapat membuat <i>100% stacked area plot</i>. Apa maksudnya <i>100% stacked area plot</i>?\n",
    "\n",
    "Jadi <i>area plot</i> yang akan ditampilkan berupa <i>full area</i>. Perhatikan contoh berikut.\n",
    "\n",
    "Untuk membuat <i>100% stacked area plot</i>, kita perlu membagi dataframe terlebih dahulu. Perhatikan kode berikut. Misalnya disini kita menggunakan <i>method</i> <code>stackplot()</code> untuk membuat <i>area plot</i>."
   ]
  },
  {
   "cell_type": "code",
   "execution_count": null,
   "metadata": {},
   "outputs": [],
   "source": [
    "# Membuat 100% stacked area plot\n",
    "\n",
    "plt.figure(figsize=(14,8))\n",
    "\n",
    "df_full = df_top5.divide(df_top5.sum(axis=1), axis=0)\n",
    "\n",
    "plt.stackplot(df_full.index,\n",
    "              [df_full['China'], df_full['India'],\n",
    "               df_full['United States'], df_full['Indonesia'], df_full['Pakistan']],\n",
    "              labels=['China', 'India', 'United States', 'Indonesia', 'Pakistan'],\n",
    "              alpha=0.8)\n",
    "\n",
    "plt.title('Top 5 World Population', size=18)\n",
    "plt.xlabel('\\nYear', size=14)\n",
    "plt.ylabel('Total Population\\n', size=14)\n",
    "plt.xticks(rotation=90)\n",
    "plt.yticks(size=14)\n",
    "plt.legend(fontsize=14)\n",
    "plt.margins(0,0)\n",
    "plt.show()"
   ]
  },
  {
   "cell_type": "markdown",
   "metadata": {},
   "source": [
    "Kita juga dapat menggunakan <code>plot()</code> untuk membuat <i>100% stacked area plot</i> seperti di bawah ini."
   ]
  },
  {
   "cell_type": "code",
   "execution_count": null,
   "metadata": {},
   "outputs": [],
   "source": [
    "# Membuat 100% stacked area plot\n",
    "\n",
    "df_full_top5 = df_top5.divide(df_top5.sum(axis=1), axis=0)\n",
    "\n",
    "df_full_top5.plot(kind='area', figsize=(14,8), cmap='plasma', alpha=0.5)\n",
    "\n",
    "plt.title('Top 5 World Population', size=18)\n",
    "plt.xlabel('\\nYear', size=14)\n",
    "plt.ylabel('Total Population\\n', size=14)\n",
    "plt.xticks(size=14)\n",
    "plt.yticks(size=14)\n",
    "plt.legend(fontsize=14)\n",
    "\n",
    "plt.show()"
   ]
  },
  {
   "cell_type": "markdown",
   "metadata": {},
   "source": [
    "<hr>"
   ]
  },
  {
   "cell_type": "markdown",
   "metadata": {},
   "source": [
    "Copyright @ <a href=\"https://ilmudatapy.com/\">ilmudatapy.com</a>"
   ]
  }
 ],
 "metadata": {
  "kernelspec": {
   "display_name": "Python 3",
   "language": "python",
   "name": "python3"
  },
  "language_info": {
   "codemirror_mode": {
    "name": "ipython",
    "version": 3
   },
   "file_extension": ".py",
   "mimetype": "text/x-python",
   "name": "python",
   "nbconvert_exporter": "python",
   "pygments_lexer": "ipython3",
   "version": "3.7.3"
  }
 },
 "nbformat": 4,
 "nbformat_minor": 2
}
