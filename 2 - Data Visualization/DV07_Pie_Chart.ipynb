{
 "cells": [
  {
   "cell_type": "markdown",
   "metadata": {},
   "source": [
    "<img src=\"../images/ilmudatapy-logo.png\" width=\"350\" align=\"center\">\n",
    "<br>"
   ]
  },
  {
   "cell_type": "markdown",
   "metadata": {},
   "source": [
    "<center><h1>Pie Chart</h1></center>\n",
    "<hr>"
   ]
  },
  {
   "cell_type": "markdown",
   "metadata": {},
   "source": [
    "__Halo, Learners!__ Di notebook ini, kita akan membahas __Pie Chart__. Disini kita akan membuat <i>pie chart</i> menggunakan dataset asli, serta mengatur berbagai parameter untuk mempercantik <i>pie chart</i>. Kita juga akan belajar membuat __Donut Chart__."
   ]
  },
  {
   "cell_type": "markdown",
   "metadata": {},
   "source": [
    "<h2>Table of Contents</h2>\n",
    "<div class=\"alert alert-block alert-info\" style=\"margin-top: 25px\">\n",
    "    <ul>\n",
    "        <li>\n",
    "            Load Dataset\n",
    "        </li>\n",
    "        <li>\n",
    "            Visualisasi data dengan <b>Pie Chart</b>\n",
    "            <ul>\n",
    "                <li>Menghapus label dan menggantinya dengan legend</li>\n",
    "                <li>Mengatur posisi angka persentase</li>\n",
    "                <li>Mengatur warna</li>\n",
    "                <li>Menekankan irisan chart</li>\n",
    "            </ul>\n",
    "        </li>\n",
    "        <li>\n",
    "            Donut Chart\n",
    "        </li>\n",
    "    </ul>\n",
    "</div>"
   ]
  },
  {
   "cell_type": "markdown",
   "metadata": {},
   "source": [
    "<hr>\n",
    "<div class=\"alert alert-success\" style=\"margin-top: 20px\">\n",
    "    <strong>Catatan:</strong> Untuk menjalankan kode program Python di Jupyter Notebook, klik pada <i>cell</i> yang ingin di-<i>run</i> lalu tekan <kbd>Shift</kbd> + <kbd>Enter</kbd>.\n",
    "</div>"
   ]
  },
  {
   "cell_type": "markdown",
   "metadata": {},
   "source": [
    "<div class=\"alert alert-danger\" style=\"margin-top: 20px\">\n",
    "    <strong>Warning!:</strong> Jika ada kode program yang <i>error</i> atau output yang dihasilkan tidak sesuai, silahkan <b>Restart & Run All</b> kernel pada bagian menu <b>Kernel</b> di menu bar Jupyter Notebook, atau <b>Restart & Clear Output</b> kernel kemudian jalankan satu per satu <i>cell</i> secara berurutan dari atas ke bawah.\n",
    "</div>\n",
    "<hr>"
   ]
  },
  {
   "cell_type": "markdown",
   "metadata": {},
   "source": [
    "## Load dataset"
   ]
  },
  {
   "cell_type": "markdown",
   "metadata": {},
   "source": [
    "Dataset yang digunakan dalam praktek kali ini adalah <a href=\"https://www.kaggle.com/dhs/refugee-report?select=refugee_status.csv\">Refugees in the United States, 2006-2015</a> yang mana menampilkan data pengungsi di Amerika Serikat dari berbagai negara dari tahun 2006 sampai 2015.\n",
    "\n",
    "__Feature Information:__\n",
    "\n",
    "* __Continent/Country of Nationality__: Benua atau negara asal para pengungsi.\n",
    "* __2006 - 2015__ : Jumlah pengungsi yang pindah ke Amerika Serikat pada tahun tersebut (2006 - 2015)."
   ]
  },
  {
   "cell_type": "markdown",
   "metadata": {},
   "source": [
    "Seperti biasa, mari kita <i>import</i> terlebih dahulu <i>library</i> yang dibutuhkan. Disini kita akan membutuhkan Pandas dan Matplotlib."
   ]
  },
  {
   "cell_type": "code",
   "execution_count": null,
   "metadata": {},
   "outputs": [],
   "source": [
    "import pandas as pd\n",
    "import numpy as np\n",
    "import matplotlib.pyplot as plt\n",
    "\n",
    "plt.style.use('fivethirtyeight')"
   ]
  },
  {
   "cell_type": "markdown",
   "metadata": {},
   "source": [
    "Setelah itu kita <i>load</i> dataset ke dalam dataframe Pandas dengan <code>read_csv()</code>."
   ]
  },
  {
   "cell_type": "code",
   "execution_count": null,
   "metadata": {},
   "outputs": [],
   "source": [
    "# Load dataset ke dalam dataframe Pandas\n",
    "\n",
    "df = pd.read_csv(\"../datasets/refugee_status.csv\")\n",
    "df.head(10)"
   ]
  },
  {
   "cell_type": "markdown",
   "metadata": {},
   "source": [
    "Untuk memudahkan pengindeksan dan visualisasi data, kita akan mengatur kolom <code>Continent/Country of Nationality</code> sebagai indeks dengan <code>set_index()</code>."
   ]
  },
  {
   "cell_type": "code",
   "execution_count": null,
   "metadata": {},
   "outputs": [],
   "source": [
    "# Set 'Continent/Country of Nationality' sebagai indeks\n",
    "\n",
    "df.set_index('Continent/Country of Nationality', inplace=True)"
   ]
  },
  {
   "cell_type": "markdown",
   "metadata": {},
   "source": [
    "Dalam praktek ini, kita akan menggunakan data pengungsi berdasarkan benua saja. Oleh karena itu, mari kita filter dataframe <code>df</code> dengan hanya mengambil 6 data teratas yang merupakan representasi benua dan menyimpannya ke dalam dataframe baru, misalnya <code>df_continent</code>."
   ]
  },
  {
   "cell_type": "code",
   "execution_count": null,
   "metadata": {},
   "outputs": [],
   "source": [
    "# Mengambil 6 baris teratas yang merupakan data benua\n",
    "\n",
    "df_continent = df.head(6)\n",
    "df_continent"
   ]
  },
  {
   "cell_type": "markdown",
   "metadata": {},
   "source": [
    "Seperti yang dapat kita lihat setelah menjalankan kode di atas, __Oceania__ tidak memiliki data apapun, karena itu ada baiknya kita menghapus baris tersebut karena tidak digunakan."
   ]
  },
  {
   "cell_type": "code",
   "execution_count": null,
   "metadata": {},
   "outputs": [],
   "source": [
    "# Menghapus baris 'Oceania'\n",
    "\n",
    "df_continent = df_continent.drop(['Oceania'], axis=0)\n",
    "df_continent"
   ]
  },
  {
   "cell_type": "markdown",
   "metadata": {},
   "source": [
    "Sekarang mari kita cek informasi dataframe dengan <code>info()</code>."
   ]
  },
  {
   "cell_type": "code",
   "execution_count": null,
   "metadata": {},
   "outputs": [],
   "source": [
    "# Cek info dataframe\n",
    "\n",
    "df_continent.info()"
   ]
  },
  {
   "cell_type": "markdown",
   "metadata": {},
   "source": [
    "Seperti yang kita lihat ternyata semua kolom masih bertipe __object__ yang berarti string. Jika tidak diganti dengan tipe numerik, seperti integer atau float, akan menjadi masalah saat kita ingin melakukan operasi numerik. Dapat kita lihat pada dataframe bahwa penulisan angkanya dipisahkan oleh koma. Oleh karena itu, sebelum konversi tipe data dengan <code>astype()</code>, kita harus menghilangkan tanda koma tersebut terlebih dahulu. Perhatikan kode berikut. "
   ]
  },
  {
   "cell_type": "code",
   "execution_count": null,
   "metadata": {},
   "outputs": [],
   "source": [
    "# Mengganti tanda koma dengan blank\n",
    "\n",
    "for i in df_continent.columns:\n",
    "    df_continent[i] = df_continent[i].str.split(',').str.join('').astype(int)"
   ]
  },
  {
   "cell_type": "markdown",
   "metadata": {},
   "source": [
    "Sekarang mari kita cek hasilnya."
   ]
  },
  {
   "cell_type": "code",
   "execution_count": null,
   "metadata": {},
   "outputs": [],
   "source": [
    "# Melihat dataframe df_continent\n",
    "\n",
    "df_continent"
   ]
  },
  {
   "cell_type": "markdown",
   "metadata": {},
   "source": [
    "Sekarang mari kita cek lagi tipe datanya dengan <code>dtypes</code>."
   ]
  },
  {
   "cell_type": "code",
   "execution_count": null,
   "metadata": {},
   "outputs": [],
   "source": [
    "# Mengecek tipe data\n",
    "\n",
    "df_continent.dtypes"
   ]
  },
  {
   "cell_type": "markdown",
   "metadata": {},
   "source": [
    "Setelah itu, kita dapat melakukan operasi numerik pada dataframe <code>df_continent</code>. Disini kita akan membuat kolom baru, yaitu kolom <code>Total</code> untuk menampung jumlah total pengungsi dari tahun 2006 sampai 2015."
   ]
  },
  {
   "cell_type": "code",
   "execution_count": null,
   "metadata": {},
   "outputs": [],
   "source": [
    "# Membuat kolom 'Total'\n",
    "\n",
    "df_continent['Total'] = df_continent.sum(axis=1)\n",
    "df_continent"
   ]
  },
  {
   "cell_type": "markdown",
   "metadata": {},
   "source": [
    "<hr>"
   ]
  },
  {
   "cell_type": "markdown",
   "metadata": {},
   "source": [
    "## Visualisasi data dengan Pie Chart"
   ]
  },
  {
   "cell_type": "markdown",
   "metadata": {},
   "source": [
    "Setelah menyiapkan data yang akan divisualisasi, kita dapat langsung mengeksekusinya. Visualisasi data dengan <i>pie chart</i> dapat menggunakan <code>plot()</code> serta memberikan parameter <code>kind = 'pie'</code>. Perhatikan kode berikut."
   ]
  },
  {
   "cell_type": "code",
   "execution_count": null,
   "metadata": {},
   "outputs": [],
   "source": [
    "# Membuat pie chart\n",
    "\n",
    "df_continent['Total'].plot(kind='pie',\n",
    "                           figsize=(5, 6),\n",
    "                           autopct='%1.1f%%', # menambahkan persentase\n",
    "                           startangle=90,     # start angle 90° \n",
    "                           shadow=True        # menambahkan shadow      \n",
    "                           )\n",
    "\n",
    "plt.title('Refugees in the United States (2006 - 2015)')\n",
    "plt.axis('equal')     # mengatur rasio axis agar sama antara axis x dan y\n",
    "\n",
    "plt.show()"
   ]
  },
  {
   "cell_type": "markdown",
   "metadata": {},
   "source": [
    "Seperti dapat kita lihat pada kode di atas, selain parameter <code>kind</code> dan <code>figsize</code> yang sudah sering kita gunakan pada jenis plot lainnya, ada beberapa parameter lain yang dapat digunakan diantaranya:\n",
    "\n",
    "* <code>autopct</code> untuk menambahkan angka persentase. \n",
    "* <code>startangle</code> untuk mengatur sudut awal chart.\n",
    "* <code>shadow</code> untuk memberikan kesan bayangan.\n",
    "\n",
    "Anda dapat melakukan eksperimen sendiri dengan mengubah-ubah nilai parameter tersebut untuk melihat perbedaannya."
   ]
  },
  {
   "cell_type": "markdown",
   "metadata": {},
   "source": [
    "### Menghapus label dan menggantinya dengan legend"
   ]
  },
  {
   "cell_type": "markdown",
   "metadata": {},
   "source": [
    "Selanjutnya, jika kita lihat pada visualisasi sebelumnya, teks label kategorinya (nama benua) ada yang bertumpukan karena memang porsi irisan-irisan yang kecil bersebelahan. Tentunya itu kurang menarik, bukan? \n",
    "\n",
    "Nah, untuk mengakalinya, kita dapat menghapus label tersebut dan menggantinya dengan menggunakan legend. Perhatikan kode berikut."
   ]
  },
  {
   "cell_type": "code",
   "execution_count": null,
   "metadata": {},
   "outputs": [],
   "source": [
    "# Membuat pie chart\n",
    "\n",
    "df_continent['Total'].plot(kind='pie',\n",
    "                           figsize=(15, 6),\n",
    "                           autopct='%1.1f%%', # menambahkan persentase\n",
    "                           startangle=90,     # start angle 90° \n",
    "                           shadow=True,       # menambahkan shadow \n",
    "                           labels=None        # menghilangkan label pada pie chart\n",
    "                           )\n",
    "\n",
    "plt.title('Refugees in the United States (2006 - 2015)', size=18, y=1.12)\n",
    "plt.axis('equal') # mengatur rasio axis agar sama antara axis x dan y\n",
    "\n",
    "# add legend\n",
    "plt.legend(labels=df_continent.index, loc='upper left', fontsize=14) \n",
    "\n",
    "plt.show()"
   ]
  },
  {
   "cell_type": "markdown",
   "metadata": {},
   "source": [
    "Untuk menghapus teks label, kita dapat memberikan parameter <code>label = None</code> pada <code>plot()</code> dan juga menambahkan <i>method</i> <code>legend()</code> dari Matplotlib. \n",
    "\n",
    "Di dalam <code>legend()</code> kita dapat menambahkan parameter <code>labels</code> yang diberikan nilai indeks dari <code>df_continent</code> serta mengatur lokasi penempatan legend dengan parameter <code>loc</code> dan ukuran huruf dengan <code>fontsize</code>."
   ]
  },
  {
   "cell_type": "markdown",
   "metadata": {},
   "source": [
    "### Mengatur posisi angka persentase"
   ]
  },
  {
   "cell_type": "markdown",
   "metadata": {},
   "source": [
    "Jika kita lihat angka persentase juga ada yang saling bertumpuk karena diletakkan di dalam <i>pie chart</i>. Untuk merapikannya, kita dapat membuat teks persentase tersebut berada di luar <i>pie chart</i> dengan menambahkan parameter <code>pctdistance</code> yang dapat diberikan nilai numerik berupa bilangan float. Perhatikan kode berikut."
   ]
  },
  {
   "cell_type": "code",
   "execution_count": null,
   "metadata": {},
   "outputs": [],
   "source": [
    "# Membuat pie chart\n",
    "\n",
    "df_continent['Total'].plot(kind='pie',\n",
    "                           figsize=(15, 6),\n",
    "                           autopct='%1.1f%%', # menambahkan persentase\n",
    "                           startangle=90,     # start angle 90° \n",
    "                           shadow=True,       # menambahkan shadow \n",
    "                           labels=None,       # menghilangkan label pada pie chart\n",
    "                           pctdistance=1.12   # rasio antara pusat pie chart posisi awal teks yang dihasilkan oleh autopct \n",
    "                           )\n",
    "\n",
    "plt.title('Refugees in the United States (2006 - 2015)', size=18, y=1.12)\n",
    "plt.axis('equal') # mengatur rasio axis agar sama antara axis x dan y\n",
    "\n",
    "# add legend\n",
    "plt.legend(labels=df_continent.index, loc='upper left', fontsize=14) \n",
    "\n",
    "plt.show()"
   ]
  },
  {
   "cell_type": "markdown",
   "metadata": {},
   "source": [
    "Sekarang sudah terlihat lebih rapi, bukan?"
   ]
  },
  {
   "cell_type": "markdown",
   "metadata": {},
   "source": [
    "### Mengatur warna"
   ]
  },
  {
   "cell_type": "markdown",
   "metadata": {},
   "source": [
    "Tidak berbeda dengan pengaturan warna pada jenis plot lainnya, untuk mengatur warna pada <i>pie chart</i> dapat menggunakan parameter <code>colors</code> yang diberikan nilai berupa list nama atau kode warna."
   ]
  },
  {
   "cell_type": "code",
   "execution_count": null,
   "metadata": {},
   "outputs": [],
   "source": [
    "# Membuat pie chart\n",
    "\n",
    "colors_list = ['pink', 'yellowgreen', 'gold', 'lightskyblue', 'lightcoral']\n",
    "\n",
    "df_continent['Total'].plot(kind='pie',\n",
    "                           figsize=(15, 6),\n",
    "                           autopct='%1.1f%%',    # menambahkan persentase\n",
    "                           startangle=90,        # start angle 90° \n",
    "                           shadow=True,          # menambahkan shadow \n",
    "                           labels=None,          # menghilangkan label pada pie chart\n",
    "                           pctdistance=1.12,     # rasio antara pusat pie chart posisi awal teks yang dihasilkan oleh autopct \n",
    "                           colors=colors_list    # mengatur warna\n",
    "                           )\n",
    "\n",
    "plt.title('Refugees in the United States (2006 - 2015)', size=18, y=1.12)\n",
    "plt.axis('equal') # mengatur rasio axis agar sama antara axis x dan y\n",
    "\n",
    "# add legend\n",
    "plt.legend(labels=df_continent.index, loc='upper left', fontsize=14) \n",
    "\n",
    "plt.show()"
   ]
  },
  {
   "cell_type": "markdown",
   "metadata": {},
   "source": [
    "Selain dengan menentukan sendiri warnanya, kita juga dapat menggunakan <i>colormap</i> dengan memberikan parameter <code>cmap</code> yang diberi nilai jenis <i>colormap</i>-nya. Misalnya di bawah ini kita memberikan parameter <code>cmap = 'coolwarm'</code>."
   ]
  },
  {
   "cell_type": "code",
   "execution_count": null,
   "metadata": {},
   "outputs": [],
   "source": [
    "# Membuat pie chart\n",
    "\n",
    "df_continent['Total'].plot(kind='pie',\n",
    "                           figsize=(15, 6),\n",
    "                           autopct='%1.1f%%',    # menambahkan persentase\n",
    "                           startangle=90,        # start angle 90° \n",
    "                           shadow=True,          # menambahkan shadow \n",
    "                           labels=None,          # menghilangkan label pada pie chart\n",
    "                           pctdistance=1.12,     # rasio antara pusat pie chart posisi awal teks yang dihasilkan oleh autopct \n",
    "                           cmap='coolwarm'       # mengatur warna dengan colormap\n",
    "                           )\n",
    "\n",
    "plt.title('Refugees in the United States (2006 - 2015)', size=18, y=1.12)\n",
    "plt.axis('equal') # mengatur rasio axis agar sama antara axis x dan y\n",
    "\n",
    "# add legend\n",
    "plt.legend(labels=df_continent.index, loc='upper left', fontsize=14) \n",
    "\n",
    "plt.show()"
   ]
  },
  {
   "cell_type": "markdown",
   "metadata": {},
   "source": [
    "### Menekankan irisan chart"
   ]
  },
  {
   "cell_type": "markdown",
   "metadata": {},
   "source": [
    "Jika ingin menekankan atau menonjolkan irisan tertentu kita dapat menggunakan parameter <code>explode</code> yang diberikan nilai berupa list rasionya dalam bentuk bilangan float. \n",
    "\n",
    "Misalnya pada contoh berikut, kita ingin menekankan 3 benua dengan angka persentase terkecil. Kita harus membuat list yang terdiri dari 5 bilangan float. Jika memberikan angka <b>0</b> berarti kita tidak ingin menggesernya atau menonjolkannya, sedangkan jika memberikan nilai __0.1__ dan seterusnya berarti irisan akan bergeser ke luar sesuai nilai rasio tersebut. Perhatikan kode berikut."
   ]
  },
  {
   "cell_type": "code",
   "execution_count": null,
   "metadata": {},
   "outputs": [],
   "source": [
    "# Membuat pie chart\n",
    "\n",
    "colors_list = ['pink', 'yellowgreen', 'gold', 'lightskyblue', 'lightcoral']\n",
    "explode_list = [0, 0, 0.1, 0.1, 0.1] # rasio untuk tiap benua untuk mengimbangi tiap irisan.\n",
    "\n",
    "df_continent['Total'].plot(kind='pie',\n",
    "                           figsize=(15, 6),\n",
    "                           autopct='%1.1f%%',    # menambahkan persentase\n",
    "                           startangle=90,        # start angle 90° \n",
    "                           shadow=False,         # menambahkan shadow \n",
    "                           labels=None,          # menghilangkan label pada pie chart\n",
    "                           pctdistance=1.12,     # rasio antara pusat pie chart posisi awal teks yang dihasilkan oleh autopct \n",
    "                           colors=colors_list,   # mengatur warna\n",
    "                           explode=explode_list  # menekankan 3 benua dengan persentase terkecil\n",
    "                           )\n",
    "\n",
    "plt.title('Refugees in the United States (2006 - 2015)', size=18, y=1.12)\n",
    "plt.axis('equal') # mengatur rasio axis agar sama antara axis x dan y\n",
    "\n",
    "# add legend\n",
    "plt.legend(labels=df_continent.index, loc='upper left', fontsize=14) \n",
    "\n",
    "plt.show()"
   ]
  },
  {
   "cell_type": "markdown",
   "metadata": {},
   "source": [
    "Terlihat bukan perbedannya?! Untuk irisan dengan warna __gold__, __lightskyblue__, dan __lightcoral__ yang merupakan 3 benua dengan persentase terkecil terlihat lebih menonjol ke luar lingkaran.\n",
    "\n",
    "Kita juga dapat memisah-misahkannya jika seluruh bagian irisan pada variabel <code>explode_list</code> diberikan nilai selain 0 seperti di bawah ini."
   ]
  },
  {
   "cell_type": "code",
   "execution_count": null,
   "metadata": {},
   "outputs": [],
   "source": [
    "# Membuat pie chart\n",
    "\n",
    "colors_list = ['pink', 'yellowgreen', 'gold', 'lightskyblue', 'lightcoral']\n",
    "explode_list = [0.1, 0.1, 0.2, 0.2, 0.2] # rasio untuk tiap benua untuk mengimbangi tiap irisan.\n",
    "\n",
    "df_continent['Total'].plot(kind='pie',\n",
    "                           figsize=(15, 6),\n",
    "                           autopct='%1.1f%%',    # menambahkan persentase\n",
    "                           startangle=90,        # start angle 90° \n",
    "                           shadow=False,         # menambahkan shadow \n",
    "                           labels=None,          # menghilangkan label pada pie chart\n",
    "                           pctdistance=1.12,     # rasio antara pusat pie chart posisi awal teks yang dihasilkan oleh autopct \n",
    "                           colors=colors_list,   # mengatur warna\n",
    "                           explode=explode_list  # menekankan 3 benua dengan persentase terkecil\n",
    "                           )\n",
    "\n",
    "plt.title('Refugees in the United States (2006 - 2015)', size=18, y=1.12)\n",
    "plt.axis('equal') # mengatur rasio axis agar sama antara axis x dan y\n",
    "\n",
    "# add legend\n",
    "plt.legend(labels=df_continent.index, loc='upper left', fontsize=14) \n",
    "\n",
    "plt.show()"
   ]
  },
  {
   "cell_type": "markdown",
   "metadata": {},
   "source": [
    "<hr>"
   ]
  },
  {
   "cell_type": "markdown",
   "metadata": {},
   "source": [
    "## Donut Chart"
   ]
  },
  {
   "cell_type": "markdown",
   "metadata": {},
   "source": [
    "Jika sebelumnya kita telah belajar membuat <i>pie chart</i> dengan lingkaran penuh, sekarang kita akan belajar membuat <i>donut chart</i>. Dilihat dari namanya saja pasti kita sudah dapat membayangkan bentuknya, bukan?! Ya, bentuk <i>chart</i>-nya nanti akan terlihat seperti donut yang memiliki lubang di tengah.\n",
    "\n",
    "Sebenarnya untuk membuat <i>donut chart</i> tidak berbeda jauh dari <i>pie chart</i>. Kita juga masih menggunakan parameter <code>kind = 'pie'</code> untuk membuatnya. Namun, yang membedakan adalah kita harus membuat lubang di tengah <i>pie</i> tersebut. Perhatikan kode berikut."
   ]
  },
  {
   "cell_type": "code",
   "execution_count": null,
   "metadata": {},
   "outputs": [],
   "source": [
    "# Membuat donut chart\n",
    "\n",
    "colors_list = ['pink', 'yellowgreen', 'gold', 'lightskyblue', 'lightcoral']\n",
    "\n",
    "df_continent['Total'].plot(kind='pie',\n",
    "                           figsize=(15, 6),\n",
    "                           autopct='%1.1f%%',    # menambahkan persentase\n",
    "                           startangle=90,        # start angle 90° \n",
    "                           shadow=True,          # menambahkan shadow \n",
    "                           labels=None,          # menghilangkan label pada pie chart\n",
    "                           pctdistance=1.12,     # rasio antara pusat pie chart posisi awal teks yang dihasilkan oleh autopct \n",
    "                           colors=colors_list,   # mengatur warna\n",
    "                           )\n",
    "\n",
    "#draw circle\n",
    "centre_circle = plt.Circle((0,0), 0.7, fc='white')\n",
    "fig = plt.gcf()\n",
    "fig.gca().add_artist(centre_circle)\n",
    "\n",
    "plt.title('Refugees in the United States (2006 - 2015)', size=18, y=1.12)\n",
    "plt.axis('equal') # mengatur rasio axis agar sama antara axis x dan y\n",
    "\n",
    "# add legend\n",
    "plt.legend(labels=df_continent.index, loc='upper left', fontsize=14) \n",
    "\n",
    "plt.show()"
   ]
  },
  {
   "cell_type": "markdown",
   "metadata": {},
   "source": [
    "Seperti yang dapat kita lihat pada kode di atas, untuk membuat lubang atau lingkaran pada <i>pie chart</i>, yang perlu kita lakukan yaitu membuat lingkaran dengan <i>method</i> <code>Cirlce()</code> dan menyimpannya dalam variabel, misalnya <code>centre_circle</code> seperti pada contoh ini. \n",
    "\n",
    "Selanjutnya, kita juga harus mendapatkan <i>figure</i> yang sedang aktif dengan <i>method</i> <code>gcf()</code> serta <i>axes</i> yang sedang aktif dengan <code>gca()</code> dan kemudian menambahkan variabel <code>centre_cirlce</code> tadi ke dalam <i>axes</i> tersebut dengan <i>method</i> <code>add_artist()</code>.\n",
    "\n",
    "Kita juga dapat mengatur <i>radius</i> lingkarannya. Misalnya disini kita akan mengganti <i>radius</i>-nya menjadi __0.5__."
   ]
  },
  {
   "cell_type": "code",
   "execution_count": null,
   "metadata": {},
   "outputs": [],
   "source": [
    "# Membuat donut chart\n",
    "\n",
    "colors_list = ['pink', 'yellowgreen', 'gold', 'lightskyblue', 'lightcoral']\n",
    "\n",
    "df_continent['Total'].plot(kind='pie',\n",
    "                           figsize=(15, 6),\n",
    "                           autopct='%1.1f%%',    # menambahkan persentase\n",
    "                           startangle=90,        # start angle 90° \n",
    "                           shadow=True,          # menambahkan shadow \n",
    "                           labels=None,          # menghilangkan label pada pie chart\n",
    "                           pctdistance=1.12,     # rasio antara pusat pie chart posisi awal teks yang dihasilkan oleh autopct \n",
    "                           colors=colors_list,   # mengatur warna\n",
    "                           )\n",
    "\n",
    "#draw circle\n",
    "centre_circle = plt.Circle((0,0), 0.5, fc='white')\n",
    "fig = plt.gcf()\n",
    "fig.gca().add_artist(centre_circle)\n",
    "\n",
    "plt.title('Refugees in the United States (2006 - 2015)', size=18, y=1.12)\n",
    "plt.axis('equal') # mengatur rasio axis agar sama antara axis x dan y\n",
    "\n",
    "# add legend\n",
    "plt.legend(labels=df_continent.index, loc='upper left', fontsize=14) \n",
    "\n",
    "plt.show()"
   ]
  },
  {
   "cell_type": "markdown",
   "metadata": {},
   "source": [
    "<hr>"
   ]
  },
  {
   "cell_type": "markdown",
   "metadata": {},
   "source": [
    "Copyright @ <a href=\"https://ilmudatapy.com/\">ilmudatapy.com</a>"
   ]
  }
 ],
 "metadata": {
  "kernelspec": {
   "display_name": "Python 3",
   "language": "python",
   "name": "python3"
  },
  "language_info": {
   "codemirror_mode": {
    "name": "ipython",
    "version": 3
   },
   "file_extension": ".py",
   "mimetype": "text/x-python",
   "name": "python",
   "nbconvert_exporter": "python",
   "pygments_lexer": "ipython3",
   "version": "3.7.3"
  }
 },
 "nbformat": 4,
 "nbformat_minor": 2
}
