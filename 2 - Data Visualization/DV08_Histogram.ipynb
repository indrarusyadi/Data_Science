{
 "cells": [
  {
   "cell_type": "markdown",
   "metadata": {},
   "source": [
    "<img src=\"../images/ilmudatapy-logo.png\" width=\"350\" align=\"center\">\n",
    "<br>"
   ]
  },
  {
   "cell_type": "markdown",
   "metadata": {},
   "source": [
    "<center><h1>Histogram</h1></center>\n",
    "<hr>"
   ]
  },
  {
   "cell_type": "markdown",
   "metadata": {},
   "source": [
    "__Halo, Learners!__ Di notebook ini, kita akan membahas __Histogram__. Disini kita akan membuat histogram menggunakan dataset asli, termasuk di antaranya juga <i>plotting multiple histogram</i> dalam satu plot dan juga cara membuat <i>subplots</i>."
   ]
  },
  {
   "cell_type": "markdown",
   "metadata": {},
   "source": [
    "<h2>Table of Contents</h2>\n",
    "<div class=\"alert alert-block alert-info\" style=\"margin-top: 25px\">\n",
    "    <ul>\n",
    "        <li>\n",
    "            Load Dataset\n",
    "        </li>\n",
    "        <li>\n",
    "            Visualisasi data dengan <b>Histogram</b>\n",
    "            <ul>\n",
    "                <li>Mendapatkan rentang bin dan frekuensinya dengan Numpy</li>\n",
    "                <li>Plotting Histogram dengan Matplotlib</li>\n",
    "                <li>Mengatur rentang bin</li>\n",
    "                <li>Menambahkan 'best fit' line</li>\n",
    "            </ul>\n",
    "        </li>\n",
    "        <li>\n",
    "            Multiple Histogram dalam satu plot\n",
    "            <ul>\n",
    "                <li>Mengatur transparansi dan warna</li>\n",
    "                <li>Menyesuaikan min dan max label x-axis</li>\n",
    "                <li>Stacked histogram</li>\n",
    "            </ul>\n",
    "        </li>\n",
    "        <li>\n",
    "            Subplots\n",
    "        </li>\n",
    "    </ul>\n",
    "</div>"
   ]
  },
  {
   "cell_type": "markdown",
   "metadata": {},
   "source": [
    "<hr>\n",
    "<div class=\"alert alert-success\" style=\"margin-top: 20px\">\n",
    "    <strong>Catatan:</strong> Untuk menjalankan kode program Python di Jupyter Notebook, klik pada <i>cell</i> yang ingin di-<i>run</i> lalu tekan <kbd>Shift</kbd> + <kbd>Enter</kbd>.\n",
    "</div>"
   ]
  },
  {
   "cell_type": "markdown",
   "metadata": {},
   "source": [
    "<div class=\"alert alert-danger\" style=\"margin-top: 20px\">\n",
    "    <strong>Warning!:</strong> Jika ada kode program yang <i>error</i> atau output yang dihasilkan tidak sesuai, silahkan <b>Restart & Run All</b> kernel pada bagian menu <b>Kernel</b> di menu bar Jupyter Notebook, atau <b>Restart & Clear Output</b> kernel kemudian jalankan satu per satu <i>cell</i> secara berurutan dari atas ke bawah.\n",
    "</div>\n",
    "<hr>"
   ]
  },
  {
   "cell_type": "markdown",
   "metadata": {},
   "source": [
    "## Load dataset"
   ]
  },
  {
   "cell_type": "markdown",
   "metadata": {},
   "source": [
    "Dataset yang akan kita gunakan dalam praktek kali ini adalah <a href=\"https://archive.ics.uci.edu/ml/datasets/ILPD+(Indian+Liver+Patient+Dataset)\">ILPD (Indian Liver Patient Dataset</a> yang terdiri dari 11 fitur/kolom.\n",
    "\n",
    "__Attribute Information:__\n",
    "\n",
    "1. __Age__ : Age of the patient\n",
    "2. __Gender__ : Gender of the patient\n",
    "3. __TB__ : Total Bilirubin\n",
    "4. __DB__ : Direct Bilirubin\n",
    "5. __Alkphos__ : Alkaline Phosphotase\n",
    "6. __Sgpt__ : Alamine Aminotransferase\n",
    "7. __Sgot__ : Aspartate Aminotransferase\n",
    "8. __TP__ : Total Protiens\n",
    "9. __ALB__ : Albumin\n",
    "10. __A/G__ : Ratio Albumin and Globulin Ratio\n",
    "11. Selector field used to split the data into two sets (labeled by the experts) "
   ]
  },
  {
   "cell_type": "markdown",
   "metadata": {},
   "source": [
    "Seperti biasa, kita harus meng-<i>import</i> dulu <i>library</i> yang dibutuhkan. Untuk praktek kali ini, selain Pandas, Numpy dan Matplotlib, kita juga akan membutuhkan Scipy untuk proses penambahan <i>'best fit' line</i>."
   ]
  },
  {
   "cell_type": "code",
   "execution_count": null,
   "metadata": {},
   "outputs": [],
   "source": [
    "# Import libraries\n",
    "\n",
    "import pandas as pd\n",
    "import numpy as np\n",
    "import matplotlib.pyplot as plt\n",
    "import scipy.stats\n",
    "\n",
    "%matplotlib inline\n",
    "\n",
    "plt.style.use('fivethirtyeight')"
   ]
  },
  {
   "cell_type": "markdown",
   "metadata": {},
   "source": [
    "Kemudian kita <i>load</i> dataset __ILPD__ dengan <i>method</i> <code>read_csv()</code> dan beri parameter <code>header=None</code> karena dataset ini belum ada <i>header</i>-nya."
   ]
  },
  {
   "cell_type": "code",
   "execution_count": null,
   "metadata": {},
   "outputs": [],
   "source": [
    "# Load dataset\n",
    "\n",
    "df = pd.read_csv(\"../datasets/Indian-Liver-Patient-Dataset-(ILPD).csv\", header = None)\n",
    "df.head(10)"
   ]
  },
  {
   "cell_type": "markdown",
   "metadata": {},
   "source": [
    "Untuk lebih memudahkan kita dalam memproses data, disini kita akan memberikan nama kolom pada dataframe <code>df</code> sesuai dengan informasi dataset di atas."
   ]
  },
  {
   "cell_type": "code",
   "execution_count": null,
   "metadata": {},
   "outputs": [],
   "source": [
    "# Membuat list nama kolom\n",
    "column_names = ['Age', 'Gender', 'TB', 'DB', 'Alkphos', 'Sgpt', 'Sgot', 'TP', 'ALB', 'A/G', 'Label']\n",
    "\n",
    "# Mengubah nama kolom\n",
    "df.columns = column_names\n",
    "df.head(10)"
   ]
  },
  {
   "cell_type": "markdown",
   "metadata": {},
   "source": [
    "Selanjutnya kita akan langsung ke praktek membuat Histogram."
   ]
  },
  {
   "cell_type": "markdown",
   "metadata": {},
   "source": [
    "<hr>"
   ]
  },
  {
   "cell_type": "markdown",
   "metadata": {},
   "source": [
    "## Visualisasi data dengan Histogram"
   ]
  },
  {
   "cell_type": "markdown",
   "metadata": {},
   "source": [
    "__Histogram__ adalah jenis visualisasi data untuk merepresentasikan distribusi frekuensi dari dataset numerik. Sumbu X merepresentasikan bin dari <i>data point</i>, sedangkan sumbu Y merepresentasikan frekuensi atau banyaknya <i>data point</i> pada setiap bin. Ukuran bin dapat disesuaikan agar distribusinya terlihat bagus. Namun, <i>default</i>-nya Python akan membagi menjadi 10 bin."
   ]
  },
  {
   "cell_type": "markdown",
   "metadata": {},
   "source": [
    "### Mendapatkan rentang bin dan frekuensinya dengan Numpy"
   ]
  },
  {
   "cell_type": "markdown",
   "metadata": {},
   "source": [
    "Sebelum mulai memvisualisasikan histogram dengan Matplotlib, mari kita cek terlebih dahulu rentang bin dan masing-masing frekuensinya dengan menggunakan <i>method</i> dari Numpy yaitu <code>histogram()</code>. Misalnya disini kita ingin melihat distribusi frekuensi dari kolom <code>Age</code>."
   ]
  },
  {
   "cell_type": "code",
   "execution_count": null,
   "metadata": {},
   "outputs": [],
   "source": [
    "# Mendapatkan rentang bin dan frekuensinya\n",
    "\n",
    "count, bin_edges = np.histogram(df['Age'])\n",
    "\n",
    "print(count)     # menampilkan jumlah frekuensi tiap bin\n",
    "print(bin_edges) # rentang bin, default = 10"
   ]
  },
  {
   "cell_type": "markdown",
   "metadata": {},
   "source": [
    "<code>np.histogram</code> akan mengembalikan dua nilai, oleh karena itu kita harus mendefinisikan dua variabel untuk menyimpan hasilnya, misalnya dalam hal ini kita menyimpannya dalam variabel <code>count</code> dan <code>bin_edges</code>. Setelah itu, kita dapat <code>print()</code> untuk melihat hasil rentang bin dan frekuensinya.\n",
    "\n",
    "Seperti yang kita lihat, jika tidak mendefinisikan jumlah bin, Python akan otomatis membaginya menjadi 10 bin. Namun, jika kita ingin kurang atau lebih dari 10 bin, kita dapat menambahkan parameter <code>bins</code> dan memberikan nilai berupa integer sesuai yang diinginkan seperti di bawah ini."
   ]
  },
  {
   "cell_type": "code",
   "execution_count": null,
   "metadata": {},
   "outputs": [],
   "source": [
    "# Mendapatkan rentang bin dan frekuensinya dengan mendefinisikan jumlah bin\n",
    "\n",
    "count, bin_edges = np.histogram(df['Age'], bins=15)\n",
    "\n",
    "print(count)     # menampilkan jumlah frekuensi tiap bin\n",
    "print(bin_edges) # rentang bin, default = 10"
   ]
  },
  {
   "cell_type": "markdown",
   "metadata": {},
   "source": [
    "Kita menambahkan parameter <code>bins = 15</code> sehingga Python akan membaginya menjadi 15 bin."
   ]
  },
  {
   "cell_type": "markdown",
   "metadata": {},
   "source": [
    "### Plotting Histogram dengan Matplotlib"
   ]
  },
  {
   "cell_type": "markdown",
   "metadata": {},
   "source": [
    "Selanjutnya, mari kita lakukan <i>plotting</i> Histogram. Ada dua cara yang dapat digunakan, yaitu dengan <i>method</i> <code>hist()</code> dari Matplotlib atau <i>method</i> <code>plot()</code> dari Pandas dengan mendefinisikan <code>kind = 'hist'</code>.\n",
    "\n",
    "Pertama kita akan praktekkan membuat Histogram dengan <code>hist()</code>. Perhatikan kode di bawah ini."
   ]
  },
  {
   "cell_type": "code",
   "execution_count": null,
   "metadata": {},
   "outputs": [],
   "source": [
    "# Membuat histogram dengan hist()\n",
    "\n",
    "plt.figure(figsize=(8,5))\n",
    "plt.hist(df['Age'])     # Membuat histogram\n",
    "\n",
    "plt.title(\"Histogram of Indian Liver Patients' Ages\") \n",
    "plt.ylabel('Number of Patients') \n",
    "plt.xlabel('Ages') \n",
    "plt.show()"
   ]
  },
  {
   "cell_type": "markdown",
   "metadata": {},
   "source": [
    "Kita juga dapat menggunakan <i>method</i> <code>plot()</code> dari Pandas seperti di bawah ini."
   ]
  },
  {
   "cell_type": "code",
   "execution_count": null,
   "metadata": {},
   "outputs": [],
   "source": [
    "# Membuat histogram dengan plot()\n",
    "\n",
    "df['Age'].plot(kind='hist', figsize=(8, 5))\n",
    "\n",
    "plt.title(\"Histogram of Indian Liver Patients' Ages\") \n",
    "plt.ylabel('Number of Patients') \n",
    "plt.xlabel('Ages') \n",
    "\n",
    "plt.show()"
   ]
  },
  {
   "cell_type": "markdown",
   "metadata": {},
   "source": [
    "Seperti yang kita lihat, dua cara tersebut menghasilkan plot histogram yang sama persis. Jadi, Anda dapat memilih cara yang paling Anda sukai."
   ]
  },
  {
   "cell_type": "markdown",
   "metadata": {},
   "source": [
    "### Mengatur jumlah bin"
   ]
  },
  {
   "cell_type": "markdown",
   "metadata": {},
   "source": [
    "Jika tidak ingin membagi bin menjadi 10, maka kita harus mendefinisikan sendiri jumlah binnya menggunakan parameter <code>bins</code>. Misalnya pada contoh di bawah ini, kita ingin menvisualisasikan histogram dari kolom <code>Age</code> dengan 15 bin."
   ]
  },
  {
   "cell_type": "code",
   "execution_count": null,
   "metadata": {},
   "outputs": [],
   "source": [
    "# Membuat histogram dengan hist() dan mengatur jumlah bin\n",
    "\n",
    "plt.figure(figsize=(8,5))\n",
    "plt.hist(df['Age'], bins=15)     # Membuat histogram\n",
    "\n",
    "plt.title(\"Histogram of Indian Liver Patients' Ages\") \n",
    "plt.ylabel('Number of Patients') \n",
    "plt.xlabel('Ages') \n",
    "plt.show()"
   ]
  },
  {
   "cell_type": "markdown",
   "metadata": {},
   "source": [
    "Cara yang sama dalam mengatur bin juga dapat diterapkan pada pembuatan histogram dengan <i>method</i> <code>plot()</code>."
   ]
  },
  {
   "cell_type": "code",
   "execution_count": null,
   "metadata": {},
   "outputs": [],
   "source": [
    "# Membuat histogram dengan 15 bin\n",
    "\n",
    "df['Age'].plot(kind='hist', figsize=(8, 5), bins=15)\n",
    "\n",
    "plt.title(\"Histogram of Indian Liver Patients' Ages\") \n",
    "plt.ylabel('Number of Patients') \n",
    "plt.xlabel('Ages') \n",
    "\n",
    "plt.show()"
   ]
  },
  {
   "cell_type": "markdown",
   "metadata": {},
   "source": [
    "### Mengatur xticks"
   ]
  },
  {
   "cell_type": "markdown",
   "metadata": {},
   "source": [
    "Seperti yang kita lihat dari histogram di atas, label __xticks__-nya ditempatkan bukan pada batasan tiap bin. Nah, kita dapat mengatur label <i>xticks</i> tersebut dengan parameter <code>xticks</code>. Misalnya pada contoh di bawah ini, kita akan beri nilai <code>xticks = bin_edges</code>."
   ]
  },
  {
   "cell_type": "code",
   "execution_count": null,
   "metadata": {},
   "outputs": [],
   "source": [
    "# Mengatur label xticks\n",
    "\n",
    "count, bin_edges = np.histogram(df['Age'])\n",
    "\n",
    "df['Age'].plot(kind='hist', figsize=(8, 5), xticks=bin_edges)\n",
    "\n",
    "plt.title(\"Histogram of Indian Liver Patients' Ages\") \n",
    "plt.ylabel('Number of Patients') \n",
    "plt.xlabel('Ages') \n",
    "\n",
    "plt.show()"
   ]
  },
  {
   "cell_type": "markdown",
   "metadata": {},
   "source": [
    "Bagaimana jika jumlah bin-nya ingin selain dari <i>default</i>-nya yakni 10?\n",
    "\n",
    "Jika seperti itu, pada <code>np.histogram()</code> harus didefinisikan dahulu <code>bins</code>-nya, dan juga saat visualisasi data dengan <code>plot()</code> atau <code>hist()</code> jumlah bin-nya didefinisikan lagi."
   ]
  },
  {
   "cell_type": "code",
   "execution_count": null,
   "metadata": {},
   "outputs": [],
   "source": [
    "# Mengatur bin dan label xticks\n",
    "\n",
    "count, bin_edges = np.histogram(df['Age'], bins=15)\n",
    "\n",
    "df['Age'].plot(kind='hist', figsize=(10, 7), bins=15, xticks=bin_edges)\n",
    "\n",
    "plt.title(\"Histogram of Indian Liver Patients' Ages\") \n",
    "plt.ylabel('Number of Patients') \n",
    "plt.xlabel('Ages') \n",
    "\n",
    "plt.show()"
   ]
  },
  {
   "cell_type": "markdown",
   "metadata": {},
   "source": [
    "### Menambahkan 'best fit' line"
   ]
  },
  {
   "cell_type": "markdown",
   "metadata": {},
   "source": [
    "Untuk menambahkan <i>'best fit' line</i>, kita membutuhkan <i>library</i> <code>spipy.stats</code> untuk menampilkan distribusi data. Perhatikan kode berikut."
   ]
  },
  {
   "cell_type": "code",
   "execution_count": null,
   "metadata": {},
   "outputs": [],
   "source": [
    "# Menambahkan 'best fit' line pada histogram\n",
    "\n",
    "plt.figure(figsize=(10,7))\n",
    "n, bins, pathes = plt.hist(df['ALB'], 20, density=True)\n",
    "\n",
    "mu, sigma = scipy.stats.norm.fit(df['ALB'])\n",
    "best_fit_line = scipy.stats.norm.pdf(bins, mu, sigma)\n",
    "\n",
    "plt.plot(bins, best_fit_line)\n",
    "plt.show()"
   ]
  },
  {
   "cell_type": "markdown",
   "metadata": {},
   "source": [
    "Dalam contoh di atas, kita menggunakan <code>scipy.stats.norm.fit()</code> untuk <i>fitting</i> distribusi normal ke histogram. Sementara itu, <code>scipy.stats.norm.pdf()</code> digunakan untuk menghitung <i>probability density function</i>-nya. Setelah itu, kita plotkan sebagai <i>line plot</i>.\n",
    "\n",
    "Kita juga dapat mengubah warna dan jenis garisnya seperti di bawah ini."
   ]
  },
  {
   "cell_type": "code",
   "execution_count": null,
   "metadata": {},
   "outputs": [],
   "source": [
    "# Mengubah warna dan jenis garis distribusi normal\n",
    "\n",
    "plt.figure(figsize=(10,7))\n",
    "n, bins, pathes = plt.hist(df['ALB'], 20, density=True, alpha=0.5)\n",
    "\n",
    "mu, sigma = scipy.stats.norm.fit(df['ALB'])\n",
    "best_fit_line = scipy.stats.norm.pdf(bins, mu, sigma)\n",
    "\n",
    "plt.plot(bins, best_fit_line, '--', color='gold')\n",
    "plt.show()"
   ]
  },
  {
   "cell_type": "markdown",
   "metadata": {},
   "source": [
    "<hr>"
   ]
  },
  {
   "cell_type": "markdown",
   "metadata": {},
   "source": [
    "## Multiple Histogram dalam satu plot"
   ]
  },
  {
   "cell_type": "markdown",
   "metadata": {},
   "source": [
    "<i>Plotting</i> lebih dari satu histogram ke dalam satu plot yang sama terkadang diperlukan untuk perbandingan. Kita dapat dengan mudah melakukannya dengan langsung menuliskan nama-nama kolomnya seperti di bawah ini. Misalnya disini kita ingin menempatkan histogram dari kolom <code>TP</code> dan <code>ALB</code>."
   ]
  },
  {
   "cell_type": "code",
   "execution_count": null,
   "metadata": {},
   "outputs": [],
   "source": [
    "# Membuat multiple histogram dalam satu plot\n",
    "\n",
    "count, bin_edges = np.histogram(df[['TP', 'ALB']])\n",
    "\n",
    "df[['TP', 'ALB']].plot(kind='hist', figsize=(10, 7), xticks=bin_edges)\n",
    "\n",
    "plt.title(\"Histogram of Indian Liver Patients' TP & ALB\") \n",
    "plt.ylabel('Number of Patients') \n",
    "plt.xlabel('TP & ALB') \n",
    "plt.legend(['TP: Total Protein', 'ALB: Albumin'], fontsize=14)\n",
    "\n",
    "plt.show()"
   ]
  },
  {
   "cell_type": "markdown",
   "metadata": {},
   "source": [
    "Jika kita amati, dua histogram tersebut saling tumpang tindih. Kita dapat mengatur transparansinya untuk melihat batas dari masing-masing histogram."
   ]
  },
  {
   "cell_type": "markdown",
   "metadata": {},
   "source": [
    "### Mengatur transparansi dan warna"
   ]
  },
  {
   "cell_type": "markdown",
   "metadata": {},
   "source": [
    "Sama seperti sebelumnya, kita dapat menggunakan parameter <code>alpha</code> untuk mengatur transparansi. Selain itu, kita juga dapat mengubah warna sesuai keinginan dengan menggunakan parameter <code>color</code>. Perhatikan kode berikut."
   ]
  },
  {
   "cell_type": "code",
   "execution_count": null,
   "metadata": {},
   "outputs": [],
   "source": [
    "# Mengatur transparansi dan warna\n",
    "\n",
    "count, bin_edges = np.histogram(df[['TP', 'ALB']])\n",
    "\n",
    "df[['TP', 'ALB']].plot(kind='hist', \n",
    "                       figsize=(10, 7), \n",
    "                       xticks=bin_edges,\n",
    "                       alpha=0.6,\n",
    "                       color=['gold', 'yellowgreen'])\n",
    "\n",
    "plt.title(\"Histogram of Indian Liver Patients' TP & ALB\") \n",
    "plt.ylabel('Number of Patients') \n",
    "plt.xlabel('TP & ALB') \n",
    "plt.legend(['TP: Total Protein', 'ALB: Albumin'], fontsize=14)\n",
    "\n",
    "plt.show()"
   ]
  },
  {
   "cell_type": "markdown",
   "metadata": {},
   "source": [
    "Setelah mengatur transparansi, jadi terlihat batasannya, kan?!"
   ]
  },
  {
   "cell_type": "markdown",
   "metadata": {},
   "source": [
    "### Menyesuaikan min dan max label x-axis"
   ]
  },
  {
   "cell_type": "markdown",
   "metadata": {},
   "source": [
    "Menyesuaikan min dan max label x-axis maksudnya menyesuaikan jarak dari nilai minimum histogram atau nilai bin terkecil, dalam kasus ini __0.90__, dengan batas <i>figure</i> kiri, serta jarak nilai maksimum histogram atau nilai bin terbesar, dalam kasus ini __9.60__, dengan batas <i>figure</i> kanan.\n",
    "\n",
    "Kita perlu mendefinisikan jarak yang diinginkan, misalnya disini kita definisikan dalam variabel <code>xmin</code> dan <code>xmax</code>. Setelah itu, kita perlu menambahkan parameter <code>xlim</code> untuk mengaplikasikan jarak yang sudah diatur tersebut. Perhatikan kode berikut."
   ]
  },
  {
   "cell_type": "code",
   "execution_count": null,
   "metadata": {},
   "outputs": [],
   "source": [
    "# Menyesuaikan min dan max label xticks\n",
    "\n",
    "count, bin_edges = np.histogram(df[['TP', 'ALB']])\n",
    "xmin = bin_edges[0] - 0.2     # mengatur ruas kosong antara ujung figure kiri dan bin terkecil sebesar 0.2 \n",
    "xmax = bin_edges[-1] + 0.2    # mengatur ruas kosong antara ujung figure kanan dan bin terbesar sebesar 0.2\n",
    "\n",
    "df[['TP', 'ALB']].plot(kind='hist', \n",
    "                       figsize=(10, 7), \n",
    "                       xticks=bin_edges,\n",
    "                       alpha=0.6,\n",
    "                       color=['gold', 'yellowgreen'],\n",
    "                       xlim=(xmin, xmax))      # menambahkan parameter xlim untuk mengaplikasikan nilai xmin dan xmax        \n",
    "\n",
    "plt.title(\"Histogram of Indian Liver Patients' TP & ALB\") \n",
    "plt.ylabel('Number of Patients') \n",
    "plt.xlabel('TP & ALB') \n",
    "plt.legend(['TP: Total Protein', 'ALB: Albumin'], fontsize=14)\n",
    "\n",
    "plt.show()"
   ]
  },
  {
   "cell_type": "markdown",
   "metadata": {},
   "source": [
    "Sekarang ruas kosong antara ujung <i>figure</i> dengan bin terkecil dan terbesarnya menjadi lebih mengecil dari sebelumnya."
   ]
  },
  {
   "cell_type": "markdown",
   "metadata": {},
   "source": [
    "### Stacked histogram"
   ]
  },
  {
   "cell_type": "markdown",
   "metadata": {},
   "source": [
    "Jika kita tidak ingin membuat histogram yang saling tumpang tindih, kita dapat membuat histogram yang bersusun atau <i>stacked histogram</i> dengan menambahkan parameter <code>stacked = True</code>. Perhatikan kode berikut."
   ]
  },
  {
   "cell_type": "code",
   "execution_count": null,
   "metadata": {},
   "outputs": [],
   "source": [
    "count, bin_edges = np.histogram(df[['TP', 'ALB']])\n",
    "xmin = bin_edges[0] - 0.2     # mengatur ruas kosong antara ujung figure kiri dan bin terkecil sebesar 0.2 \n",
    "xmax = bin_edges[-1] + 0.2    # mengatur ruas kosong antara ujung figure kanan dan bin terbesar sebesar 0.2\n",
    "\n",
    "df[['TP', 'ALB']].plot(kind='hist', \n",
    "                       figsize=(10, 7), \n",
    "                       xticks=bin_edges,\n",
    "                       color=['gold', 'yellowgreen'],\n",
    "                       xlim=(xmin, xmax),\n",
    "                       stacked=True)\n",
    "\n",
    "plt.title(\"Histogram of Indian Liver Patients' TP & ALB\") \n",
    "plt.ylabel('Number of Patients') \n",
    "plt.xlabel('TP & ALB') \n",
    "plt.legend(['TP: Total Protein', 'ALB: Albumin'], fontsize=14)\n",
    "\n",
    "plt.show()"
   ]
  },
  {
   "cell_type": "markdown",
   "metadata": {},
   "source": [
    "<hr>"
   ]
  },
  {
   "cell_type": "markdown",
   "metadata": {},
   "source": [
    "## Subplots"
   ]
  },
  {
   "cell_type": "markdown",
   "metadata": {},
   "source": [
    "Selanjutnya kita akan mempraktekkan cara membuat subplots. Subplots ini tidak hanya dapat kita gunakan untuk histogram, namun juga bisa digunakan untuk jenis visualisasi data lainnya. Jadi misalnya kita ingin membuat subplots yang terdiri dari berbagai jenis plot juga sangat memungkinkan.\n",
    "\n",
    "Disini kita akan membuat subplots yang terdiri dari 6 histogram dari berbagai kolom di dataframe <code>df</code>. Misalnya kita ingin membuat histogram untuk kolom <code>TB</code>, <code>DB</code>, <code>Sgpt</code>, <code>Sgot</code>, <code>TP</code>, dan <code>ALB</code>. Perhatikan kode berikut."
   ]
  },
  {
   "cell_type": "code",
   "execution_count": null,
   "metadata": {},
   "outputs": [],
   "source": [
    "# Membuat subplot\n",
    "\n",
    "fig, ax = plt.subplots(ncols=2, nrows=3, figsize=(16, 15)) \n",
    "\n",
    "# Menambahkan subplot dengan indexing\n",
    "ax0 = fig.add_subplot(ax[0,0]) \n",
    "ax1 = fig.add_subplot(ax[0,1])  \n",
    "ax2 = fig.add_subplot(ax[1,0])  \n",
    "ax3 = fig.add_subplot(ax[1,1]) \n",
    "ax4 = fig.add_subplot(ax[2,0])  \n",
    "ax5 = fig.add_subplot(ax[2,1])  \n",
    "\n",
    "# Subplot ax[0,0]: TB\n",
    "df['TB'].plot(kind='hist', ax=ax0)\n",
    "ax0.set_title(\"Histogram of Indian Liver Patients' TB (Total Bilirubin)\")\n",
    "ax0.set_ylabel('Number of Patients')\n",
    "ax0.set_xlabel('Total Bilirubin (TB)')\n",
    "\n",
    "# Subplot ax[0,1]: DB\n",
    "df['DB'].plot(kind='hist', ax=ax1) \n",
    "ax1.set_title(\"Histogram of Indian Liver Patients' DB (Direct Bilirubin)\")\n",
    "ax1.set_ylabel('Number of Patients')\n",
    "ax1.set_xlabel('Direct Bilirubin (DB)')\n",
    "\n",
    "# Subplot ax[1,0]: Sgpt\n",
    "df['Sgpt'].plot(kind='hist', ax=ax2) \n",
    "ax2.set_title(\"Histogram of Indian Liver Patients' Sgpt\")\n",
    "ax2.set_ylabel('Number of Patients')\n",
    "ax2.set_xlabel('Alamine Aminotransferase (Sgpt)') \n",
    "\n",
    "# Subplot ax[1,1]: Sgot\n",
    "df['Sgot'].plot(kind='hist', ax=ax3) \n",
    "ax3.set_title(\"Histogram of Indian Liver Patients' Sgot\")\n",
    "ax3.set_ylabel('Number of Patients')\n",
    "ax3.set_xlabel('Aspartate Aminotransferase (Sgot)')\n",
    "\n",
    "# Subplot ax[2,0]: TP\n",
    "df['TP'].plot(kind='hist', ax=ax4) \n",
    "ax4.set_title(\"Histogram of Indian Liver Patients' TP (Total Protein)\")\n",
    "ax4.set_ylabel('Number of Patients')\n",
    "ax4.set_xlabel('Total Protein (TB)')\n",
    "\n",
    "# Subplot ax[2,1]: ALB\n",
    "df['ALB'].plot(kind='hist', ax=ax5) \n",
    "ax5.set_title(\"Histogram of Indian Liver Patients' ALB (Albumin)\")\n",
    "ax5.set_ylabel('Number of Patients')\n",
    "ax5.set_xlabel('Albumin (ALB)')\n",
    "\n",
    "plt.subplots_adjust(wspace=0.2, hspace=0.4)\n",
    "plt.show()"
   ]
  },
  {
   "cell_type": "markdown",
   "metadata": {},
   "source": [
    "Kita dapat membuat subplots dengan <code>plt.subplots()</code> yang diberikan argumen berupa: \n",
    "\n",
    "* <code>ncols</code> : jumlah kolom yang diinginkan.\n",
    "* <code>nrows</code> : jumlah baris yang diinginkan.\n",
    "* <code>figsize</code> : ukuran figure.\n",
    "\n",
    "Kemudian, kita tambahkan subplots pada <i>figure</i> tersebut dengan <code>fig.add_subplot()</code> yang diberikan argumen berupa posisi tiap axes.\n",
    "\n",
    "Dalam contoh di atas, kita membuat subplots yang terdiri dari 6 plot dengan 3 baris dan 2 kolom. Selanjutnya, kita buat plotnya pada masing-masing subplot. Kita juga dapat menyesuaikan jarak antar subplot dengan <i>method</i> <code>subplots_adjust()</code> dan memberikan parameter <code>wspace</code> untuk mengatur lebar kanan-kiri, serta <code>hspace</code> untuk mengatur tinggi atas-bawah.\n",
    "\n",
    "Selanjutnya, mari kita coba membuat subplots dengan 2 baris dan 3 kolom!"
   ]
  },
  {
   "cell_type": "code",
   "execution_count": null,
   "metadata": {},
   "outputs": [],
   "source": [
    "# Membuat subplot\n",
    "\n",
    "fig, ax = plt.subplots(ncols=3, nrows=2, figsize=(16, 10)) \n",
    "\n",
    "# Menambahkan subplot dengan indexing\n",
    "ax0 = fig.add_subplot(ax[0,0])  \n",
    "ax1 = fig.add_subplot(ax[0,1])  \n",
    "ax2 = fig.add_subplot(ax[0,2])  \n",
    "ax3 = fig.add_subplot(ax[1,0]) \n",
    "ax4 = fig.add_subplot(ax[1,1])  \n",
    "ax5 = fig.add_subplot(ax[1,2])  \n",
    "\n",
    "# Subplot ax[0,0]: TB\n",
    "df['TB'].plot(kind='hist', ax=ax0) \n",
    "ax0.set_title(\"Histogram of TB (Total Bilirubin)\")\n",
    "ax0.set_ylabel('Number of Patients')\n",
    "ax0.set_xlabel('Total Bilirubin (TB)')\n",
    "\n",
    "# Subplot ax[0,1]: DB\n",
    "df['DB'].plot(kind='hist', ax=ax1) \n",
    "ax1.set_title(\"Histogram of DB (Direct Bilirubin)\")\n",
    "ax1.set_ylabel('Number of Patients')\n",
    "ax1.set_xlabel('Direct Bilirubin (DB)')\n",
    "\n",
    "# Subplot ax[0,2]: Sgpt\n",
    "df['Sgpt'].plot(kind='hist', ax=ax2) \n",
    "ax2.set_title(\"Histogram of Sgpt\")\n",
    "ax2.set_ylabel('Number of Patients')\n",
    "ax2.set_xlabel('Alamine Aminotransferase (Sgpt)') \n",
    "\n",
    "# Subplot ax[1,0]: Sgot\n",
    "df['Sgot'].plot(kind='hist', ax=ax3) \n",
    "ax3.set_title(\"Histogram of Sgot\")\n",
    "ax3.set_ylabel('Number of Patients')\n",
    "ax3.set_xlabel('Aspartate Aminotransferase (Sgot)')\n",
    "\n",
    "# Subplot ax[1,1]: TP\n",
    "df['TP'].plot(kind='hist', ax=ax4) \n",
    "ax4.set_title(\"Histogram of TP (Total Protein)\")\n",
    "ax4.set_ylabel('Number of Patients')\n",
    "ax4.set_xlabel('Total Protein (TB)')\n",
    "\n",
    "# Subplot ax[1,2]: ALB\n",
    "df['ALB'].plot(kind='hist', ax=ax5) \n",
    "ax5.set_title(\"Histogram of ALB (Albumin)\")\n",
    "ax5.set_ylabel('Number of Patients')\n",
    "ax5.set_xlabel('Albumin (ALB)')\n",
    "\n",
    "plt.subplots_adjust(wspace=0.2, hspace=0.4)\n",
    "plt.show()"
   ]
  },
  {
   "cell_type": "markdown",
   "metadata": {},
   "source": [
    "<hr>"
   ]
  },
  {
   "cell_type": "markdown",
   "metadata": {},
   "source": [
    "Copyright @ <a href=\"https://ilmudatapy.com/\">ilmudatapy.com</a>"
   ]
  }
 ],
 "metadata": {
  "kernelspec": {
   "display_name": "Python 3",
   "language": "python",
   "name": "python3"
  },
  "language_info": {
   "codemirror_mode": {
    "name": "ipython",
    "version": 3
   },
   "file_extension": ".py",
   "mimetype": "text/x-python",
   "name": "python",
   "nbconvert_exporter": "python",
   "pygments_lexer": "ipython3",
   "version": "3.7.3"
  }
 },
 "nbformat": 4,
 "nbformat_minor": 2
}
