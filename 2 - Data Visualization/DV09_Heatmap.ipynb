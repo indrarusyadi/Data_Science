{
 "cells": [
  {
   "cell_type": "markdown",
   "metadata": {},
   "source": [
    "<img src=\"../images/ilmudatapy-logo.png\" width=\"350\" align=\"center\">\n",
    "<br>"
   ]
  },
  {
   "cell_type": "markdown",
   "metadata": {},
   "source": [
    "<center><h1>Heatmap</h1></center>\n",
    "<hr>"
   ]
  },
  {
   "cell_type": "markdown",
   "metadata": {},
   "source": [
    "__Halo, Learners!__ Di notebook ini, kita akan membahas __Heatmap__. Disini kita akan membuat <i>heatmap</i> menggunakan dataset asli dengan <i>library</i> __Matplotlib__ dan __Seaborn__. Kita akan melakukan perbandingan mana yang lebih mudah dan efektif digunakan."
   ]
  },
  {
   "cell_type": "markdown",
   "metadata": {},
   "source": [
    "<h2>Table of Contents</h2>\n",
    "<div class=\"alert alert-block alert-info\" style=\"margin-top: 25px\">\n",
    "    <ul>\n",
    "        <li>\n",
    "            Load Dataset\n",
    "        </li>\n",
    "        <li>\n",
    "            Membuat Heatmap dengan Seaborn\n",
    "            <ul>\n",
    "                <li>Menambahkan teks label</li>\n",
    "                <li>Menambahkan grid lines</li>\n",
    "                <li>Menghapus label axis X atau Y</li>\n",
    "                <li>Menghilangkan colorbar</li>\n",
    "                <li>Mengatur warna</li>\n",
    "                <li>Melihat korelasi antarkolom dengan Heatmap</li>\n",
    "            </ul>\n",
    "        </li>\n",
    "        <li>\n",
    "            Membuat Heatmap dengan Matplotlib\n",
    "            <ul>\n",
    "                <li>Menambahkan teks label</li>\n",
    "            </ul>\n",
    "        </li>\n",
    "    </ul>\n",
    "</div>"
   ]
  },
  {
   "cell_type": "markdown",
   "metadata": {},
   "source": [
    "<hr>\n",
    "<div class=\"alert alert-success\" style=\"margin-top: 20px\">\n",
    "    <strong>Catatan:</strong> Untuk menjalankan kode program Python di Jupyter Notebook, klik pada <i>cell</i> yang ingin di-<i>run</i> lalu tekan <kbd>Shift</kbd> + <kbd>Enter</kbd>.\n",
    "</div>"
   ]
  },
  {
   "cell_type": "markdown",
   "metadata": {},
   "source": [
    "<div class=\"alert alert-danger\" style=\"margin-top: 20px\">\n",
    "    <strong>Warning!:</strong> Jika ada kode program yang <i>error</i> atau output yang dihasilkan tidak sesuai, silahkan <b>Restart & Run All</b> kernel pada bagian menu <b>Kernel</b> di menu bar Jupyter Notebook, atau <b>Restart & Clear Output</b> kernel kemudian jalankan satu per satu <i>cell</i> secara berurutan dari atas ke bawah.\n",
    "</div>\n",
    "<hr>"
   ]
  },
  {
   "cell_type": "markdown",
   "metadata": {},
   "source": [
    "## Load dataset"
   ]
  },
  {
   "cell_type": "markdown",
   "metadata": {},
   "source": [
    "Dataset yang digunakan adalah dataset <a href='https://archive.ics.uci.edu/ml/datasets/automobile'>Automobile</a> yang berasal dari UCI Machine Learning Repository dengan informasi detail tentang tiap kolom (terurut dari awal sampai akhir) sebagai berikut:\n",
    "\n",
    "__Attribute Information:__\n",
    "\n",
    "1. __symboling:__ -3, -2, -1, 0, 1, 2, 3.\n",
    "2. __normalized-losses:__ continuous from 65 to 256.\n",
    "3. __make:__\n",
    "alfa-romero, audi, bmw, chevrolet, dodge, honda,\n",
    "isuzu, jaguar, mazda, mercedes-benz, mercury,\n",
    "mitsubishi, nissan, peugot, plymouth, porsche,\n",
    "renault, saab, subaru, toyota, volkswagen, volvo\n",
    "\n",
    "4. __fuel-type:__ diesel, gas.\n",
    "5. __aspiration:__ std, turbo.\n",
    "6. __num-of-doors:__ four, two.\n",
    "7. __body-style:__ hardtop, wagon, sedan, hatchback, convertible.\n",
    "8. __drive-wheels:__ 4wd, fwd, rwd.\n",
    "9. __engine-location:__ front, rear.\n",
    "10. __wheel-base:__ continuous from 86.6 120.9.\n",
    "11. __length:__ continuous from 141.1 to 208.1.\n",
    "12. __width:__ continuous from 60.3 to 72.3.\n",
    "13. __height:__ continuous from 47.8 to 59.8.\n",
    "14. __curb-weight:__ continuous from 1488 to 4066.\n",
    "15. __engine-type:__ dohc, dohcv, l, ohc, ohcf, ohcv, rotor.\n",
    "16. __num-of-cylinders:__ eight, five, four, six, three, twelve, two.\n",
    "17. __engine-size:__ continuous from 61 to 326.\n",
    "18. __fuel-system:__ 1bbl, 2bbl, 4bbl, idi, mfi, mpfi, spdi, spfi.\n",
    "19. __bore:__ continuous from 2.54 to 3.94.\n",
    "20. __stroke:__ continuous from 2.07 to 4.17.\n",
    "21. __compression-ratio:__ continuous from 7 to 23.\n",
    "22. __horsepower:__ continuous from 48 to 288.\n",
    "23. __peak-rpm:__ continuous from 4150 to 6600.\n",
    "24. __city-mpg:__ continuous from 13 to 49.\n",
    "25. __highway-mpg:__ continuous from 16 to 54.\n",
    "26. __price:__ continuous from 5118 to 45400."
   ]
  },
  {
   "cell_type": "markdown",
   "metadata": {},
   "source": [
    "Seperti biasa, kita harus meng-<i>import</i> dulu <i>library</i> yang dibutuhkan. Untuk praktek kali ini, selain Pandas, Numpy dan Matplotlib, kita juga membutuhkan Seaborn karena pembuatan Heatmap lebih mudah menggunakan Seaborn."
   ]
  },
  {
   "cell_type": "code",
   "execution_count": null,
   "metadata": {},
   "outputs": [],
   "source": [
    "# Import libraries\n",
    "\n",
    "import pandas as pd\n",
    "import numpy as np\n",
    "import matplotlib.pyplot as plt\n",
    "import seaborn as sns\n",
    "\n",
    "%matplotlib inline"
   ]
  },
  {
   "cell_type": "markdown",
   "metadata": {},
   "source": [
    "Selanjutnnya kita <i>load</i> dataset dengan <code>read_csv()</code> dan menyimpannya di dalam variabel <code>df</code>. Dataset ini belum memiliki nama kolom yang jelas, sehingga kita buat nama kolom yang mewakili data dari masing-masing kolom."
   ]
  },
  {
   "cell_type": "code",
   "execution_count": null,
   "metadata": {},
   "outputs": [],
   "source": [
    "# list nama kolom\n",
    "column_names = ['symboling', 'normalized-losses', 'make', 'fuel-type', 'aspiration', 'num-of-doors', 'body-style', \n",
    "              'drive-wheels', 'engine-location', 'wheel-base', 'length', 'width', 'height', 'curb-weight', 'engine-type',\n",
    "              'num-of-cylinders', 'engine-size', 'fuel-system', 'bore', 'stroke', 'compression-ratio', 'horsepower',\n",
    "              'peak-rpm', 'city-mpg', 'highway-mpg', 'price']\n",
    "\n",
    "# read dataset\n",
    "df = pd.read_csv('../datasets/automobile.data', names=column_names)\n",
    "\n",
    "df.head()"
   ]
  },
  {
   "cell_type": "markdown",
   "metadata": {},
   "source": [
    "Seperti yang kita lihat dari contoh dataframe <code>df</code>, ada beberapa <i>cell</i> yang mengandung <i>missing values</i> berupa simbol tanda tanya <code>?</code>. Oleh karena itu, kita harus menangani dulu <i>missing values</i> ini.\n",
    "\n",
    "Pertama, kita harus mengubah dulu tanda <code>?</code> menjadi __NaN__."
   ]
  },
  {
   "cell_type": "code",
   "execution_count": null,
   "metadata": {},
   "outputs": [],
   "source": [
    "# replace missing values '?' dengan NaN\n",
    "\n",
    "df = df.replace('?', np.nan)\n",
    "df.head()"
   ]
  },
  {
   "cell_type": "markdown",
   "metadata": {},
   "source": [
    "Kemudian kita hapus data yang menganding NaN pada kolom <code>price</code> menggunakan <code>dropna()</code>. Sementara itu, untuk kolom lainnya, kita ganti nilai NaN dengan nilai tertentu seperti di bawah ini. Penjelasan tentang <i>missing values</i> yang lebih detail dapat Anda pelajari di modul <i>data preparation</i>, notebook <i>missing values</i>."
   ]
  },
  {
   "cell_type": "code",
   "execution_count": null,
   "metadata": {},
   "outputs": [],
   "source": [
    "# Menghapus baris yang mengandung mising values di kolom price\n",
    "df.dropna(subset=['price'], axis=0, inplace=True)\n",
    "\n",
    "# Me-reset indeks karena ada data yang terhapus\n",
    "df.reset_index(drop=True, inplace=True)\n",
    "\n",
    "# Mengganti missing values dengan 'four' untuk kolom num-of-doors\n",
    "df['num-of-doors'].fillna('four', inplace=True)\n",
    "\n",
    "# Mengganti missing values dengan mean-nya untuk kolom lainnya\n",
    "avg_norm = df['normalized-losses'].astype('float').mean(axis=0)\n",
    "df['normalized-losses'].replace(np.nan, avg_norm, inplace=True)\n",
    "\n",
    "avg_stroke = df['stroke'].astype('float').mean(axis=0)\n",
    "df['stroke'].replace(np.nan, avg_stroke, inplace=True)\n",
    "\n",
    "avg_bore = df['bore'].astype('float').mean(axis=0)\n",
    "df['bore'].replace(np.nan, avg_bore, inplace=True)\n",
    "\n",
    "avg_horse = df['horsepower'].astype('float').mean(axis=0)\n",
    "df['horsepower'].replace(np.nan, avg_horse, inplace=True)\n",
    "\n",
    "avg_peak = df['peak-rpm'].astype('float').mean(axis=0)\n",
    "df['peak-rpm'].replace(np.nan, avg_norm, inplace=True)\n",
    "\n",
    "df.head()"
   ]
  },
  {
   "cell_type": "markdown",
   "metadata": {},
   "source": [
    "Selanjutnya kita ganti tipe datanya."
   ]
  },
  {
   "cell_type": "code",
   "execution_count": null,
   "metadata": {},
   "outputs": [],
   "source": [
    "# Konversi tipe data\n",
    "\n",
    "df[['bore', 'stroke', 'peak-rpm']] = df[['bore', 'stroke', 'peak-rpm']].astype('float')\n",
    "df[['normalized-losses', 'horsepower']] = df[['normalized-losses', 'horsepower']].astype('int')\n",
    "df[['price']] = df[['price']].astype('float')"
   ]
  },
  {
   "cell_type": "markdown",
   "metadata": {},
   "source": [
    "Sekarang kita cek info dataframe <code>df</code> setelah penanganan <i>missing values</i>."
   ]
  },
  {
   "cell_type": "code",
   "execution_count": null,
   "metadata": {},
   "outputs": [],
   "source": [
    "# Mengecek info dataframe\n",
    "\n",
    "df.info()"
   ]
  },
  {
   "cell_type": "markdown",
   "metadata": {},
   "source": [
    "<hr>"
   ]
  },
  {
   "cell_type": "markdown",
   "metadata": {},
   "source": [
    "## Membuat Heatmap dengan Seaborn"
   ]
  },
  {
   "cell_type": "markdown",
   "metadata": {},
   "source": [
    "__Heatmap__ adalah salah satu jenis visualisasi data yang memetakan kolom-kolom pada dataframe ke dalam axis X dan Y sebagai kotak-kotak berwarna. Heatmap lebih mudah dibuat menggunakan <i>library</i> __Seaborn__ karena memiliki <i>method</i> tersendiri, yaitu <code>heatmap()</code>, untuk men-<i>generate</i>-nya.\n",
    "    \n",
    "__Seaborn__ sendiri merupakan salah satu <i>library</i> visualisasi data sama seperti Matplotlib. Perbedaan pada fungsionalitasnya adalah Matplotlib baik digunakan untuk membuat pola-pola dasar, sedangkan Seaborn baik digunakan jika ingin membuat variasi pola visualisasi."
   ]
  },
  {
   "cell_type": "markdown",
   "metadata": {},
   "source": [
    "Sebelum memulai praktek membuat heatmap dengan Seaborn, kita harus menyiapkan dahulu dataframenya. Untuk lebih mudah, kita akan melakukan <i>reshaping</i> terlebih dahulu terhadap dataframe <code>df</code> menggunakan <code>pivot_table()</code>. \n",
    "\n",
    "Misalnya disini kita akan menjadikan <code>drive-wheels</code> sebagai indeksnya, <code>body-style</code> sebagai kolomnya, dan <code>price</code> sebagai nilainya. Untuk <i>aggregate function</i>-nya kita akan menggunakan <i>mean</i>. Jadi nanti yang tampil sebagai nilainya adalah <i>mean</i> dari harganya."
   ]
  },
  {
   "cell_type": "code",
   "execution_count": null,
   "metadata": {},
   "outputs": [],
   "source": [
    "# Membuat pivot tabel\n",
    "\n",
    "df_pivot = df.pivot_table(index='drive-wheels', columns='body-style', values='price', aggfunc='mean')\n",
    "df_pivot"
   ]
  },
  {
   "cell_type": "markdown",
   "metadata": {},
   "source": [
    "Setelah itu, dengan menggunakan <i>method</i> <code>heatmap()</code> dari Seaborn, kita dapat dengan mudah menghasilkan heatmap. Perhatikan kode berikut. "
   ]
  },
  {
   "cell_type": "code",
   "execution_count": null,
   "metadata": {},
   "outputs": [],
   "source": [
    "# Membuat heatmap\n",
    "\n",
    "sns.heatmap(df_pivot)"
   ]
  },
  {
   "cell_type": "markdown",
   "metadata": {},
   "source": [
    "Mudah bukan membuat heatmap dengan Seaborn?!\n",
    "\n",
    "Dua kotak di sebelah kiri atas tidak terbentuk (berwarna putih) karena memang nilai tersebut adalah __NaN__.\n",
    "\n",
    "Nah, kita juga pasti ingin mempercantik heatmap tersebut seperti dengan mengatur ukuran <i>figure</i> maupun label, bukan?! Untuk itu, kita dapat menggunakan Matplotlib."
   ]
  },
  {
   "cell_type": "code",
   "execution_count": null,
   "metadata": {},
   "outputs": [],
   "source": [
    "# Menggunakan Matplotlib untuk mengatur plot\n",
    "\n",
    "plt.figure(figsize=(12,7))    # Mengatur ukuran figure\n",
    "\n",
    "# Membuat heatmap\n",
    "sns.heatmap(df_pivot)\n",
    "\n",
    "plt.title('Harga Rata-rata Mobil Berdasarkan Body Style dan Drive Wheels\\n', size=16)\n",
    "plt.xlabel('\\nBody Style', size=14)\n",
    "plt.ylabel('Drive Wheels\\n', size=14)\n",
    "plt.xticks(size=14)\n",
    "plt.yticks(size=14)\n",
    "plt.show()"
   ]
  },
  {
   "cell_type": "markdown",
   "metadata": {},
   "source": [
    "Sekarang heatmap kita sudah diatur agar terlihat lebih besar dan mudah dibaca."
   ]
  },
  {
   "cell_type": "markdown",
   "metadata": {},
   "source": [
    "### Menambahkan teks label"
   ]
  },
  {
   "cell_type": "markdown",
   "metadata": {},
   "source": [
    "Kita juga dapat menambahkan teks pada kotak-kotak tersebut. Teks disini maksudnya nilai yang ada pada dataframe, dalam hal ini nilai rata-ratanya. \n",
    "\n",
    "Untuk menampilkan teks, kita cukup menambahkan argumen <code>annot = True</code> pada <code>heatmap()</code>. Nah, karena nilai yang ada di dataframe <code>df_pivot</code> tersebut panjang (angka di belakang koma ditulis semua), kita juga akan mengatur jumlah angka di belakang koma. Disini kita tambahkan argumen <code>fmt='.2f'</code> yang berarti kita hanya ingin menampilkan 2 angka di belakang koma desimal."
   ]
  },
  {
   "cell_type": "code",
   "execution_count": null,
   "metadata": {},
   "outputs": [],
   "source": [
    "# Menambahkan teks pada heatmap\n",
    "\n",
    "plt.figure(figsize=(12,7))    # Mengatur ukuran figure\n",
    "\n",
    "# Membuat heatmap dengan teks\n",
    "sns.heatmap(df_pivot, annot=True, fmt='.2f')\n",
    "\n",
    "plt.title('Harga Rata-rata Mobil Berdasarkan Body Style dan Drive Wheels\\n', size=16)\n",
    "plt.xlabel('\\nBody Style', size=14)\n",
    "plt.ylabel('Drive Wheels\\n', size=14)\n",
    "plt.xticks(size=14)\n",
    "plt.yticks(size=14)\n",
    "plt.show()"
   ]
  },
  {
   "cell_type": "markdown",
   "metadata": {},
   "source": [
    "### Menambahkan grid lines"
   ]
  },
  {
   "cell_type": "markdown",
   "metadata": {},
   "source": [
    "Kita dapat menambahkan <i>grid lines</i> atau garis di antara kotak-kotak tersebut dengan menambahkan parameter <code>linewidth</code>. Untuk warna garisnya kita dapat menambahakan parameter <code>linecolor</code>. Perhatikan kode di bawah ini."
   ]
  },
  {
   "cell_type": "code",
   "execution_count": null,
   "metadata": {},
   "outputs": [],
   "source": [
    "# Menambahkan grid lines pada heatmap\n",
    "\n",
    "plt.figure(figsize=(12,7))    # Mengatur ukuran figure\n",
    "\n",
    "# Membuat heatmap dengan teks dan gridlines\n",
    "sns.heatmap(df_pivot, annot=True, fmt='.2f', linewidths=3.5, linecolor='pink')\n",
    "\n",
    "plt.title('Harga Rata-rata Mobil Berdasarkan Body Style dan Drive Wheels\\n', size=16)\n",
    "plt.xlabel('\\nBody Style', size=14)\n",
    "plt.ylabel('Drive Wheels\\n', size=14)\n",
    "plt.xticks(size=14)\n",
    "plt.yticks(size=14)\n",
    "plt.show()"
   ]
  },
  {
   "cell_type": "markdown",
   "metadata": {},
   "source": [
    "Dapat dilihat sekarang heatmap-nya memiliki garis berwarna pink yang membatasi kotak-kotaknya."
   ]
  },
  {
   "cell_type": "markdown",
   "metadata": {},
   "source": [
    "### Menghapus label axis X atau Y"
   ]
  },
  {
   "cell_type": "markdown",
   "metadata": {},
   "source": [
    "Katakanlah kita ingin menghilangkan label axis X pada heatmap, kita dapat menambahkan argumen <code>xticklabels = False</code> pada <code>heatmap()</code>. Lihat contoh di bawah ini."
   ]
  },
  {
   "cell_type": "code",
   "execution_count": null,
   "metadata": {},
   "outputs": [],
   "source": [
    "# Menghapus label axis X\n",
    "\n",
    "plt.figure(figsize=(12,7))    # Mengatur ukuran figure\n",
    "\n",
    "sns.heatmap(df_pivot, annot=True, fmt='.2f', xticklabels=False)\n",
    "\n",
    "plt.title('Harga Rata-rata Mobil Berdasarkan Body Style dan Drive Wheels\\n', size=16)\n",
    "plt.xlabel('\\nBody Style', size=14)\n",
    "plt.ylabel('Drive Wheels\\n', size=14)\n",
    "plt.xticks(size=14)\n",
    "plt.yticks(size=14)\n",
    "plt.show()"
   ]
  },
  {
   "cell_type": "markdown",
   "metadata": {},
   "source": [
    "Jika ingin menghilangkan label axis Y, Anda dapat mengatur <code>yticklabels = False</code>.\n",
    "\n",
    "Kita juga dapat mengatur untuk kelipatan berapa label axis X atau Y yang ingin dimunculkan. Misalnya pada contoh berikut, kita mengatur <code>xticklabels=2</code> maka label axis X yang muncul akan lompat satu angka. Silahkan jalankan <i>cell</i> di bawah ini untuk melihat hasilnya."
   ]
  },
  {
   "cell_type": "code",
   "execution_count": null,
   "metadata": {},
   "outputs": [],
   "source": [
    "# Mengatur xticklabels\n",
    "\n",
    "plt.figure(figsize=(12,7))    # Mengatur ukuran figure\n",
    "\n",
    "sns.heatmap(df_pivot, annot=True, fmt='.2f', xticklabels=2)\n",
    "\n",
    "plt.title('Harga Rata-rata Mobil Berdasarkan Body Style dan Drive Wheels\\n', size=16)\n",
    "plt.xlabel('\\nBody Style', size=14)\n",
    "plt.ylabel('Drive Wheels\\n', size=14)\n",
    "plt.xticks(size=14)\n",
    "plt.yticks(size=14)\n",
    "plt.show()"
   ]
  },
  {
   "cell_type": "markdown",
   "metadata": {},
   "source": [
    "### Menghilangkan colorbar"
   ]
  },
  {
   "cell_type": "markdown",
   "metadata": {},
   "source": [
    "Kita dapat menghilangkan <i>colorbar</i> dengan menambahkan argumen <code>cbar = False</code> pada <code>heatmap()</code>."
   ]
  },
  {
   "cell_type": "code",
   "execution_count": null,
   "metadata": {},
   "outputs": [],
   "source": [
    "# Menghilangkan colorbar pada heatmap\n",
    "\n",
    "plt.figure(figsize=(12,7))    # Mengatur ukuran figure\n",
    "\n",
    "sns.heatmap(df_pivot, annot=True, fmt='.2f', cbar=False)\n",
    "\n",
    "plt.title('Harga Rata-rata Mobil Berdasarkan Body Style dan Drive Wheels\\n', size=16)\n",
    "plt.xlabel('\\nBody Style', size=14)\n",
    "plt.ylabel('Drive Wheels\\n', size=14)\n",
    "plt.xticks(size=14)\n",
    "plt.yticks(size=14)\n",
    "plt.show()"
   ]
  },
  {
   "cell_type": "markdown",
   "metadata": {},
   "source": [
    "### Mengatur warna"
   ]
  },
  {
   "cell_type": "markdown",
   "metadata": {},
   "source": [
    "Warna pada heatmap dapat diatur dengan <i>colormap</i> atau cmap. Anda dapat menambahkan parameter <code>cmap</code> yang diisi nama <i>colorbar</i> apa yang diinginkan pada <code>heatmap()</code>. Misalnya pada contoh di bawah ini, kita menggunakan <code>cmap = 'plasma'</code>."
   ]
  },
  {
   "cell_type": "code",
   "execution_count": null,
   "metadata": {},
   "outputs": [],
   "source": [
    "# Mengatur warna heatmap\n",
    "\n",
    "plt.figure(figsize=(12,7))    # Mengatur ukuran figure\n",
    "\n",
    "sns.heatmap(df_pivot, annot=True, fmt='.2f', cmap='plasma')\n",
    "\n",
    "plt.title('Harga Rata-rata Mobil Berdasarkan Body Style dan Drive Wheels\\n', size=16)\n",
    "plt.xlabel('\\nBody Style', size=14)\n",
    "plt.ylabel('Drive Wheels\\n', size=14)\n",
    "plt.xticks(size=14)\n",
    "plt.yticks(size=14)\n",
    "plt.show()"
   ]
  },
  {
   "cell_type": "markdown",
   "metadata": {},
   "source": [
    "Sekarang lihat bagaimana jika kita memberikan warna <code>cmap = 'Blues'</code> ?!"
   ]
  },
  {
   "cell_type": "code",
   "execution_count": null,
   "metadata": {},
   "outputs": [],
   "source": [
    "# Mengatur warna heatmap\n",
    "\n",
    "plt.figure(figsize=(12,7))    # Mengatur ukuran figure\n",
    "\n",
    "sns.heatmap(df_pivot, annot=True, fmt='.2f', cmap='Blues')\n",
    "\n",
    "plt.title('Harga Rata-rata Mobil Berdasarkan Body Style dan Drive Wheels\\n', size=16)\n",
    "plt.xlabel('\\nBody Style', size=14)\n",
    "plt.ylabel('Drive Wheels\\n', size=14)\n",
    "plt.xticks(size=14)\n",
    "plt.yticks(size=14)\n",
    "plt.show()"
   ]
  },
  {
   "cell_type": "markdown",
   "metadata": {},
   "source": [
    "<code>cmap = 'YlGnBu'</code> juga dapat dijadikan pilihan. __YlGnBu__ berarti <i>yellow, green, blue</i>."
   ]
  },
  {
   "cell_type": "code",
   "execution_count": null,
   "metadata": {},
   "outputs": [],
   "source": [
    "# Mengatur warna heatmap\n",
    "\n",
    "plt.figure(figsize=(12,7))    # Mengatur ukuran figure\n",
    "\n",
    "sns.heatmap(df_pivot, annot=True, fmt='.2f', cmap='YlGnBu')\n",
    "\n",
    "plt.title('Harga Rata-rata Mobil Berdasarkan Body Style dan Drive Wheels\\n', size=16)\n",
    "plt.xlabel('\\nBody Style', size=14)\n",
    "plt.ylabel('Drive Wheels\\n', size=14)\n",
    "plt.xticks(size=14)\n",
    "plt.yticks(size=14)\n",
    "plt.show()"
   ]
  },
  {
   "cell_type": "markdown",
   "metadata": {},
   "source": [
    "### Melihat korelasi antarkolom dengan Heatmap"
   ]
  },
  {
   "cell_type": "markdown",
   "metadata": {},
   "source": [
    "Selain untuk visualisasi kolom kategori seperti contoh-contoh di atas, <code>heatmap()</code> juga dapat digunakan untuk melihat korelasi antarkolom numerik pada dataframe. Untuk menghasilkan nilai korelasi, kita dapat menggunakan <i>method</i> <code>corr()</code> pada dataframe <code>df</code>. Perhatikan contoh berikut."
   ]
  },
  {
   "cell_type": "code",
   "execution_count": null,
   "metadata": {},
   "outputs": [],
   "source": [
    "# Melihat korelasi antarkolom dengan heatmap\n",
    "\n",
    "plt.figure(figsize=(14,8))    # Mengatur ukuran figure\n",
    "\n",
    "# Membuat heatmap untuk melihat korelasi kolom numerik\n",
    "sns.heatmap(df.corr(), annot=True, fmt='.2f', cmap='YlGnBu')\n",
    "\n",
    "plt.title('Korelasi Antar-variabel\\n', size=18)\n",
    "plt.xticks(size=14)\n",
    "plt.yticks(size=14)\n",
    "plt.show()"
   ]
  },
  {
   "cell_type": "markdown",
   "metadata": {},
   "source": [
    "<hr>"
   ]
  },
  {
   "cell_type": "markdown",
   "metadata": {},
   "source": [
    "## Membuat Heatmap dengan Matplotlib"
   ]
  },
  {
   "cell_type": "markdown",
   "metadata": {},
   "source": [
    "Jika Anda tidak ingin menggunakan Seaborn, Anda juga dapat membuat heatmap dengan Matplotlib. Disini kita akan menggunakan dataframe <code>df_pivot</code> seperti pada contoh di atas.\n",
    "\n",
    "Sebelumnya, mari kita lihat lagi dataframe <code>df_pivot</code>."
   ]
  },
  {
   "cell_type": "code",
   "execution_count": null,
   "metadata": {},
   "outputs": [],
   "source": [
    "# Menampilkan dataframe df_pivot\n",
    "\n",
    "df_pivot"
   ]
  },
  {
   "cell_type": "markdown",
   "metadata": {},
   "source": [
    "Untuk membuat heatmap dengan Matplotlib, kita dapat menggunakan <i>method</i> <code>imshow()</code>. Perhatikan contoh di bawah ini."
   ]
  },
  {
   "cell_type": "code",
   "execution_count": null,
   "metadata": {},
   "outputs": [],
   "source": [
    "# Membuat heatmap dengan Matplotlib\n",
    "\n",
    "plt.figure(figsize=(12,7))    # Mengatur ukuran figure\n",
    "\n",
    "# Membuat heatmap dengan imshow()\n",
    "plt.imshow(df_pivot, cmap='Reds')\n",
    "\n",
    "plt.title('Harga Rata-rata Mobil Berdasarkan Body Style dan Drive Wheels\\n', size=16)\n",
    "plt.colorbar()             # Menampilkan colorbar\n",
    "\n",
    "plt.xlabel('\\nBody Style', size=14)\n",
    "plt.ylabel('Drive Wheels\\n', size=14)\n",
    "plt.xticks(range(len(df_pivot.columns)),df_pivot.columns, size=14)     # Menampilkan xticklabel\n",
    "plt.yticks(range(len(df_pivot.index)),df_pivot.index, size=14)       # Menampilkan yticklabel\n",
    "plt.show()"
   ]
  },
  {
   "cell_type": "markdown",
   "metadata": {},
   "source": [
    "Sekarang kita coba melihat korelasi kolom numerik pada dataframe <code>df</code> dengan Matplotlib."
   ]
  },
  {
   "cell_type": "code",
   "execution_count": null,
   "metadata": {},
   "outputs": [],
   "source": [
    "# Membuat heatmap dengan Matplotlib\n",
    "\n",
    "plt.figure(figsize=(12,8))    # Mengatur ukuran figure\n",
    "\n",
    "# Membuat heatmap dengan imshow()\n",
    "plt.imshow(df.corr(), cmap='Purples')\n",
    "\n",
    "plt.title('Harga Rata-rata Mobil Berdasarkan Body Style dan Drive Wheels\\n', size=16)\n",
    "plt.colorbar()             # Menampilkan colorbar\n",
    "\n",
    "plt.xticks(range(len(df.corr().columns)),df.corr().columns, size=14, rotation=90)     # Menampilkan xticklabel\n",
    "plt.yticks(range(len(df.corr().index)),df.corr().index, size=14)                      # Menampilkan yticklabel\n",
    "plt.show()"
   ]
  },
  {
   "cell_type": "markdown",
   "metadata": {},
   "source": [
    "Kita juga dapat menggunakan <i>method</i> <code>pcolor()</code> untuk membuat heatmap di Matplotlib."
   ]
  },
  {
   "cell_type": "code",
   "execution_count": null,
   "metadata": {},
   "outputs": [],
   "source": [
    "plt.figure(figsize=(12,7))    # Mengatur ukuran figure\n",
    "\n",
    "# Membuat heatmap dengan pcolor()\n",
    "plt.pcolor(df_pivot, cmap='Reds')\n",
    "\n",
    "plt.title('Harga Rata-rata Mobil Berdasarkan Body Style dan Drive Wheels\\n', size=16)\n",
    "plt.colorbar()             # Menampilkan colorbar\n",
    "\n",
    "plt.xlabel('\\nBody Style', size=14)\n",
    "plt.ylabel('Drive Wheels\\n', size=14)\n",
    "\n",
    "plt.xticks(np.arange(0.5, len(df_pivot.columns), 1), df_pivot.columns, size=14)     # Menampilkan xticklabel\n",
    "plt.yticks(np.arange(0.5, len(df_pivot.index), 1), df_pivot.index, size=14)       # Menampilkan yticklabel\n",
    "plt.show()"
   ]
  },
  {
   "cell_type": "markdown",
   "metadata": {},
   "source": [
    "### Menambahkan label"
   ]
  },
  {
   "cell_type": "markdown",
   "metadata": {},
   "source": [
    "Untuk menambahkan label pada heatmap menggunakan Matplotlib agak rumit karena harus menambahkan beberapa baris kode. Pada contoh ini, kita akan memisahkan blok kode untuk menampilkan label atau nilai pada dataframe pada heatmap dengan membuat fungsi tersendiri yang dapat dipanggil pada blok kode utama. Misalnya kita membuat fungsi bernama <code>show_values()</code> seperti di bawah ini."
   ]
  },
  {
   "cell_type": "code",
   "execution_count": null,
   "metadata": {},
   "outputs": [],
   "source": [
    "def show_values(pc, fmt=\"%.2f\", **kw):\n",
    "    pc.update_scalarmappable()\n",
    "    ax = pc.axes\n",
    "    for p, color, value in zip(pc.get_paths(), pc.get_facecolors(), pc.get_array()):\n",
    "        x, y = p.vertices[:-2, :].mean(0)\n",
    "        if np.all(color[:3] > 0.5):\n",
    "            color = (0.0, 0.0, 0.0)\n",
    "        else:\n",
    "            color = (1.0, 1.0, 1.0)\n",
    "        ax.text(x, y, fmt % value, ha=\"center\", va=\"center\", color=color, **kw)"
   ]
  },
  {
   "cell_type": "markdown",
   "metadata": {},
   "source": [
    "Setelah itu, kita buat blok kode utama untuk menampilkan heatmap dengan Matplotlib dan memanggil fungsi <code>show_values()</code>. Perhatikan kode berikut."
   ]
  },
  {
   "cell_type": "code",
   "execution_count": null,
   "metadata": {},
   "outputs": [],
   "source": [
    "# Menambahkan label/values\n",
    "\n",
    "fig, ax = plt.subplots(figsize=(12,7))\n",
    "\n",
    "# Membuat heatmap dengan pcolor()\n",
    "heatmap = ax.pcolor(df_pivot, cmap='Reds')\n",
    "\n",
    "fig.colorbar(heatmap)  # Menampilkan colorbar\n",
    "show_values(heatmap)   # Menampilkan teks/label/values\n",
    "    \n",
    "plt.title('Harga Rata-rata Mobil Berdasarkan Body Style dan Drive Wheels\\n', size=16)\n",
    "\n",
    "plt.xlabel('\\nBody Style', size=14)\n",
    "plt.ylabel('Drive Wheels\\n', size=14)\n",
    "\n",
    "plt.xticks(np.arange(0.5, len(df_pivot.columns), 1), df_pivot.columns, size=14)     # Menampilkan xticklabel\n",
    "plt.yticks(np.arange(0.5, len(df_pivot.index), 1), df_pivot.index, size=14)       # Menampilkan yticklabel\n",
    "plt.show()"
   ]
  },
  {
   "cell_type": "markdown",
   "metadata": {},
   "source": [
    "Sekarang heatmap-nya sudah berlabel. \n",
    "\n",
    "Jika kita bandingkan membuat heatmap dengan Seaborn dan Matplotlib tentunya lebih mudah menggunakan Seaborn, bukan?! Pada Seaborn untuk menambahkan label nilai, kita cukup memberikan parameter <code>annot = True</code>, sedangkan jika menggunakan Matplotlib kita harus menambahkan beberapa baris kode yang harus disesuaikan secara manual."
   ]
  },
  {
   "cell_type": "markdown",
   "metadata": {},
   "source": [
    "<hr>"
   ]
  },
  {
   "cell_type": "markdown",
   "metadata": {},
   "source": [
    "Copyright @ <a href=\"https://ilmudatapy.com/\">ilmudatapy.com</a>"
   ]
  }
 ],
 "metadata": {
  "kernelspec": {
   "display_name": "Python 3",
   "language": "python",
   "name": "python3"
  },
  "language_info": {
   "codemirror_mode": {
    "name": "ipython",
    "version": 3
   },
   "file_extension": ".py",
   "mimetype": "text/x-python",
   "name": "python",
   "nbconvert_exporter": "python",
   "pygments_lexer": "ipython3",
   "version": "3.7.3"
  }
 },
 "nbformat": 4,
 "nbformat_minor": 2
}
