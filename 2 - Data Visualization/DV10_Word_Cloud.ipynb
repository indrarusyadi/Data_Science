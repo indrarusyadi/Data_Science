{
 "cells": [
  {
   "cell_type": "markdown",
   "metadata": {},
   "source": [
    "<img src=\"../images/ilmudatapy-logo.png\" width=\"350\" align=\"center\">\n",
    "<br>"
   ]
  },
  {
   "cell_type": "markdown",
   "metadata": {},
   "source": [
    "<center><h1>Word Cloud</h1></center>\n",
    "<hr>"
   ]
  },
  {
   "cell_type": "markdown",
   "metadata": {},
   "source": [
    "__Halo, Learners!__ Di notebook ini, kita akan membahas __Word Cloud__. Disini kita akan membuat <i>word cloud</i> dari data teks berekstensi <code>.txt</code> dan juga dataset berekstensi <code>.csv</code>. Kita juga akan belajar membuat <i>word cloud</i> dengan berbagai bentuk objek serta mengatur warna <i>background</i> dan teksnya."
   ]
  },
  {
   "cell_type": "markdown",
   "metadata": {},
   "source": [
    "<h2>Table of Contents</h2>\n",
    "<div class=\"alert alert-block alert-info\" style=\"margin-top: 25px\">\n",
    "    <ul>\n",
    "        <li>\n",
    "            Apa itu Wordcloud?\n",
    "            <ul>\n",
    "                <li>Install Wordcloud</li>\n",
    "            </ul>\n",
    "        </li>\n",
    "        <li>\n",
    "            Load data teks\n",
    "        </li>\n",
    "        <li>\n",
    "            Visualisasi teks dengan Word Cloud\n",
    "            <ul>\n",
    "                <li>Mengatur ukuran figure</li>\n",
    "                <li>Menambahkan grid lines</li>\n",
    "                <li>Menghapus kata pada word cloud</li>\n",
    "            </ul>\n",
    "        </li>\n",
    "        <li>\n",
    "            Visualisasi data pada dataframe dengan Word Cloud\n",
    "            <ul>\n",
    "                <li>Mengubah data pada dataframe menjadi string</li>\n",
    "                <li>Membuat Word Cloud dengan frekuensi kata</li>\n",
    "                <ul>\n",
    "                    <li>Menambahkan kolom 'frekuensi' pada dataframe</li>\n",
    "                </ul>\n",
    "            </ul>\n",
    "        </li>\n",
    "        <li>\n",
    "            Word Cloud pada berbagai bentuk objek\n",
    "        </li>\n",
    "    </ul>\n",
    "</div>"
   ]
  },
  {
   "cell_type": "markdown",
   "metadata": {},
   "source": [
    "<hr>\n",
    "<div class=\"alert alert-success\" style=\"margin-top: 20px\">\n",
    "    <strong>Catatan:</strong> Untuk menjalankan kode program Python di Jupyter Notebook, klik pada <i>cell</i> yang ingin di-<i>run</i> lalu tekan <kbd>Shift</kbd> + <kbd>Enter</kbd>.\n",
    "</div>"
   ]
  },
  {
   "cell_type": "markdown",
   "metadata": {},
   "source": [
    "<div class=\"alert alert-danger\" style=\"margin-top: 20px\">\n",
    "    <strong>Warning!:</strong> Jika ada kode program yang <i>error</i> atau output yang dihasilkan tidak sesuai, silahkan <b>Restart & Run All</b> kernel pada bagian menu <b>Kernel</b> di menu bar Jupyter Notebook, atau <b>Restart & Clear Output</b> kernel kemudian jalankan satu per satu <i>cell</i> secara berurutan dari atas ke bawah.\n",
    "</div>\n",
    "<hr>"
   ]
  },
  {
   "cell_type": "markdown",
   "metadata": {},
   "source": [
    "## Apa itu Wordcloud ?"
   ]
  },
  {
   "cell_type": "markdown",
   "metadata": {},
   "source": [
    "__Word Cloud__ adalah salah satu visualisasi data yang digunakan untuk melihat kata-kata yang paling sering muncul di sebuah data teks seperti artikel, buku, dan lain sebagainya. Semakin sering kata tersebut muncul, maka akan semakin besar tulisan kata tersebut pada <i>Word Cloud</i>.\n",
    "\n",
    "Di Python, kita dapat membuat <i>Word Cloud</i> dengan menggunakan <i>package</i> <code>wordcloud</code> yang sudah tersedia. Disini kita akan menggunakan <i>package</i> tersebut untuk membuat <i>Word Cloud</i>. "
   ]
  },
  {
   "cell_type": "markdown",
   "metadata": {},
   "source": [
    "### Install Wordcloud"
   ]
  },
  {
   "cell_type": "markdown",
   "metadata": {},
   "source": [
    "Untuk membuat __Word Cloud__ kita harus meng-<i>install</i> <i>package</i>-nya terlebih dahulu. Jalankan kode di bawah untuk menginstal <code>wordcloud</code>."
   ]
  },
  {
   "cell_type": "code",
   "execution_count": null,
   "metadata": {},
   "outputs": [],
   "source": [
    "pip install wordcloud"
   ]
  },
  {
   "cell_type": "markdown",
   "metadata": {},
   "source": [
    "Setelah terinstal, seperti biasanya kita harus meng-<i>import</i>-nya sebelum menggunakannya. Disini kita mengimpor beberapa <i>library</i> atau <i>package</i> seperti Matplotlib, Numpy, Pandas, dan tentunya WordCloud. Kita juga harus mengimpor __STOPWORDS__ karena akan kita gunakan untuk mem-<i>filter</i> kata-kata yang kurang penting pada string."
   ]
  },
  {
   "cell_type": "code",
   "execution_count": null,
   "metadata": {},
   "outputs": [],
   "source": [
    "# import package yang dibutuhkan\n",
    "\n",
    "from wordcloud import WordCloud, STOPWORDS\n",
    "import matplotlib.pyplot as plt\n",
    "import numpy as np\n",
    "import pandas as pd"
   ]
  },
  {
   "cell_type": "markdown",
   "metadata": {},
   "source": [
    "<hr>"
   ]
  },
  {
   "cell_type": "markdown",
   "metadata": {},
   "source": [
    "## Load data teks"
   ]
  },
  {
   "cell_type": "markdown",
   "metadata": {},
   "source": [
    "Disini kita akan menggunakan data teks dari novel yang cukup terkenal dari Lewis Carroll yang berjudul __Alice's Adventures in Wonderland__.\n",
    "\n",
    "Pertama kita harus membuka <i>file</i> tersebut dan membacanya. Kita akan memasukkannya ke dalam sebuah variabel, misalnya <code>novel_alice</code>."
   ]
  },
  {
   "cell_type": "code",
   "execution_count": null,
   "metadata": {},
   "outputs": [],
   "source": [
    "# Membuka file dan memasukkannya ke dalam variabel novel_alice\n",
    "\n",
    "novel_alice = open('../datasets/novel-alice.txt', 'r', encoding='utf8').read()"
   ]
  },
  {
   "cell_type": "markdown",
   "metadata": {},
   "source": [
    "Anda dapat melihat isi dari teks tersebut dengan <code>print</code>."
   ]
  },
  {
   "cell_type": "code",
   "execution_count": null,
   "metadata": {},
   "outputs": [],
   "source": [
    "# Menampilkan teks novel_alice\n",
    "\n",
    "print(novel_alice)"
   ]
  },
  {
   "cell_type": "markdown",
   "metadata": {},
   "source": [
    "Kemudian kita harus mendefinisikan <i>stopwords</i> dari <i>package</i> <code>wordcloud</code> yang telah kita <i>import</i> sebelumnya. <i>Stopwords</i> yang tersedia di Python adalah versi bahasa inggris. Untuk <i>stopwords</i> berbahasa selain bahasa inggris, Anda harus mendefinisikannya sendiri."
   ]
  },
  {
   "cell_type": "code",
   "execution_count": null,
   "metadata": {},
   "outputs": [],
   "source": [
    "# Mendefinisikan stopwords\n",
    "\n",
    "stopwords = set(STOPWORDS)"
   ]
  },
  {
   "cell_type": "markdown",
   "metadata": {},
   "source": [
    "Sekarang kita <code>print</code> stopwords."
   ]
  },
  {
   "cell_type": "code",
   "execution_count": null,
   "metadata": {},
   "outputs": [],
   "source": [
    "# Menampilkan stopwords\n",
    "\n",
    "print(stopwords)"
   ]
  },
  {
   "cell_type": "markdown",
   "metadata": {},
   "source": [
    "Sekarang kita dapat langsung membuat <i>Word Cloud</i>."
   ]
  },
  {
   "cell_type": "markdown",
   "metadata": {},
   "source": [
    "<hr>"
   ]
  },
  {
   "cell_type": "markdown",
   "metadata": {},
   "source": [
    "## Visualisasi teks dengan Word Cloud"
   ]
  },
  {
   "cell_type": "markdown",
   "metadata": {},
   "source": [
    "Untuk membuat <i>Word Cloud</i>, pertama kita harus membuat objek <code>WordCloud</code> dan men-<i>generate</i>-nya dengan <i>method</i> <code>generate()</code>. Perhatikan kode berikut."
   ]
  },
  {
   "cell_type": "code",
   "execution_count": null,
   "metadata": {},
   "outputs": [],
   "source": [
    "# Membuat objek word cloud\n",
    "wordcloud_alice = WordCloud(\n",
    "    background_color='white',\n",
    "    max_words=10000,\n",
    "    stopwords=stopwords\n",
    ")\n",
    "\n",
    "# Generate word cloud\n",
    "wordcloud_alice.generate(novel_alice)"
   ]
  },
  {
   "cell_type": "markdown",
   "metadata": {},
   "source": [
    "Pada objek <i>word cloud</i>, kita dapat memberikan beberapa argumen diantaranya yang digunakan pada contoh kode di atas adalah :\n",
    "\n",
    "* <code>background_color</code> untuk mengatur warna latar belakang. Pada contoh di atas, kita mendefinisikan warna putih (white) sebagai warna latarnya.\n",
    "* <code>max_words</code> untuk mendefinisikan jumlah kata yang akan diambil. Pada contoh di atas, hanya 10000 kata pertama dari novel_alice yang akan digunakan untuk membuat word cloud.\n",
    "* <code>stopwords</code> untuk mem-filter kata-kata tertentu agar tidak muncul pada hasil visualisasi.\n",
    "\n",
    "Selanjutnya, kita tampilkan objek <i>word cloud</i> tersebut menggunakan <i>method</i> dari Matplotlib yaitu <code>imshow()</code>."
   ]
  },
  {
   "cell_type": "code",
   "execution_count": null,
   "metadata": {},
   "outputs": [],
   "source": [
    "# Menampilkan word cloud\n",
    "\n",
    "plt.imshow(wordcloud_alice, interpolation='bilinear')\n",
    "plt.axis('off')\n",
    "plt.show()"
   ]
  },
  {
   "cell_type": "markdown",
   "metadata": {},
   "source": [
    "### Mengatur ukuran figure"
   ]
  },
  {
   "cell_type": "markdown",
   "metadata": {},
   "source": [
    "Seperti yang kita lihat sebelumnya, <i>word cloud</i> yang terbentuk berukuran kecil. Untuk menentukan ukuran <i>figure</i>, kita dapat mengaturnya dengan <i>method</i> <code>set_figwidth()</code> dan <code>set_figheight()</code>."
   ]
  },
  {
   "cell_type": "code",
   "execution_count": null,
   "metadata": {},
   "outputs": [],
   "source": [
    "fig = plt.figure()\n",
    "fig.set_figwidth(14) # mengatur width\n",
    "fig.set_figheight(10) # mengatur height\n",
    "\n",
    "# menampilkan word cloud\n",
    "plt.imshow(wordcloud_alice, interpolation='bilinear')\n",
    "plt.axis('off')\n",
    "plt.show()"
   ]
  },
  {
   "cell_type": "markdown",
   "metadata": {},
   "source": [
    "Atau, kita dapat menggunakan <code>figsize</code> seperti di bawah ini."
   ]
  },
  {
   "cell_type": "code",
   "execution_count": null,
   "metadata": {},
   "outputs": [],
   "source": [
    "# Mengatur ukuran figure\n",
    "\n",
    "plt.figure(figsize=(14,10))\n",
    "plt.imshow(wordcloud_alice, interpolation='bilinear')\n",
    "plt.axis('off')\n",
    "plt.show()"
   ]
  },
  {
   "cell_type": "markdown",
   "metadata": {},
   "source": [
    "### Menghapus kata pada Word Cloud"
   ]
  },
  {
   "cell_type": "markdown",
   "metadata": {},
   "source": [
    "Adakalanya kita ingin menghilangkan salah satu kata pada <i>word cloud</i> karena dianggap kurang penting. Untuk itu, kita harus memasukkan kata tersebut ke dalam <i>stopwords</i> agar tidak diikutsertakan dalam pembuatan <i>word cloud</i>.\n",
    "\n",
    "Misalnya seperti yang kita lihat dari output <i>word cloud</i> sebelumnya, ada string __'S'__ yang tidak bermakna apapun pada <i>word cloud</i> dan ingin kita hapus. Kita dapat menambahkan __'S'__ pada <i>stopwords</i>. Perhatikan kode berikut."
   ]
  },
  {
   "cell_type": "code",
   "execution_count": null,
   "metadata": {},
   "outputs": [],
   "source": [
    "stopwords.add('S') # menambahkan 'S' pada stopwords\n",
    "\n",
    "# men-generate ulang word cloud\n",
    "wordcloud_alice.generate(novel_alice)\n",
    "\n",
    "# menampilkan word cloud\n",
    "fig = plt.figure()\n",
    "fig.set_figwidth(14)\n",
    "fig.set_figheight(10) \n",
    "\n",
    "plt.imshow(wordcloud_alice, interpolation='bilinear')\n",
    "plt.axis('off')\n",
    "plt.show()"
   ]
  },
  {
   "cell_type": "markdown",
   "metadata": {},
   "source": [
    "Sekarang <i>word cloud</i> tersebut sudah tidak mengandung string __'S'__.\n",
    "\n",
    "Bagaimana jika kita ingin menambahkan beberapa kata pada <i>stopwords</i> ?\n",
    "\n",
    "Kita dapat menambahkannya dengan menggunakan __for__ <i>looping</i> seperti di bawah ini."
   ]
  },
  {
   "cell_type": "code",
   "execution_count": null,
   "metadata": {},
   "outputs": [],
   "source": [
    "add_stopword = ['don', 't', 'without', 'll', 'tm']   # membuat list stopwords\n",
    "\n",
    "# menambahkan add_stopword pada stopwords\n",
    "for i in add_stopword:\n",
    "    stopwords.add(i) \n",
    "\n",
    "# men-generate ulang word cloud\n",
    "wordcloud_alice.generate(novel_alice)\n",
    "\n",
    "# menampilkan word cloud\n",
    "fig = plt.figure()\n",
    "fig.set_figwidth(14) \n",
    "fig.set_figheight(10) \n",
    "\n",
    "plt.imshow(wordcloud_alice, interpolation='bilinear')\n",
    "plt.axis('off')\n",
    "plt.show()"
   ]
  },
  {
   "cell_type": "markdown",
   "metadata": {},
   "source": [
    "<hr>"
   ]
  },
  {
   "cell_type": "markdown",
   "metadata": {},
   "source": [
    "## Visualisasi data pada dataframe dengan Word Cloud"
   ]
  },
  {
   "cell_type": "markdown",
   "metadata": {},
   "source": [
    "Normalnya, <i>word cloud</i> di-<i>generate</i> dari data teks atau string. Namun, bagaimana jika kita ingin membuat <i>word cloud</i> dari data pada dataframe? Untuk melakukan hal itu, salah satu caranya yaitu kita dapat membuat data tersebut menjadi string.\n",
    "\n",
    "Misalnya disini kita menggunakan dataset populasi penduduk di setiap negara di dunia, dan kita ingin menampilkan nama-nama negara dalam bentuk <i>word cloud</i> berdasarkan pada jumlah populasinya. Semakin banyak populasinya, maka nama negara tersebut akan semakin besar di <i>word cloud</i>.\n",
    "\n",
    "Pertama, mari kita <i>load</i> datasetnya terlebih dahulu dengan <code>read_csv()</code> dan kemudian kita simpan pada variabel <code>df</code>."
   ]
  },
  {
   "cell_type": "code",
   "execution_count": null,
   "metadata": {},
   "outputs": [],
   "source": [
    "# Load dataset\n",
    "\n",
    "df = pd.read_csv(\"../datasets/pop_worldometer_data.csv\")\n",
    "df.head(10)"
   ]
  },
  {
   "cell_type": "markdown",
   "metadata": {},
   "source": [
    "Kemudian agar lebih mudah dalam <i>indexing</i>, kita akan mengatur kolom <code>Country (or dependency)</code> sebagai indeks menggunakan <i>method</i> <code>set_index()</code>."
   ]
  },
  {
   "cell_type": "code",
   "execution_count": null,
   "metadata": {},
   "outputs": [],
   "source": [
    "# Mengatur 'Country (or dependency)' sebagai indeks\n",
    "\n",
    "df.set_index(\"Country (or dependency)\", inplace=True)"
   ]
  },
  {
   "cell_type": "markdown",
   "metadata": {},
   "source": [
    "Mari kita lihat dataframenya setelah perubahan dilakukan."
   ]
  },
  {
   "cell_type": "code",
   "execution_count": null,
   "metadata": {},
   "outputs": [],
   "source": [
    "# Menampilkan 10 data teratas\n",
    "\n",
    "df.head(10)"
   ]
  },
  {
   "cell_type": "markdown",
   "metadata": {},
   "source": [
    "### Mengubah data pada dataframe menjadi string"
   ]
  },
  {
   "cell_type": "markdown",
   "metadata": {},
   "source": [
    "Untuk membuat <i>word cloud</i> dari dataframe, cara pertama yang dapat dilakukan adalah dengan mengubah data pada dataframe menjadi string. Dalam kasus ini, kita akan menjadikan nama-nama negara (indeks dataframe) sebagai string dengan masing-masing negara memiliki jumlah tertentu. Perhatikan kode berikut."
   ]
  },
  {
   "cell_type": "code",
   "execution_count": null,
   "metadata": {},
   "outputs": [],
   "source": [
    "# Membuat string dari indeks dataframe \n",
    "\n",
    "word_string = ''      # Mendefinisikan string kosong\n",
    "\n",
    "# Perhitungan untuk menentukan jumlah untuk tiap negara\n",
    "for country in df.index.values:\n",
    "    repeat_num_times = int(df.loc[country, 'World Share %']*100)\n",
    "    word_string = word_string + ((country + ' ') * repeat_num_times)\n",
    "                                     \n",
    "# display the generated text\n",
    "word_string"
   ]
  },
  {
   "cell_type": "markdown",
   "metadata": {},
   "source": [
    "Dari kode di atas, kita menentukan jumlah kata untuk tiap negara yang tercetak dengan mengalikan kolom <code>World Share %</code> dengan __100__. \n",
    "\n",
    "Setelah kita memiliki string-nya, kita dapat membuat objek <i>word cloud</i>, men-<i>generate</i>-nya, dan menampilkannya dengan Matplotlib seperti di bawah ini."
   ]
  },
  {
   "cell_type": "code",
   "execution_count": null,
   "metadata": {},
   "outputs": [],
   "source": [
    "# Membuat word cloud\n",
    "wordcloud_country = WordCloud(background_color='black', \n",
    "                              collocations=False, \n",
    "                              colormap='viridis',\n",
    "                              width=600,\n",
    "                              height=330)\n",
    "\n",
    "wordcloud_country.generate(word_string)\n",
    "\n",
    "plt.figure(figsize=(16,12))\n",
    "plt.imshow(wordcloud_country, interpolation='bilinear')\n",
    "plt.axis('off')\n",
    "plt.show()"
   ]
  },
  {
   "cell_type": "markdown",
   "metadata": {},
   "source": [
    "Ada beberapa parameter yang baru kita gunakan, di antaranya:\n",
    "\n",
    "* <code>collocations</code> : kita atur dengan nilai __False__ agar kemunculan nama negara tidak <i>double</i>.\n",
    "* <code>colormap</code> : untuk mengatur warna teks pada <i>word cloud</i>.\n",
    "* <code>width</code> : untuk mengatur lebar (horizontal) <i>word cloud</i>.\n",
    "* <code>height</code> : untuk mengatur tinggi (vertikal) <i>word cloud</i>."
   ]
  },
  {
   "cell_type": "markdown",
   "metadata": {},
   "source": [
    "### Membuat Word Cloud dari frekuensi kata"
   ]
  },
  {
   "cell_type": "markdown",
   "metadata": {},
   "source": [
    "Cara yang kedua untuk membuat <i>word cloud</i> dari dataframe adalah dari frekuensi setiap kata. Disini kita tidak membuat string atau teks dari dataframe, melainkan membuat 2 list dengan jumlah elemen yang sama, dimana satu list berfungsi untuk menampung kata (nama negara) dan satu list lagi untuk menampung jumlah frekuensi. Untuk menghasilkan frekuensinya kita masih menggunakan perhitungan hasil kali antara kolom <code>World Share %</code> dengan __100__."
   ]
  },
  {
   "cell_type": "code",
   "execution_count": null,
   "metadata": {},
   "outputs": [],
   "source": [
    "# Membuat list_country dan list_freq\n",
    "\n",
    "list_country = []     # Mendefinisikan list kosong untuk menampung nama negara\n",
    "list_freq = []        # Mendefinisikan list kosong untuk menampung frekuensi\n",
    "\n",
    "for country in df.index.values:\n",
    "    frequency = int(df.loc[country, 'World Share %']*100)\n",
    "    \n",
    "    list_country.append(country)         # Menambahkan nama negara ke list_country\n",
    "    list_freq.append(frequency)          # Menambahkan frekuensi ke list_freq"
   ]
  },
  {
   "cell_type": "markdown",
   "metadata": {},
   "source": [
    "Setelah itu, kita buat dictionary dari 2 list tersebut. Misalnya disini kita akan membuat dictionary dan memasukkannya ke dalam variabel <code>d</code>."
   ]
  },
  {
   "cell_type": "code",
   "execution_count": null,
   "metadata": {},
   "outputs": [],
   "source": [
    "# Membuat dictionary\n",
    "\n",
    "d = dict(zip(list_country, list_freq))\n",
    "print(d)"
   ]
  },
  {
   "cell_type": "markdown",
   "metadata": {},
   "source": [
    "Setelah mendapatkan dictionary, kita dapat membuat objek <i>word cloud</i> dan men-<i>generate</i>-nya. \n",
    "\n",
    "Ada yang berbeda dalam proses <i>generate</i> ini. Disini kita menggunakan <i>method</i> <code>generate_from_frequencies()</code> untuk men-<i>generate</i> <i>word cloud</i> dari frekuensinya."
   ]
  },
  {
   "cell_type": "code",
   "execution_count": null,
   "metadata": {},
   "outputs": [],
   "source": [
    "# Membuat objek word cloud\n",
    "wordcloud_country = WordCloud(background_color='purple', \n",
    "                              collocations=False, \n",
    "                              colormap='Paired',\n",
    "                              width=600,\n",
    "                              height=330)\n",
    "\n",
    "# Generate word cloud from frequencies\n",
    "wordcloud_country.generate_from_frequencies(d)\n",
    "\n",
    "plt.figure(figsize=(16,12))\n",
    "plt.imshow(wordcloud_country, interpolation='bilinear')\n",
    "plt.axis('off')\n",
    "plt.show()"
   ]
  },
  {
   "cell_type": "markdown",
   "metadata": {},
   "source": [
    "### Menambahkan kolom 'frequency' pada dataframe"
   ]
  },
  {
   "cell_type": "markdown",
   "metadata": {},
   "source": [
    "Selain dengan membuat 2 list seperti di atas, kita juga dapat melakukan cara lain yaitu dengan menambahkan kolom baru yang berisi frekuensinya. \n",
    "\n",
    "Misalnya kita buat kolom baru yaitu <code>Frequency for Word Cloud</code> yang berisi hasil kali dari kolom <code>World Share %</code> dan __100__."
   ]
  },
  {
   "cell_type": "code",
   "execution_count": null,
   "metadata": {},
   "outputs": [],
   "source": [
    "# Membuat kolom baru 'Frequency for Word Cloud'\n",
    "\n",
    "df['Frequency for Word Cloud'] = df['World Share %'] * 100\n",
    "df.head()"
   ]
  },
  {
   "cell_type": "markdown",
   "metadata": {},
   "source": [
    "Sama seperti sebelumnya, kita membuat dictionary dari <code>df.index.values</code> dan <code>df['Frequency for Word Cloud']</code> dan men-<i>generate</i> <i>word cloud</i> dengan <code>generate_from_frequencies()</code> dengan memasukkan argumen berupa variabel <code>d</code> atau dictionary tersebut."
   ]
  },
  {
   "cell_type": "code",
   "execution_count": null,
   "metadata": {},
   "outputs": [],
   "source": [
    "d = dict(zip(df.index.values, df['Frequency for Word Cloud']))\n",
    "\n",
    "# Create the word cloud\n",
    "wordcloud_country = WordCloud(background_color='maroon', \n",
    "                              collocations=False, \n",
    "                              colormap='coolwarm',\n",
    "                              width=600,\n",
    "                              height=330)\n",
    "\n",
    "# Generate word cloud from frequencies\n",
    "wordcloud_country.generate_from_frequencies(d)\n",
    "\n",
    "plt.figure(figsize=(16,12))\n",
    "plt.imshow(wordcloud_country, interpolation='bilinear')\n",
    "plt.axis('off')\n",
    "plt.show()"
   ]
  },
  {
   "cell_type": "markdown",
   "metadata": {},
   "source": [
    "<hr>"
   ]
  },
  {
   "cell_type": "markdown",
   "metadata": {},
   "source": [
    "## Word Cloud pada berbagai bentuk objek"
   ]
  },
  {
   "cell_type": "markdown",
   "metadata": {},
   "source": [
    "Tidak hanya <i>word cloud</i> berbentuk persegi, kita juga dapat membuat <i>word cloud</i> dengan berbagai bentuk. Jadi disini kita akan membuat <i>word cloud</i> pada gambar tertentu yang menjadi <i>mask</i>-nya.\n",
    "\n",
    "Karena kita akan menggunakan gambar, kita harus meng-<i>import</i> <code>Image</code> dari <i>package</i> <code>PIL</code>. Gambar yang akan kita gunakan adalah <code>alice_mask.png</code>."
   ]
  },
  {
   "cell_type": "code",
   "execution_count": null,
   "metadata": {},
   "outputs": [],
   "source": [
    "from PIL import Image\n",
    "\n",
    "# Menyimpan mask pada variabel alice_mask\n",
    "alice_mask = np.array(Image.open('../images/alice_mask.png'))"
   ]
  },
  {
   "cell_type": "markdown",
   "metadata": {},
   "source": [
    "Selanjutnya kita tampilkan gambar atau <i>mask</i> tersebut dengan <code>imshow()</code>."
   ]
  },
  {
   "cell_type": "code",
   "execution_count": null,
   "metadata": {},
   "outputs": [],
   "source": [
    "# Menampilkan gambar mask\n",
    "\n",
    "fig = plt.figure()\n",
    "fig.set_figwidth(14) \n",
    "fig.set_figheight(18) \n",
    "\n",
    "plt.imshow(alice_mask, cmap=plt.cm.gray, interpolation='bilinear')\n",
    "plt.axis('off')\n",
    "plt.show()"
   ]
  },
  {
   "cell_type": "markdown",
   "metadata": {},
   "source": [
    "Kemudian kita buat <i>word cloud</i>-nya sama seperti sebelumnya namun ditambah parameter <code>mask</code> yang diberi nilai nama variabel dari <i>mask</i>-nya."
   ]
  },
  {
   "cell_type": "code",
   "execution_count": null,
   "metadata": {},
   "outputs": [],
   "source": [
    "# Membuat objek word cloud\n",
    "wordcloud_alice = WordCloud(background_color='white', max_words=2000, mask=alice_mask, stopwords=stopwords)\n",
    "\n",
    "# Generate word cloud\n",
    "wordcloud_alice.generate(novel_alice)\n",
    "\n",
    "# Menampilkan word cloud\n",
    "fig = plt.figure()\n",
    "fig.set_figwidth(14) # set width\n",
    "fig.set_figheight(18) # set height\n",
    "\n",
    "plt.imshow(wordcloud_alice, interpolation='bilinear')\n",
    "plt.axis('off')\n",
    "plt.show()"
   ]
  },
  {
   "cell_type": "markdown",
   "metadata": {},
   "source": [
    "Sekarang mari kita coba gunakan <code>colormap</code> dengan tipe __coolwarm__."
   ]
  },
  {
   "cell_type": "code",
   "execution_count": null,
   "metadata": {},
   "outputs": [],
   "source": [
    "# Membuat objek word cloud\n",
    "wordcloud_alice = WordCloud(background_color='white', max_words=2000, mask=alice_mask, stopwords=stopwords, colormap='coolwarm')\n",
    "\n",
    "# Generate word cloud\n",
    "wordcloud_alice.generate(novel_alice)\n",
    "\n",
    "# Menampilkan word cloud\n",
    "fig = plt.figure()\n",
    "fig.set_figwidth(14) \n",
    "fig.set_figheight(18) \n",
    "\n",
    "plt.imshow(wordcloud_alice, interpolation='bilinear')\n",
    "plt.axis('off')\n",
    "plt.show()"
   ]
  },
  {
   "cell_type": "markdown",
   "metadata": {},
   "source": [
    "Sekarang mari kita coba terapkan juga untuk nama-nama negara dengan menggunakan gambar peta dunia dengan nama <i>file</i> <code>world_map.png</code>."
   ]
  },
  {
   "cell_type": "code",
   "execution_count": null,
   "metadata": {},
   "outputs": [],
   "source": [
    "# Menyimpan mask pada variabel world_mask\n",
    "world_mask = np.array(Image.open('../images/world_map.png'))\n",
    "\n",
    "fig = plt.figure()\n",
    "fig.set_figwidth(18) \n",
    "fig.set_figheight(14) \n",
    "\n",
    "plt.imshow(world_mask, cmap=plt.cm.gray, interpolation='bilinear')\n",
    "plt.axis('off')\n",
    "plt.show()"
   ]
  },
  {
   "cell_type": "markdown",
   "metadata": {},
   "source": [
    "Dengan cara yang sama seperti sebelumnya, kita buat dictionary, objek <i>word cloud</i>, lalu men-<i>generate</i>-nya dengan <code>generate_from_frequencies()</code>."
   ]
  },
  {
   "cell_type": "code",
   "execution_count": null,
   "metadata": {},
   "outputs": [],
   "source": [
    "# Membuat dictionary\n",
    "d = dict(zip(df.index.values, df['Frequency for Word Cloud']))\n",
    "\n",
    "# Membuat objek word cloud dan men-generate-nya\n",
    "wordcloud_country = WordCloud(background_color='white', \n",
    "                              collocations=False, \n",
    "                              colormap='winter',\n",
    "                              width=600,\n",
    "                              height=330,\n",
    "                              mask=world_mask).generate_from_frequencies(d)\n",
    "\n",
    "# Menampilkan word cloud\n",
    "fig = plt.figure()\n",
    "fig.set_figwidth(18)\n",
    "fig.set_figheight(14)\n",
    "\n",
    "plt.imshow(wordcloud_country)\n",
    "plt.axis('off')\n",
    "plt.show()"
   ]
  },
  {
   "cell_type": "markdown",
   "metadata": {},
   "source": [
    "<hr>"
   ]
  },
  {
   "cell_type": "markdown",
   "metadata": {},
   "source": [
    "Copyright @ <a href=\"https://ilmudatapy.com/\">ilmudatapy.com</a>"
   ]
  }
 ],
 "metadata": {
  "kernelspec": {
   "display_name": "Python 3",
   "language": "python",
   "name": "python3"
  },
  "language_info": {
   "codemirror_mode": {
    "name": "ipython",
    "version": 3
   },
   "file_extension": ".py",
   "mimetype": "text/x-python",
   "name": "python",
   "nbconvert_exporter": "python",
   "pygments_lexer": "ipython3",
   "version": "3.7.3"
  }
 },
 "nbformat": 4,
 "nbformat_minor": 2
}
