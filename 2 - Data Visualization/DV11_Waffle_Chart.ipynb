{
 "cells": [
  {
   "cell_type": "markdown",
   "metadata": {},
   "source": [
    "<img src=\"../images/ilmudatapy-logo.png\" width=\"350\" align=\"center\">\n",
    "<br>"
   ]
  },
  {
   "cell_type": "markdown",
   "metadata": {},
   "source": [
    "<center><h1>Waffle Chart</h1></center>\n",
    "<hr>"
   ]
  },
  {
   "cell_type": "markdown",
   "metadata": {},
   "source": [
    "__Halo, Learners!__ Di notebook ini, kita akan membahas __Waffle Chart__. Disini kita akan membuat <i>waffle chart</i> dari dataset asli dengan menggunakan dua pendekatan yaitu menggunakan Matplotlib dan PyWaffle."
   ]
  },
  {
   "cell_type": "markdown",
   "metadata": {},
   "source": [
    "<h2>Table of Contents</h2>\n",
    "<div class=\"alert alert-block alert-info\" style=\"margin-top: 25px\">\n",
    "    <ul>\n",
    "        <li>\n",
    "            Apa itu Waffle Chart?\n",
    "        </li>\n",
    "        <li>\n",
    "            Load dataset\n",
    "        </li>\n",
    "        <li>\n",
    "            Waffle Chart dengan Matplotlib\n",
    "            <ul>\n",
    "                <li>Menambahkan grid lines</li>\n",
    "                <li>Menambahkan legend</li>\n",
    "            </ul>\n",
    "        </li>\n",
    "        <li>\n",
    "            Waffle Chart dengan PyWaffle\n",
    "            <ul>\n",
    "                <li>Mengatur legend dan warna</li>\n",
    "                <li>Menambahkan judul</li>\n",
    "                <li>Mengatur jarak blok</li>\n",
    "                <li>Mengganti blok persegi dengan karakter dan icon</li>\n",
    "                <li>Vertical Waffle Chart</li>\n",
    "            </ul>\n",
    "        </li>\n",
    "    </ul>\n",
    "</div>"
   ]
  },
  {
   "cell_type": "markdown",
   "metadata": {},
   "source": [
    "<hr>\n",
    "<div class=\"alert alert-success\" style=\"margin-top: 20px\">\n",
    "    <strong>Catatan:</strong> Untuk menjalankan kode program Python di Jupyter Notebook, klik pada <i>cell</i> yang ingin di-<i>run</i> lalu tekan <kbd>Shift</kbd> + <kbd>Enter</kbd>.\n",
    "</div>"
   ]
  },
  {
   "cell_type": "markdown",
   "metadata": {},
   "source": [
    "<div class=\"alert alert-danger\" style=\"margin-top: 20px\">\n",
    "    <strong>Warning!:</strong> Jika ada kode program yang <i>error</i> atau output yang dihasilkan tidak sesuai, silahkan <b>Restart & Run All</b> kernel pada bagian menu <b>Kernel</b> di menu bar Jupyter Notebook, atau <b>Restart & Clear Output</b> kernel kemudian jalankan satu per satu <i>cell</i> secara berurutan dari atas ke bawah.\n",
    "</div>\n",
    "<hr>"
   ]
  },
  {
   "cell_type": "markdown",
   "metadata": {},
   "source": [
    "## Apa itu Waffle Chart ?"
   ]
  },
  {
   "cell_type": "markdown",
   "metadata": {},
   "source": [
    "__Waffle Chart__ adalah sebuah visualisasi data yang umumnya berbentuk persegi dan biasanya terdiri dari kotak-kotak kecil yang disusun dalam tata letak tertentu. Kotak diberi warna sesuai dengan proporsi masing-masing kategori. Dinamakan <i>waffle chart</i> karena memang bentuknya menyerupai jenis makanan <i>waffle</i>. \n",
    "\n",
    "Disini kita akan belajar membuat <i>waffle chart</i> menggunakan bahasa pemrograman Python. Sebelumnya kita <i>import</i> terlebih dahulu <i>library</i> yang dibutuhkan seperti Pandas, Numpy, dan tentunya Matplotlib. "
   ]
  },
  {
   "cell_type": "code",
   "execution_count": null,
   "metadata": {},
   "outputs": [],
   "source": [
    "import pandas as pd\n",
    "import numpy as np\n",
    "import matplotlib.pyplot as plt\n",
    "\n",
    "import matplotlib.patches as mpatches # Diperlukan untuk membuat waffle Charts"
   ]
  },
  {
   "cell_type": "markdown",
   "metadata": {},
   "source": [
    "<hr>"
   ]
  },
  {
   "cell_type": "markdown",
   "metadata": {},
   "source": [
    "## Load dataset"
   ]
  },
  {
   "cell_type": "markdown",
   "metadata": {},
   "source": [
    "Dataset yang akan digunakan pada praktek kali ini adalah dataset <a href='https://www.kaggle.com/imdevskp/world-population-19602018'>Populasi penduduk dunia</a> berdasarkan negara.\n",
    "\n",
    "Mari kita <i>load</i> dataset ke dalam dataframe Pandas dan disimpan pada variabel <code>df</code>."
   ]
  },
  {
   "cell_type": "code",
   "execution_count": null,
   "metadata": {},
   "outputs": [],
   "source": [
    "# Load dataset\n",
    "\n",
    "df = pd.read_csv(\"../datasets/pop_worldometer_data.csv\")\n",
    "df.head(10)"
   ]
  },
  {
   "cell_type": "markdown",
   "metadata": {},
   "source": [
    "Untuk memudahkan proses visualisasi, kita akan menjadikan kolom <code>Country (or dependency)</code> sebagai indeks."
   ]
  },
  {
   "cell_type": "code",
   "execution_count": null,
   "metadata": {},
   "outputs": [],
   "source": [
    "# Menjadikan kolom 'Country (or dependency)' sebagai indeks\n",
    "\n",
    "df.set_index('Country (or dependency)', inplace=True)"
   ]
  },
  {
   "cell_type": "markdown",
   "metadata": {},
   "source": [
    "Sekarang mari kita lihat data teratas dari dataframe <code>df</code> setelah perubahan indeks."
   ]
  },
  {
   "cell_type": "code",
   "execution_count": null,
   "metadata": {},
   "outputs": [],
   "source": [
    "# Menampilkan 10 data teratas\n",
    "\n",
    "df.head(10)"
   ]
  },
  {
   "cell_type": "markdown",
   "metadata": {},
   "source": [
    "Pada praktek kali ini, kita hanya akan membuat <i>waffle chart</i> untuk 5 negara dengan populasi terbanyak. Karena dataframe <code>df</code> sudah terurut berdasarkan populasi terbanyak, sekarang kita buat dataframe baru yang menampung 5 data teratas dari dataframe <code>df</code> dan disimpan pada variabel <code>df_top5</code>."
   ]
  },
  {
   "cell_type": "code",
   "execution_count": null,
   "metadata": {},
   "outputs": [],
   "source": [
    "# Mengambil 5 data teratas dan menyimpannya pada dataframe baru\n",
    "\n",
    "df_top5 = df.head(5)\n",
    "df_top5"
   ]
  },
  {
   "cell_type": "markdown",
   "metadata": {},
   "source": [
    "Nah, dataframe <code>df_top5</code> inilah yang nantinya akan kita gunakan untuk membuat <i>waffle chart</i>."
   ]
  },
  {
   "cell_type": "markdown",
   "metadata": {},
   "source": [
    "<hr>"
   ]
  },
  {
   "cell_type": "markdown",
   "metadata": {},
   "source": [
    "## Waffle Chart dengan Matplotlib"
   ]
  },
  {
   "cell_type": "markdown",
   "metadata": {},
   "source": [
    "Yang pertama akan kita praktekkan adalah membuat <i>waffle chart</i> menggunakan __Matplotlib__. Secara umum, langkah-langkah dalam membuat <i>waffle chart</i> dengan Matplotlib adalah sebagai berikut.\n",
    "\n",
    "1. Menentukan proporsi dari masing-masing kategori dengan membagi nilai dari tiap kategori tersebut dengan total nilai dari keseluruhan kategori.\n",
    "2. Mendefinisikan keseluruhan ukuran <i>waffle chart</i>.\n",
    "3. Menggunakan proporsi dari tiap kategori untuk menentukan jumlah kotak yang mewakili tiap kategori.\n",
    "4. Membuat matriks yang menyerupai <i>waffle chart</i> dan mengisinya.\n",
    "5. Memetakan matriks <i>waffle chart</i> ke dalam bentuk visual."
   ]
  },
  {
   "cell_type": "markdown",
   "metadata": {},
   "source": [
    "__Langkah 1 -__ Menentukan proporsi dari masing-masing kategori."
   ]
  },
  {
   "cell_type": "code",
   "execution_count": null,
   "metadata": {},
   "outputs": [],
   "source": [
    "# Menghitung proporsi dari tiap kategori\n",
    "total = sum(df_top5['Population (2020)'])\n",
    "category_proportions = [(float(value) / total) for value in df_top5['Population (2020)']]\n",
    "\n",
    "# Menampilkan proporsi tiap kategori (negara)\n",
    "for i, prop in enumerate(category_proportions):\n",
    "    print (df_top5.index.values[i] + ': ' + str(prop))"
   ]
  },
  {
   "cell_type": "markdown",
   "metadata": {},
   "source": [
    "Setelah mendapatkan proporsi dari masing-masing kategori atau dalam hal ini proporsi dari tiap negara, kita harus menentukan ukuran <i>waffle chart</i>\n",
    "\n",
    "__Langkah 2 -__ Mendefinisikan keseluruhan ukuran <i>waffle chart</i>."
   ]
  },
  {
   "cell_type": "code",
   "execution_count": null,
   "metadata": {},
   "outputs": [],
   "source": [
    "width = 45       # lebar chart\n",
    "height = 15      # tinggi chart\n",
    "\n",
    "total_num_tiles = width * height   # jumlah total blok persegi\n",
    "\n",
    "print ('Total jumlah kotak : ', total_num_tiles)"
   ]
  },
  {
   "cell_type": "markdown",
   "metadata": {},
   "source": [
    "__Langkah 3 -__ Menggunakan proporsi dari tiap kategori untuk menentukan jumlah kotak yang mewakili tiap kategori."
   ]
  },
  {
   "cell_type": "code",
   "execution_count": null,
   "metadata": {},
   "outputs": [],
   "source": [
    "# Menghitung jumlah blok persegi untuk tiap kategori/negara\n",
    "tiles_per_category = [round(proportion * total_num_tiles) for proportion in category_proportions]\n",
    "\n",
    "# Menampilkan jumlah blok persegi per kategori/negara\n",
    "for i, tiles in enumerate(tiles_per_category):\n",
    "    print (df_top5.index.values[i] + ': ' + str(tiles))"
   ]
  },
  {
   "cell_type": "markdown",
   "metadata": {},
   "source": [
    "__Langkah 4 -__ Membuat matriks yang menyerupai <i>waffle chart</i> dan mengisinya."
   ]
  },
  {
   "cell_type": "code",
   "execution_count": null,
   "metadata": {},
   "outputs": [],
   "source": [
    "# Menginisialisasi waffle chart sebagai matriks kosong\n",
    "waffle_chart = np.zeros((height, width))\n",
    "\n",
    "# Menentukan indeks awal untuk perulangan waffle chart\n",
    "category_index = 0\n",
    "tile_index = 0\n",
    "\n",
    "# Mengisi waffle chart\n",
    "for col in range(width):\n",
    "    for row in range(height):\n",
    "        tile_index += 1\n",
    "\n",
    "        # Jika jumlah blok persegi yang terisi untuk kategori yang sedang diproses sama dengan blok persegi yang dialokasikan..\n",
    "        if tile_index > sum(tiles_per_category[0:category_index]):\n",
    "            # ...lanjutkan proses ke kategori selanjutnya\n",
    "            category_index += 1       \n",
    "            \n",
    "        waffle_chart[row, col] = category_index"
   ]
  },
  {
   "cell_type": "markdown",
   "metadata": {},
   "source": [
    "Selanjutnya mari kita tampilkan array <code>waffle_chart</code> yang terbentuk."
   ]
  },
  {
   "cell_type": "code",
   "execution_count": null,
   "metadata": {},
   "outputs": [],
   "source": [
    "# Menampilkan array yang terbentuk\n",
    "\n",
    "waffle_chart"
   ]
  },
  {
   "cell_type": "markdown",
   "metadata": {},
   "source": [
    "__Langkah 5 -__ Memetakan matriks <i>waffle chart</i> ke dalam bentuk visual.\n",
    "\n",
    "Di Matplotlib, kita menggunakan <i>method</i> <code>matshow()</code> untuk menampilkan <i>waffle chart</i>."
   ]
  },
  {
   "cell_type": "code",
   "execution_count": null,
   "metadata": {},
   "outputs": [],
   "source": [
    "# Membuat objek figure\n",
    "fig = plt.figure()\n",
    "\n",
    "# Menampilkan waffle chart dengan matshow()\n",
    "colormap = plt.cm.coolwarm\n",
    "plt.matshow(waffle_chart, cmap=colormap)\n",
    "plt.colorbar()"
   ]
  },
  {
   "cell_type": "markdown",
   "metadata": {},
   "source": [
    "Setelah <i>waffle chart</i> terbentuk, sekarang saatnya kita mempercantik tampilannya dengan mengaplikasikan beberapa pengaturan seperti menambahkan <i>grid lines</i> dan menambahkan legend."
   ]
  },
  {
   "cell_type": "markdown",
   "metadata": {},
   "source": [
    "### Menambahkan grid lines"
   ]
  },
  {
   "cell_type": "markdown",
   "metadata": {},
   "source": [
    "Untuk menambahkan <i>grid lines</i> pada <i>waffle chart</i>, kita harus mendapatkan <i>axes</i> saat ini atau yang sedang kita kerjakan untuk membuat <i>waffle chart</i> tersebut dengan menggunakan <i>method</i> <code>gca()</code> <i>(get current axes)</i>. Kemudian pada <i>axes</i> tersebut kita atur <i>minor ticks</i>-nya, baru setelah itu kita tambahkan <i>gridlines</i> berdasarkan <i>minor ticks</i>."
   ]
  },
  {
   "cell_type": "code",
   "execution_count": null,
   "metadata": {},
   "outputs": [],
   "source": [
    "# Membuat objek figure\n",
    "fig = plt.figure()\n",
    "\n",
    "# Menampilkan waffle chart dengan matshow()\n",
    "colormap = plt.cm.coolwarm\n",
    "plt.matshow(waffle_chart, cmap=colormap)\n",
    "plt.colorbar()\n",
    "\n",
    "# Mendapatkan axes (get current axes)\n",
    "ax = plt.gca()\n",
    "\n",
    "# Mengatur minor ticks\n",
    "ax.set_xticks(np.arange(-.5, (width), 1), minor=True)\n",
    "ax.set_yticks(np.arange(-.5, (height), 1), minor=True)\n",
    "    \n",
    "# Menambahkan gridlines berdasarkan minor ticks\n",
    "ax.grid(which='minor', color='w', linestyle='-', linewidth=2)\n",
    "\n",
    "plt.xticks([])\n",
    "plt.yticks([])\n",
    "\n",
    "plt.show()"
   ]
  },
  {
   "cell_type": "markdown",
   "metadata": {},
   "source": [
    "### Menambahkan legend"
   ]
  },
  {
   "cell_type": "markdown",
   "metadata": {},
   "source": [
    "Untuk menambahkan legend, kita perlu menghitung jumlah kumulatif dari kategori individu untuk menyesuaikan skema warna antara chart dan legend. Setelah itu, kita dapat membuat legend dan menambahkannya ke <i>chart</i>. Perhatikan kode berikut."
   ]
  },
  {
   "cell_type": "code",
   "execution_count": null,
   "metadata": {},
   "outputs": [],
   "source": [
    "# Membuat objek figure\n",
    "fig = plt.figure()\n",
    "\n",
    "# Menampilkan waffle chart dengan matshow()\n",
    "colormap = plt.cm.coolwarm\n",
    "plt.matshow(waffle_chart, cmap=colormap)\n",
    "plt.colorbar()\n",
    "\n",
    "# Menadapatkan axis\n",
    "ax = plt.gca()\n",
    "\n",
    "# Mengatur minor ticks\n",
    "ax.set_xticks(np.arange(-.5, (width), 1), minor=True)\n",
    "ax.set_yticks(np.arange(-.5, (height), 1), minor=True)\n",
    "    \n",
    "# Menambahkan gridlines berdasarkan minor ticks\n",
    "ax.grid(which='minor', color='w', linestyle='-', linewidth=2)\n",
    "\n",
    "plt.xticks([])\n",
    "plt.yticks([])\n",
    "\n",
    "# Menghitung jumlah kumulatif kategori individu untuk menyesuaikan skema warna antara chart dan legend\n",
    "values_cumsum = np.cumsum(df_top5['Population (2020)'])\n",
    "total_values = values_cumsum[len(values_cumsum) - 1]\n",
    "\n",
    "# Membuat legend\n",
    "legend_handles = []\n",
    "for i, category in enumerate(df_top5.index.values):\n",
    "    label_str = category + ' (' + str(df_top5['Population (2020)'][i]) + ')'\n",
    "    color_val = colormap(float(values_cumsum[i])/total_values)\n",
    "    legend_handles.append(mpatches.Patch(color=color_val, label=label_str))\n",
    "\n",
    "# Menambahkan legend ke chart\n",
    "plt.legend(handles=legend_handles,\n",
    "           loc='lower center', \n",
    "           ncol=len(df_top5.index.values),\n",
    "           bbox_to_anchor=(0., -0.3, 1, .1)\n",
    "          )\n",
    "plt.show()"
   ]
  },
  {
   "cell_type": "markdown",
   "metadata": {},
   "source": [
    "Pembuatan <i>waffle chart</i> dengan menggunakan Matplotlib terbilang rumit, dan hasilnya juga terkadang kurang memuaskan. Nah, ada satu <i>package</i> dari Python yang khusus digunakan untuk membuat <i>waffle chart</i>, yaitu __PyWaffle__. Untuk lebih jelasnya langsung saja lihat pembahasan berikut."
   ]
  },
  {
   "cell_type": "markdown",
   "metadata": {},
   "source": [
    "<hr>"
   ]
  },
  {
   "cell_type": "markdown",
   "metadata": {},
   "source": [
    "## Waffle Chart dengan PyWaffle"
   ]
  },
  {
   "cell_type": "markdown",
   "metadata": {},
   "source": [
    "__PyWaffle__ adalah <i>package</i> Python yang dikhususkan untuk membuat <i>waffle chart</i>. Dengan menggunakan PyWaffle, kita dapat dengan mudah men-<i>generate</i>- <i>waffle chart</i> serta melakukan modifikasi-modifikasi untuk memperindah tampilan sesuai yang kita inginkan. Untuk lebih detailnya silahkan lihat dokumentasi <a href='https://pywaffle.readthedocs.io/en/latest/'>PyWaffle</a>\n",
    "\n",
    "Sebelumnya, kita harus menginstall terlebih dahulu PyWaffle dengan menjalankan kode di bawah ini."
   ]
  },
  {
   "cell_type": "code",
   "execution_count": null,
   "metadata": {},
   "outputs": [],
   "source": [
    "pip install pywaffle"
   ]
  },
  {
   "cell_type": "markdown",
   "metadata": {},
   "source": [
    "Selanjutnya, dari <i>package</i> PyWaffle kita <i>import</i> __Waffle__."
   ]
  },
  {
   "cell_type": "code",
   "execution_count": null,
   "metadata": {},
   "outputs": [],
   "source": [
    "# Import Waffle\n",
    "\n",
    "from pywaffle import Waffle"
   ]
  },
  {
   "cell_type": "markdown",
   "metadata": {},
   "source": [
    "Setelah itu, kita dapat dengan mudah membuat visualisasi data jenis <i>waffle chart</i> dengan mendefinisikan <code>FigureClass = Waffle</code> seperti di bawah ini."
   ]
  },
  {
   "cell_type": "code",
   "execution_count": null,
   "metadata": {},
   "outputs": [],
   "source": [
    "# Membuat waffle chart dengan PyWaffle\n",
    "\n",
    "fig = plt.figure(\n",
    "    FigureClass=Waffle, \n",
    "    rows=15, \n",
    "    columns=45,\n",
    "    values=tiles_per_category,\n",
    "    labels=list(df_top5.index.values),\n",
    "    figsize=(12, 8),\n",
    "    legend={'bbox_to_anchor': (0.15, 0.4)}    \n",
    ")"
   ]
  },
  {
   "cell_type": "markdown",
   "metadata": {},
   "source": [
    "Dari kode di atas, kita harus menentukan \n",
    "\n",
    "* <code>rows</code> : Jumlah baris yang diinginkan.\n",
    "* <code>columns</code> : Jumlah kolom yang diinginkan.\n",
    "* <code>values</code> : Nilai dari <i>waffle chart</i>, dalam hal ini nilainya adalah <code>tiles_per_category</code> yang sudah kita buat sebelumnya.\n",
    "* <code>labels</code> : Label yang akan ditampilkan pada legend, dalam hal ini adalah nama negara yang merupakan indeks dari <code>df_top5</code>.\n",
    "* <code>figsize</code> : Ukuran <i>figure</i>.\n",
    "* <code>legend</code> : Untuk menampilkan legend, dimana <code>bbox_to_anchor</code> adalah untuk mengatur posisinya."
   ]
  },
  {
   "cell_type": "markdown",
   "metadata": {},
   "source": [
    "### Mengatur legend dan warna "
   ]
  },
  {
   "cell_type": "markdown",
   "metadata": {},
   "source": [
    "<i>Default</i>-nya legend akan ditampilkan seperti output di atas. Namun, kita juga dapat mengaturnya menjadi berbentuk memanjang dengan mendefinisikan <code>ncol</code>. Selain itu kita juga dapat mengatur ukuran huruf dengan <code>fontsize</code> dan lokasinya dengan <code>loc</code>. Perhatikan kode berikut."
   ]
  },
  {
   "cell_type": "code",
   "execution_count": null,
   "metadata": {},
   "outputs": [],
   "source": [
    "# Membuat waffle chart dengan PyWaffle\n",
    "\n",
    "fig = plt.figure(\n",
    "    FigureClass=Waffle, \n",
    "    rows=15,\n",
    "    columns=45,\n",
    "    cmap_name='Paired',\n",
    "    values=tiles_per_category,\n",
    "    labels=list(df_top5.index.values),\n",
    "    figsize=(12, 8),\n",
    "    legend={'bbox_to_anchor': (0, -0.2), \n",
    "            'loc': 'lower left', \n",
    "            'ncol': len(df_top5.index.values),\n",
    "            'fontsize': 14}    \n",
    ")"
   ]
  },
  {
   "cell_type": "markdown",
   "metadata": {},
   "source": [
    "### Menambahkan judul"
   ]
  },
  {
   "cell_type": "markdown",
   "metadata": {},
   "source": [
    "Kita juga dapat menambahkan judul dengan mendefinisikan <code>title</code>."
   ]
  },
  {
   "cell_type": "code",
   "execution_count": null,
   "metadata": {},
   "outputs": [],
   "source": [
    "# Membuat waffle chart dengan PyWaffle\n",
    "\n",
    "fig = plt.figure(\n",
    "    FigureClass=Waffle, \n",
    "    rows=15,\n",
    "    columns=45,\n",
    "    cmap_name='Paired',\n",
    "    values=tiles_per_category,\n",
    "    labels=list(df_top5.index.values),\n",
    "    figsize=(12, 8),\n",
    "    legend={'bbox_to_anchor': (0, -0.2), \n",
    "            'loc': 'lower left', \n",
    "            'ncol': len(df_top5.index.values),\n",
    "            'fontsize': 14},\n",
    "    title={'label': \"Top 5 World's Population\\n\",\n",
    "          'loc': 'center',\n",
    "          'fontdict': {'fontsize': 20}}\n",
    ")"
   ]
  },
  {
   "cell_type": "markdown",
   "metadata": {},
   "source": [
    "### Mengatur jarak blok"
   ]
  },
  {
   "cell_type": "markdown",
   "metadata": {},
   "source": [
    "PyWaffle membuat modifikasi <i>waffle chart</i> menjadi lebih mudah. Dengan membuat <i>waffle chart</i> dengan PyWaffle, kita dapat mengatur jarak antar blok atau kotaknya dengan menambahkan parameter berikut:\n",
    "\n",
    "* <code>interval_ratio_x</code> : Untuk mengatur jarak antar kotak di sumbu X, atau jarak kanan dan kirinya.\n",
    "* <code>interval_ratio_y</code> : Untuk mengatur jarak antar kotak di sumbu Y, atau jarak atas dan bawahnya."
   ]
  },
  {
   "cell_type": "code",
   "execution_count": null,
   "metadata": {},
   "outputs": [],
   "source": [
    "# Membuat waffle chart dengan PyWaffle\n",
    "\n",
    "fig = plt.figure(\n",
    "    FigureClass=Waffle, \n",
    "    rows=15,\n",
    "    columns=45,\n",
    "    cmap_name='Paired',\n",
    "    values=tiles_per_category,\n",
    "    labels=list(df_top5.index.values),\n",
    "    figsize=(12, 8),\n",
    "    legend={'bbox_to_anchor': (0, -0.2), \n",
    "            'loc': 'lower left', \n",
    "            'ncol': len(df_top5.index.values),\n",
    "            'fontsize': 14},\n",
    "    title={'label': \"Top 5 World's Population\\n\",\n",
    "          'loc': 'center',\n",
    "          'fontdict': {'fontsize': 20}},\n",
    "    interval_ratio_x=1,\n",
    "    interval_ratio_y=0.5\n",
    ")"
   ]
  },
  {
   "cell_type": "markdown",
   "metadata": {},
   "source": [
    "### Mengganti blok persegi dengan karakter dan icon"
   ]
  },
  {
   "cell_type": "markdown",
   "metadata": {},
   "source": [
    "Selanjutnya, yang menarik dari PyWaffle adalah kita dapat mengganti blok atau kotak-kotak tersebut dengan karakter atau <i>icon</i> seperti bentuk bulat, bintang, matahari, bulan, dan sebagainya. \n",
    "\n",
    "Misalnya pada contoh berikut kita menggunakan karakter berbentuk bulat dengan menambahkan parameter <code>characters</code> dan diberikan nilai berupa bentuk bulat atau yang diinginkan."
   ]
  },
  {
   "cell_type": "code",
   "execution_count": null,
   "metadata": {},
   "outputs": [],
   "source": [
    "# Membuat waffle chart dengan PyWaffle\n",
    "\n",
    "fig = plt.figure(\n",
    "    FigureClass=Waffle, \n",
    "    rows=15,\n",
    "    columns=45,\n",
    "    cmap_name='Paired',\n",
    "    values=tiles_per_category,\n",
    "    labels=list(df_top5.index.values),\n",
    "    figsize=(12, 8),\n",
    "    legend={'bbox_to_anchor': (0, -0.2), \n",
    "            'loc': 'lower left', \n",
    "            'ncol': len(df_top5.index.values),\n",
    "            'fontsize': 14},\n",
    "    title={'label': \"Top 5 World's Population\\n\",\n",
    "          'loc': 'center',\n",
    "          'fontdict': {'fontsize': 20}},\n",
    "    characters='⬤',\n",
    "    font_size=14\n",
    ")"
   ]
  },
  {
   "cell_type": "markdown",
   "metadata": {},
   "source": [
    "Kita juga dapat menggunakan parameter <code>icons</code> dan diberikan nilai berupa nama <i>icon</i> yang diinginkan. \n",
    "\n",
    "Misalnya kita memberikan parameter <code>icons = 'star'</code> untuk mengganti kotak dengan <i>icon</i> bintang."
   ]
  },
  {
   "cell_type": "code",
   "execution_count": null,
   "metadata": {},
   "outputs": [],
   "source": [
    "# Membuat waffle chart dengan PyWaffle\n",
    "\n",
    "fig = plt.figure(\n",
    "    FigureClass=Waffle, \n",
    "    rows=15,\n",
    "    columns=45,\n",
    "    cmap_name='Paired',\n",
    "    values=tiles_per_category,\n",
    "    labels=list(df_top5.index.values),\n",
    "    figsize=(12, 8),\n",
    "    legend={'bbox_to_anchor': (0, -0.2), \n",
    "            'loc': 'lower left', \n",
    "            'ncol': len(df_top5.index.values),\n",
    "            'fontsize': 14},\n",
    "    title={'label': \"Top 5 World's Population\\n\",\n",
    "          'loc': 'center',\n",
    "          'fontdict': {'fontsize': 20}},\n",
    "    icons='star',\n",
    "    font_size=14\n",
    ")"
   ]
  },
  {
   "cell_type": "markdown",
   "metadata": {},
   "source": [
    "Jika kita ingin <i>icon</i> untuk tiap kategori adalah bentuk yang berbeda, maka kita hanya perlu mendefinisikannya dalam bentuk list. Kita juga dapat memberikan parameter <code>icon_legend = True</code> agar legend menampilkan <i>icon</i> yang sesuai untuk tiap kategori. Perhatikan kode di bawah ini."
   ]
  },
  {
   "cell_type": "code",
   "execution_count": null,
   "metadata": {},
   "outputs": [],
   "source": [
    "# Membuat waffle chart dengan bentuk icon berbeda untuk tiap kategori\n",
    "\n",
    "fig = plt.figure(\n",
    "    FigureClass=Waffle, \n",
    "    rows=15,\n",
    "    columns=45,\n",
    "    cmap_name='Paired',\n",
    "    values=tiles_per_category,\n",
    "    labels=list(df_top5.index.values),\n",
    "    figsize=(12, 8),\n",
    "    legend={'bbox_to_anchor': (0, -0.2), \n",
    "            'loc': 'lower left', \n",
    "            'ncol': len(df_top5.index.values),\n",
    "            'fontsize': 14},\n",
    "    title={'label': \"Top 5 World's Population\\n\",\n",
    "          'loc': 'center',\n",
    "          'fontdict': {'fontsize': 20}},\n",
    "    icons=['star', 'sun', 'cloud-showers-heavy', 'snowflake', 'moon'],\n",
    "    icon_size=14,\n",
    "    icon_legend=True\n",
    ")"
   ]
  },
  {
   "cell_type": "markdown",
   "metadata": {},
   "source": [
    "### Vertical Waffle Chart"
   ]
  },
  {
   "cell_type": "markdown",
   "metadata": {},
   "source": [
    "Contoh-contoh sebelumnya memperlihatkan bentuk <i>waffle chart</i> yang ditampilkan secara horizontal atau menyamping. Nah, jika kita ingin menampilkan <i>waffle chart</i> dalam bentuk vertikal, kita dapat menambahkan parameter <code>vertical = True</code>. Perhatikan kode berikut."
   ]
  },
  {
   "cell_type": "code",
   "execution_count": null,
   "metadata": {},
   "outputs": [],
   "source": [
    "fig = plt.figure(\n",
    "    FigureClass=Waffle, \n",
    "    rows=15,\n",
    "    columns=45,\n",
    "    cmap_name='Paired',\n",
    "    values=tiles_per_category,\n",
    "    labels=list(df_top5.index.values),\n",
    "    figsize=(12, 8),\n",
    "    legend={'bbox_to_anchor': (0, -0.2), \n",
    "            'loc': 'lower left', \n",
    "            'ncol': len(df_top5.index.values),\n",
    "            'fontsize': 14},\n",
    "    title={'label': \"Top 5 World's Population\\n\",\n",
    "          'loc': 'center',\n",
    "          'fontdict': {'fontsize': 20}},\n",
    "    icons='star',\n",
    "    icon_size=15,\n",
    "    icon_legend=True,\n",
    "    vertical=True\n",
    ")"
   ]
  },
  {
   "cell_type": "markdown",
   "metadata": {},
   "source": [
    "<hr>"
   ]
  },
  {
   "cell_type": "markdown",
   "metadata": {},
   "source": [
    "Copyright @ <a href=\"https://ilmudatapy.com/\">ilmudatapy.com</a>"
   ]
  }
 ],
 "metadata": {
  "kernelspec": {
   "display_name": "Python 3",
   "language": "python",
   "name": "python3"
  },
  "language_info": {
   "codemirror_mode": {
    "name": "ipython",
    "version": 3
   },
   "file_extension": ".py",
   "mimetype": "text/x-python",
   "name": "python",
   "nbconvert_exporter": "python",
   "pygments_lexer": "ipython3",
   "version": "3.7.3"
  }
 },
 "nbformat": 4,
 "nbformat_minor": 2
}
