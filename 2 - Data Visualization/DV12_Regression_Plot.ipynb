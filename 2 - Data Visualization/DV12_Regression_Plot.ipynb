{
 "cells": [
  {
   "cell_type": "markdown",
   "metadata": {},
   "source": [
    "<img src=\"../images/ilmudatapy-logo.png\" width=\"350\" align=\"center\">\n",
    "<br>"
   ]
  },
  {
   "cell_type": "markdown",
   "metadata": {},
   "source": [
    "<center><h1>Regression Plot</h1></center>\n",
    "<hr>"
   ]
  },
  {
   "cell_type": "markdown",
   "metadata": {},
   "source": [
    "__Halo, Learners!__ Di notebook ini, kita akan membahas __Regression Plot__. Disini kita akan membuat <i>regression plot</i> dari dataset asli dengan menggunakan <i>library</i> __Seaborn__."
   ]
  },
  {
   "cell_type": "markdown",
   "metadata": {},
   "source": [
    "<h2>Table of Contents</h2>\n",
    "<div class=\"alert alert-block alert-info\" style=\"margin-top: 25px\">\n",
    "    <ul>\n",
    "        <li>\n",
    "            Load dataset\n",
    "        </li>\n",
    "        <li>\n",
    "            Visualisasi <b>Regression Plot</b> dengan Seaborn\n",
    "            <ul>\n",
    "                <li>Mengatur warna</li>\n",
    "                <li>Mengatur ukuran figure</li>\n",
    "                <li>Mengatur jenis titik (marker)</li>\n",
    "                <li>Mengubah ukuran marker</li>\n",
    "                <li>Mengatur ukuran huruf</li>\n",
    "                <li>Mengatur background menjadi berwarna putih</li>\n",
    "                <li>Menambahkan gridlines</li>\n",
    "            </ul>\n",
    "        </li>\n",
    "    </ul>\n",
    "</div>"
   ]
  },
  {
   "cell_type": "markdown",
   "metadata": {},
   "source": [
    "<hr>\n",
    "<div class=\"alert alert-success\" style=\"margin-top: 20px\">\n",
    "    <strong>Catatan:</strong> Untuk menjalankan kode program Python di Jupyter Notebook, klik pada <i>cell</i> yang ingin di-<i>run</i> lalu tekan <kbd>Shift</kbd> + <kbd>Enter</kbd>.\n",
    "</div>"
   ]
  },
  {
   "cell_type": "markdown",
   "metadata": {},
   "source": [
    "<div class=\"alert alert-danger\" style=\"margin-top: 20px\">\n",
    "    <strong>Warning!:</strong> Jika ada kode program yang <i>error</i> atau output yang dihasilkan tidak sesuai, silahkan <b>Restart & Run All</b> kernel pada bagian menu <b>Kernel</b> di menu bar Jupyter Notebook, atau <b>Restart & Clear Output</b> kernel kemudian jalankan satu per satu <i>cell</i> secara berurutan dari atas ke bawah.\n",
    "</div>\n",
    "<hr>"
   ]
  },
  {
   "cell_type": "markdown",
   "metadata": {},
   "source": [
    "## Load dataset"
   ]
  },
  {
   "cell_type": "markdown",
   "metadata": {},
   "source": [
    "Dataset yang digunakan adalah dataset <a href='https://www.kaggle.com/szamil/who-suicide-statistics'>WHO Suicide Statistics</a> yang terdiri dari 43776 baris dan 6 kolom.\n",
    "\n",
    "__Feature Information:__\n",
    "\n",
    "* __country :__ nama negara yang terdata\n",
    "* __year :__ tahun\n",
    "* __sex :__ jenis kelamin \n",
    "* __age :__ rentang usia\n",
    "* __suicides_no :__ jumlah orang yang melakukan bunuh diri\n",
    "* __population :__ populasi penduduk \n",
    "\n",
    "Pertama kita <i>import</i> dahulu <i>library</i> yang akan digunakan. Dalam praktek ini, kita akan menggunakan Pandas, Numpy, Matplotlib dan Seaborn."
   ]
  },
  {
   "cell_type": "code",
   "execution_count": null,
   "metadata": {},
   "outputs": [],
   "source": [
    "import pandas as pd\n",
    "import numpy as numpy\n",
    "import seaborn as sns\n",
    "import matplotlib.pyplot as plt\n",
    "\n",
    "%matplotlib inline"
   ]
  },
  {
   "cell_type": "markdown",
   "metadata": {},
   "source": [
    "Kemudian kita <i>load</i> dataset menggunakan <code>read_csv()</code> dan menyimpannya dalam variabel <code>df</code>."
   ]
  },
  {
   "cell_type": "code",
   "execution_count": null,
   "metadata": {},
   "outputs": [],
   "source": [
    "df = pd.read_csv(\"../datasets/who_suicide_statistics.csv\")\n",
    "df.head(10)"
   ]
  },
  {
   "cell_type": "markdown",
   "metadata": {},
   "source": [
    "Sekarang kita lakukan pengecekan."
   ]
  },
  {
   "cell_type": "code",
   "execution_count": null,
   "metadata": {},
   "outputs": [],
   "source": [
    "df.info()"
   ]
  },
  {
   "cell_type": "markdown",
   "metadata": {},
   "source": [
    "Dari informasi di atas, kolom <code>suicides_no</code> dan <code>population</code> bertipe float, padahal itu mengandung bilangan integer. Karena itu kita akan mengubah tipe data <code>suicides_no</code> menjadi <code>Int64</code>. Sementara itu, kolom <code>populasi</code> kita akan membiarkannya karena tidak akan digunakan dalam praktek ini."
   ]
  },
  {
   "cell_type": "code",
   "execution_count": null,
   "metadata": {},
   "outputs": [],
   "source": [
    "# Mengubah tipe data kolom suicides_no\n",
    "\n",
    "df['suicides_no'] = df['suicides_no'].astype('Int64')\n",
    "df['suicides_no'].dtypes"
   ]
  },
  {
   "cell_type": "markdown",
   "metadata": {},
   "source": [
    "Misalnya kita ingin menampilkan grafik jumlah orang yang melakukan bunuh diri setiap tahunnya di dunia. Sebelumnya kita harus membuat dataframe baru yang menyediakan data tersebut.\n",
    "\n",
    "Dari dataframe <code>df</code> di atas, kita akan melakukan <i>grouping</i> berdasarkan tahun atau kolom <code>year</code> dan menampilkan jumlah total orang yang melakukan bunuh diri atau kolom <code>suicides_no</code> menggunakan agregasi <code>sum</code>."
   ]
  },
  {
   "cell_type": "code",
   "execution_count": null,
   "metadata": {},
   "outputs": [],
   "source": [
    "# Grouping data\n",
    "\n",
    "df_year = df.groupby(['year'])[['suicides_no']].sum()\n",
    "df_year"
   ]
  },
  {
   "cell_type": "markdown",
   "metadata": {},
   "source": [
    "Sekarang kita telah mendapatkan data yang diperlukan. Indeks dari dataframe <code>df_year</code> adalah tahun atau <code>year</code>.\n",
    "\n",
    "Jika kita lihat dari dataframe <code>df_year</code> di atas, baris dengan indeks __2016__ sangat sedikit jumlahnya dan dirasa tidak sesuai dengan tahun-tahun sebelumnya. Kemungkinan karena tidak semua negara telah memiliki data <i>suicides</i> pada tahun tersebut dan melaporkannya. Oleh karena itu, kita akan menghapus data tersebut karena merupakan <i>outliers</i>."
   ]
  },
  {
   "cell_type": "code",
   "execution_count": null,
   "metadata": {},
   "outputs": [],
   "source": [
    "# Menghapus baris 2016\n",
    "\n",
    "df_year = df_year.drop(2016, axis=0)\n",
    "df_year.tail()"
   ]
  },
  {
   "cell_type": "markdown",
   "metadata": {},
   "source": [
    "Dataframe <code>df_year</code> sudah siap digunakan untuk membuat <i>regression plot</i>."
   ]
  },
  {
   "cell_type": "markdown",
   "metadata": {},
   "source": [
    "<hr>"
   ]
  },
  {
   "cell_type": "markdown",
   "metadata": {},
   "source": [
    "## Visualisasi data dengan Regression Plot"
   ]
  },
  {
   "cell_type": "markdown",
   "metadata": {},
   "source": [
    "Dalam praktek visualisasi data dengan <i>regression plot</i> ini, kita akan menggunakan <i>library</i> __Seaborn__. \n",
    "\n",
    "> __Seaborn__ adalah sebuah <i>library</i> Python berdasarkan Matplotlib. Seaborn menyediakan <i>high-level interface</i> untuk membuat grafik statistik yang menarik. Anda dapat mempelajari lebih lanjut tentang Seaborn <a href='https://seaborn.pydata.org/'>disini</a>.\n",
    "\n",
    "Salah satu <i>method</i> pada Seaborn yang dapat digunakan untuk membuat <i>regression plot</i> adalah <code>regplot()</code>. Silahkan lihat dokumentasi <a href='https://seaborn.pydata.org/generated/seaborn.regplot.html'>Regplot</a> untuk mempelajarinya lebih lanjut.\n",
    "\n",
    "Penggunaan <code>regplot()</code> cukup mudah. Setidaknya kita harus memberikan 3 argumen pada <code>regplot()</code>, yaitu:\n",
    "\n",
    "* <code>x</code> : Untuk mendefinisikan data yang akan ditampilkan pada sumbu X.\n",
    "* <code>y</code> : Untuk mendefinisikan data yang akan ditampilkan pada sumbu Y.\n",
    "* <code>data</code> : Untuk mendefinisikan dataframe yang digunakan.\n",
    "\n",
    "Perhatikan kode berikut."
   ]
  },
  {
   "cell_type": "code",
   "execution_count": null,
   "metadata": {},
   "outputs": [],
   "source": [
    "# Membuat regression plot\n",
    "\n",
    "ax = sns.regplot(x=df_year.index.values, y='suicides_no', data=df_year)"
   ]
  },
  {
   "cell_type": "markdown",
   "metadata": {},
   "source": [
    "### Mengatur warna"
   ]
  },
  {
   "cell_type": "markdown",
   "metadata": {},
   "source": [
    "Untuk mengatur warna, kita dapat menambahkan parameter <code>color</code> seperti di bawah ini."
   ]
  },
  {
   "cell_type": "code",
   "execution_count": null,
   "metadata": {},
   "outputs": [],
   "source": [
    "# Mengatur warna pada regression plot\n",
    "\n",
    "ax = sns.regplot(x=df_year.index.values, y='suicides_no', data=df_year, color='green')"
   ]
  },
  {
   "cell_type": "markdown",
   "metadata": {},
   "source": [
    "### Mengatur ukuran figure"
   ]
  },
  {
   "cell_type": "markdown",
   "metadata": {},
   "source": [
    "Ukuran yang lebih besar tentunya akan lebih baik dilihat dibanding yang kecil. Nah, kita dapat mengubah ukuran <i>figure</i> menggunakan Matplotlib karena Seaborn bekerja berdasarkan Matplotlib. Perhatikan kode berikut."
   ]
  },
  {
   "cell_type": "code",
   "execution_count": null,
   "metadata": {},
   "outputs": [],
   "source": [
    "# Mengatur ukuran figure\n",
    "\n",
    "plt.figure(figsize=(15, 10))\n",
    "ax = sns.regplot(x=df_year.index.values, y='suicides_no', data=df_year, color='green')"
   ]
  },
  {
   "cell_type": "markdown",
   "metadata": {},
   "source": [
    "### Mengganti jenis titik (marker)"
   ]
  },
  {
   "cell_type": "markdown",
   "metadata": {},
   "source": [
    "Jika Anda bosan dengan bentuk <i>marker</i> yang berupa titik, Anda dapat menggantinya dengan menambahkan parameter <code>marker</code>. Lihat kode di bawah ini."
   ]
  },
  {
   "cell_type": "code",
   "execution_count": null,
   "metadata": {},
   "outputs": [],
   "source": [
    "# Mengatur jenis marker\n",
    "\n",
    "plt.figure(figsize=(15, 10))\n",
    "ax = sns.regplot(x=df_year.index.values, y='suicides_no', data=df_year, color='green', marker='+')"
   ]
  },
  {
   "cell_type": "markdown",
   "metadata": {},
   "source": [
    "### Mengubah ukuran marker"
   ]
  },
  {
   "cell_type": "markdown",
   "metadata": {},
   "source": [
    "Jika dirasa ukuran <i>marker</i> terlalu kecil atau besar, Anda dapat mengubahnya dengan memberikan parameter <code>scatter_kws</code> yang diberikan nilai berupa dictionary. <i>Key</i> untuk mengatur ukuran marker adalah <code>'s'</code>, kemudian Anda tinggal memberikan nilai integer yang diinginkan sebagai ukurannya. Perhatikan kode berikut."
   ]
  },
  {
   "cell_type": "code",
   "execution_count": null,
   "metadata": {},
   "outputs": [],
   "source": [
    "# Mengubah ukuran marker\n",
    "\n",
    "plt.figure(figsize=(15, 10))\n",
    "ax = sns.regplot(x=df_year.index.values, \n",
    "                 y='suicides_no', \n",
    "                 data=df_year, \n",
    "                 color='green', \n",
    "                 marker='+', \n",
    "                 scatter_kws={'s': 200})\n",
    "plt.show()"
   ]
  },
  {
   "cell_type": "markdown",
   "metadata": {},
   "source": [
    "### Mengatur ukuran huruf"
   ]
  },
  {
   "cell_type": "markdown",
   "metadata": {},
   "source": [
    "Untuk mengatur ukuran huruf pada <i>ticks</i>, label, ataupun judul <i>plot</i>, kita dapat menggunakan <i>method</i> <code>set()</code> dari Seaborn dan memberikan argumen berupa parameter <code>font_scale</code>. "
   ]
  },
  {
   "cell_type": "code",
   "execution_count": null,
   "metadata": {},
   "outputs": [],
   "source": [
    "# Mengatur ukuran huruf\n",
    "\n",
    "plt.figure(figsize=(15, 10))\n",
    "\n",
    "sns.set(font_scale=1.5)\n",
    "\n",
    "ax = sns.regplot(x=df_year.index.values, \n",
    "                 y='suicides_no', \n",
    "                 data=df_year, \n",
    "                 color='green', \n",
    "                 marker='+', \n",
    "                 scatter_kws={'s': 200})\n",
    "\n",
    "ax.set(xlabel='Year', ylabel=\"Number of Suicide Cases\")\n",
    "ax.set_title(\"Number of Suicide Cases Per Year\")\n",
    "plt.show()"
   ]
  },
  {
   "cell_type": "markdown",
   "metadata": {},
   "source": [
    "### Mengatur background menjadi berwarna putih"
   ]
  },
  {
   "cell_type": "markdown",
   "metadata": {},
   "source": [
    "Seperti yang kita lihat pada output dari blok kode sebelumnya, warna <i>background</i>-nya adalah abu-abu. Nah, jika Anda ingin mengubah warna <i>background</i> tersebut menjadi putih, Anda dapat menambahkan kode <code>sns.set_style('ticks')</code> seperti di bawah ini."
   ]
  },
  {
   "cell_type": "code",
   "execution_count": null,
   "metadata": {},
   "outputs": [],
   "source": [
    "# Mengatur background menjadi berwarna putih\n",
    "\n",
    "plt.figure(figsize=(15, 10))\n",
    "\n",
    "sns.set(font_scale=1.5)\n",
    "sns.set_style('ticks') # mengubah background menjadi berwarna putih\n",
    "\n",
    "ax = sns.regplot(x=df_year.index.values, \n",
    "                 y='suicides_no', \n",
    "                 data=df_year, \n",
    "                 color='green', \n",
    "                 marker='+', \n",
    "                 scatter_kws={'s': 200})\n",
    "\n",
    "ax.set(xlabel='Year', ylabel=\"Number of Suicide Cases\")\n",
    "ax.set_title(\"Number of Suicide Cases Per Year\")\n",
    "plt.show()"
   ]
  },
  {
   "cell_type": "markdown",
   "metadata": {},
   "source": [
    "### Menambahkan gridlines"
   ]
  },
  {
   "cell_type": "markdown",
   "metadata": {},
   "source": [
    "Terkadang adanya <i>gridlines</i> membuat <i>plot</i> terlihat lebih menarik. Untuk menambahkan <i>gridlines</i> pada <i>regression plot</i>, kita dapat menambahkan kode <code>sns.set_style('whitegrid')</code>."
   ]
  },
  {
   "cell_type": "code",
   "execution_count": null,
   "metadata": {},
   "outputs": [],
   "source": [
    "# Menambahkan gridlines\n",
    "\n",
    "plt.figure(figsize=(15, 10))\n",
    "\n",
    "sns.set(font_scale=1.5)\n",
    "sns.set_style('whitegrid')     # menambahkan gridlines\n",
    "\n",
    "ax = sns.regplot(x=df_year.index.values, \n",
    "                 y='suicides_no', \n",
    "                 data=df_year, \n",
    "                 color='green', \n",
    "                 marker='+', \n",
    "                 scatter_kws={'s': 200})\n",
    "\n",
    "ax.set(xlabel='Year', ylabel=\"Number of Suicide Cases\")\n",
    "ax.set_title(\"Number of Suicide Cases Per Year\")\n",
    "plt.show()"
   ]
  },
  {
   "cell_type": "markdown",
   "metadata": {},
   "source": [
    "<hr>"
   ]
  },
  {
   "cell_type": "markdown",
   "metadata": {},
   "source": [
    "Copyright @ <a href=\"https://ilmudatapy.com/\">ilmudatapy.com</a>"
   ]
  }
 ],
 "metadata": {
  "kernelspec": {
   "display_name": "Python 3",
   "language": "python",
   "name": "python3"
  },
  "language_info": {
   "codemirror_mode": {
    "name": "ipython",
    "version": 3
   },
   "file_extension": ".py",
   "mimetype": "text/x-python",
   "name": "python",
   "nbconvert_exporter": "python",
   "pygments_lexer": "ipython3",
   "version": "3.7.3"
  }
 },
 "nbformat": 4,
 "nbformat_minor": 2
}
