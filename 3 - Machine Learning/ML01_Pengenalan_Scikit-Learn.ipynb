{
 "cells": [
  {
   "cell_type": "markdown",
   "metadata": {},
   "source": [
    "<img src=\"../images/ilmudatapy-logo.png\" width=\"350\" align=\"center\">\n",
    "<br>"
   ]
  },
  {
   "cell_type": "markdown",
   "metadata": {},
   "source": [
    "<center><h1>Pengenalan Scikit-Learn</h1></center>\n",
    "<hr>"
   ]
  },
  {
   "cell_type": "markdown",
   "metadata": {},
   "source": [
    "__Halo, Learners!__ Di notebook ini, kita akan membahas sedikit tentang __Scikit-Learn__. Dimulai dari instalasi Scikit-Learn dan beberapa fitur Scikit-Learn dan contoh penerapannya yang akan berguna untuk membangun model <i>machine learning</i> yang sesungguhnya."
   ]
  },
  {
   "cell_type": "markdown",
   "metadata": {},
   "source": [
    "<h2>Table of Contents</h2>\n",
    "<div class=\"alert alert-block alert-info\" style=\"margin-top: 25px\">\n",
    "    <ul>\n",
    "        <li>\n",
    "            Apa itu Scikit-Learn?\n",
    "            <ul>\n",
    "                <li>Install Scikit-Learn</li>\n",
    "                <li>Mengecek versi Scikit-Learn</li>\n",
    "            </ul>\n",
    "        </li>\n",
    "        <li>\n",
    "            Features\n",
    "            <ul>\n",
    "                <li>Datasets</li>\n",
    "                <ul>\n",
    "                    <li>Load dataset</li>\n",
    "                    <li>Menampilkan target dari dataset</li>\n",
    "                    <li>Menampilkan deskripsi dataset</li>\n",
    "                </ul>\n",
    "                <li>Modeling Algorithms</li>\n",
    "                <li>Model Evaluation</li>\n",
    "                <li>Preprocessing</li>\n",
    "                <li>Feature Selection</li>\n",
    "                <li>Parameter Tuning</li>\n",
    "            </ul>\n",
    "        </li>\n",
    "    </ul>\n",
    "</div>"
   ]
  },
  {
   "cell_type": "markdown",
   "metadata": {},
   "source": [
    "<hr>\n",
    "<div class=\"alert alert-success\" style=\"margin-top: 20px\">\n",
    "    <strong>Catatan:</strong> Untuk menjalankan kode program Python di Jupyter Notebook, klik pada <i>cell</i> yang ingin di-<i>run</i> lalu tekan <kbd>Shift</kbd> + <kbd>Enter</kbd>.\n",
    "</div>"
   ]
  },
  {
   "cell_type": "markdown",
   "metadata": {},
   "source": [
    "<div class=\"alert alert-danger\" style=\"margin-top: 20px\">\n",
    "    <strong>Warning!:</strong> Jika ada kode program yang <i>error</i> atau output yang dihasilkan tidak sesuai, silahkan <b>Restart & Run All</b> kernel pada bagian menu <b>Kernel</b> di menu bar Jupyter Notebook, atau <b>Restart & Clear Output</b> kernel kemudian jalankan satu per satu <i>cell</i> secara berurutan dari atas ke bawah.\n",
    "</div>\n",
    "<hr>"
   ]
  },
  {
   "cell_type": "markdown",
   "metadata": {},
   "source": [
    "## Apa itu Scikit-Learn?"
   ]
  },
  {
   "cell_type": "markdown",
   "metadata": {},
   "source": [
    "__Scikit-Learn__ adalah sebuah <i>library</i> Python yang sangat bermanfaat untuk membangun model <i>machine learning</i>. Scikit-Learn atau yang dikenal juga dengan __sklearn__ dapat dengan membantu kita dalam pemodelan data dengan klasifikasi, regresi, klasterisasi atau <i>clustering</i>, dan juga fitur-fitur lainnya untuk memudahkan pemodelan <i>machine learning</i>.\n",
    "\n",
    "Sebelumnya menggunakan Scikit-Learn, kita harus menginstalnya terlebih dahulu. "
   ]
  },
  {
   "cell_type": "markdown",
   "metadata": {},
   "source": [
    "### Install Scikit-Learn"
   ]
  },
  {
   "cell_type": "markdown",
   "metadata": {},
   "source": [
    "Untuk menginstal Scikit-Learn atau sklearn, silahkan Anda jalankan blok kode di bawah ini. Disini kita akan install Scikit-Learn versi __0.24.1__."
   ]
  },
  {
   "cell_type": "code",
   "execution_count": null,
   "metadata": {},
   "outputs": [],
   "source": [
    "pip install scikit-learn==0.24.1 --user"
   ]
  },
  {
   "cell_type": "markdown",
   "metadata": {},
   "source": [
    "### Mengecek Versi Scikit-Learn"
   ]
  },
  {
   "cell_type": "markdown",
   "metadata": {},
   "source": [
    "Untuk mengecek versi Scikit-Learn yang terinstal pada komputer, kita dapat menggunakan kode <code>sklearn.\\_\\_version\\_\\_</code> seperti contoh di bawah ini. Jangan lupa <i>import</i> sklearn terlebih dahulu untuk menggunakannya."
   ]
  },
  {
   "cell_type": "code",
   "execution_count": null,
   "metadata": {},
   "outputs": [],
   "source": [
    "# Import scikit-learn \n",
    "\n",
    "import sklearn"
   ]
  },
  {
   "cell_type": "code",
   "execution_count": null,
   "metadata": {},
   "outputs": [],
   "source": [
    "# Mengecek versi scikit-learn\n",
    "\n",
    "sklearn.__version__"
   ]
  },
  {
   "cell_type": "markdown",
   "metadata": {},
   "source": [
    "<hr>"
   ]
  },
  {
   "cell_type": "markdown",
   "metadata": {},
   "source": [
    "## Features"
   ]
  },
  {
   "cell_type": "markdown",
   "metadata": {},
   "source": [
    "Ada banyak fitur yang dapat kita pergunakan untuk membantu dalam pemodelan <i>machine learning</i>. Beberapa <i>package</i> yang sering digunakan di antaranya:\n",
    "\n",
    "* __Datasets:__ <i>load</i> dataset yang sudah disediakan oleh Python.\n",
    "* __Supervised Learning Algoritms:__ Mengakses algoritma <i>supervised learning</i>.\n",
    "* __Clustering:__ Pemodelan data dengan algoritma <i>clustering</i>.\n",
    "* __Dimentionality Reduction:__ Mereduksi jumlah atribut pada data.\n",
    "* __Cross Validation:__ Untuk mengecek akurasi pada model <i>supervised</i>.\n",
    "* __Feature Selection:__ Mengidentifikasi atribut yang berguna dalam pemodelan <i>machine learning</i>.\n",
    "* __Parameter Tuning:__ Memilih parameter terbaik agar model <i>machine learning</i> yang dihasilkan memiliki akurasi yang baik.\n",
    "\n",
    "Masih banyak lagi fitur-fitur pada Scikit-Learn yang dapat digunakan untuk beragam kebutuhan kita dalam pemodelan <i>machine learning</i>. Namun, pada <i>notebook</i> ini kita hanya akan membahas tentang 7 fitur yang telah disebutkan di atas."
   ]
  },
  {
   "cell_type": "markdown",
   "metadata": {},
   "source": [
    "### Datasets"
   ]
  },
  {
   "cell_type": "markdown",
   "metadata": {},
   "source": [
    "Jika kita ingin berlatih memodelkan data namun kita tidak memiliki dataset, kita dapat menggunakan dataset yang telah disediakan oleh Python pada <i>library</i> Sklearn, di antaranya:\n",
    "\n",
    "* Dataset __Boston House Prices__ (<i>regression</i>) --> <code>load_boston()</code>\n",
    "* Dataset __Iris__ (<i>classification</i>) --> <code>load_iris()</code>\n",
    "* Dataset __Diabetes__ (<i>regression</i>) --> <code>load_diabetes()</code>\n",
    "* Dataset __Digits__ (<i>classification</i>) --> <code>load_digits()</code>\n",
    "* Dataset __Wine__ (<i>classification</i>) --> <code>load_wine()</code>\n",
    "* Dataset __Breast Cancer Wisconsin__ (<i>classification</i>) --> <code>load_breast_cancer()</code>\n",
    "* Dataset __Linnerud__ (<i>multivariate regression</i>) --> <code>load_linnerud()</code>"
   ]
  },
  {
   "cell_type": "markdown",
   "metadata": {},
   "source": [
    "#### Load dataset"
   ]
  },
  {
   "cell_type": "markdown",
   "metadata": {},
   "source": [
    "Untuk me-<i>load</i> dataset tersebut, kita harus mengimpor <i>package</i>-nya terlebih dahulu, kemudian buat dataframe Pandas dari dataset yang sudah di-<i>load</i>. Misalnya kita ingin menggunakan dataset Breast Cancer Wisconsin, maka kita impor datasetnya dan membuat dataframenya seperti di bawah ini."
   ]
  },
  {
   "cell_type": "code",
   "execution_count": null,
   "metadata": {},
   "outputs": [],
   "source": [
    "from sklearn.datasets import load_breast_cancer\n",
    "import pandas as pd\n",
    "import numpy as np\n",
    "\n",
    "# load dataset diabetes\n",
    "data_bc = load_breast_cancer()\n",
    "\n",
    "# membuat dataframe\n",
    "df_bc = pd.DataFrame(data_bc['data'], columns=data_bc['feature_names'])\n",
    "df_bc.head()"
   ]
  },
  {
   "cell_type": "markdown",
   "metadata": {},
   "source": [
    "Sekarang kita coba contoh lainnya, misalnya menggunakan dataset Boston House Prices."
   ]
  },
  {
   "cell_type": "code",
   "execution_count": null,
   "metadata": {},
   "outputs": [],
   "source": [
    "from sklearn.datasets import load_boston\n",
    "import pandas as pd               \n",
    "\n",
    "# load dataset boston\n",
    "boston = load_boston()\n",
    "\n",
    "# membuat dataframe\n",
    "df_boston = pd.DataFrame(boston['data'], columns=boston['feature_names'])\n",
    "df_boston.head()"
   ]
  },
  {
   "cell_type": "markdown",
   "metadata": {},
   "source": [
    "#### Menampilkan target dari dataset"
   ]
  },
  {
   "cell_type": "markdown",
   "metadata": {},
   "source": [
    "Parameter <code>data</code> yang kita gunakan di atas hanya menampilkan atribut dari dataset dan TIDAK menampilkan targetnya. Untuk melihat target dari masing-masing baris data tersebut, kita dapat menggunakan parameter <code>target</code>."
   ]
  },
  {
   "cell_type": "code",
   "execution_count": null,
   "metadata": {},
   "outputs": [],
   "source": [
    "# Menampilkan target dataset breast cancer\n",
    "\n",
    "data_bc['target']"
   ]
  },
  {
   "cell_type": "markdown",
   "metadata": {},
   "source": [
    "Untuk klasifikasi, kita juga dapat melihat nama kategori dari target dengan parameter <code>target_names</code>. Misalnya seperti yang kita lihat dataset Breast Cancer memiliki target yang direpresentasikan dengan angka <code>0</code> dan <code>1</code> dan kita ingin mengetahui apa nama kategori/kelas yang direpresentasikan dengan bilangan integer tersebut."
   ]
  },
  {
   "cell_type": "code",
   "execution_count": null,
   "metadata": {},
   "outputs": [],
   "source": [
    "# Melihat nama kelas target\n",
    "\n",
    "data_bc['target_names']"
   ]
  },
  {
   "cell_type": "markdown",
   "metadata": {},
   "source": [
    "#### Melihat deskripsi dataset"
   ]
  },
  {
   "cell_type": "markdown",
   "metadata": {},
   "source": [
    "Kita juga dapat melihat deskripsi dari dataset tersebut seperti di bawah ini."
   ]
  },
  {
   "cell_type": "code",
   "execution_count": null,
   "metadata": {},
   "outputs": [],
   "source": [
    "# Melihat deskripsi dataset breast cancer\n",
    "\n",
    "print(data_bc['DESCR'])"
   ]
  },
  {
   "cell_type": "markdown",
   "metadata": {},
   "source": [
    "### Modeling Algorithms"
   ]
  },
  {
   "cell_type": "markdown",
   "metadata": {},
   "source": [
    "Scikit-Learn menyediakan <i>package</i> untuk mengaplikasikan algoritma-algoritma <i>machine learning</i> dengan mudah. Misalnya untuk algoritma <i>supervised learning</i>, ada banyak algoritma yang dapat kita gunakan, di antaranya:\n",
    "\n",
    "* __Linear Regression__ (<i>regression</i>) --> <code>linear_model.LinearRegression()</code>\n",
    "* __Logistic Regression__ (<i>classification</i>) --> <code>linear_model.LogisticRegression()</code>\n",
    "* __K-Nearest Neighbors (KNN)__ (<i>classification</i>) --> <code>neighbors.KNeighborsClassifier()</code>\n",
    "* __Support Vector Machine (SVM)__ (<i>classification</i>) --> <code>svm.SVC()</code>\n",
    "* __Support Vector Machine (SVM)__ (<i>regression</i>) --> <code>svm.SVR()</code>\n",
    "* __Decision Tree__ (<i>classification</i>) --> <code>tree.DecisionTreeClassfier()</code>\n",
    "* __Decision Tree__ (<i>regression</i>) --> <code>tree.DecisionTreeRegressor()</code>\n",
    "* __Random Forest__ (<i>classification</i>) --> <code>ensemble.RandomForestClassifier()</code>\n",
    "* __Naive Bayes__ (<i>classification</i>) --> <code>naive_bayes.GaussianNB()</code>\n",
    "* __K-Means__ (<i>clustering</i>) --> <code>cluster.KMeans()</code>\n",
    "* __DBSCAN__ (<i>clustering</i>) --> <code>cluster.DBSCAN()</code>\n",
    "\n",
    "Selain beberapa algoritma yang telah disebutkan di atas, masih banyak lagi algoritma-algoritma untuk klasifikasi, regresi, dan clustering yang dapat digunakan.\n",
    "\n",
    "Sebagai contoh, misalnya kita ingin memodelkan dataset Boston House Prices menggunakan algoritma Linear Regression. Yang harus dilakukan pertama kali adalah mengimpor <i>package</i> yang dibutuhkan. Disini kita <i>import</i> <code>LinearRegression</code> dari <i>module</i> <code>sklearn.linear_model</code>. Perhatikan kode berikut."
   ]
  },
  {
   "cell_type": "code",
   "execution_count": null,
   "metadata": {},
   "outputs": [],
   "source": [
    "from sklearn.datasets import load_boston               # import dataset Boston\n",
    "from sklearn.linear_model import LinearRegression      # import algoritma Linear Regression\n",
    "              \n",
    "# load dataset boston\n",
    "boston = load_boston()\n",
    "\n",
    "# mendefinisikan atribut dan target \n",
    "X = boston['data']\n",
    "y = boston['target']\n",
    "\n",
    "# memodelkan atribut dan target dengan Linear Regression\n",
    "model_lr = LinearRegression()\n",
    "model_lr.fit(X, y)"
   ]
  },
  {
   "cell_type": "markdown",
   "metadata": {},
   "source": [
    "Secara sederhana, kita mendefinisikan model linear regression dengan menyimpannya pada variabel <code>model_lr</code>. Kemudian model tersebut kita latih dengan memberikan nilai <code>X</code> dan <code>y</code> sebagai parameter pada <i>method</i> <code>fit()</code>.\n",
    "\n",
    "Sampai disini, model linear regression sederhana sudah berhasil dibuat.\n",
    "\n",
    "Nah, untuk algoritma linear regression, kita dapat menampilkan __koefisien__ dan __intercept__ seperti di bawah ini."
   ]
  },
  {
   "cell_type": "code",
   "execution_count": null,
   "metadata": {},
   "outputs": [],
   "source": [
    "# Menampilkan koefisien dan intercept\n",
    "\n",
    "print('Koefisien model Linear Regression:\\n')\n",
    "print(model_lr.coef_)\n",
    "print('\\n')\n",
    "print('Intercept: ', model_lr.intercept_)"
   ]
  },
  {
   "cell_type": "markdown",
   "metadata": {},
   "source": [
    "### Model Evaluation"
   ]
  },
  {
   "cell_type": "markdown",
   "metadata": {},
   "source": [
    "Untuk mengevaluasi model <i>machine learning</i> yang telah dibuat, kita juga dapat dengan mudah menggunakan <i>package</i> yang telah disediakan Python pada Sklearn.\n",
    "\n",
    "__Model Evaluation Techniques__\n",
    "* __Holdout Validation__ --> <code>model_selection.train_test_split()</code> (__Train/test split__ adalah teknik <i>Holdout validation</i> yang paling banyak digunakan)\n",
    "* __Cross Validation__ --> <code>model_selection.KFold()</code> (__K-Fold Cross Validation adalah__ teknik <i>cross validation</i> yang paling banyak digunakan)\n",
    "\n",
    "\n",
    "__Model Evaluation Metrics__\n",
    "* __Accuracy__ (<i>classification</i>) --> <code>metrics.accuracy_score()</code>\n",
    "* __Confussion Matrix__ (<i>classification</i>) --> <code>metrics.confusion_matrix()</code>\n",
    "* __F-Measure / F1 Score__ (<i>classification</i>) --> <code>metrics.f1_score()</code>\n",
    "* __Logarithmic Loss__ (<i>classification</i>) --> <code>metrics.log_loss()</code>\n",
    "* __Mean Absolute Error (MAE)__ (<i>regression</i>) --> <code>metrics.mean_absolute_error()</code>\n",
    "* __Mean Squared Error (MSE)__ (<i>regression</i>) --> <code>metrics.mean_squared_error()</code>\n",
    "\n",
    "Selain teknik dan metrik evaluasi model <i>machine learning</i> yang telah disebutkan di atas, masih banyak lagi pilihan-pilihan evaluasi model yang dapat digunakan sesuai dengan karakteristik dataset kita."
   ]
  },
  {
   "cell_type": "code",
   "execution_count": null,
   "metadata": {},
   "outputs": [],
   "source": [
    "from sklearn.datasets import load_boston               # import dataset Boston\n",
    "from sklearn.linear_model import LinearRegression      # import algoritma Linear Regression\n",
    "from sklearn.model_selection import train_test_split   # import train/test split \n",
    "from sklearn.metrics import mean_absolute_error        # import mean absolute error (MAE)\n",
    "from sklearn.metrics import mean_squared_error         # import mean squared error\n",
    "              \n",
    "# load dataset boston\n",
    "boston = load_boston()\n",
    "\n",
    "# mendefinisikan atribut dan target \n",
    "X = boston['data']\n",
    "y = boston['target']\n",
    "\n",
    "# membagi data menjadi train set dan test set untuk evaluasi\n",
    "X_train, X_test, y_train, y_test = train_test_split(X, y, test_size=0.33, random_state=42)\n",
    "\n",
    "# memodelkan atribut dan target dengan Linear Regression\n",
    "model_lr = LinearRegression()\n",
    "model_lr.fit(X_train, y_train)           # melatih model dengan data X_train dan y_train\n",
    "y_predict = model_lr.predict(X_test)     # menguji model dengan data X_test\n",
    "\n",
    "# menghitung MAE dan MSE untuk melihat kinerja model\n",
    "print('MAE: ', mean_absolute_error(y_predict, y_test))\n",
    "print('MSE: ', mean_squared_error(y_predict, y_test))"
   ]
  },
  {
   "cell_type": "markdown",
   "metadata": {},
   "source": [
    "### Preprocessing"
   ]
  },
  {
   "cell_type": "markdown",
   "metadata": {},
   "source": [
    "Tahap <i>preprocessing</i> data, seperti normalisasi, standarisasi dan <i>encoding</i>, juga dapat kita aplikasikan pada dataset dengan menggunakan Sklearn.\n",
    "\n",
    "__Feature Scaling__\n",
    "* __Normalization__ --> <code>preprocessing.Normalizer()</code>\n",
    "* __Standard Scaling__ --> <code>preprocessing.StandardScaler()</code>\n",
    "* __Min Max Scaling__ --> <code>preprocessing.MinMaxScaler()</code>\n",
    "\n",
    "__Encoding__\n",
    "* __Label Encoding__ --> <code>preprocessing.LabelEncoder()</code>\n",
    "* __One-Hot Encoding__ --> <code>preprocessing.OneHotEncoder()</code>\n",
    "\n",
    "Misalnya disini kita ingin menormalisasi dataset Boston House Prices sebelum dilakukan pemodelan data. Perhatikan kode berikut."
   ]
  },
  {
   "cell_type": "code",
   "execution_count": null,
   "metadata": {},
   "outputs": [],
   "source": [
    "import pandas as pd\n",
    "from sklearn.datasets import load_boston               # import dataset Boston\n",
    "from sklearn.preprocessing import Normalizer           # import normalizer\n",
    "              \n",
    "# load dataset boston\n",
    "boston = load_boston()\n",
    "\n",
    "# normalisasi data\n",
    "norm = Normalizer().fit_transform(boston['data'])\n",
    "\n",
    "# membuat dataframe untuk menampilkan hasil normalisasi pada dataframe\n",
    "df_boston = pd.DataFrame(norm, columns=boston['feature_names'])\n",
    "df_boston.head()"
   ]
  },
  {
   "cell_type": "markdown",
   "metadata": {},
   "source": [
    "### Feature Selection"
   ]
  },
  {
   "cell_type": "markdown",
   "metadata": {},
   "source": [
    "<i>Feature selection</i> terkadang dibutuhkan karena dapat memaksimalkan kinerja model <i>machine learning</i>. Seleksi fitur dapat berupa <i>feature extraction</i>, <i>feature elimination</i>, atau <i>dimensionality reduction</i>. Seluruh teknik tersebut akan menghasilkan fitur yang dirasa penting atau menggabungkan fitur agar nantinya model akan bekerja lebih baik.\n",
    "\n",
    "Dengan Sklearn, kita dapat dengan mudah melakukan seleksi fitur dari dataset yang kita miliki dengan berbagai algoritma yang telah disediakan Python.\n",
    "\n",
    "__Feature Selection__\n",
    "* __Recursive Feature Elimination (RFE)__ --> <code>feature_selection.RFE()</code>\n",
    "* __Select K Best__ --> <code>feature_selection.SelectKBest()</code>\n",
    "* __chi2__ --> <code>feature_selection.chi2()</code>\n",
    "* __Select From Model__ --> <code>feature_selection.SelectFromModel()</code>\n",
    "\n",
    "__Dimensionality Reduction Algorithms__\n",
    "* __Principal Component Analysis (PCA)__ --> <code>decomposition.PCA()</code>\n",
    "* __Linear Discriminant Analysis (LDA)__ --> <code>discriminant_analysis.LinearDiscriminantAnalysis()</code>\n",
    "\n",
    "Selain yang telah disebutkan di atas, masih banyak lagi <i>package</i> yang dapat digunakan untuk seleksi fitur.\n",
    "\n",
    "Sebagai contoh misalnya disini kita akan menggunakan teknik reduksi dimensi dengan PCA. Perhatikan contoh berikut."
   ]
  },
  {
   "cell_type": "code",
   "execution_count": null,
   "metadata": {},
   "outputs": [],
   "source": [
    "import pandas as pd\n",
    "from sklearn.datasets import load_boston               # import dataset Boston\n",
    "from sklearn.preprocessing import Normalizer           # import normalizer\n",
    "from sklearn.decomposition import PCA                  # import PCA\n",
    "              \n",
    "# load dataset boston\n",
    "boston = load_boston()\n",
    "\n",
    "# normalisasi data\n",
    "norm_data = Normalizer().fit_transform(boston['data'])\n",
    "\n",
    "# mengaplikasikan PCA\n",
    "pca = PCA(n_components=2).fit_transform(norm_data)\n",
    "\n",
    "df_pca = pd.DataFrame(data = pca, columns = ['Fitur 1', 'Fitur 2'])\n",
    "df_pca.head()"
   ]
  },
  {
   "cell_type": "markdown",
   "metadata": {},
   "source": [
    "### Parameter Tuning"
   ]
  },
  {
   "cell_type": "markdown",
   "metadata": {},
   "source": [
    "<i>Parameter tuning</i> pada dasarnya adalah memilih atau mengkombinasikan parameter-parameter agar algoritma <i>machine learning</i> dapat menghasilkan performa terbaiknya. Setidaknya di Scikit-Learn Python ada 2 teknik parameter tuning, yaitu Grid Search dan Randomized Search.\n",
    "\n",
    "* __Grid Search__ --> <code>model_selection.GridSearchCV()</code>\n",
    "* __Randomized Search__ --> <code>model_selection.RandomizedSearchCV()</code>"
   ]
  },
  {
   "cell_type": "code",
   "execution_count": null,
   "metadata": {},
   "outputs": [],
   "source": [
    "import numpy as np\n",
    "from sklearn.datasets import load_breast_cancer\n",
    "from sklearn.neighbors import KNeighborsClassifier\n",
    "from sklearn.model_selection import train_test_split, GridSearchCV\n",
    "\n",
    "# load dataset\n",
    "data_bc = load_breast_cancer()\n",
    "\n",
    "# mendefinisikan atribut dan target \n",
    "X = data_bc['data']\n",
    "y = data_bc['target']\n",
    "\n",
    "# membagi data menjadi train set dan test set untuk evaluasi\n",
    "X_train, X_test, y_train, y_test = train_test_split(X, y, test_size=0.25, random_state=10)\n",
    "\n",
    "# mendefinisikan parameter yang ingin dicoba\n",
    "param_grid = {'n_neighbors': np.arange(2,20), \n",
    "             'weights': ['distance', 'uniform'], \n",
    "             'p': [1, 2],\n",
    "             'algorithm': ['auto', 'brute', 'kd_tree', 'ball_tree']}\n",
    "\n",
    "# modeling dengan KNN + Randomized Search\n",
    "model_knn = KNeighborsClassifier()\n",
    "gscv = GridSearchCV(model_knn, param_grid, scoring='accuracy', cv=5)\n",
    "gscv.fit(X_train, y_train)"
   ]
  },
  {
   "cell_type": "markdown",
   "metadata": {},
   "source": [
    "Untuk menampilkan kombinasi parameter terbaik dapat menggunakan atribut <code>.best_params_</code>."
   ]
  },
  {
   "cell_type": "code",
   "execution_count": null,
   "metadata": {},
   "outputs": [],
   "source": [
    "# Menampilkan kombinasi parameter terbaik\n",
    "\n",
    "gscv.best_params_"
   ]
  },
  {
   "cell_type": "markdown",
   "metadata": {},
   "source": [
    "Untuk menampilkan skor terbaik dapat menggunakan atribut <code>.best_score_</code>."
   ]
  },
  {
   "cell_type": "code",
   "execution_count": null,
   "metadata": {},
   "outputs": [],
   "source": [
    "# Menampilkan skor terbaik\n",
    "\n",
    "gscv.best_score_"
   ]
  },
  {
   "cell_type": "markdown",
   "metadata": {},
   "source": [
    "Masih banyak proses yang dapat dilakukan dengan memanfaatkan Scikit-Learn di Python. Yang telah disampaikan di atas adalah sebagian proses yang harus diketahui jika kita baru memulai terjun di bidang <i>data science</i> atau <i>machine learning</i>."
   ]
  },
  {
   "cell_type": "markdown",
   "metadata": {},
   "source": [
    "<hr>"
   ]
  },
  {
   "cell_type": "markdown",
   "metadata": {},
   "source": [
    "Copyright @ <a href=\"https://ilmudatapy.com/\">ilmudatapy.com</a>"
   ]
  }
 ],
 "metadata": {
  "kernelspec": {
   "display_name": "Python 3",
   "language": "python",
   "name": "python3"
  },
  "language_info": {
   "codemirror_mode": {
    "name": "ipython",
    "version": 3
   },
   "file_extension": ".py",
   "mimetype": "text/x-python",
   "name": "python",
   "nbconvert_exporter": "python",
   "pygments_lexer": "ipython3",
   "version": "3.7.3"
  }
 },
 "nbformat": 4,
 "nbformat_minor": 2
}
