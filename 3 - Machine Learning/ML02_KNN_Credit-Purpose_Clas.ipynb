{
 "cells": [
  {
   "cell_type": "markdown",
   "metadata": {},
   "source": [
    "<img src=\"../images/ilmudatapy-logo.png\" width=\"350\" align=\"center\">\n",
    "<br>"
   ]
  },
  {
   "cell_type": "markdown",
   "metadata": {},
   "source": [
    "<center><h1>Prediksi Tujuan Peminjaman Dana dengan K-Nearest Neighbors (KNN)</h1></center>\n",
    "<hr>"
   ]
  },
  {
   "cell_type": "markdown",
   "metadata": {},
   "source": [
    "__Halo, Learners!__ Di notebook ini, kita akan mempraktekkan pemodelan <i>machine learning</i> dengan algoritma __K-Nearest Neighbors__ atau __KNN__. Disini kita juga akan mengaplikasikan beberapa jenis visualisasi data dan teknik <i>preprocessing</i> data sebelum dilakukan pemodelan. Kita juga akan membuat kode untuk menentukan nilai K yang dapat menghasilkan akurasi terbaik."
   ]
  },
  {
   "cell_type": "markdown",
   "metadata": {},
   "source": [
    "<h2>Table of Contents</h2>\n",
    "<div class=\"alert alert-block alert-info\" style=\"margin-top: 25px\">\n",
    "    <ul>\n",
    "        <li>\n",
    "            K-Nearest Neighbors (KNN)\n",
    "        </li>\n",
    "        <li>\n",
    "            Dataset\n",
    "        </li>\n",
    "        <li>\n",
    "            Analisis dan visualisasi data\n",
    "        </li>\n",
    "        <li>\n",
    "            Preprocessing\n",
    "            <ul>\n",
    "                <li>Encoding</li>\n",
    "                <li>Normalisasi</li>\n",
    "                <li>Train test split</li>\n",
    "            </ul>\n",
    "        </li>\n",
    "        <li>\n",
    "            Modeling\n",
    "            <ul>\n",
    "                <li>Klasifikasi dengan K-Nearest Neighbors (KNN)</li>\n",
    "                <li>Prediksi</li>\n",
    "                <li>Evaluasi</li>\n",
    "                <li>Mencari nilai K terbaik</li>\n",
    "            </ul>\n",
    "        </li>\n",
    "    </ul>\n",
    "</div>"
   ]
  },
  {
   "cell_type": "markdown",
   "metadata": {},
   "source": [
    "<hr>\n",
    "<div class=\"alert alert-success\" style=\"margin-top: 20px\">\n",
    "    <strong>Catatan:</strong> Untuk menjalankan kode program Python di Jupyter Notebook, klik pada <i>cell</i> yang ingin di-<i>run</i> lalu tekan <kbd>Shift</kbd> + <kbd>Enter</kbd>.\n",
    "</div>"
   ]
  },
  {
   "cell_type": "markdown",
   "metadata": {},
   "source": [
    "<div class=\"alert alert-danger\" style=\"margin-top: 20px\">\n",
    "    <strong>Warning!:</strong> Jika ada kode program yang <i>error</i> atau output yang dihasilkan tidak sesuai, silahkan <b>Restart & Run All</b> kernel pada bagian menu <b>Kernel</b> di menu bar Jupyter Notebook, atau <b>Restart & Clear Output</b> kernel kemudian jalankan satu per satu <i>cell</i> secara berurutan dari atas ke bawah.\n",
    "</div>\n",
    "<hr>"
   ]
  },
  {
   "cell_type": "markdown",
   "metadata": {},
   "source": [
    "## K-Nearest Neighbors (KNN)"
   ]
  },
  {
   "cell_type": "markdown",
   "metadata": {},
   "source": [
    "__K-Nearest Neighbors__ atau yang biasa disingkat dengan __KNN__ adalah salah satu algoritma <i>supervised learning</i> yang paling sederhana. Algoritma ini bekerja mengklasifikasikan data baru berdasarkan kemiripan dengan sejumlah K tetangga terdekatnya. Dengan kata lain, data baru akan diklasifikasikan ke dalam kategori berdasarkan mayoritas kategori tetangganya. Perhatikan ilustrasi berikut."
   ]
  },
  {
   "cell_type": "markdown",
   "metadata": {},
   "source": [
    "![alt text](../images/knn.png \"Ilustrasi Algoritma KNN\")"
   ]
  },
  {
   "cell_type": "markdown",
   "metadata": {},
   "source": [
    "Pada gambar di atas, ada dua kategori yaitu kategori A (kuning) dan kategori B (hijau), serta data baru yang berwarna merah. Jika kita mengambil nilai K = 3, maka data baru tersebut akan diklasifikasikan sebagai kategori A. Sementara itu, jika mengambil nilai K = 5, maka data baru tersebut akan diklasifikasikan sebagai kategori B."
   ]
  },
  {
   "cell_type": "markdown",
   "metadata": {},
   "source": [
    "<hr>"
   ]
  },
  {
   "cell_type": "markdown",
   "metadata": {},
   "source": [
    "## Dataset"
   ]
  },
  {
   "cell_type": "markdown",
   "metadata": {},
   "source": [
    "Dataset yang digunakan untuk praktek pemodelan dengan algoritma K-Nearest Neighbors kali ini adalah dataset <a href='https://www.kaggle.com/uciml/german-credit'>German Credit Risk</a> yang terdiri dari 1000 baris data dan 9 kolom.\n",
    "\n",
    "__Attribute Information :__\n",
    "\n",
    "* __Age__ (numeric)\n",
    "* __Sex__ (text: male, female)\n",
    "* __Job__ (numeric: 0 - unskilled and non-resident, 1 - unskilled and resident, 2 - skilled, 3 - highly skilled)\n",
    "* __Housing__ (text: own, rent, or free)\n",
    "* __Saving accounts__ (text - little, moderate, quite rich, rich)\n",
    "* __Checking account__ (numeric, in DM - Deutsch Mark)\n",
    "* __Credit amount__ (numeric, in DM)\n",
    "* __Duration__ (numeric, in month)\n",
    "* __Purpose__ (text: car, furniture/equipment, radio/TV, domestic appliances, repairs, education, business, vacation/others)\n",
    "\n",
    "Kita nantinya akan membuat sebuah model untuk memprediksi jenis __Purpose__ dari data baru menggunakan algoritma K-Nearest Neighbors (KNN)."
   ]
  },
  {
   "cell_type": "markdown",
   "metadata": {},
   "source": [
    "Pertama kita <i>import</i> <i>library</i> yang akan digunakan terlebih dahulu seperti Pandas, Numpy, Matplotlib, dan Seaborn."
   ]
  },
  {
   "cell_type": "code",
   "execution_count": null,
   "metadata": {},
   "outputs": [],
   "source": [
    "import numpy as np\n",
    "import pandas as pd\n",
    "import matplotlib.pyplot as plt\n",
    "import seaborn as sns\n",
    "%matplotlib inline"
   ]
  },
  {
   "cell_type": "markdown",
   "metadata": {},
   "source": [
    "Kemudian kita <i>load</i> dataset ke dalam dataframe Pandas dengan <code>read_csv()</code>."
   ]
  },
  {
   "cell_type": "code",
   "execution_count": null,
   "metadata": {},
   "outputs": [],
   "source": [
    "# Load dataset ke dataframe Pandas\n",
    "\n",
    "df = pd.read_csv('../datasets/german_credit_data.csv')\n",
    "df.head(10)"
   ]
  },
  {
   "cell_type": "markdown",
   "metadata": {},
   "source": [
    "Seperti yang dapat kita lihat dari output di atas, kolom pertama yaitu <code>Unnamed: 0</code> tidak merepresentasikan data. Oleh karena itu kita akan hapus kolom tersebut dengan <code>drop()</code> dan memberikan parameter <code>axis = 1</code> yang menandakan bahwa kita ingin menghapus kolom."
   ]
  },
  {
   "cell_type": "code",
   "execution_count": null,
   "metadata": {},
   "outputs": [],
   "source": [
    "# Menghapus kolom 'Unnamed: 0'\n",
    "\n",
    "df.drop('Unnamed: 0', axis=1, inplace=True)"
   ]
  },
  {
   "cell_type": "markdown",
   "metadata": {},
   "source": [
    "Sekarang kita lihat dataframe setelah penghapusan kolom."
   ]
  },
  {
   "cell_type": "code",
   "execution_count": null,
   "metadata": {},
   "outputs": [],
   "source": [
    "# Menampilkan 5 data teratas di dataframe df\n",
    "\n",
    "df.head()"
   ]
  },
  {
   "cell_type": "markdown",
   "metadata": {},
   "source": [
    "Setelah itu, mari kita analisis data tersebut."
   ]
  },
  {
   "cell_type": "markdown",
   "metadata": {},
   "source": [
    "<hr>"
   ]
  },
  {
   "cell_type": "markdown",
   "metadata": {},
   "source": [
    "## Analisis dan visualisasi data"
   ]
  },
  {
   "cell_type": "markdown",
   "metadata": {},
   "source": [
    "Pertama kita akan melihat jumlah data untuk masing-masing kategori di kolom target, yaitu kolom <code>Purpose</code>, dengan menggunakan <code>value_counts()</code>."
   ]
  },
  {
   "cell_type": "code",
   "execution_count": null,
   "metadata": {},
   "outputs": [],
   "source": [
    "# Menampilkan jumlah data pada masing-masing kategori pada kolom 'Purpose'\n",
    "\n",
    "df['Purpose'].value_counts()"
   ]
  },
  {
   "cell_type": "markdown",
   "metadata": {},
   "source": [
    "Kita juga dapat melihat jumlah data untuk masing-masing kategori pada kolom lainnya yang bertipe __object__ seperti <code>Saving accounts</code>, <code>Checking account</code>, dan <code>Housing</code>."
   ]
  },
  {
   "cell_type": "code",
   "execution_count": null,
   "metadata": {},
   "outputs": [],
   "source": [
    "# Menampilkan jumlah data pada masing-masing kategori pada kolom 'Saving accounts'\n",
    "\n",
    "df['Saving accounts'].value_counts()"
   ]
  },
  {
   "cell_type": "code",
   "execution_count": null,
   "metadata": {},
   "outputs": [],
   "source": [
    "# Menampilkan jumlah data pada masing-masing kategori pada kolom 'Checking account'\n",
    "\n",
    "df['Checking account'].value_counts()"
   ]
  },
  {
   "cell_type": "code",
   "execution_count": null,
   "metadata": {},
   "outputs": [],
   "source": [
    "# Menampilkan jumlah data pada masing-masing kategori pada kolom 'Housing'\n",
    "\n",
    "df['Housing'].value_counts()"
   ]
  },
  {
   "cell_type": "markdown",
   "metadata": {},
   "source": [
    "Untuk kolom yang bertipe numerik seperti integer atau float, kita dapat memvisualisasikannya dengan histogram untuk melihat sebarannya."
   ]
  },
  {
   "cell_type": "code",
   "execution_count": null,
   "metadata": {},
   "outputs": [],
   "source": [
    "# Menampilkan histogram Age, Credit amount, dan Duration\n",
    "\n",
    "fig, ax = plt.subplots(ncols=3, nrows=1, figsize=(16, 5)) \n",
    "\n",
    "# Menambahkan subplot dengan indexing\n",
    "ax0 = fig.add_subplot(ax[0]) \n",
    "ax1 = fig.add_subplot(ax[1])  \n",
    "ax2 = fig.add_subplot(ax[2])   \n",
    "\n",
    "# Subplot ax[0]: Age\n",
    "df.hist(column='Age', bins=50, ax=ax0)\n",
    "\n",
    "# Subplot ax[1]: Credit amount\n",
    "df.hist(column='Credit amount', bins=50, ax=ax1)\n",
    "\n",
    "# Subplot ax[2]: Duration\n",
    "df.hist(column='Duration', bins=50, ax=ax2)\n",
    "\n",
    "plt.subplots_adjust(wspace=0.2)\n",
    "plt.show()"
   ]
  },
  {
   "cell_type": "markdown",
   "metadata": {},
   "source": [
    "Jika ingin memvisualisasikan jumlah data untuk tiap kategori, kita dapat menggunakan <code>countplot()</code> dari Seaborn seperti di bawah ini."
   ]
  },
  {
   "cell_type": "code",
   "execution_count": null,
   "metadata": {},
   "outputs": [],
   "source": [
    "# Menampilkan visualisasi perbandingan jumlah data untuk tiap jenis kelamin pada kolom 'Sex'\n",
    "\n",
    "sns.countplot(x='Sex', data=df)"
   ]
  },
  {
   "cell_type": "markdown",
   "metadata": {},
   "source": [
    "Kita juga dapat dengan mudah membuat visualisasi kolom yang berisi nilai kategori berdasarkan kolom kategori lainnya. Misalnya disini kita menampilkan visualisasi kolom <code>Housing</code> berdasarkan kolom <code>Sex</code>."
   ]
  },
  {
   "cell_type": "code",
   "execution_count": null,
   "metadata": {},
   "outputs": [],
   "source": [
    "# Menampilkan visualisasi perbandingan jumlah data untuk tiap jenis 'Housing' berdasarkan kolom 'Sex'\n",
    "\n",
    "sns.countplot(x='Housing', hue='Sex', data=df)"
   ]
  },
  {
   "cell_type": "markdown",
   "metadata": {},
   "source": [
    "Lakukan hal yang sama untuk kolom <code>Purpose</code> dengan mengatur ukuran <i>figure</i> dengan Matplotlib dan warna <i>colormap</i> dengan parameter <code>palette</code>."
   ]
  },
  {
   "cell_type": "code",
   "execution_count": null,
   "metadata": {},
   "outputs": [],
   "source": [
    "# Visualisasi 'Purpose' berdasarkan 'Sex'\n",
    "\n",
    "plt.figure(figsize=(13,7))\n",
    "sns.countplot(x='Purpose', hue='Sex', data=df, palette='Set2')"
   ]
  },
  {
   "cell_type": "markdown",
   "metadata": {},
   "source": [
    "Sekarang kita lihat visualisasi <code>Housing</code> berdasarkan <code>Purpose</code>."
   ]
  },
  {
   "cell_type": "code",
   "execution_count": null,
   "metadata": {},
   "outputs": [],
   "source": [
    "# Visualisasi 'Housing' berdasarkan 'Purpose'\n",
    "\n",
    "plt.figure(figsize=(13,7))\n",
    "sns.countplot(x='Housing', hue='Purpose', data=df, palette='coolwarm')"
   ]
  },
  {
   "cell_type": "markdown",
   "metadata": {},
   "source": [
    "Dengan Seaborn, kita juga dapat melihat korelasi antar atribut yang memiliki nilai numerik. Untuk men-<i>generate</i> korelasi, kita menggunakan <code>corr()</code>, setelah itu tampilkan korelasi tersebut pada <i>heatmap</i> seperti di bawah ini."
   ]
  },
  {
   "cell_type": "code",
   "execution_count": null,
   "metadata": {},
   "outputs": [],
   "source": [
    "# Menampilkan korelasi antar atribut dengan Heatmap\n",
    "\n",
    "plt.figure(figsize=(12,7))\n",
    "\n",
    "corr = df.corr()\n",
    "sns.heatmap(corr, annot=True, fmt='.2f')"
   ]
  },
  {
   "cell_type": "markdown",
   "metadata": {},
   "source": [
    "Kita juga dapat menampilkan <code>pairplot()</code> dengan Seaborn."
   ]
  },
  {
   "cell_type": "code",
   "execution_count": null,
   "metadata": {},
   "outputs": [],
   "source": [
    "sns.pairplot(df)"
   ]
  },
  {
   "cell_type": "markdown",
   "metadata": {},
   "source": [
    "<hr>"
   ]
  },
  {
   "cell_type": "markdown",
   "metadata": {},
   "source": [
    "## Preprocessing"
   ]
  },
  {
   "cell_type": "markdown",
   "metadata": {},
   "source": [
    "<i>Data preparation</i> atau <i>preprocessing</i> perlu dilakukan sebelum dilakukan pemodelan. Pada umumnya, yang dicek pertama kali adalah info singkat dari dataset yang sedang dikerjakan dengan <code>info()</code>. Disini kita dapat melihat apakah ada missing values atau nilai yang <i>null</i> pada dataframe dan juga tipe datanya."
   ]
  },
  {
   "cell_type": "code",
   "execution_count": null,
   "metadata": {},
   "outputs": [],
   "source": [
    "# Menampilkan info dataframe df\n",
    "\n",
    "df.info()"
   ]
  },
  {
   "cell_type": "markdown",
   "metadata": {},
   "source": [
    "Seperti yang kita lihat, dari 1000 baris data ada 2 kolom yang jumlah nilai <i>non-null</i>-nya tidak sampai 1000, yaitu kolom <code>Saving accounts</code> dan <code>Checking account</code>. Itu berarti ada <i>missing values</i> disitu. Sekarang kita akan mengisi nilai <i>null</i> tersebut dengan nilai __'little'__ yang merupakan nilai terbanyak pada 2 kolom tersebut dengan <i>method</i> <code>fillna()</code>."
   ]
  },
  {
   "cell_type": "code",
   "execution_count": null,
   "metadata": {},
   "outputs": [],
   "source": [
    "# Menangani missing values \n",
    "\n",
    "df['Saving accounts'].fillna('little', inplace=True)\n",
    "df['Checking account'].fillna('little', inplace=True)"
   ]
  },
  {
   "cell_type": "markdown",
   "metadata": {},
   "source": [
    "Mari kita lihat <code>info()</code> setelah penanganan missing values tersebut."
   ]
  },
  {
   "cell_type": "code",
   "execution_count": null,
   "metadata": {},
   "outputs": [],
   "source": [
    "# Menampilkan info dataframe\n",
    "\n",
    "df.info()"
   ]
  },
  {
   "cell_type": "markdown",
   "metadata": {},
   "source": [
    "Kemudian disini kita akan memisahkan kolom fitur dan kolom target. Kolom target adalah kolom <code>Purpose</code>, sedangkan sisanya merupakan kolom fitur."
   ]
  },
  {
   "cell_type": "code",
   "execution_count": null,
   "metadata": {},
   "outputs": [],
   "source": [
    "# Mendefinisikan kolom fitur dan target\n",
    "\n",
    "df_features = df.drop('Purpose', axis=1)\n",
    "df_target = df['Purpose']"
   ]
  },
  {
   "cell_type": "markdown",
   "metadata": {},
   "source": [
    "Mari kita lihat hasil dari <code>df_features</code> yang telah kita buat untuk menampung kolom fitur."
   ]
  },
  {
   "cell_type": "code",
   "execution_count": null,
   "metadata": {},
   "outputs": [],
   "source": [
    "# Menampilkan kolom fitur\n",
    "\n",
    "df_features"
   ]
  },
  {
   "cell_type": "markdown",
   "metadata": {},
   "source": [
    "### Encoding"
   ]
  },
  {
   "cell_type": "markdown",
   "metadata": {},
   "source": [
    "Selanjutnya adalah melakukan <i>encoding</i> terhadap data yang memiliki nilai kategori seperti pada kolom <code>Sex</code>, <code>Housing</code>, <code>Saving accounts</code>, dan <code>Checking account</code>. Disini kita akan menggunakan atribut Pandas <code>.cat.codes</code> untuk <i>encoding</i> data tersebut.\n",
    "\n",
    "Nah, seperti yang kita lihat dari hasil <code>info()</code>, tipe data untuk kolom-kolom tersebut adalah <i>object</i>, sementara <code>.cat.codes</code> hanya dapat diaplikasikan pada kolom dengan tipe __category__. Karena itu, kita harus mengubah dulu tipe data dari kolom-kolom tersebut dengan <i>method</i> <code>astype()</code>. Perhatikan kode berikut."
   ]
  },
  {
   "cell_type": "code",
   "execution_count": null,
   "metadata": {},
   "outputs": [],
   "source": [
    "# Mengubah tipe data menjadi category\n",
    "df_features[['Sex', 'Housing', 'Saving accounts', 'Checking account']] = df_features[['Sex', 'Housing', 'Saving accounts', 'Checking account']].astype('category')\n",
    "\n",
    "# Cek hasil perubahan tipe data\n",
    "df_features[['Sex','Housing', 'Saving accounts', 'Checking account']].info()"
   ]
  },
  {
   "cell_type": "markdown",
   "metadata": {},
   "source": [
    "Setelah tipe data diubah menjadi <i>category</i>, kita dapat langsung mengaplikasikan atribut <code>.cat.codes</code> untuk tiap kolom seperti di bawah ini."
   ]
  },
  {
   "cell_type": "code",
   "execution_count": null,
   "metadata": {},
   "outputs": [],
   "source": [
    "# Encoding data dengan .cat.codes\n",
    "\n",
    "df_features['Sex'] = df_features['Sex'].cat.codes\n",
    "df_features['Housing'] = df_features['Housing'].cat.codes\n",
    "df_features['Saving accounts'] = df_features['Saving accounts'].cat.codes\n",
    "df_features['Checking account'] = df_features['Checking account'].cat.codes"
   ]
  },
  {
   "cell_type": "markdown",
   "metadata": {},
   "source": [
    "Mari kita lihat hasil <i>encoding</i>-nya."
   ]
  },
  {
   "cell_type": "code",
   "execution_count": null,
   "metadata": {},
   "outputs": [],
   "source": [
    "# Menampilkan 5 data terbawah\n",
    "\n",
    "df_features.tail()"
   ]
  },
  {
   "cell_type": "markdown",
   "metadata": {},
   "source": [
    "### Normalisasi"
   ]
  },
  {
   "cell_type": "markdown",
   "metadata": {},
   "source": [
    "Meskipun sekarang semua kolom fitur sudah berisi nilai numerik, tetapi selisih nilai antarkolom terlalu jauh, seperti pada kolom <code>Credit amount</code> yang memiliki nilai ratusan dan ribuan, sementara kolom lainnya bernilai satuan dan ada pula yang puluhan. Agar hasil model nantinya dapat lebih maksimal, sebaiknya kita menormalisasi terlebih dahulu dataframe tersebut sehingga nilai antarkolomnya tidak berbeda jauh.\n",
    "\n",
    "Disini kita akan melakukan normalisasi dengan <code>StandardScaler()</code> dari Scikit-Learn."
   ]
  },
  {
   "cell_type": "code",
   "execution_count": null,
   "metadata": {},
   "outputs": [],
   "source": [
    "# Normalisasi data\n",
    "\n",
    "from sklearn.preprocessing import StandardScaler\n",
    "\n",
    "X = StandardScaler().fit(df_features).transform(df_features.astype(float))\n",
    "X[0:5]"
   ]
  },
  {
   "cell_type": "markdown",
   "metadata": {},
   "source": [
    "Data fitur sudah siap digunakan dan disimpan dalam variabel <code>X</code>. Sekarang kita definisikan data targetnya, misalnya disini kita masukkan dalam variabel <code>y</code>."
   ]
  },
  {
   "cell_type": "code",
   "execution_count": null,
   "metadata": {},
   "outputs": [],
   "source": [
    "# Mendefinisikan data target\n",
    "\n",
    "y = df_target\n",
    "y[0:5]"
   ]
  },
  {
   "cell_type": "markdown",
   "metadata": {},
   "source": [
    "### Train test split"
   ]
  },
  {
   "cell_type": "markdown",
   "metadata": {},
   "source": [
    "Setelah data fitur dan target telah siap digunakan untuk pemodelan, tahap selanjutnya adalah membagi data tersebut menjadi <i>training data</i> dan <i>testing data</i>. Disini kita akan menggunakan <code>train_test_split()</code> dari Scikit-Learn.\n",
    "\n",
    "__Train test split__ membagi data tersebut menjadi <i>training data</i> yang digunakan untuk melatih model <i>machine learning</i> dan <i>testing data</i> yang digunakan untuk mengevaluasi kinerja <i>machine learning</i> tersebut.\n",
    "\n",
    "Kita akan memberikan proporsi untuk data testing sebesar __20%__ yang didefinisikan pada parameter <code>test_size = 0.2</code>."
   ]
  },
  {
   "cell_type": "code",
   "execution_count": null,
   "metadata": {},
   "outputs": [],
   "source": [
    "# Train test split untuk membagi data training dan testing\n",
    "\n",
    "from sklearn.model_selection import train_test_split\n",
    "\n",
    "X_train, X_test, y_train, y_test = train_test_split(X, y, test_size=0.2, random_state=10)\n",
    "\n",
    "print ('Train set:', X_train.shape,  y_train.shape)\n",
    "print ('Test set:', X_test.shape,  y_test.shape)"
   ]
  },
  {
   "cell_type": "markdown",
   "metadata": {},
   "source": [
    "<hr>"
   ]
  },
  {
   "cell_type": "markdown",
   "metadata": {},
   "source": [
    "## Modeling"
   ]
  },
  {
   "cell_type": "markdown",
   "metadata": {},
   "source": [
    "### Klasifikasi dengan K-Nearest Neighbors (KNN)"
   ]
  },
  {
   "cell_type": "markdown",
   "metadata": {},
   "source": [
    "Mari kita <i>import</i> dulu <i>library</i>-nya."
   ]
  },
  {
   "cell_type": "code",
   "execution_count": null,
   "metadata": {},
   "outputs": [],
   "source": [
    "from sklearn.neighbors import KNeighborsClassifier"
   ]
  },
  {
   "cell_type": "markdown",
   "metadata": {},
   "source": [
    "Misalnya disini kita menentukan jumlah tetangganya adalah __5__. Maka algoritma KNN akan mencari jumlah mayoritas kategori target dari 5 tetangga terdekat masing-masing data baru untuk kemudian mengklasifikasikan data baru tersebut ke dalam kategori yang mayoritas."
   ]
  },
  {
   "cell_type": "code",
   "execution_count": null,
   "metadata": {},
   "outputs": [],
   "source": [
    "k = 5\n",
    "\n",
    "# Train Model\n",
    "model_knn = KNeighborsClassifier(n_neighbors = k).fit(X_train, y_train)\n",
    "model_knn"
   ]
  },
  {
   "cell_type": "markdown",
   "metadata": {},
   "source": [
    "### Prediksi"
   ]
  },
  {
   "cell_type": "markdown",
   "metadata": {},
   "source": [
    "Setelah dilakukan <i>training</i> terhadap data latih <code>X_train</code> dan <code>y_train</code>, selanjutnya kita dapat mengujinya menggunakan data testing <code>X_test</code> dengan <i>method</i> <code>predict()</code>."
   ]
  },
  {
   "cell_type": "code",
   "execution_count": null,
   "metadata": {},
   "outputs": [],
   "source": [
    "# Menguji model dengan data testing\n",
    "\n",
    "y_pred = model_knn.predict(X_test)\n",
    "y_pred[0:5]"
   ]
  },
  {
   "cell_type": "markdown",
   "metadata": {},
   "source": [
    "Sekarang kita telah mendapatkan hasil pengujian model yang disimpan pada variabel <code>y_pred</code>.\n",
    "\n",
    "Sebagai perbandingan, mari kita tampilkan nilai target sesungguhnya, yaitu <code>y_test</code>."
   ]
  },
  {
   "cell_type": "code",
   "execution_count": null,
   "metadata": {},
   "outputs": [],
   "source": [
    "# Menampilkan data testing\n",
    "\n",
    "y_test[0:5]"
   ]
  },
  {
   "cell_type": "markdown",
   "metadata": {},
   "source": [
    "### Evaluasi"
   ]
  },
  {
   "cell_type": "markdown",
   "metadata": {},
   "source": [
    "Untuk mengevaluasi kinerja model <i>machine learning</i>, kita dapat menggunakan <code>accuracy_score()</code> seperti di bawah ini."
   ]
  },
  {
   "cell_type": "code",
   "execution_count": null,
   "metadata": {},
   "outputs": [],
   "source": [
    "# Mengukur kinerja model machine learning\n",
    "\n",
    "from sklearn.metrics import accuracy_score\n",
    "\n",
    "print('Akurasi Train set: ', accuracy_score(y_train, model_knn.predict(X_train)))\n",
    "print('Akurasi Test set: ', accuracy_score(y_test, y_pred))"
   ]
  },
  {
   "cell_type": "markdown",
   "metadata": {},
   "source": [
    "### Mencari nilai K terbaik"
   ]
  },
  {
   "cell_type": "markdown",
   "metadata": {},
   "source": [
    "Pada contoh di atas, kita menentukan sendiri nilai <code>K</code> yang akan digunakan. Perbedaan nilai <code>K</code> atau jumlah tetangga sangat menentukan akurasi model. Oleh karena itu, sebaiknya kita membuat model dengan mencari nilai <code>K</code> yang dapat menghasilkan akurasi terbaik.\n",
    "\n",
    "Misalnya disini kita akan mencari nilai <code>K</code> terbaik dari 1 sampai 14."
   ]
  },
  {
   "cell_type": "code",
   "execution_count": null,
   "metadata": {},
   "outputs": [],
   "source": [
    "# Mencari nilai K dengan akurasi terbaik\n",
    "\n",
    "Ks = 15\n",
    "mean_acc = np.zeros((Ks-1))\n",
    "\n",
    "for n in range(1, Ks):\n",
    "    \n",
    "    #Train Model and Predict  \n",
    "    model_knn = KNeighborsClassifier(n_neighbors = n).fit(X_train, y_train)\n",
    "    y_pred = model_knn.predict(X_test)\n",
    "    \n",
    "    mean_acc[n-1] = accuracy_score(y_test, y_pred)\n",
    "\n",
    "mean_acc"
   ]
  },
  {
   "cell_type": "markdown",
   "metadata": {},
   "source": [
    "Kita dapat memvisualisasikan hasil tersebut dengan <i>line plot</i> seperti di bawah ini."
   ]
  },
  {
   "cell_type": "code",
   "execution_count": null,
   "metadata": {},
   "outputs": [],
   "source": [
    "# Visualisasi hasil K \n",
    "\n",
    "plt.plot(range(1,Ks), mean_acc, 'r')\n",
    "plt.ylabel('Akurasi')\n",
    "plt.xlabel('Jumlah Tetangga (K)')\n",
    "plt.tight_layout()\n",
    "plt.show()"
   ]
  },
  {
   "cell_type": "code",
   "execution_count": null,
   "metadata": {},
   "outputs": [],
   "source": [
    "# Print akurasi terbaik\n",
    "\n",
    "print( 'Akurasi terbaik adalah ', mean_acc.max(), 'dengan nilai k =', mean_acc.argmax()+1)"
   ]
  },
  {
   "cell_type": "markdown",
   "metadata": {},
   "source": [
    "Dapat kita lihat bahwa untuk dataset ini dengan menggunakan algoritma KNN, nilai K yang menghasilkan akurasi terbaik untuk data testing adalah K = 13 dengan akurasi 0.45."
   ]
  },
  {
   "cell_type": "markdown",
   "metadata": {},
   "source": [
    "<hr>"
   ]
  },
  {
   "cell_type": "markdown",
   "metadata": {},
   "source": [
    "Copyright @ <a href=\"https://ilmudatapy.com/\">ilmudatapy.com</a>"
   ]
  }
 ],
 "metadata": {
  "kernelspec": {
   "display_name": "Python 3",
   "language": "python",
   "name": "python3"
  },
  "language_info": {
   "codemirror_mode": {
    "name": "ipython",
    "version": 3
   },
   "file_extension": ".py",
   "mimetype": "text/x-python",
   "name": "python",
   "nbconvert_exporter": "python",
   "pygments_lexer": "ipython3",
   "version": "3.7.3"
  }
 },
 "nbformat": 4,
 "nbformat_minor": 2
}
