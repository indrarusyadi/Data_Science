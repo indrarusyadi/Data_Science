{
 "cells": [
  {
   "cell_type": "markdown",
   "metadata": {},
   "source": [
    "<img src=\"../images/ilmudatapy-logo.png\" width=\"350\" align=\"center\">\n",
    "<br>"
   ]
  },
  {
   "cell_type": "markdown",
   "metadata": {},
   "source": [
    "<center><h1>Prediksi Kelas Protein Pada Bakteri Ragi dengan Logistic Regression</h1></center>\n",
    "<hr>"
   ]
  },
  {
   "cell_type": "markdown",
   "metadata": {},
   "source": [
    "__Halo, Learners!__ Di notebook ini, kita akan mempraktekkan pemodelan <i>machine learning</i> untuk kasus klasifikasi dengan algoritma __Logistic Regression__. Disini kita juga akan mencoba menggunakan K-Fold Cross Validation."
   ]
  },
  {
   "cell_type": "markdown",
   "metadata": {},
   "source": [
    "<h2>Table of Contents</h2>\n",
    "<div class=\"alert alert-block alert-info\" style=\"margin-top: 25px\">\n",
    "    <ul>\n",
    "        <li>\n",
    "            Logistic Regression\n",
    "        </li>\n",
    "        <li>\n",
    "            Dataset\n",
    "        </li>\n",
    "        <li>\n",
    "            Analisis dan visualisasi data\n",
    "        </li>\n",
    "        <li>\n",
    "            Preprocessing\n",
    "            <ul>\n",
    "                <li>Train test split</li>\n",
    "            </ul>\n",
    "        </li>\n",
    "        <li>\n",
    "            Modeling\n",
    "            <ul>\n",
    "                <li>Klasifikasi dengan Logistic Regression</li>\n",
    "                <li>Evaluasi</li>\n",
    "                <li>K-Fold Cross Validation</li>\n",
    "            </ul>\n",
    "        </li>\n",
    "    </ul>\n",
    "</div>"
   ]
  },
  {
   "cell_type": "markdown",
   "metadata": {},
   "source": [
    "<hr>\n",
    "<div class=\"alert alert-success\" style=\"margin-top: 20px\">\n",
    "    <strong>Catatan:</strong> Untuk menjalankan kode program Python di Jupyter Notebook, klik pada <i>cell</i> yang ingin di-<i>run</i> lalu tekan <kbd>Shift</kbd> + <kbd>Enter</kbd>.\n",
    "</div>"
   ]
  },
  {
   "cell_type": "markdown",
   "metadata": {},
   "source": [
    "<div class=\"alert alert-danger\" style=\"margin-top: 20px\">\n",
    "    <strong>Warning!:</strong> Jika ada kode program yang <i>error</i> atau output yang dihasilkan tidak sesuai, silahkan <b>Restart & Run All</b> kernel pada bagian menu <b>Kernel</b> di menu bar Jupyter Notebook, atau <b>Restart & Clear Output</b> kernel kemudian jalankan satu per satu <i>cell</i> secara berurutan dari atas ke bawah.\n",
    "</div>\n",
    "<hr>"
   ]
  },
  {
   "cell_type": "markdown",
   "metadata": {},
   "source": [
    "## Logistic Regression"
   ]
  },
  {
   "cell_type": "markdown",
   "metadata": {},
   "source": [
    "__Logistic Regression__ merupakan variasi dari Linear Regression yang digunakan untuk dataset dengan <i>dependent variable</i> atau kolom targetnya bertipe kategori. Algoritma ini memprediksi probabilitas label kelas sebagai fungsi dari variabel independen.\n",
    "\n",
    "Logistik regression menyesuaikan kurva berbentuk S dengan menggunakan Linear regression dan mentransformasi estimasi numerik menjadi probabilitas. Berikut ilustrasi kurva Logistic regression."
   ]
  },
  {
   "cell_type": "markdown",
   "metadata": {},
   "source": [
    "![alt text](../images/logistic-regression.jpg)\n",
    "<center><i>pic source: primo.ai</i></center>"
   ]
  },
  {
   "cell_type": "markdown",
   "metadata": {},
   "source": [
    "<hr>"
   ]
  },
  {
   "cell_type": "markdown",
   "metadata": {},
   "source": [
    "## Dataset"
   ]
  },
  {
   "cell_type": "markdown",
   "metadata": {},
   "source": [
    "Dataset yang akan digunakan adalah dataset <a href=\"https://datahub.io/machine-learning/yeast\">Yeast</a>. Dataset ini berisi data situs lokalisasi protein pada bakteri ragi, berdasarkan beberapa uji bio-statistik.\n",
    "\n",
    "__Attribute Information:__\n",
    "\n",
    "* __mcg:__ McGeoch's method for signal sequence recognition.\n",
    "* __gvh:__ von Heijne's method for signal sequence recognition.\n",
    "* __alm:__ Score of the ALOM membrane spanning region prediction program.\n",
    "* __mit:__ Score of discriminant analysis of the amino acid content of the N-terminal region (20 residues long) of mitochondrial and non-mitochondrial proteins.\n",
    "* __erl:__ Presence of \"HDEL\" substring (thought to act as a signal for retention in the endoplasmic reticulum lumen). Binary attribute.\n",
    "* __pox:__ Peroxisomal targeting signal in the C-terminus.\n",
    "* __vac:__ Score of discriminant analysis of the amino acid content of vacuolar and extracellular proteins.\n",
    "* __nuc:__ Score of discriminant analysis of nuclear localization signals of nuclear and non-nuclear proteins.\n",
    "* __class_protein_localization:__ Predicted Attribute, Localization site of protein. ( non-numeric )"
   ]
  },
  {
   "cell_type": "markdown",
   "metadata": {},
   "source": [
    "Pertama mari kita <i>import library</i> yang dibutuhkan."
   ]
  },
  {
   "cell_type": "code",
   "execution_count": null,
   "metadata": {},
   "outputs": [],
   "source": [
    "import pandas as pd\n",
    "import numpy as np\n",
    "import matplotlib.pyplot as plt\n",
    "import seaborn as sns\n",
    "\n",
    "%matplotlib inline"
   ]
  },
  {
   "cell_type": "markdown",
   "metadata": {},
   "source": [
    "Kemudian kita <i>load</i> data ke dalam dataframe Pandas dengan <code>read_csv()</code>."
   ]
  },
  {
   "cell_type": "code",
   "execution_count": null,
   "metadata": {},
   "outputs": [],
   "source": [
    "# Load dataset\n",
    "\n",
    "df = pd.read_csv(\"../datasets/yeast.csv\")\n",
    "df.head(10)"
   ]
  },
  {
   "cell_type": "markdown",
   "metadata": {},
   "source": [
    "Seperti yang dapat kita lihat, ada 8 kolom fitur yang berisi nilai numerik, sementara itu kolom target kelasnya berisi nilai non-numerik."
   ]
  },
  {
   "cell_type": "markdown",
   "metadata": {},
   "source": [
    "<hr>"
   ]
  },
  {
   "cell_type": "markdown",
   "metadata": {},
   "source": [
    "## Analisis dan visualisasi data"
   ]
  },
  {
   "cell_type": "markdown",
   "metadata": {},
   "source": [
    "Mari kita lihat jumlah data untuk tiap kelas/kategori di kolom target <code>class_protein_localization</code>."
   ]
  },
  {
   "cell_type": "code",
   "execution_count": null,
   "metadata": {},
   "outputs": [],
   "source": [
    "# Menghitung jumlah data pada tiap kelas/kategori\n",
    "\n",
    "df['class_protein_localization'].value_counts()"
   ]
  },
  {
   "cell_type": "markdown",
   "metadata": {},
   "source": [
    "Kita juga dapat menampilkannya dalam bentuk visual dengan <code>countplot()</code> dari Seaborn."
   ]
  },
  {
   "cell_type": "code",
   "execution_count": null,
   "metadata": {},
   "outputs": [],
   "source": [
    "# Menampilkan visualisasi dengan countplot Seaborn\n",
    "\n",
    "sns.countplot(x='class_protein_localization', data=df, palette='Set2')"
   ]
  },
  {
   "cell_type": "markdown",
   "metadata": {},
   "source": [
    "Untuk kolom numerik, kita dapat melihat sebaran datanya dengan histogram."
   ]
  },
  {
   "cell_type": "code",
   "execution_count": null,
   "metadata": {},
   "outputs": [],
   "source": [
    "# Menampilkan histogram dari kolom fitur numerik\n",
    "\n",
    "fig, ax = plt.subplots(ncols=4, nrows=2, figsize=(16, 6)) \n",
    "\n",
    "# Menambahkan subplot dengan indexing\n",
    "ax0 = fig.add_subplot(ax[0,0]) \n",
    "ax1 = fig.add_subplot(ax[0,1])  \n",
    "ax2 = fig.add_subplot(ax[0,2])  \n",
    "ax3 = fig.add_subplot(ax[0,3]) \n",
    "ax4 = fig.add_subplot(ax[1,0])  \n",
    "ax5 = fig.add_subplot(ax[1,1]) \n",
    "ax6 = fig.add_subplot(ax[1,2]) \n",
    "ax7 = fig.add_subplot(ax[1,3])   \n",
    "\n",
    "df.hist(column='mcg', bins=50, ax=ax0)\n",
    "df.hist(column='gvh', bins=50, ax=ax1)\n",
    "df.hist(column='alm', bins=50, ax=ax2)\n",
    "df.hist(column='mit', bins=50, ax=ax3)\n",
    "df.hist(column='erl', bins=50, ax=ax4)\n",
    "df.hist(column='pox', bins=50, ax=ax5)\n",
    "df.hist(column='vac', bins=50, ax=ax6)\n",
    "df.hist(column='nuc', bins=50, ax=ax7)\n",
    "\n",
    "plt.subplots_adjust(wspace=0.2, hspace=0.4)\n",
    "plt.show()"
   ]
  },
  {
   "cell_type": "markdown",
   "metadata": {},
   "source": [
    "Korelasi antar fitur dapat ditunjukkan dengan <code>heatmap()</code> dari Seaborn."
   ]
  },
  {
   "cell_type": "code",
   "execution_count": null,
   "metadata": {},
   "outputs": [],
   "source": [
    "# Menampilkan korelasi antar fitur\n",
    "\n",
    "plt.figure(figsize=(12,7))\n",
    "\n",
    "corr = df.corr()\n",
    "sns.heatmap(corr, annot=True, fmt='.2f')"
   ]
  },
  {
   "cell_type": "markdown",
   "metadata": {},
   "source": [
    "<hr>"
   ]
  },
  {
   "cell_type": "markdown",
   "metadata": {},
   "source": [
    "## Preprocessing"
   ]
  },
  {
   "cell_type": "markdown",
   "metadata": {},
   "source": [
    "Mari kita lihat <code>info()</code> dari dataframe <code>df</code>."
   ]
  },
  {
   "cell_type": "code",
   "execution_count": null,
   "metadata": {},
   "outputs": [],
   "source": [
    "# Melihat info dataframe\n",
    "\n",
    "df.info()"
   ]
  },
  {
   "cell_type": "markdown",
   "metadata": {},
   "source": [
    "Dari hasil di atas, tidak terlihat ada <i>missing values</i> dan tipe datanya juga sudah sesuai. Karena itu, kita dapat lanjut ke proses <i>train test split</i>."
   ]
  },
  {
   "cell_type": "markdown",
   "metadata": {},
   "source": [
    "### Train test split"
   ]
  },
  {
   "cell_type": "markdown",
   "metadata": {},
   "source": [
    "Mari kita definisikan terlebih dahulu fitur dan targetnya. "
   ]
  },
  {
   "cell_type": "code",
   "execution_count": null,
   "metadata": {},
   "outputs": [],
   "source": [
    "# Mendefinisikan fitur dan target\n",
    "\n",
    "X = df.drop('class_protein_localization', axis=1)       # fitur\n",
    "y = df['class_protein_localization']                    # target"
   ]
  },
  {
   "cell_type": "markdown",
   "metadata": {},
   "source": [
    "Selanjutnya kita lakukan <code>train_test_split()</code>."
   ]
  },
  {
   "cell_type": "code",
   "execution_count": null,
   "metadata": {},
   "outputs": [],
   "source": [
    "from sklearn.model_selection import train_test_split\n",
    "\n",
    "# Train test split\n",
    "X_train, X_test, y_train, y_test = train_test_split(X, y, test_size=0.2, random_state=3)\n",
    "\n",
    "print ('Train set:', X_train.shape,  y_train.shape)\n",
    "print ('Test set:', X_test.shape,  y_test.shape)"
   ]
  },
  {
   "cell_type": "markdown",
   "metadata": {},
   "source": [
    "<hr>"
   ]
  },
  {
   "cell_type": "markdown",
   "metadata": {},
   "source": [
    "## Modeling \n",
    "\n",
    "### Klasifikasi dengan Logistic Regression"
   ]
  },
  {
   "cell_type": "markdown",
   "metadata": {},
   "source": [
    "Dalam pemodelan dengan <code>LogisticRegression()</code> ini, kita menggunakan <code>solver = 'liblinear'</code> dan <code>class_weight = 'balanced'</code>."
   ]
  },
  {
   "cell_type": "code",
   "execution_count": null,
   "metadata": {},
   "outputs": [],
   "source": [
    "from sklearn.linear_model import LogisticRegression\n",
    "\n",
    "# Training dan testing model\n",
    "model_logreg = LogisticRegression(solver='liblinear', class_weight='balanced').fit(X_train, y_train)\n",
    "y_pred = model_logreg.predict(X_test)"
   ]
  },
  {
   "cell_type": "markdown",
   "metadata": {},
   "source": [
    "### Evaluasi"
   ]
  },
  {
   "cell_type": "markdown",
   "metadata": {},
   "source": [
    "Selanjutnya kita evaluasi kinerja model tersebut dengan <code>accuracy_score()</code>."
   ]
  },
  {
   "cell_type": "code",
   "execution_count": null,
   "metadata": {},
   "outputs": [],
   "source": [
    "from sklearn.metrics import accuracy_score\n",
    "\n",
    "# Skor akurasi untuk data train dan test\n",
    "print('Train set Accuracy: %.2f' % accuracy_score(y_train, model_logreg.predict(X_train)))\n",
    "print('Test set Accuracy: %.2f' % accuracy_score(y_test, y_pred))"
   ]
  },
  {
   "cell_type": "markdown",
   "metadata": {},
   "source": [
    "Kita juga dapat menampilkan <code>classification_report</code>-nya."
   ]
  },
  {
   "cell_type": "code",
   "execution_count": null,
   "metadata": {},
   "outputs": [],
   "source": [
    "from sklearn.metrics import classification_report\n",
    "\n",
    "print('Classification report : ')\n",
    "print(classification_report(y_test, y_pred, zero_division=1))"
   ]
  },
  {
   "cell_type": "markdown",
   "metadata": {},
   "source": [
    "Seperti yang dapat kita lihat, hasil akurasi untuk <i>data test</i> sekitar __0.58__, sementara untuk <i>data train</i> sekitar __0.57__.\n",
    "\n",
    "Jika model di atas menggunakan <i>train test split</i> untuk mengevaluasi kinerja model, sekarang kita akan mencoba menggunakan K-Fold Cross Validation untuk kasus yang sama."
   ]
  },
  {
   "cell_type": "markdown",
   "metadata": {},
   "source": [
    "### K-Fold Cross Validation"
   ]
  },
  {
   "cell_type": "markdown",
   "metadata": {},
   "source": [
    "__Cross Validation__ adalah sebuah teknik <i>resampling</i> yang digunakan untuk mengevaluasi model <i>machine learning</i> pada sampel data yang jumlahnya terbatas. Teknik ini memiliki parameter tunggal, yaitu <b>K</b>, yang merujuk pada jumlah kelompok yang akan dibagi menjadi sampel data. Karena itu, teknik ini biasa disebut dengan __K-Fold Cross Validation__.\n",
    "\n",
    "Jadi, misalnya kita memilih nilai 5 sebagai K, berarti kita akan membagi dataset menjadi 5 kelompok. Nantinya akan ada 5 kali proses, dimana dalam tiap proses, salah satu kelompok menjadi <i>test data</i> dan sisanya menjadi <i>train data</i>. Skor akurasi yang dihasilkan merupakan skor rata-rata dari 5 proses tersebut.  "
   ]
  },
  {
   "cell_type": "markdown",
   "metadata": {},
   "source": [
    "![alt text](images/k-fold-cross-validation.png)"
   ]
  },
  {
   "cell_type": "markdown",
   "metadata": {},
   "source": [
    "Di Python, K-Fold Cross Validation dapat digunakan dengan mengimpor <i>package</i> <code>KFold</code> dari <i>library</i> <code>sklearn.model_selection</code>. Nilai K dapat didefinisikan dengan parameter <code>n_splits</code>."
   ]
  },
  {
   "cell_type": "code",
   "execution_count": null,
   "metadata": {},
   "outputs": [],
   "source": [
    "from sklearn.linear_model import LogisticRegression\n",
    "from sklearn.model_selection import KFold \n",
    "from sklearn.model_selection import cross_val_score\n",
    "\n",
    "kf = KFold(n_splits=7, random_state=3, shuffle=True) \n",
    "\n",
    "X = df.drop('class_protein_localization', axis=1)       # fitur\n",
    "y = df['class_protein_localization']                    # target\n",
    "\n",
    "# Training dan testing model\n",
    "model_logreg = LogisticRegression(solver='liblinear', class_weight='balanced').fit(X, y)\n",
    "\n",
    "# Evaluasi model dengan cross_val_score dengan scoring 'accuracy'\n",
    "scores = cross_val_score(model_logreg, X, y, scoring='accuracy', cv=kf, n_jobs=-1)\n",
    "print('Accuracy score: %.2f' % (np.mean(scores)))"
   ]
  },
  {
   "cell_type": "markdown",
   "metadata": {},
   "source": [
    "Dari hasil di atas, akurasi yang didapatkan adalah sebesar __0.57__.\n",
    "\n",
    "Kita juga dapat melihat akurasi tiap iterasi seperti di bawah ini."
   ]
  },
  {
   "cell_type": "code",
   "execution_count": null,
   "metadata": {},
   "outputs": [],
   "source": [
    "from sklearn.linear_model import LogisticRegression\n",
    "from sklearn.model_selection import KFold \n",
    "\n",
    "n = 7\n",
    "scores = []\n",
    "\n",
    "kf = KFold(n_splits=n, random_state=3, shuffle=True) \n",
    "\n",
    "X = df.drop('class_protein_localization', axis=1)       # fitur\n",
    "y = df['class_protein_localization']                    # target\n",
    "\n",
    "for train_index, test_index in kf.split(df):\n",
    "    X_train, X_test = X.iloc[train_index], X.iloc[test_index] \n",
    "    y_train, y_test = y.iloc[train_index], y.iloc[test_index]\n",
    "    \n",
    "    # Training dan testing model\n",
    "    model_logreg = LogisticRegression(solver='liblinear', class_weight='balanced').fit(X_train, y_train)\n",
    "\n",
    "    score_logreg = model_logreg.score(X_test, y_test)\n",
    "    scores.append(score_logreg)\n",
    "    display(score_logreg)\n",
    "    \n",
    "mean_acc = sum(scores) / n\n",
    "print('Mean accuracy score : %.2f' % mean_acc)"
   ]
  },
  {
   "cell_type": "markdown",
   "metadata": {},
   "source": [
    "<hr>"
   ]
  },
  {
   "cell_type": "markdown",
   "metadata": {},
   "source": [
    "Copyright @ <a href=\"https://ilmudatapy.com/\">ilmudatapy.com</a>"
   ]
  }
 ],
 "metadata": {
  "kernelspec": {
   "display_name": "Python 3",
   "language": "python",
   "name": "python3"
  },
  "language_info": {
   "codemirror_mode": {
    "name": "ipython",
    "version": 3
   },
   "file_extension": ".py",
   "mimetype": "text/x-python",
   "name": "python",
   "nbconvert_exporter": "python",
   "pygments_lexer": "ipython3",
   "version": "3.7.3"
  }
 },
 "nbformat": 4,
 "nbformat_minor": 2
}
