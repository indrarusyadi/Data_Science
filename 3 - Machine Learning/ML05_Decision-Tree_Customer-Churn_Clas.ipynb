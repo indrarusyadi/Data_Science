{
 "cells": [
  {
   "cell_type": "markdown",
   "metadata": {},
   "source": [
    "<img src=\"../images/ilmudatapy-logo.png\" width=\"350\" align=\"center\">\n",
    "<br>"
   ]
  },
  {
   "cell_type": "markdown",
   "metadata": {},
   "source": [
    "<center><h1>Prediksi Customer Churn dengan Decision Tree</h1></center>\n",
    "<hr>"
   ]
  },
  {
   "cell_type": "markdown",
   "metadata": {},
   "source": [
    "__Halo, Learners!__ Di notebook ini, kita akan mempraktekkan pemodelan <i>machine learning</i> dengan algoritma berbasis pohon __Decision Tree__ untuk kasus klasifikasi. Kita juga akan mencoba memvisualisasikan pohon keputusan tersebut dengan menginstal <i>package</i> <code>pydotplus</code> dan <code>python-graphviz</code>."
   ]
  },
  {
   "cell_type": "markdown",
   "metadata": {},
   "source": [
    "<h2>Table of Contents</h2>\n",
    "<div class=\"alert alert-block alert-info\" style=\"margin-top: 25px\">\n",
    "    <ul>\n",
    "        <li>\n",
    "            Decision Tree\n",
    "        </li>\n",
    "        <li>\n",
    "            Dataset\n",
    "        </li>\n",
    "        <li>\n",
    "            Analisis dan visualisasi data\n",
    "        </li>\n",
    "        <li>\n",
    "            Preprocessing\n",
    "            <ul>\n",
    "                <li>Menangani missing values</li>\n",
    "                <li>Encoding</li>\n",
    "                <li>Normalisasi</li>\n",
    "                <li>Train test split</li>\n",
    "            </ul>\n",
    "        </li>\n",
    "        <li>\n",
    "            Modeling\n",
    "            <ul>\n",
    "                <li>Klasifikasi dengan Decision Tree</li>\n",
    "                <li>Evaluasi</li>\n",
    "                <li>Tree visualization</li>\n",
    "            </ul>\n",
    "        </li>\n",
    "    </ul>\n",
    "</div>"
   ]
  },
  {
   "cell_type": "markdown",
   "metadata": {},
   "source": [
    "<hr>\n",
    "<div class=\"alert alert-success\" style=\"margin-top: 20px\">\n",
    "    <strong>Catatan:</strong> Untuk menjalankan kode program Python di Jupyter Notebook, klik pada <i>cell</i> yang ingin di-<i>run</i> lalu tekan <kbd>Shift</kbd> + <kbd>Enter</kbd>.\n",
    "</div>"
   ]
  },
  {
   "cell_type": "markdown",
   "metadata": {},
   "source": [
    "<div class=\"alert alert-danger\" style=\"margin-top: 20px\">\n",
    "    <strong>Warning!:</strong> Jika ada kode program yang <i>error</i> atau output yang dihasilkan tidak sesuai, silahkan <b>Restart & Run All</b> kernel pada bagian menu <b>Kernel</b> di menu bar Jupyter Notebook, atau <b>Restart & Clear Output</b> kernel kemudian jalankan satu per satu <i>cell</i> secara berurutan dari atas ke bawah.\n",
    "</div>\n",
    "<hr>"
   ]
  },
  {
   "cell_type": "markdown",
   "metadata": {},
   "source": [
    "## Decision Tree"
   ]
  },
  {
   "cell_type": "markdown",
   "metadata": {},
   "source": [
    "__Decision Tree__ adalah salah satu algoritma <i>machine learning</i> yang memiliki struktur seperti pohon yang dapat digunakan untuk kasus <i>supervised learning</i> baik klasifikasi maupun regresi, namun lebih sering digunakan untuk kasus klasifikasi. \n",
    "\n",
    "Dalam <i>decision tree</i> terdapat dua jenis node, yaitu __decision node__ dan __leaf node__. <i>Decision node</i> mewakili fitur dari dataset dan digunakan untuk membuat keputusan. <i>leaf node</i> adalah output dari keputusan tersebut dan tidak berisi cabang lebih lanjut."
   ]
  },
  {
   "cell_type": "markdown",
   "metadata": {},
   "source": [
    "![alt text](../images/decision-tree.png)"
   ]
  },
  {
   "cell_type": "markdown",
   "metadata": {},
   "source": [
    "Ada dua cara untuk menentukan fitur terbaik yang akan dijadikan <i>root node</i> dan juga <i>sub-nodes</i>, yaitu __Information Gain__ (__Entropy__) dan __Gini Index__. \n",
    "\n",
    "* Information gain : Pengukuran perubahan entropy setelah segmentasi kumpulan data berdasarkan atribut.\n",
    "* Gini index : Ukuran <i>impurity</i> atau <i>purity</i> yang digunakan ketika membuat <i>decision tree</i> dalam algoritma CART (Classification and Regression Tree).\n",
    "\n",
    "Dalam implementasi di Python, kita dapat memberikan argumen <code>criterion = 'entropy'</code> atau <code>criterion = 'gini'</code>."
   ]
  },
  {
   "cell_type": "markdown",
   "metadata": {},
   "source": [
    "<hr>"
   ]
  },
  {
   "cell_type": "markdown",
   "metadata": {},
   "source": [
    "## Dataset"
   ]
  },
  {
   "cell_type": "markdown",
   "metadata": {},
   "source": [
    "Dataset yang digunakan adalah dataset <a href=\"https://www.kaggle.com/blastchar/telco-customer-churn\">Telco Customer Churn</a> yang bertujuan untuk memprediksi apakah pelanggan berhenti menggunakan produk atau tidak.\n",
    "\n",
    "Dataset ini terdiri dari sejumlah kolom yang berisi informasi tentang:\n",
    "\n",
    "* Layanan yang digunakan pelanggan, yaitu kolom <code>PhoneService</code>, <code>MultipeLines</code>, <code>InternetService</code>, <code>OnlineSecurity</code>, <code>OnlineBackup</code>, <code>DeviceProtection</code>, <code>TechSupport</code>, <code>StreamingTV</code>, <code>StreamingMovies</code>.\n",
    "* Informasi akun pelanggan, yaitu kolom <code>tenure</code>, <code>Contract</code>, <code>PaperlessBilling</code>, <code>PaymentMethod</code>, <code>MonthlyCharges</code>, <code>TotalCharges</code>.\n",
    "* Informasi demografi pelanggan, yaitu kolom <code>gender</code>, <code>SeniorCitizen</code>, <code>Partner</code>, <code>Dependents</code>.\n",
    "\n",
    "Target kolomnya yaitu kolom <code>Churn</code> yang berisi tentang data pelanggan yang berhenti menggunakan produk dalam sebulan terakhir."
   ]
  },
  {
   "cell_type": "markdown",
   "metadata": {},
   "source": [
    "Pertama mari kita <i>import library</i> terlebih dahulu."
   ]
  },
  {
   "cell_type": "code",
   "execution_count": null,
   "metadata": {},
   "outputs": [],
   "source": [
    "import pandas as pd\n",
    "import numpy as np\n",
    "import matplotlib.pyplot as plt\n",
    "import seaborn as sns\n",
    "\n",
    "%matplotlib inline"
   ]
  },
  {
   "cell_type": "markdown",
   "metadata": {},
   "source": [
    "Selanjutnya kita <i>load</i> dataset ke dalam dataframe Pandas."
   ]
  },
  {
   "cell_type": "code",
   "execution_count": null,
   "metadata": {},
   "outputs": [],
   "source": [
    "# Load dataset \n",
    "\n",
    "df = pd.read_csv('../datasets/Telco-Customer-Churn.csv')\n",
    "\n",
    "pd.set_option('display.max_columns', 50)      # menampilkan seluruh kolom\n",
    "df.head()"
   ]
  },
  {
   "cell_type": "markdown",
   "metadata": {},
   "source": [
    "<hr>"
   ]
  },
  {
   "cell_type": "markdown",
   "metadata": {},
   "source": [
    "## Analisis dan visualisasi data"
   ]
  },
  {
   "cell_type": "markdown",
   "metadata": {},
   "source": [
    "Mari kita cek info dataframe <code>df</code>."
   ]
  },
  {
   "cell_type": "code",
   "execution_count": null,
   "metadata": {},
   "outputs": [],
   "source": [
    "# Cek info\n",
    "\n",
    "df.info()"
   ]
  },
  {
   "cell_type": "markdown",
   "metadata": {},
   "source": [
    "Selanjutnya kita dapat menampilkan visualisasi jumlah kelas/kategori pada kolom <code>Churn</code> dengan <code>countplot()</code>."
   ]
  },
  {
   "cell_type": "code",
   "execution_count": null,
   "metadata": {},
   "outputs": [],
   "source": [
    "# Memvisualisasikan jumlah data pada kolom 'Churn'\n",
    "\n",
    "sns.countplot(df['Churn'], palette='Set1')"
   ]
  },
  {
   "cell_type": "markdown",
   "metadata": {},
   "source": [
    "Sekarang kita visualisasikan jumlah data pada kolom <code>Churn</code> berdasarkan <code>gender</code>."
   ]
  },
  {
   "cell_type": "code",
   "execution_count": null,
   "metadata": {},
   "outputs": [],
   "source": [
    "# Visualisasi kolom 'Churn' berdasarkan 'gender'\n",
    "\n",
    "sns.countplot(x='Churn', hue='gender', data=df, palette='Set1')"
   ]
  },
  {
   "cell_type": "markdown",
   "metadata": {},
   "source": [
    "Kita dapat mengecek jumlah pelanggan yang melakukan kontrak perbulan, satu tahun, atau dua tahun dengan <code>value_counts()</code>."
   ]
  },
  {
   "cell_type": "code",
   "execution_count": null,
   "metadata": {},
   "outputs": [],
   "source": [
    "# Menampilkan jumlah data untuk tiap kategori di kolom 'Contract'\n",
    "\n",
    "df['Contract'].value_counts()"
   ]
  },
  {
   "cell_type": "markdown",
   "metadata": {},
   "source": [
    "Kita juga menampilkan visualisasi data <code>PaymentMethod</code> berdasarkan <code>gender</code>."
   ]
  },
  {
   "cell_type": "code",
   "execution_count": null,
   "metadata": {},
   "outputs": [],
   "source": [
    "# Menampilkan data 'PaymentMethod' berdasarkan 'gender'\n",
    "\n",
    "plt.figure(figsize=(10,6))\n",
    "sns.countplot(x='PaymentMethod', hue='gender', data=df, palette='Set2')"
   ]
  },
  {
   "cell_type": "markdown",
   "metadata": {},
   "source": [
    "Selanjutnya kita dapat menganalisis langsung dua plot atau lebih dengan menggunakan subplot."
   ]
  },
  {
   "cell_type": "code",
   "execution_count": null,
   "metadata": {},
   "outputs": [],
   "source": [
    "# Menampilkan countplot\n",
    "\n",
    "fig, ax = plt.subplots(ncols=2, nrows=1, figsize=(12, 6)) \n",
    "\n",
    "# Menambahkan subplot dengan indexing\n",
    "ax0 = fig.add_subplot(ax[0]) \n",
    "ax1 = fig.add_subplot(ax[1])    \n",
    "\n",
    "sns.countplot(x='Contract', hue='gender', data=df, palette='Set3', ax=ax0)\n",
    "sns.countplot(x='InternetService', hue='gender', data=df, palette='Set3', ax=ax1)\n",
    "\n",
    "plt.subplots_adjust(wspace=0.3)\n",
    "plt.show()"
   ]
  },
  {
   "cell_type": "code",
   "execution_count": null,
   "metadata": {},
   "outputs": [],
   "source": [
    "# Menampilkan countplot\n",
    "\n",
    "fig, ax = plt.subplots(ncols=3, nrows=3, figsize=(14, 12)) \n",
    "\n",
    "# Menambahkan subplot dengan indexing\n",
    "ax0 = fig.add_subplot(ax[0,0]) \n",
    "ax1 = fig.add_subplot(ax[0,1])  \n",
    "ax2 = fig.add_subplot(ax[0,2])  \n",
    "ax3 = fig.add_subplot(ax[1,0]) \n",
    "ax4 = fig.add_subplot(ax[1,1])  \n",
    "ax5 = fig.add_subplot(ax[1,2]) \n",
    "ax6 = fig.add_subplot(ax[2,0]) \n",
    "ax7 = fig.add_subplot(ax[2,1]) \n",
    "ax8 = fig.add_subplot(ax[2,2]) \n",
    "\n",
    "sns.countplot(x='MultipleLines', hue='gender', data=df, palette='Set3', ax=ax0)\n",
    "sns.countplot(x='PhoneService', hue='gender', data=df, palette='Set3', ax=ax1)\n",
    "sns.countplot(x='OnlineSecurity', hue='gender', data=df, palette='Set3', ax=ax2)\n",
    "sns.countplot(x='OnlineBackup', hue='gender', data=df, palette='Set3', ax=ax3)\n",
    "sns.countplot(x='DeviceProtection', hue='gender', data=df, palette='Set3', ax=ax4)\n",
    "sns.countplot(x='TechSupport', hue='gender', data=df, palette='Set3', ax=ax5)\n",
    "sns.countplot(x='StreamingTV', hue='gender', data=df, palette='Set3', ax=ax6)\n",
    "sns.countplot(x='StreamingMovies', hue='gender', data=df, palette='Set3', ax=ax7)\n",
    "sns.countplot(x='PaperlessBilling', hue='gender', data=df, palette='Set3', ax=ax8)\n",
    "\n",
    "plt.subplots_adjust(wspace=0.3, hspace=0.4)\n",
    "plt.show()"
   ]
  },
  {
   "cell_type": "markdown",
   "metadata": {},
   "source": [
    "Untuk data numerik, kita dapat melihat histogramnya. Mari kita cek dahulu tipe datanya."
   ]
  },
  {
   "cell_type": "code",
   "execution_count": null,
   "metadata": {},
   "outputs": [],
   "source": [
    "# cek tipe data kolom numerik\n",
    "\n",
    "df[['tenure', 'MonthlyCharges', 'TotalCharges']].dtypes"
   ]
  },
  {
   "cell_type": "markdown",
   "metadata": {},
   "source": [
    "Karena kolom <code>TotalCharges</code> masih bertipe object, kita harus mengubah dulu tipe datanya. Disini kita menggunakan <code>to_numeric()</code> dari Pandas."
   ]
  },
  {
   "cell_type": "code",
   "execution_count": null,
   "metadata": {},
   "outputs": [],
   "source": [
    "# mengubah tipe data kolom TotalCharges menjadi numerik\n",
    "\n",
    "df['TotalCharges'] = pd.to_numeric(df['TotalCharges'], errors='coerce')     "
   ]
  },
  {
   "cell_type": "markdown",
   "metadata": {},
   "source": [
    "Lalu kita tampilkan histogramnya."
   ]
  },
  {
   "cell_type": "code",
   "execution_count": null,
   "metadata": {},
   "outputs": [],
   "source": [
    "# Menampilkan histogram\n",
    "\n",
    "fig, ax = plt.subplots(ncols=3, nrows=1, figsize=(16, 5)) \n",
    "\n",
    "# Menambahkan subplot dengan indexing\n",
    "ax0 = fig.add_subplot(ax[0]) \n",
    "ax1 = fig.add_subplot(ax[1])  \n",
    "ax2 = fig.add_subplot(ax[2])   \n",
    "\n",
    "# Subplot ax[0]: tenure\n",
    "df.hist(column='tenure', bins=50, ax=ax0)\n",
    "\n",
    "# Subplot ax[1]: MonthlyCharges\n",
    "df.hist(column='MonthlyCharges', bins=50, ax=ax1)\n",
    "\n",
    "# Subplot ax[2]: TotalCharges\n",
    "df.hist(column='TotalCharges', bins=50, ax=ax2)\n",
    "\n",
    "plt.subplots_adjust(wspace=0.2)\n",
    "plt.show()"
   ]
  },
  {
   "cell_type": "markdown",
   "metadata": {},
   "source": [
    "<hr>"
   ]
  },
  {
   "cell_type": "markdown",
   "metadata": {},
   "source": [
    "## Data Preparation / Preprocessing"
   ]
  },
  {
   "cell_type": "markdown",
   "metadata": {},
   "source": [
    "Dalam tahap <i>preprocessing</i> ini, kita akan terlebih dulu mendefinisikan data fitur dan target dari dataframe ini."
   ]
  },
  {
   "cell_type": "code",
   "execution_count": null,
   "metadata": {},
   "outputs": [],
   "source": [
    "# Mendefinisikan data fitur dan target\n",
    "\n",
    "df_features = df.drop(['customerID', 'Churn'], axis=1)\n",
    "df_target = df['Churn']"
   ]
  },
  {
   "cell_type": "markdown",
   "metadata": {},
   "source": [
    "Mari kita cek <code>df_features</code>."
   ]
  },
  {
   "cell_type": "code",
   "execution_count": null,
   "metadata": {},
   "outputs": [],
   "source": [
    "# Menampilkan 5 data teratas\n",
    "\n",
    "df_features.head()"
   ]
  },
  {
   "cell_type": "markdown",
   "metadata": {},
   "source": [
    "### Menangani missing values"
   ]
  },
  {
   "cell_type": "markdown",
   "metadata": {},
   "source": [
    "Selanjutnya kita harus cek apakah ada <i>missing values</i> dalam dataframe ini."
   ]
  },
  {
   "cell_type": "code",
   "execution_count": null,
   "metadata": {},
   "outputs": [],
   "source": [
    "# Mengecek missing values\n",
    "\n",
    "df_features.isnull().sum()"
   ]
  },
  {
   "cell_type": "markdown",
   "metadata": {},
   "source": [
    "Ternyata ada 11 <i>missing values</i> pada kolom <code>TotalCharges</code>, sehingga kita harus menanganinya terlebih dahulu. Disini kita akan mengisi nilai yang hilang tersebut dengan nilai rata-rata kolomnya."
   ]
  },
  {
   "cell_type": "code",
   "execution_count": null,
   "metadata": {},
   "outputs": [],
   "source": [
    "# Menangani missing values\n",
    "\n",
    "df_features['TotalCharges'].fillna(df_features['TotalCharges'].mean(), inplace=True)"
   ]
  },
  {
   "cell_type": "markdown",
   "metadata": {},
   "source": [
    "### Encoding"
   ]
  },
  {
   "cell_type": "markdown",
   "metadata": {},
   "source": [
    "Kita akan melakukan <i>encoding</i> data terhadap data non-numerik menggunakan <code>.cat.codes</code>. Namun, sebelumnya kita harus mengubah dulu tipe data kolom non-numerik dari <i>object</i> menjadi <i>category</i>."
   ]
  },
  {
   "cell_type": "code",
   "execution_count": null,
   "metadata": {},
   "outputs": [],
   "source": [
    "cols = ['gender', 'Partner', 'Dependents', 'PhoneService', 'MultipleLines', 'InternetService', 'OnlineSecurity', \n",
    "        'OnlineBackup', 'DeviceProtection', 'TechSupport', 'StreamingTV', 'StreamingMovies', 'Contract',\n",
    "        'PaperlessBilling', 'PaymentMethod']\n",
    "\n",
    "# mengubah tipe data kolom bertipe object menjadi category\n",
    "df_features[cols] = df_features[cols].astype('category')\n",
    "\n",
    "df_features.info()"
   ]
  },
  {
   "cell_type": "markdown",
   "metadata": {},
   "source": [
    "Selanjutnya kita aplikasikan proses <i>encoding</i> dengan <code>.cat.codes</code>."
   ]
  },
  {
   "cell_type": "code",
   "execution_count": null,
   "metadata": {},
   "outputs": [],
   "source": [
    "# Data encoding\n",
    "\n",
    "for col in cols:\n",
    "    df_features[col] = df_features[col].cat.codes\n",
    "\n",
    "df_features.head()"
   ]
  },
  {
   "cell_type": "markdown",
   "metadata": {},
   "source": [
    "### Normalisasi"
   ]
  },
  {
   "cell_type": "markdown",
   "metadata": {},
   "source": [
    "Kita juga harus menormalisasi dataframe tersebut agar <i>range</i> nilai antar kolomnya tidak terlalu jauh."
   ]
  },
  {
   "cell_type": "code",
   "execution_count": null,
   "metadata": {},
   "outputs": [],
   "source": [
    "from sklearn.preprocessing import StandardScaler\n",
    "\n",
    "# normalisasi data / scaling data\n",
    "scale = StandardScaler().fit_transform(df_features)\n",
    "\n",
    "# mendefinisikan nama kolom\n",
    "cols = list(df_features.columns)\n",
    "\n",
    "# membuat dataframe untuk menampilkan hasil scaling pada dataframe\n",
    "df_features_scale = pd.DataFrame(scale, columns=cols)\n",
    "df_features_scale.head()"
   ]
  },
  {
   "cell_type": "markdown",
   "metadata": {},
   "source": [
    "### Train test split"
   ]
  },
  {
   "cell_type": "markdown",
   "metadata": {},
   "source": [
    "Selanjutnya kita melakukan <i>train test split</i>."
   ]
  },
  {
   "cell_type": "code",
   "execution_count": null,
   "metadata": {},
   "outputs": [],
   "source": [
    "from sklearn.model_selection import train_test_split\n",
    "\n",
    "# Train test split\n",
    "X_train, X_test, y_train, y_test = train_test_split(df_features_scale, df_target, test_size=0.2, random_state=3)\n",
    "\n",
    "print ('Train set:', X_train.shape,  y_train.shape)\n",
    "print ('Test set:', X_test.shape,  y_test.shape)"
   ]
  },
  {
   "cell_type": "markdown",
   "metadata": {},
   "source": [
    "<hr>"
   ]
  },
  {
   "cell_type": "markdown",
   "metadata": {},
   "source": [
    "## Modeling "
   ]
  },
  {
   "cell_type": "markdown",
   "metadata": {},
   "source": [
    "### Klasifikasi dengan Decision Tree"
   ]
  },
  {
   "cell_type": "markdown",
   "metadata": {},
   "source": [
    "Membuat model klasifikasi dengan <i>decision tree</i> dapat menggunakan <code>DecisionTreeClassifier</code>."
   ]
  },
  {
   "cell_type": "code",
   "execution_count": null,
   "metadata": {},
   "outputs": [],
   "source": [
    "from sklearn.tree import DecisionTreeClassifier\n",
    "\n",
    "model_dtree = DecisionTreeClassifier(max_depth=3, criterion='entropy').fit(X_train, y_train)\n",
    "model_dtree"
   ]
  },
  {
   "cell_type": "markdown",
   "metadata": {},
   "source": [
    "Setelah itu, mari kita melakukan prediksi menggunakan data <code>X_test</code>."
   ]
  },
  {
   "cell_type": "code",
   "execution_count": null,
   "metadata": {},
   "outputs": [],
   "source": [
    "# Prediksi dengan X_test\n",
    "\n",
    "y_pred = model_dtree.predict(X_test)"
   ]
  },
  {
   "cell_type": "markdown",
   "metadata": {},
   "source": [
    "Kita dapat menampilkan hasil dari prediksi (<code>y_pred</code>) dan juga hasil sebenarnya (<code>y_test</code>) untuk membandingkan."
   ]
  },
  {
   "cell_type": "code",
   "execution_count": null,
   "metadata": {},
   "outputs": [],
   "source": [
    "# Menampilkan y_pred dan y_test\n",
    "\n",
    "print(y_pred [0:5])\n",
    "print(y_test [0:5])"
   ]
  },
  {
   "cell_type": "markdown",
   "metadata": {},
   "source": [
    "### Evaluasi"
   ]
  },
  {
   "cell_type": "markdown",
   "metadata": {},
   "source": [
    "Selanjutnya, kita dapat mengevaluasi kinerja model dengan <code>accuracy_score</code>."
   ]
  },
  {
   "cell_type": "code",
   "execution_count": null,
   "metadata": {},
   "outputs": [],
   "source": [
    "from sklearn.metrics import accuracy_score\n",
    "\n",
    "# Menampilkan akurasi\n",
    "print('Akurasi Decision Tree : ', accuracy_score(y_test, y_pred))"
   ]
  },
  {
   "cell_type": "markdown",
   "metadata": {},
   "source": [
    "### Tree Visualization"
   ]
  },
  {
   "cell_type": "markdown",
   "metadata": {},
   "source": [
    "Seperti yang kita ketahui bahwa mode <i>decision tree</i> mengambil keputusan berdasarkan struktur pohon. Nah, kita dapat menampilkan visualisasi pohon tersebut dengan <i>package</i> tambahan yang sudah disediakan oleh Python, yaitu __pydotplus__, dan __python-graphviz__.\n",
    "\n",
    "Jika Anda belum menginstalnya di komputer Anda, silahkan Anda __HAPUS TANDA PAGAR__ pada blok kode di bawah ini, kemudian jalankan dan tunggu hingga proses selesai."
   ]
  },
  {
   "cell_type": "code",
   "execution_count": null,
   "metadata": {},
   "outputs": [],
   "source": [
    "#!conda install -c conda-forge pydotplus -y\n",
    "#!conda install -c conda-forge python-graphviz -y"
   ]
  },
  {
   "cell_type": "markdown",
   "metadata": {},
   "source": [
    "Sekarang silahkan jalankan 2 blok kode di bawah ini. "
   ]
  },
  {
   "cell_type": "code",
   "execution_count": null,
   "metadata": {},
   "outputs": [],
   "source": [
    "from six import StringIO\n",
    "import pydotplus\n",
    "import matplotlib.image as mpimg\n",
    "from sklearn import tree\n",
    "\n",
    "%matplotlib inline "
   ]
  },
  {
   "cell_type": "code",
   "execution_count": null,
   "metadata": {},
   "outputs": [],
   "source": [
    "dot_data = StringIO()\n",
    "filename = 'churn_tree.png'\n",
    "featureNames = df.columns[0:19]\n",
    "targetNames = df['Churn'].unique().tolist()\n",
    "out = tree.export_graphviz(model_dtree, feature_names=featureNames, out_file=dot_data, class_names= np.unique(y_train), filled=True,  special_characters=True, rotate=False)  \n",
    "graph = pydotplus.graph_from_dot_data(dot_data.getvalue())  \n",
    "graph.write_png(filename)\n",
    "img = mpimg.imread(filename)\n",
    "plt.figure(figsize=(200, 100))\n",
    "plt.imshow(img,interpolation='nearest')"
   ]
  },
  {
   "cell_type": "markdown",
   "metadata": {},
   "source": [
    "Bagan pohon yang terbentuk akan tersimpan dengan nama __'churn_tree.png'__ di folder yang sama dengan folder notebook ini berada."
   ]
  },
  {
   "cell_type": "markdown",
   "metadata": {},
   "source": [
    "<hr>"
   ]
  },
  {
   "cell_type": "markdown",
   "metadata": {},
   "source": [
    "Copyright @ <a href=\"https://ilmudatapy.com/\">ilmudatapy.com</a>"
   ]
  }
 ],
 "metadata": {
  "kernelspec": {
   "display_name": "Python 3",
   "language": "python",
   "name": "python3"
  },
  "language_info": {
   "codemirror_mode": {
    "name": "ipython",
    "version": 3
   },
   "file_extension": ".py",
   "mimetype": "text/x-python",
   "name": "python",
   "nbconvert_exporter": "python",
   "pygments_lexer": "ipython3",
   "version": "3.7.3"
  }
 },
 "nbformat": 4,
 "nbformat_minor": 2
}
