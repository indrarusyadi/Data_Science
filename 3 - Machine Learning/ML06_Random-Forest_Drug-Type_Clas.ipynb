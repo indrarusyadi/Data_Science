{
 "cells": [
  {
   "cell_type": "markdown",
   "metadata": {},
   "source": [
    "<img src=\"../images/ilmudatapy-logo.png\" width=\"350\" align=\"center\">\n",
    "<br>"
   ]
  },
  {
   "cell_type": "markdown",
   "metadata": {},
   "source": [
    "<center><h1>Prediksi Jenis Obat dengan Random Forest</h1></center>\n",
    "<hr>"
   ]
  },
  {
   "cell_type": "markdown",
   "metadata": {},
   "source": [
    "__Halo, Learners!__ Di notebook ini, kita akan mempraktekkan pemodelan <i>machine learning</i> dengan algoritma __Random Forest__ untuk kasus klasifikasi. Kita juga akan mencoba membuat visualisasinya dengan menggunakan <i>package</i> <code>pydotplus</code>."
   ]
  },
  {
   "cell_type": "markdown",
   "metadata": {},
   "source": [
    "<h2>Table of Contents</h2>\n",
    "<div class=\"alert alert-block alert-info\" style=\"margin-top: 25px\">\n",
    "    <ul>\n",
    "        <li>\n",
    "            Random Forest\n",
    "        </li>\n",
    "        <li>\n",
    "            Dataset\n",
    "        </li>\n",
    "        <li>\n",
    "            Analisis dan visualisasi data\n",
    "        </li>\n",
    "        <li>\n",
    "            Preprocessing\n",
    "            <ul>\n",
    "                <li>Encoding</li>\n",
    "                <li>Train test split</li>\n",
    "            </ul>\n",
    "        </li>\n",
    "        <li>\n",
    "            Modeling\n",
    "            <ul>\n",
    "                <li>Klasifikasi dengan Random Forest</li>\n",
    "                <li>Prediksi</li>\n",
    "                <li>Evaluasi</li>\n",
    "                <li>Tree Visualization</li>\n",
    "            </ul>\n",
    "        </li>\n",
    "    </ul>\n",
    "</div>"
   ]
  },
  {
   "cell_type": "markdown",
   "metadata": {},
   "source": [
    "<hr>\n",
    "<div class=\"alert alert-success\" style=\"margin-top: 20px\">\n",
    "    <strong>Catatan:</strong> Untuk menjalankan kode program Python di Jupyter Notebook, klik pada <i>cell</i> yang ingin di-<i>run</i> lalu tekan <kbd>Shift</kbd> + <kbd>Enter</kbd>.\n",
    "</div>"
   ]
  },
  {
   "cell_type": "markdown",
   "metadata": {},
   "source": [
    "<div class=\"alert alert-danger\" style=\"margin-top: 20px\">\n",
    "    <strong>Warning!:</strong> Jika ada kode program yang <i>error</i> atau output yang dihasilkan tidak sesuai, silahkan <b>Restart & Run All</b> kernel pada bagian menu <b>Kernel</b> di menu bar Jupyter Notebook, atau <b>Restart & Clear Output</b> kernel kemudian jalankan satu per satu <i>cell</i> secara berurutan dari atas ke bawah.\n",
    "</div>\n",
    "<hr>"
   ]
  },
  {
   "cell_type": "markdown",
   "metadata": {},
   "source": [
    "## Random Forest"
   ]
  },
  {
   "cell_type": "markdown",
   "metadata": {},
   "source": [
    "__Random Forest__ merupakan salah satu algoritma <i>supervised learning</i> yang dapat digunakan untuk masalah klasifikasi maupun regresi. Algoritma ini didasarkan pada konsep <i>ensemble learning</i> yang menggabungkan beberapa <i>classifiers</i> untuk memecahkan masalah yang kompleks serta meningkatkan kinerja model.\n",
    "\n",
    "<i>Random forest</i> adalah <i>classifier</i> yang berisi sejumlah <i>decision tree</i> pada berbagai subset dari dataset yang diberikan dan mengambil rata-ratanya. Jadi, algoritma ini mengambil hasil mayoritas prediksi <i>decision tree</i> dan memprediksi hasil akhirnya. Semakin banyak jumlah pohon, akan semakin besar kemungkinan lebih tinggi nilai akurasinya serta mencegah masalah <i>overfitting</i>."
   ]
  },
  {
   "cell_type": "markdown",
   "metadata": {},
   "source": [
    "![alt text](../images/random-forest.png)"
   ]
  },
  {
   "cell_type": "markdown",
   "metadata": {},
   "source": [
    "<hr>"
   ]
  },
  {
   "cell_type": "markdown",
   "metadata": {},
   "source": [
    "## Dataset"
   ]
  },
  {
   "cell_type": "markdown",
   "metadata": {},
   "source": [
    "Dataset yang akan digunakan adalah dataset <a href='https://www.kaggle.com/prathamtripathi/drug-classification'>Drug Classification</a> yang bertujuan untuk mengklasifikasikan tipe obat.\n",
    "\n",
    "Kelas target:\n",
    "\n",
    "* __Drug:__ Tipe obat\n",
    "\n",
    "Fitur set:\n",
    "\n",
    "* __Age:__ Usia\n",
    "* __Sex:__ Jenis kelamin\n",
    "* __BP:__ Level tekanan darah (Blood Pressure)\n",
    "* __Cholesterol:__ Level kolesterol\n",
    "* __Na_to_K:__ Rasio Natrium (Na) dengan Kalium (K)\n",
    "\n",
    "Mari kita <i>import library</i> yang diperlukan terlebih dahulu."
   ]
  },
  {
   "cell_type": "code",
   "execution_count": null,
   "metadata": {},
   "outputs": [],
   "source": [
    "import pandas as pd\n",
    "import numpy as np\n",
    "import matplotlib.pyplot as plt\n",
    "import seaborn as sns\n",
    "%matplotlib inline"
   ]
  },
  {
   "cell_type": "markdown",
   "metadata": {},
   "source": [
    "Lalu <i>load</i> dataset ke dalam dataframe Pandas dengan <code>read_csv()</code>."
   ]
  },
  {
   "cell_type": "code",
   "execution_count": null,
   "metadata": {},
   "outputs": [],
   "source": [
    "# Load dataset\n",
    "\n",
    "df = pd.read_csv('../datasets/drug.csv')\n",
    "df.head(10)"
   ]
  },
  {
   "cell_type": "markdown",
   "metadata": {},
   "source": [
    "<hr>"
   ]
  },
  {
   "cell_type": "markdown",
   "metadata": {},
   "source": [
    "## Analisis dan visualisasi data"
   ]
  },
  {
   "cell_type": "markdown",
   "metadata": {},
   "source": [
    "Seperti biasa, kita cek info dataframe terlebih dahulu."
   ]
  },
  {
   "cell_type": "code",
   "execution_count": null,
   "metadata": {},
   "outputs": [],
   "source": [
    "# Menampilkan info singkat\n",
    "\n",
    "df.info()"
   ]
  },
  {
   "cell_type": "markdown",
   "metadata": {},
   "source": [
    "Kita dapat menampilkan jumlah data pada tiap kategori di kolom <code>Drug</code> dengan visualisasi <code>countplot()</code>."
   ]
  },
  {
   "cell_type": "code",
   "execution_count": null,
   "metadata": {},
   "outputs": [],
   "source": [
    "# Countplot untuk kolom 'Drug'\n",
    "\n",
    "sns.countplot(df['Drug'], palette='Set2')"
   ]
  },
  {
   "cell_type": "markdown",
   "metadata": {},
   "source": [
    "Sekarang mari kita tampilkan <i>countplot</i> untuk kolom <code>Drug</code> berdasarkan <code>Sex</code>."
   ]
  },
  {
   "cell_type": "code",
   "execution_count": null,
   "metadata": {},
   "outputs": [],
   "source": [
    "# Countplot untuk kolom 'Drug' berdasarkan 'Sex'\n",
    "\n",
    "sns.countplot(x='Drug', hue='Sex', data=df, palette='Set1')"
   ]
  },
  {
   "cell_type": "markdown",
   "metadata": {},
   "source": [
    "Kita juga dapat menampilkan <i>countplot</i> untuk kolom lainnya."
   ]
  },
  {
   "cell_type": "code",
   "execution_count": null,
   "metadata": {},
   "outputs": [],
   "source": [
    "# Menampilkan countplot\n",
    "\n",
    "fig, ax = plt.subplots(ncols=2, nrows=1, figsize=(12, 6)) \n",
    "\n",
    "# Menambahkan subplot dengan indexing\n",
    "ax0 = fig.add_subplot(ax[0]) \n",
    "ax1 = fig.add_subplot(ax[1])    \n",
    "\n",
    "sns.countplot(x='BP', hue='Sex', data=df, palette='Set2', ax=ax0)\n",
    "sns.countplot(x='Cholesterol', hue='Sex', data=df, palette='Set2', ax=ax1)\n",
    "\n",
    "plt.subplots_adjust(wspace=0.3)\n",
    "plt.show()"
   ]
  },
  {
   "cell_type": "markdown",
   "metadata": {},
   "source": [
    "Sekarang mari kita buat <i>scatter plot</i> untuk 50 data pertama yang diberi warna berdasarkan tipe obat."
   ]
  },
  {
   "cell_type": "code",
   "execution_count": null,
   "metadata": {},
   "outputs": [],
   "source": [
    "# Membuat scatter plot untuk 50 data pertama\n",
    "\n",
    "x = df[df['Drug'] == 'DrugY'][0:50].plot(kind='scatter', x='Age', y='Na_to_K', color='SteelBlue', label='DrugY');\n",
    "\n",
    "df[df['Drug'] == 'drugX'][0:50].plot(kind='scatter', x='Age', y='Na_to_K', color='Gold', label='drugX', ax=x);\n",
    "df[df['Drug'] == 'drugA'][0:50].plot(kind='scatter', x='Age', y='Na_to_K', color='Green', label='drugA', ax=x);\n",
    "df[df['Drug'] == 'drugB'][0:50].plot(kind='scatter', x='Age', y='Na_to_K', color='Red', label='drugB', ax=x);\n",
    "df[df['Drug'] == 'drugC'][0:50].plot(kind='scatter', x='Age', y='Na_to_K', color='Purple', label='drugC', ax=x);\n",
    "plt.show()"
   ]
  },
  {
   "cell_type": "markdown",
   "metadata": {},
   "source": [
    "<hr>"
   ]
  },
  {
   "cell_type": "markdown",
   "metadata": {},
   "source": [
    "## Data Preparation / Preprocessing"
   ]
  },
  {
   "cell_type": "markdown",
   "metadata": {},
   "source": [
    "Sekarang kita definisikan data fitur."
   ]
  },
  {
   "cell_type": "code",
   "execution_count": null,
   "metadata": {},
   "outputs": [],
   "source": [
    "# Mendefinisikan data fitur\n",
    "\n",
    "X = df[['Age', 'Sex', 'BP', 'Cholesterol', 'Na_to_K']].values\n",
    "X[0:5]"
   ]
  },
  {
   "cell_type": "markdown",
   "metadata": {},
   "source": [
    "### Encoding"
   ]
  },
  {
   "cell_type": "markdown",
   "metadata": {},
   "source": [
    "Selanjutnya kita lakukan proses <i>encoding</i> dengan <code>LabelEncoder()</code> untuk data bertipe kategori, seperti <code>Sex</code>, <code>BP</code>, dan <code>Cholesterol</code>."
   ]
  },
  {
   "cell_type": "code",
   "execution_count": null,
   "metadata": {},
   "outputs": [],
   "source": [
    "# Encoding data\n",
    "\n",
    "from sklearn import preprocessing\n",
    "\n",
    "enc_sex = preprocessing.LabelEncoder()\n",
    "enc_sex.fit(['F','M'])\n",
    "X[:,1] = enc_sex.transform(X[:,1]) \n",
    "\n",
    "enc_BP = preprocessing.LabelEncoder()\n",
    "enc_BP.fit([ 'LOW', 'NORMAL', 'HIGH'])\n",
    "X[:,2] = enc_BP.transform(X[:,2])\n",
    "\n",
    "enc_Chol = preprocessing.LabelEncoder()\n",
    "enc_Chol.fit([ 'NORMAL', 'HIGH'])\n",
    "X[:,3] = enc_Chol.transform(X[:,3]) \n",
    "\n",
    "X[0:5]"
   ]
  },
  {
   "cell_type": "markdown",
   "metadata": {},
   "source": [
    "Definisikan juga kelas targetnya."
   ]
  },
  {
   "cell_type": "code",
   "execution_count": null,
   "metadata": {},
   "outputs": [],
   "source": [
    "# Mendefiniskan kelas target\n",
    "\n",
    "y = df['Drug']\n",
    "y[0:5]"
   ]
  },
  {
   "cell_type": "markdown",
   "metadata": {},
   "source": [
    "### Train test split"
   ]
  },
  {
   "cell_type": "markdown",
   "metadata": {},
   "source": [
    "Setelah itu, kita pisahkan data latih dan data uji dengan <code>train_test_split</code>."
   ]
  },
  {
   "cell_type": "code",
   "execution_count": null,
   "metadata": {},
   "outputs": [],
   "source": [
    "from sklearn.model_selection import train_test_split\n",
    "\n",
    "# Memisahkan data latih dan data uji\n",
    "X_train, X_test, y_train, y_test = train_test_split(X, y, test_size=0.3, random_state=1)"
   ]
  },
  {
   "cell_type": "markdown",
   "metadata": {},
   "source": [
    "Mari kita tampilkan 10 data pertama <code>X_train</code> dan <code>y_train</code>."
   ]
  },
  {
   "cell_type": "code",
   "execution_count": null,
   "metadata": {},
   "outputs": [],
   "source": [
    "# Print X_train dan y_train\n",
    "\n",
    "print('X_train')\n",
    "print(X_train[0:10])\n",
    "print('\\n')\n",
    "print('y_train')\n",
    "print(y_train[0:10])"
   ]
  },
  {
   "cell_type": "markdown",
   "metadata": {},
   "source": [
    "Sekarang kita tampilkan <code>X_test</code> dan <code>y_test</code>."
   ]
  },
  {
   "cell_type": "code",
   "execution_count": null,
   "metadata": {},
   "outputs": [],
   "source": [
    "# Print X_test dan y_test\n",
    "\n",
    "print('X_test')\n",
    "print(X_test[0:10])\n",
    "print('\\n')\n",
    "print('y_test')\n",
    "print(y_test[0:10])"
   ]
  },
  {
   "cell_type": "markdown",
   "metadata": {},
   "source": [
    "<hr>"
   ]
  },
  {
   "cell_type": "markdown",
   "metadata": {},
   "source": [
    "## Modeling"
   ]
  },
  {
   "cell_type": "markdown",
   "metadata": {},
   "source": [
    "### Klasifikasi dengan Random Forest"
   ]
  },
  {
   "cell_type": "markdown",
   "metadata": {},
   "source": [
    "Untuk membuat model <i>machine learning</i> dengan <i>Random forest</i>, kita dapat menggunakan <code>RandomForestClassifier</code>."
   ]
  },
  {
   "cell_type": "code",
   "execution_count": null,
   "metadata": {},
   "outputs": [],
   "source": [
    "from sklearn.ensemble import RandomForestClassifier\n",
    "\n",
    "# Membuat model dengan random forest\n",
    "model_rf = RandomForestClassifier(n_estimators=80, criterion='entropy')\n",
    "model_rf.fit(X_train, y_train)"
   ]
  },
  {
   "cell_type": "markdown",
   "metadata": {},
   "source": [
    "### Prediksi"
   ]
  },
  {
   "cell_type": "markdown",
   "metadata": {},
   "source": [
    "Mari kita menguji model tersebut dengan <code>.predict()</code> menggunakan data <code>X_test</code>."
   ]
  },
  {
   "cell_type": "code",
   "execution_count": null,
   "metadata": {},
   "outputs": [],
   "source": [
    "# Menguji model\n",
    "\n",
    "y_pred = model_rf.predict(X_test)"
   ]
  },
  {
   "cell_type": "markdown",
   "metadata": {},
   "source": [
    "Kemudian kita tampilkan hasil prediksi dan data sebenarnya."
   ]
  },
  {
   "cell_type": "code",
   "execution_count": null,
   "metadata": {},
   "outputs": [],
   "source": [
    "# Menampilkan hasil prediksi dan data sebenarnya\n",
    "\n",
    "print('prediksi:')\n",
    "print(y_pred[0:10])\n",
    "print('\\nsebenarnya:')\n",
    "print(y_test[0:10])"
   ]
  },
  {
   "cell_type": "markdown",
   "metadata": {},
   "source": [
    "### Evaluasi"
   ]
  },
  {
   "cell_type": "markdown",
   "metadata": {},
   "source": [
    "Selanjutnya, kita dapat mengevaluasi kinerja model tersebut dengan <code>accuracy_score</code>."
   ]
  },
  {
   "cell_type": "code",
   "execution_count": null,
   "metadata": {},
   "outputs": [],
   "source": [
    "from sklearn import metrics\n",
    "\n",
    "# Menampilkan akurasi\n",
    "print('Akurasi Random Forest :', metrics.accuracy_score(y_test, y_pred))"
   ]
  },
  {
   "cell_type": "markdown",
   "metadata": {},
   "source": [
    "Kita juga dapat menampilkan <code>classification_report</code>-nya."
   ]
  },
  {
   "cell_type": "code",
   "execution_count": null,
   "metadata": {},
   "outputs": [],
   "source": [
    "from sklearn.metrics import classification_report\n",
    "\n",
    "# Menampilkan classification report\n",
    "print(classification_report(y_test, y_pred))"
   ]
  },
  {
   "cell_type": "markdown",
   "metadata": {},
   "source": [
    "### Tree visualization"
   ]
  },
  {
   "cell_type": "markdown",
   "metadata": {},
   "source": [
    "Kita dapat membuat visualisasi pohonnya dengan kode di bawah ini."
   ]
  },
  {
   "cell_type": "code",
   "execution_count": null,
   "metadata": {},
   "outputs": [],
   "source": [
    "from six import StringIO\n",
    "import pydotplus\n",
    "from sklearn.tree import plot_tree\n",
    "\n",
    "featureNames = df.columns[0:5]\n",
    "targetNames = df['Drug'].unique().tolist()\n",
    "fig, axes = plt.subplots(nrows = 1,ncols = 1,figsize = (4,4), dpi=800)\n",
    "plot_tree(model_rf.estimators_[0],\n",
    "          feature_names = featureNames, \n",
    "          class_names=targetNames,\n",
    "          filled = True);\n",
    "\n",
    "fig.savefig('rf_individualtree.png')"
   ]
  },
  {
   "cell_type": "markdown",
   "metadata": {},
   "source": [
    "Bagan pohon yang terbentuk akan tersimpan dengan nama __'rf_individualtree.png'__ di folder yang sama dengan folder notebook ini berada."
   ]
  },
  {
   "cell_type": "markdown",
   "metadata": {},
   "source": [
    "<hr>"
   ]
  },
  {
   "cell_type": "markdown",
   "metadata": {},
   "source": [
    "Copyright @ <a href=\"https://ilmudatapy.com/\">ilmudatapy.com</a>"
   ]
  }
 ],
 "metadata": {
  "kernelspec": {
   "display_name": "Python 3",
   "language": "python",
   "name": "python3"
  },
  "language_info": {
   "codemirror_mode": {
    "name": "ipython",
    "version": 3
   },
   "file_extension": ".py",
   "mimetype": "text/x-python",
   "name": "python",
   "nbconvert_exporter": "python",
   "pygments_lexer": "ipython3",
   "version": "3.7.3"
  }
 },
 "nbformat": 4,
 "nbformat_minor": 2
}
