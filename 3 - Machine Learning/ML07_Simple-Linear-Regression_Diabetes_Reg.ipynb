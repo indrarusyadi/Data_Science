{
 "cells": [
  {
   "cell_type": "markdown",
   "metadata": {},
   "source": [
    "<img src=\"../images/ilmudatapy-logo.png\" width=\"350\" align=\"center\">\n",
    "<br>"
   ]
  },
  {
   "cell_type": "markdown",
   "metadata": {},
   "source": [
    "<center><h1>Simple Linear Regression</h1></center>\n",
    "<hr>"
   ]
  },
  {
   "cell_type": "markdown",
   "metadata": {},
   "source": [
    "__Halo, Learners!__ Di notebook ini, kita akan membuat model <i>machine learning</i> untuk kasus regresi (yang memiliki target berupa nilai kontinue) dengan algoritma __Linear Regression__. Disini kita akan mempraktekkan <b>Simple Linear Regression</b> yang berarti hanya melibatkan satu variabel bebas."
   ]
  },
  {
   "cell_type": "markdown",
   "metadata": {},
   "source": [
    "<h2>Table of Contents</h2>\n",
    "<div class=\"alert alert-block alert-info\" style=\"margin-top: 25px\">\n",
    "    <ul>\n",
    "        <li>\n",
    "            Simple Linear Regression\n",
    "        </li>\n",
    "        <li>\n",
    "            Dataset\n",
    "        </li>\n",
    "        <li>\n",
    "            Analisis dan visualisasi data\n",
    "        </li>\n",
    "        <li>\n",
    "            Data Preparation\n",
    "            <ul>\n",
    "                <li>Membagi data train dan test</li>\n",
    "            </ul>\n",
    "        </li>\n",
    "        <li>\n",
    "            Modeling\n",
    "            <ul>\n",
    "                <li>Linear regression dengan satu variabel bebas</li>\n",
    "                <li>Visualisasi linear regression</li>\n",
    "                <li>Prediksi</li>\n",
    "                <li>Evaluasi</li>\n",
    "            </ul>\n",
    "        </li>\n",
    "    </ul>\n",
    "</div>"
   ]
  },
  {
   "cell_type": "markdown",
   "metadata": {},
   "source": [
    "<hr>\n",
    "<div class=\"alert alert-success\" style=\"margin-top: 20px\">\n",
    "    <strong>Catatan:</strong> Untuk menjalankan kode program Python di Jupyter Notebook, klik pada <i>cell</i> yang ingin di-<i>run</i> lalu tekan <kbd>Shift</kbd> + <kbd>Enter</kbd>.\n",
    "</div>"
   ]
  },
  {
   "cell_type": "markdown",
   "metadata": {},
   "source": [
    "<div class=\"alert alert-danger\" style=\"margin-top: 20px\">\n",
    "    <strong>Warning!:</strong> Jika ada kode program yang <i>error</i> atau output yang dihasilkan tidak sesuai, silahkan <b>Restart & Run All</b> kernel pada bagian menu <b>Kernel</b> di menu bar Jupyter Notebook, atau <b>Restart & Clear Output</b> kernel kemudian jalankan satu per satu <i>cell</i> secara berurutan dari atas ke bawah.\n",
    "</div>\n",
    "<hr>"
   ]
  },
  {
   "cell_type": "markdown",
   "metadata": {},
   "source": [
    "## Simple Linear Regression"
   ]
  },
  {
   "cell_type": "markdown",
   "metadata": {},
   "source": [
    "__Simple linear regression__ atau regresi linear sederhana merupakan jenis regresi yang paling sederhana karena hanya melibatkan satu variabel bebas atau variabel independen X. Pada dasarnya konsep regresi linear berasal dari persamaan garis :\n",
    "<br>\n",
    "<br>\n",
    "$$\n",
    "y = \\theta_0 + \\theta_1  x_1\n",
    "$$\n",
    "<br>\n",
    "<br>\n",
    "Untuk menghasilkan garis yang tepat dengan dengan error seminimal mungkin, kita harus menentukan nilai $\\theta_0$ dan $\\theta_1$ yang digunakan sebagai parameter. $\\theta_0$ merupakan sebuah intersep (<i>intercept</i>), sedangkan $\\theta_1$ merupakan gradien atau kemiringan garis. $\\theta_0$ dan $\\theta_1$ dapat disebut juga koefisien persamaan linear."
   ]
  },
  {
   "cell_type": "markdown",
   "metadata": {},
   "source": [
    "<hr>"
   ]
  },
  {
   "cell_type": "markdown",
   "metadata": {},
   "source": [
    "## Dataset"
   ]
  },
  {
   "cell_type": "markdown",
   "metadata": {},
   "source": [
    "Dataset yang akan digunakan pada praktek kali ini adalah dataset diabetes yang sudah disediakan oleh Scikit-Learn. Untuk dapat menggunakannya, kita harus mengimpor <i>package</i> <code>load_diabetes</code> terlebih dahulu dari <code>sklearn.datasets</code>.\n",
    "\n",
    "Mari kita <i>import</i> <i>library</i> yang dibutuhkan."
   ]
  },
  {
   "cell_type": "code",
   "execution_count": null,
   "metadata": {},
   "outputs": [],
   "source": [
    "from sklearn.datasets import load_diabetes\n",
    "import pandas as pd\n",
    "import numpy as np\n",
    "import matplotlib.pyplot as plt\n",
    "import seaborn as sns\n",
    "%matplotlib inline"
   ]
  },
  {
   "cell_type": "markdown",
   "metadata": {},
   "source": [
    "Selanjutnya untuk me-<i>load</i> dataset ke dalam dataframe Pandas, kita dapat langsung menggunakan <code>load_diabetes()</code>. Argumen <code>as_frame = True</code> berfungsi agar kita dapat menggunakan <code>['frame']</code> untuk menampilkan data + target dalam satu dataframe.\n",
    "\n",
    "    ['data'] ---> menampilkan data fitur\n",
    "    ['target'] ---> menampilkan target\n",
    "    ['frame'] ---> menampilkan data + target\n",
    "    ['DESCR'] ---> menampilkan deskripsi dataset\n",
    "    ['feature_names'] ---> menampilkan list nama kolom dataset"
   ]
  },
  {
   "cell_type": "code",
   "execution_count": null,
   "metadata": {},
   "outputs": [],
   "source": [
    "# load dataset diabetes\n",
    "data_diabetes = load_diabetes(as_frame=True)\n",
    "\n",
    "# membuat dataframe\n",
    "df = pd.DataFrame(data_diabetes['frame'])\n",
    "df.head()"
   ]
  },
  {
   "cell_type": "markdown",
   "metadata": {},
   "source": [
    "Kita dapat melihat deskripsi dataset dengan <code>['DESCR']</code>."
   ]
  },
  {
   "cell_type": "code",
   "execution_count": null,
   "metadata": {},
   "outputs": [],
   "source": [
    "# Melihat deskripsi dataset diabetes\n",
    "\n",
    "print(data_diabetes['DESCR'])"
   ]
  },
  {
   "cell_type": "markdown",
   "metadata": {},
   "source": [
    "<hr>"
   ]
  },
  {
   "cell_type": "markdown",
   "metadata": {},
   "source": [
    "## Analisis dan visualisasi data"
   ]
  },
  {
   "cell_type": "markdown",
   "metadata": {},
   "source": [
    "Mari kita lihat <i>scatter plot</i> antara kolom <code>bmi</code> dan <code>target</code>."
   ]
  },
  {
   "cell_type": "code",
   "execution_count": null,
   "metadata": {},
   "outputs": [],
   "source": [
    "# Scatter plot kolom 'bmi' dan 'target'\n",
    "\n",
    "plt.scatter(df['bmi'], df['target'], color='gold')\n",
    "plt.show()"
   ]
  },
  {
   "cell_type": "markdown",
   "metadata": {},
   "source": [
    "Kita juga dapat mengikutsertakan kolom <code>bp</code> dalam plot sebagai warnanya."
   ]
  },
  {
   "cell_type": "code",
   "execution_count": null,
   "metadata": {},
   "outputs": [],
   "source": [
    "# Mengatur warna scatter plot dengan color map\n",
    "\n",
    "fig, ax = plt.subplots(figsize=(14,8))\n",
    "x = ax.scatter(df['bmi'], df['target'], c=df['bp'], cmap='autumn')\n",
    "\n",
    "ax.set_xlabel('bmi', size=14)\n",
    "ax.set_ylabel('quantitative measure of disease progression one year after baseline', size=11)\n",
    "\n",
    "# Menambakan color bar\n",
    "fig.colorbar(x)\n",
    "\n",
    "plt.show()"
   ]
  },
  {
   "cell_type": "markdown",
   "metadata": {},
   "source": [
    "Sekarang mari kita lihat korelasi antarkolom dengan <i>heatmap</i>."
   ]
  },
  {
   "cell_type": "code",
   "execution_count": null,
   "metadata": {},
   "outputs": [],
   "source": [
    "# Menampilkan korelasi antarkolom\n",
    "\n",
    "plt.figure(figsize=(12,7))\n",
    "\n",
    "corr = df.corr()\n",
    "sns.heatmap(corr, annot=True, fmt='.2f')"
   ]
  },
  {
   "cell_type": "markdown",
   "metadata": {},
   "source": [
    "<hr>"
   ]
  },
  {
   "cell_type": "markdown",
   "metadata": {},
   "source": [
    "## Data Preparation"
   ]
  },
  {
   "cell_type": "markdown",
   "metadata": {},
   "source": [
    "### Membagi data train dan test"
   ]
  },
  {
   "cell_type": "markdown",
   "metadata": {},
   "source": [
    "Dataset yang sudah disediakan Scikit-Learn ini, datanya sudah dalam bentuk yang dinormalisasi sehingga kita di bagian <i>data preparation</i>, kita hanya perlu membagi data menjadi data <i>train</i> dan <i>test</i>."
   ]
  },
  {
   "cell_type": "code",
   "execution_count": null,
   "metadata": {},
   "outputs": [],
   "source": [
    "# Membagi data train dan test\n",
    "\n",
    "np.random.seed(42)\n",
    "split = np.random.rand(len(df)) < 0.8\n",
    "train = df[split]\n",
    "test = df[~split]"
   ]
  },
  {
   "cell_type": "markdown",
   "metadata": {},
   "source": [
    "Selanjutnya kita definisikan <code>X_train</code>, <code>y_train</code>, <code>X_test</code>, dan <code>y_test</code>. \n",
    "\n",
    "Yang akan kita praktekkan sekarang adalah <i>simple linear regression</i> sehingga kita hanya menggunakan satu fitur. Disini kita akan ambil fitur <code>bmi</code>."
   ]
  },
  {
   "cell_type": "code",
   "execution_count": null,
   "metadata": {},
   "outputs": [],
   "source": [
    "# Mendefinisikan X_train, y_train, X_test, dan y_test\n",
    "\n",
    "X_train = np.asanyarray(train[['bmi']])\n",
    "y_train = np.asanyarray(train[['target']])\n",
    "\n",
    "X_test = np.asanyarray(test[['bmi']])\n",
    "y_test = np.asanyarray(test[['target']])"
   ]
  },
  {
   "cell_type": "markdown",
   "metadata": {},
   "source": [
    "<hr>"
   ]
  },
  {
   "cell_type": "markdown",
   "metadata": {},
   "source": [
    "## Modeling"
   ]
  },
  {
   "cell_type": "markdown",
   "metadata": {},
   "source": [
    "### Linear regression dengan satu variabel bebas"
   ]
  },
  {
   "cell_type": "markdown",
   "metadata": {},
   "source": [
    "Pemodelan <i>machine learning</i> untuk kasus regresi yang paling sederhana dapat menggunakan <code>LinearRegression()</code>.\n",
    "\n",
    "Mari kita membuat model <i>linear regression</i> dan melatihnya dengan <code>.fit()</code>."
   ]
  },
  {
   "cell_type": "code",
   "execution_count": null,
   "metadata": {},
   "outputs": [],
   "source": [
    "from sklearn.linear_model import LinearRegression\n",
    "\n",
    "# Membuat dan melatih model\n",
    "lr_model = LinearRegression()\n",
    "lr_model.fit(X_train, y_train)"
   ]
  },
  {
   "cell_type": "markdown",
   "metadata": {},
   "source": [
    "Kita dapat menampilkan <i>coefficient</i> dengan atribut <code>coef_</code> dan <i>intercept</i> dengan atribut <code>intercept_</code>."
   ]
  },
  {
   "cell_type": "code",
   "execution_count": null,
   "metadata": {},
   "outputs": [],
   "source": [
    "# Coefficient dan Intercept\n",
    "print ('Coefficients: ', lr_model.coef_)\n",
    "print ('Intercept: ', lr_model.intercept_)"
   ]
  },
  {
   "cell_type": "markdown",
   "metadata": {},
   "source": [
    "### Visualisasi linear regression"
   ]
  },
  {
   "cell_type": "markdown",
   "metadata": {},
   "source": [
    "Sekarang mari kita visualisasikan <i>linear regression</i> dengan <i>scatter plot</i>."
   ]
  },
  {
   "cell_type": "code",
   "execution_count": null,
   "metadata": {},
   "outputs": [],
   "source": [
    "# Visualisasi dengan scatter plot\n",
    "\n",
    "plt.scatter(X_train, y_train,  color='blue')\n",
    "plt.plot(X_train, lr_model.coef_[0][0]*X_train + lr_model.intercept_[0], '-r')\n",
    "plt.xlabel('Body Mass Index')\n",
    "plt.ylabel('target')"
   ]
  },
  {
   "cell_type": "markdown",
   "metadata": {},
   "source": [
    "### Prediksi"
   ]
  },
  {
   "cell_type": "markdown",
   "metadata": {},
   "source": [
    "Mari kita menguji model dengan menggunakan data <code>X_test</code>."
   ]
  },
  {
   "cell_type": "code",
   "execution_count": null,
   "metadata": {},
   "outputs": [],
   "source": [
    "# Menguji model dengan X_test\n",
    "\n",
    "y_pred = lr_model.predict(X_test)\n",
    "\n",
    "print('Data asli: \\n', y_test[0:10])\n",
    "print('\\n')\n",
    "print('Hasil prediksi: \\n', y_pred[0:10])"
   ]
  },
  {
   "cell_type": "markdown",
   "metadata": {},
   "source": [
    "### Evaluasi"
   ]
  },
  {
   "cell_type": "markdown",
   "metadata": {},
   "source": [
    "Selanjutnya evaluasi kinerja model dengan <code>mean_absolute_error</code> dan <code>mean_squared_error</code>."
   ]
  },
  {
   "cell_type": "code",
   "execution_count": null,
   "metadata": {},
   "outputs": [],
   "source": [
    "from sklearn.metrics import mean_absolute_error, mean_squared_error\n",
    "\n",
    "# Menampilkan MAE dan MSE\n",
    "print('Mean Absolute Error (MAE): %.2f' % mean_absolute_error(y_pred, y_test))\n",
    "print('Mean Squared Error (MSE): %.2f' % mean_squared_error(y_pred, y_test))"
   ]
  },
  {
   "cell_type": "markdown",
   "metadata": {},
   "source": [
    "<hr>"
   ]
  },
  {
   "cell_type": "markdown",
   "metadata": {},
   "source": [
    "Copyright @ <a href=\"https://ilmudatapy.com/\">ilmudatapy.com</a>"
   ]
  }
 ],
 "metadata": {
  "kernelspec": {
   "display_name": "Python 3",
   "language": "python",
   "name": "python3"
  },
  "language_info": {
   "codemirror_mode": {
    "name": "ipython",
    "version": 3
   },
   "file_extension": ".py",
   "mimetype": "text/x-python",
   "name": "python",
   "nbconvert_exporter": "python",
   "pygments_lexer": "ipython3",
   "version": "3.7.3"
  }
 },
 "nbformat": 4,
 "nbformat_minor": 2
}
