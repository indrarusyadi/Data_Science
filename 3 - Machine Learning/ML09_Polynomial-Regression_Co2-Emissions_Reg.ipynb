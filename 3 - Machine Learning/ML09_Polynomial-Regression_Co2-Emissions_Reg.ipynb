{
 "cells": [
  {
   "cell_type": "markdown",
   "metadata": {},
   "source": [
    "<img src=\"../images/ilmudatapy-logo.png\" width=\"350\" align=\"center\">\n",
    "<br>"
   ]
  },
  {
   "cell_type": "markdown",
   "metadata": {},
   "source": [
    "<center><h1>Polynomial Regression</h1></center>\n",
    "<hr>"
   ]
  },
  {
   "cell_type": "markdown",
   "metadata": {},
   "source": [
    "__Halo, Learners!__ Di notebook ini, kita akan membuat model <i>machine learning</i> untuk kasus regresi (yang memiliki target berupa nilai kontinue) dengan algoritma __Linear Regression__. Disini kita akan mempraktekkan <b>Polynomial Regression</b>, dimana hubungan variabel bebas dan independennya dimodelkan sebagai polinomial."
   ]
  },
  {
   "cell_type": "markdown",
   "metadata": {},
   "source": [
    "<h2>Table of Contents</h2>\n",
    "<div class=\"alert alert-block alert-info\" style=\"margin-top: 25px\">\n",
    "    <ul>\n",
    "        <li>\n",
    "            Polynomial Regression\n",
    "        </li>\n",
    "        <li>\n",
    "            Dataset\n",
    "        </li>\n",
    "        <li>\n",
    "            Analisis dan visualisasi data\n",
    "        </li>\n",
    "        <li>\n",
    "            Data Preparation / Preprocessing\n",
    "            <ul>\n",
    "                <li>Membagi data train dan test</li>\n",
    "            </ul>\n",
    "        </li>\n",
    "        <li>\n",
    "            Modeling\n",
    "            <ul>\n",
    "                <li>Linear regression dengan bentuk polinomial</li>\n",
    "                <li>Visualisasi polynomial regression</li>\n",
    "                <li>Prediksi dan Evaluasi</li>\n",
    "            </ul>\n",
    "        </li>\n",
    "    </ul>\n",
    "</div>"
   ]
  },
  {
   "cell_type": "markdown",
   "metadata": {},
   "source": [
    "<hr>\n",
    "<div class=\"alert alert-success\" style=\"margin-top: 20px\">\n",
    "    <strong>Catatan:</strong> Untuk menjalankan kode program Python di Jupyter Notebook, klik pada <i>cell</i> yang ingin di-<i>run</i> lalu tekan <kbd>Shift</kbd> + <kbd>Enter</kbd>.\n",
    "</div>"
   ]
  },
  {
   "cell_type": "markdown",
   "metadata": {},
   "source": [
    "<div class=\"alert alert-danger\" style=\"margin-top: 20px\">\n",
    "    <strong>Warning!:</strong> Jika ada kode program yang <i>error</i> atau output yang dihasilkan tidak sesuai, silahkan <b>Restart & Run All</b> kernel pada bagian menu <b>Kernel</b> di menu bar Jupyter Notebook, atau <b>Restart & Clear Output</b> kernel kemudian jalankan satu per satu <i>cell</i> secara berurutan dari atas ke bawah.\n",
    "</div>\n",
    "<hr>"
   ]
  },
  {
   "cell_type": "markdown",
   "metadata": {},
   "source": [
    "## Polynomial Regression"
   ]
  },
  {
   "cell_type": "markdown",
   "metadata": {},
   "source": [
    "Terkadang tren data tidak selalu terlihat lurus atau linear melainkan melengkung. Dalam kasus ini, kita dapat menggunakan __Polynomial Regression__. Dengan <i>polynomial regression</i> kita dapat menyesuaikan garis dengan bentuk kumpulan data, misalnya dengan pangkat 2, pangkat 3, 4, dan seterusnya.\n",
    "\n",
    "Pada intinya, <i>polynomial regression</i> adalah dimana hubungan variabel bebas $x$ dan variabel terikat/independen $y$ dimodelkan sebagai polinomial derajat ke-n pada $x$. Misalnya untuk regresi polinomial dengan derajat 2 (degree = 2), formulanya seperti di bawah ini.\n",
    "<br><br>\n",
    "$$y = b + \\theta_1  x + \\theta_2 x^2$$\n",
    "<br><br>\n",
    "Di Scikit-Learn, kita dapat menggunakan <i>function</i> <code>PolynomialFeatures()</code> untuk mentransformasi nilai pada fitur menjadi derajat kurang dari atau sesuai dengan yang ditentukan."
   ]
  },
  {
   "cell_type": "markdown",
   "metadata": {},
   "source": [
    "<br>"
   ]
  },
  {
   "cell_type": "markdown",
   "metadata": {},
   "source": [
    "<hr>"
   ]
  },
  {
   "cell_type": "markdown",
   "metadata": {},
   "source": [
    "## Dataset"
   ]
  },
  {
   "cell_type": "markdown",
   "metadata": {},
   "source": [
    "Dataset yang digunakan adalah dataset <a href='https://www.kaggle.com/sarita19/fuel-consumption'>Fuel Consumption</a> yang bertujuan untuk memprediksi emisi CO2 untuk kendaraan ringan baru untuk penjualan di Kanada.\n",
    "\n",
    "__Dataset Information:__\n",
    "\n",
    "- **MODELYEAR** e.g. 2014\n",
    "- **MAKE** e.g. Acura\n",
    "- **MODEL** e.g. ILX\n",
    "- **VEHICLE CLASS** e.g. SUV\n",
    "- **ENGINE SIZE** e.g. 4.7\n",
    "- **CYLINDERS** e.g 6\n",
    "- **TRANSMISSION** e.g. A6\n",
    "- **FUEL CONSUMPTION in CITY(L/100 km)** e.g. 9.9\n",
    "- **FUEL CONSUMPTION in HWY (L/100 km)** e.g. 8.9\n",
    "- **FUEL CONSUMPTION COMB (L/100 km)** e.g. 9.2\n",
    "- **CO2 EMISSIONS (g/km)** e.g. 182   --> low --> 0\n",
    "\n",
    "Pertama kita <i>import library</i> yang diperlukan terlebih dahulu."
   ]
  },
  {
   "cell_type": "code",
   "execution_count": null,
   "metadata": {},
   "outputs": [],
   "source": [
    "import pandas as pd\n",
    "import numpy as np\n",
    "import matplotlib.pyplot as plt\n",
    "import seaborn as sns\n",
    "\n",
    "%matplotlib inline"
   ]
  },
  {
   "cell_type": "markdown",
   "metadata": {},
   "source": [
    "Selanjutnya kita <i>load</i> dataset ke dalam dataframe Pandas."
   ]
  },
  {
   "cell_type": "code",
   "execution_count": null,
   "metadata": {},
   "outputs": [],
   "source": [
    "# Load dataset\n",
    "\n",
    "df = pd.read_csv('../datasets/fuel-consumption.csv')\n",
    "df.head(10)"
   ]
  },
  {
   "cell_type": "markdown",
   "metadata": {},
   "source": [
    "<hr>"
   ]
  },
  {
   "cell_type": "markdown",
   "metadata": {},
   "source": [
    "## Analisis dan visualisasi data"
   ]
  },
  {
   "cell_type": "markdown",
   "metadata": {},
   "source": [
    "Selanjutnya mari kita eksplorasi dataset. Pertama mari kita lihat deskripsi statistiknya."
   ]
  },
  {
   "cell_type": "code",
   "execution_count": null,
   "metadata": {},
   "outputs": [],
   "source": [
    "# Menampilkan deskripsi statistik\n",
    "\n",
    "df.describe()"
   ]
  },
  {
   "cell_type": "markdown",
   "metadata": {},
   "source": [
    "Sekarang mari kita lihat jumlah data untuk tiap jenis kendaraan."
   ]
  },
  {
   "cell_type": "code",
   "execution_count": null,
   "metadata": {},
   "outputs": [],
   "source": [
    "# Jumlah data untuk tiap kendaraan\n",
    "\n",
    "df['MAKE'].value_counts()"
   ]
  },
  {
   "cell_type": "markdown",
   "metadata": {},
   "source": [
    "Kita dapat melihat nilai unik pada kolom <code>MODEL</code> dengan <code>unique()</code>."
   ]
  },
  {
   "cell_type": "code",
   "execution_count": null,
   "metadata": {},
   "outputs": [],
   "source": [
    "# Melihat nilai unik pada kolom 'MODEL'\n",
    "\n",
    "df['MODEL'].unique()"
   ]
  },
  {
   "cell_type": "markdown",
   "metadata": {},
   "source": [
    "Sekarang kita lihat nilai unik di kolom <code>VEHICLECLASS</code>."
   ]
  },
  {
   "cell_type": "code",
   "execution_count": null,
   "metadata": {},
   "outputs": [],
   "source": [
    "# Menampilkan nilai unik di kolom 'VEHICLECLASS'\n",
    "\n",
    "df['VEHICLECLASS'].unique()"
   ]
  },
  {
   "cell_type": "markdown",
   "metadata": {},
   "source": [
    "Kita dapat menggunakan <i>countplot</i> untuk kolom <code>TRANSMISSION</code>."
   ]
  },
  {
   "cell_type": "code",
   "execution_count": null,
   "metadata": {},
   "outputs": [],
   "source": [
    "# Countplot untuk kolom 'TRANSMISSION'\n",
    "\n",
    "plt.figure(figsize=(12,7))\n",
    "sns.countplot(df['TRANSMISSION'], palette='Set1')"
   ]
  },
  {
   "cell_type": "markdown",
   "metadata": {},
   "source": [
    "Untuk kolom numerik, kita dapat menampilkan histogramnya untuk melihat distribusi data."
   ]
  },
  {
   "cell_type": "code",
   "execution_count": null,
   "metadata": {},
   "outputs": [],
   "source": [
    "# Menampilkan histogram dari kolom fitur numerik\n",
    "\n",
    "fig, ax = plt.subplots(ncols=4, nrows=2, figsize=(16, 6)) \n",
    "\n",
    "# Menambahkan subplot dengan indexing\n",
    "ax0 = fig.add_subplot(ax[0,0]) \n",
    "ax1 = fig.add_subplot(ax[0,1])  \n",
    "ax2 = fig.add_subplot(ax[0,2])  \n",
    "ax3 = fig.add_subplot(ax[0,3]) \n",
    "ax4 = fig.add_subplot(ax[1,0])  \n",
    "ax5 = fig.add_subplot(ax[1,1]) \n",
    "ax6 = fig.add_subplot(ax[1,2])    \n",
    "\n",
    "df.hist(column='ENGINESIZE', bins=50, ax=ax0)\n",
    "df.hist(column='CYLINDERS', bins=50, ax=ax1)\n",
    "df.hist(column='FUELCONSUMPTION_CITY', bins=50, ax=ax2)\n",
    "df.hist(column='FUELCONSUMPTION_HWY', bins=50, ax=ax3)\n",
    "df.hist(column='FUELCONSUMPTION_COMB', bins=50, ax=ax4)\n",
    "df.hist(column='FUELCONSUMPTION_COMB_MPG', bins=50, ax=ax5)\n",
    "df.hist(column='CO2EMISSIONS', bins=50, ax=ax6)\n",
    "\n",
    "ax[1,3].set_axis_off()\n",
    "\n",
    "plt.subplots_adjust(wspace=0.2, hspace=0.4)\n",
    "plt.show()"
   ]
  },
  {
   "cell_type": "markdown",
   "metadata": {},
   "source": [
    "Sekarang kita tampilkan <i>scatter plot</i> untuk melihat hubungan variabel <code>ENGINESIZE</code> dan <code>CO2EMISSIONS</code>."
   ]
  },
  {
   "cell_type": "code",
   "execution_count": null,
   "metadata": {},
   "outputs": [],
   "source": [
    "# Scatter plot untuk kolom 'ENGINESIZE' DAN 'CO2EMISSIONS'\n",
    "\n",
    "plt.scatter(df['ENGINESIZE'], df['CO2EMISSIONS'])\n",
    "plt.show()"
   ]
  },
  {
   "cell_type": "markdown",
   "metadata": {},
   "source": [
    "<hr>"
   ]
  },
  {
   "cell_type": "markdown",
   "metadata": {},
   "source": [
    "## Data Preparation / Preprocessing"
   ]
  },
  {
   "cell_type": "markdown",
   "metadata": {},
   "source": [
    "### Membagi data train dan test"
   ]
  },
  {
   "cell_type": "markdown",
   "metadata": {},
   "source": [
    "Pada tahap ini kita akan membagi dataset menjadi data <i>train</i> dan <i>test</i>."
   ]
  },
  {
   "cell_type": "code",
   "execution_count": null,
   "metadata": {},
   "outputs": [],
   "source": [
    "np.random.seed(42)\n",
    "split = np.random.rand(len(df)) < 0.75\n",
    "train = df[split]\n",
    "test = df[~split]"
   ]
  },
  {
   "cell_type": "markdown",
   "metadata": {},
   "source": [
    "Disini kita hanya akan menggunakan satu fitur yaitu <code>ENGINESIZE</code> untuk pemodelan dengan <i>polynomial regression</i>. Sekarang mari kita definisikan <code>X_train</code>, <code>y_train</code>, <code>X_test</code>, dan <code>y_test</code>."
   ]
  },
  {
   "cell_type": "code",
   "execution_count": null,
   "metadata": {},
   "outputs": [],
   "source": [
    "# Mendefinisikan X_train, y_train, X_test, dan y_test\n",
    "\n",
    "X_train = np.asanyarray(train[['ENGINESIZE']])\n",
    "y_train = np.asanyarray(train[['CO2EMISSIONS']])\n",
    "\n",
    "X_test = np.asanyarray(test[['ENGINESIZE']])\n",
    "y_test = np.asanyarray(test[['CO2EMISSIONS']])"
   ]
  },
  {
   "cell_type": "markdown",
   "metadata": {},
   "source": [
    "<hr>"
   ]
  },
  {
   "cell_type": "markdown",
   "metadata": {},
   "source": [
    "# Modeling"
   ]
  },
  {
   "cell_type": "markdown",
   "metadata": {},
   "source": [
    "### Linear regression dengan bentuk polinomial"
   ]
  },
  {
   "cell_type": "markdown",
   "metadata": {},
   "source": [
    "Untuk membentuk model <i>polynomial regression</i>, kita dapat menggunakan <i>package</i> <code>PolynomialFeatures</code> dari <code>sklearn.preprocessing</code>, kemudian men-<i>train</i>-nya menggunakan data <i>train</i>."
   ]
  },
  {
   "cell_type": "code",
   "execution_count": null,
   "metadata": {},
   "outputs": [],
   "source": [
    "from sklearn.preprocessing import PolynomialFeatures\n",
    "\n",
    "poly = PolynomialFeatures(degree=2)\n",
    "X_train_poly = poly.fit_transform(X_train)\n",
    "X_train_poly"
   ]
  },
  {
   "cell_type": "markdown",
   "metadata": {},
   "source": [
    "Selanjutnya kita aplikasikan <code>X_train_poly</code> sebagai data <i>train</i> yang akan dilatih dengan <code>LinearRegression()</code>."
   ]
  },
  {
   "cell_type": "code",
   "execution_count": null,
   "metadata": {},
   "outputs": [],
   "source": [
    "from sklearn import linear_model\n",
    "\n",
    "poly_model = linear_model.LinearRegression()\n",
    "poly_model.fit(X_train_poly, y_train)\n",
    "\n",
    "# Coefficient dan Intercept\n",
    "print ('Coefficients: ', poly_model.coef_)\n",
    "print ('Intercept: ', poly_model.intercept_)"
   ]
  },
  {
   "cell_type": "markdown",
   "metadata": {},
   "source": [
    "### Visualisasi polynomial regression"
   ]
  },
  {
   "cell_type": "markdown",
   "metadata": {},
   "source": [
    "Sekarang mari kita lihat visualisasinya."
   ]
  },
  {
   "cell_type": "code",
   "execution_count": null,
   "metadata": {},
   "outputs": [],
   "source": [
    "plt.scatter(train.ENGINESIZE, train.CO2EMISSIONS,  color='blue')\n",
    "\n",
    "XX = np.arange(0.0, 10.0, 0.1)\n",
    "yy = poly_model.intercept_[0]+ poly_model.coef_[0][1]*XX+ poly_model.coef_[0][2]*np.power(XX, 2)\n",
    "\n",
    "plt.plot(XX, yy, '-r' )\n",
    "plt.xlabel('Engine size')\n",
    "plt.ylabel('Emission')"
   ]
  },
  {
   "cell_type": "markdown",
   "metadata": {},
   "source": [
    "Terlihat bahwa garis yang terbentuk tidak lurus, melainkan agak melengkung."
   ]
  },
  {
   "cell_type": "markdown",
   "metadata": {},
   "source": [
    "### Prediksi dan Evaluasi"
   ]
  },
  {
   "cell_type": "markdown",
   "metadata": {},
   "source": [
    "Mari kita uji menggunakan data uji dan mengevaluasi hasilnya dengan <code>r2_score</code>, <code>mean_absolute_error</code>, dan <code>mean_squared_error</code>."
   ]
  },
  {
   "cell_type": "code",
   "execution_count": null,
   "metadata": {},
   "outputs": [],
   "source": [
    "from sklearn.metrics import r2_score, mean_absolute_error, mean_squared_error\n",
    "\n",
    "# Prediksi\n",
    "X_test_poly = poly.fit_transform(X_test)\n",
    "y_pred = poly_model.predict(X_test_poly)\n",
    "\n",
    "# Evaluasi\n",
    "print(\"R2-score: %.2f\" % r2_score(y_pred, y_test))\n",
    "print('Mean Absolute Error (MAE): %.2f' % mean_absolute_error(y_pred, y_test))\n",
    "print('Mean Squared Error (MSE): %.2f' % mean_squared_error(y_pred, y_test))"
   ]
  },
  {
   "cell_type": "markdown",
   "metadata": {},
   "source": [
    "<hr>"
   ]
  },
  {
   "cell_type": "markdown",
   "metadata": {},
   "source": [
    "Copyright @ <a href=\"https://ilmudatapy.com/\">ilmudatapy.com</a>"
   ]
  }
 ],
 "metadata": {
  "kernelspec": {
   "display_name": "Python 3",
   "language": "python",
   "name": "python3"
  },
  "language_info": {
   "codemirror_mode": {
    "name": "ipython",
    "version": 3
   },
   "file_extension": ".py",
   "mimetype": "text/x-python",
   "name": "python",
   "nbconvert_exporter": "python",
   "pygments_lexer": "ipython3",
   "version": "3.7.3"
  }
 },
 "nbformat": 4,
 "nbformat_minor": 2
}
