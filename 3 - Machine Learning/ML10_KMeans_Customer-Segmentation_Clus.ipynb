{
 "cells": [
  {
   "cell_type": "markdown",
   "metadata": {},
   "source": [
    "<img src=\"../images/ilmudatapy-logo.png\" width=\"350\" align=\"center\">\n",
    "<br>"
   ]
  },
  {
   "cell_type": "markdown",
   "metadata": {},
   "source": [
    "<center><h1>Segmentasi Pelanggan dengan KMeans</h1></center>\n",
    "<hr>"
   ]
  },
  {
   "cell_type": "markdown",
   "metadata": {},
   "source": [
    "__Halo, Learners!__ Di notebook ini, kita akan mencoba melakukan segmentasi pelanggan dengan algoritma __K-Means__. Segmentasi pelanggan merupakan salah satu contoh kasus <i>clustering</i> yang termasuk ke dalam <i>unsupervised learning</i>. Kita juga akan belajar cara membuat visualisasi 3 dimensi dalam notebook ini."
   ]
  },
  {
   "cell_type": "markdown",
   "metadata": {},
   "source": [
    "<h2>Table of Contents</h2>\n",
    "<div class=\"alert alert-block alert-info\" style=\"margin-top: 25px\">\n",
    "    <ul>\n",
    "        <li>\n",
    "            K-Means\n",
    "        </li>\n",
    "        <li>\n",
    "            Dataset\n",
    "        </li>\n",
    "        <li>\n",
    "            Analisis dan visualisasi data\n",
    "        </li>\n",
    "        <li>\n",
    "            Data Preparation / Preprocessing\n",
    "            <ul>\n",
    "                <li>Normalisasi</li>\n",
    "            </ul>\n",
    "        </li>\n",
    "        <li>\n",
    "            Modeling\n",
    "            <ul>\n",
    "                <li>Customer segmentation dengan K-Means</li>\n",
    "                <li>Insight</li>\n",
    "                <li>Visualisasi</li>\n",
    "            </ul>\n",
    "        </li>\n",
    "    </ul>\n",
    "</div>"
   ]
  },
  {
   "cell_type": "markdown",
   "metadata": {},
   "source": [
    "<hr>\n",
    "<div class=\"alert alert-success\" style=\"margin-top: 20px\">\n",
    "    <strong>Catatan:</strong> Untuk menjalankan kode program Python di Jupyter Notebook, klik pada <i>cell</i> yang ingin di-<i>run</i> lalu tekan <kbd>Shift</kbd> + <kbd>Enter</kbd>.\n",
    "</div>"
   ]
  },
  {
   "cell_type": "markdown",
   "metadata": {},
   "source": [
    "<div class=\"alert alert-danger\" style=\"margin-top: 20px\">\n",
    "    <strong>Warning!:</strong> Jika ada kode program yang <i>error</i> atau output yang dihasilkan tidak sesuai, silahkan <b>Restart & Run All</b> kernel pada bagian menu <b>Kernel</b> di menu bar Jupyter Notebook, atau <b>Restart & Clear Output</b> kernel kemudian jalankan satu per satu <i>cell</i> secara berurutan dari atas ke bawah.\n",
    "</div>\n",
    "<hr>"
   ]
  },
  {
   "cell_type": "markdown",
   "metadata": {},
   "source": [
    "## K-Means"
   ]
  },
  {
   "cell_type": "markdown",
   "metadata": {},
   "source": [
    "__K-Means__ adalah salah satu algoritma yang dapat digunakan untuk <i>unsupervised learning</i> seperti <i>clustering</i>. Algoritma ini berbasis <i>centroid</i> atau dapat dikatakan juga berbasis jarak, dimana tiap <i>cluster</i> memiliki <i>centriod</i> masing-masing sebagai pusatnya. K-Means meminimalkan jarak antara <i>data point</i> dengan pusat <i>cluster</i> masing-masing."
   ]
  },
  {
   "cell_type": "markdown",
   "metadata": {},
   "source": [
    "![alt text](../images/k-means.png)"
   ]
  },
  {
   "cell_type": "markdown",
   "metadata": {},
   "source": [
    "Dari gambar ilustrasi di atas, titik yang berwarna hitam merupakan <i>centroid</i> dari masing-masing <i>cluster</i>."
   ]
  },
  {
   "cell_type": "markdown",
   "metadata": {},
   "source": [
    "<hr>"
   ]
  },
  {
   "cell_type": "markdown",
   "metadata": {},
   "source": [
    "## Dataset"
   ]
  },
  {
   "cell_type": "markdown",
   "metadata": {},
   "source": [
    "Dataset yang digunakan adalah dataset <a href='https://www.kaggle.com/arjunbhasin2013/ccdata'>Credit Card</a>. Dataset terdiri perilaku penggunaan kartu kredit dari 9000 pemegang kartu kredit. Dataset ini digunakan untuk membangun segmentasi pelanggan untuk menentukan strategi <i>marketing</i>.\n",
    "\n",
    "__Dataset Information:__\n",
    "\n",
    "* CUSTID : Identification of Credit Card holder (Categorical)\n",
    "* BALANCE : Balance amount left in their account to make purchases \n",
    "* BALANCE_FREQUENCY : How frequently the Balance is updated, score between 0 and 1 (1 = frequently updated, 0 = not frequently updated)\n",
    "* PURCHASES : Amount of purchases made from account\n",
    "* ONEOFF_PURCHASES : Maximum purchase amount done in one-go\n",
    "* INSTALLMENTS_PURCHASES : Amount of purchase done in installment\n",
    "* CASH_ADVANCE : Cash in advance given by the user\n",
    "* PURCHASES_FREQUENCY : How frequently the Purchases are being made, score between 0 and 1 (1 = frequently purchased, 0 = not frequently purchased)\n",
    "* ONEOFF_PURCHASES_FREQUENCY : How frequently Purchases are happening in one-go (1 = frequently purchased, 0 = not frequently purchased)\n",
    "* PURCHASES_INSTALLMENTS_FREQUENCY : How frequently purchases in installments are being done (1 = frequently done, 0 = not frequently done)\n",
    "* CASH_ADVANCE_FREQUENCY : How frequently the cash in advance being paid\n",
    "* CASH_ADVANCE_TRX : Number of Transactions made with \"Cash in Advanced\"\n",
    "* PURCHASES_TRX : Numbe of purchase transactions made\n",
    "* CREDIT_LIMIT : Limit of Credit Card for user\n",
    "* PAYMENTS : Amount of Payment done by user\n",
    "* MINIMUM_PAYMENTS : Minimum amount of payments made by user\n",
    "* PRC_FULL_PAYMENT : Percent of full payment paid by user\n",
    "* TENURE : Tenure of credit card service for user"
   ]
  },
  {
   "cell_type": "markdown",
   "metadata": {},
   "source": [
    "Mari kita <i>import library</i> yang diperlukan."
   ]
  },
  {
   "cell_type": "code",
   "execution_count": null,
   "metadata": {},
   "outputs": [],
   "source": [
    "import pandas as pd\n",
    "import numpy as np\n",
    "import matplotlib.pyplot as plt\n",
    "import seaborn as sns\n",
    "\n",
    "%matplotlib inline"
   ]
  },
  {
   "cell_type": "markdown",
   "metadata": {},
   "source": [
    "Selanjutnya <i>load</i> dataset dengan <code>read_csv()</code>."
   ]
  },
  {
   "cell_type": "code",
   "execution_count": null,
   "metadata": {},
   "outputs": [],
   "source": [
    "# Load dataset\n",
    "\n",
    "df = pd.read_csv('../datasets/credit-card-data.csv')\n",
    "df.head(10)"
   ]
  },
  {
   "cell_type": "markdown",
   "metadata": {},
   "source": [
    "<hr>"
   ]
  },
  {
   "cell_type": "markdown",
   "metadata": {},
   "source": [
    "## Analisis dan visualisasi data"
   ]
  },
  {
   "cell_type": "markdown",
   "metadata": {},
   "source": [
    "Mari kita eksplorasi dataframe <code>df</code>. Pertama kita dapat menampilkan deskripsi statistik dengan <code>describe()</code>."
   ]
  },
  {
   "cell_type": "code",
   "execution_count": null,
   "metadata": {},
   "outputs": [],
   "source": [
    "# Menampilkan deskripsi statistik\n",
    "\n",
    "df.describe()"
   ]
  },
  {
   "cell_type": "markdown",
   "metadata": {},
   "source": [
    "Selanjutnya cek tipe data dengan <code>dtypes</code>."
   ]
  },
  {
   "cell_type": "code",
   "execution_count": null,
   "metadata": {},
   "outputs": [],
   "source": [
    "# Cek tipe data\n",
    "\n",
    "df.dtypes"
   ]
  },
  {
   "cell_type": "markdown",
   "metadata": {},
   "source": [
    "Lalu kita tampilkan <i>countplot</i> untuk kolom <code>TENURE</code>."
   ]
  },
  {
   "cell_type": "code",
   "execution_count": null,
   "metadata": {},
   "outputs": [],
   "source": [
    "# Countplot dari kolom 'TENURE'\n",
    "\n",
    "sns.countplot(df['TENURE'], palette='Paired')"
   ]
  },
  {
   "cell_type": "markdown",
   "metadata": {},
   "source": [
    "Untuk kolom numerik, mari kita tampilkan histogramnya untuk melihat distribusi data."
   ]
  },
  {
   "cell_type": "code",
   "execution_count": null,
   "metadata": {},
   "outputs": [],
   "source": [
    "# Menampilkan histogram dari kolom fitur numerik\n",
    "\n",
    "fig, ax = plt.subplots(ncols=4, nrows=4, figsize=(16, 10)) \n",
    "\n",
    "# Menambahkan subplot dengan indexing\n",
    "ax0 = fig.add_subplot(ax[0,0]) \n",
    "ax1 = fig.add_subplot(ax[0,1])  \n",
    "ax2 = fig.add_subplot(ax[0,2])  \n",
    "ax3 = fig.add_subplot(ax[0,3]) \n",
    "ax4 = fig.add_subplot(ax[1,0])  \n",
    "ax5 = fig.add_subplot(ax[1,1]) \n",
    "ax6 = fig.add_subplot(ax[1,2])\n",
    "ax7 = fig.add_subplot(ax[1,3])\n",
    "\n",
    "ax8 = fig.add_subplot(ax[2,0]) \n",
    "ax9 = fig.add_subplot(ax[2,1])  \n",
    "ax10 = fig.add_subplot(ax[2,2])  \n",
    "ax11 = fig.add_subplot(ax[2,3]) \n",
    "ax12 = fig.add_subplot(ax[3,0])  \n",
    "ax13 = fig.add_subplot(ax[3,1]) \n",
    "ax14 = fig.add_subplot(ax[3,2])\n",
    "ax15 = fig.add_subplot(ax[3,3])\n",
    "\n",
    "df.hist(column='BALANCE', bins=50, ax=ax0)\n",
    "df.hist(column='BALANCE_FREQUENCY', bins=10, ax=ax1)\n",
    "df.hist(column='PURCHASES', bins=50, ax=ax2)\n",
    "df.hist(column='ONEOFF_PURCHASES', bins=50, ax=ax3)\n",
    "df.hist(column='INSTALLMENTS_PURCHASES', bins=50, ax=ax4)\n",
    "df.hist(column='CASH_ADVANCE', bins=50, ax=ax5)\n",
    "df.hist(column='PURCHASES_FREQUENCY', bins=10, ax=ax6)\n",
    "df.hist(column='ONEOFF_PURCHASES_FREQUENCY', bins=10, ax=ax7)\n",
    "\n",
    "df.hist(column='PURCHASES_INSTALLMENTS_FREQUENCY', bins=10, ax=ax8)\n",
    "df.hist(column='CASH_ADVANCE_FREQUENCY', bins=10, ax=ax9)\n",
    "df.hist(column='CASH_ADVANCE_TRX', bins=50, ax=ax10)\n",
    "df.hist(column='PURCHASES_TRX', bins=50, ax=ax11)\n",
    "df.hist(column='CREDIT_LIMIT', bins=50, ax=ax12)\n",
    "df.hist(column='PAYMENTS', bins=50, ax=ax13)\n",
    "df.hist(column='MINIMUM_PAYMENTS', bins=50, ax=ax14)\n",
    "df.hist(column='PRC_FULL_PAYMENT', bins=10, ax=ax15)\n",
    "\n",
    "plt.subplots_adjust(wspace=0.2, hspace=0.4)\n",
    "plt.show()"
   ]
  },
  {
   "cell_type": "markdown",
   "metadata": {},
   "source": [
    "Sekarang kita tampilkan korelasi antarkolom dengan <i>heatmap</i>."
   ]
  },
  {
   "cell_type": "code",
   "execution_count": null,
   "metadata": {},
   "outputs": [],
   "source": [
    "# Menampilkan korelasi antarkolom dengan heatmap\n",
    "\n",
    "plt.figure(figsize=(12,7))\n",
    "\n",
    "corr = df.corr()\n",
    "sns.heatmap(corr, annot=True, fmt='.2f')"
   ]
  },
  {
   "cell_type": "markdown",
   "metadata": {},
   "source": [
    "<hr>"
   ]
  },
  {
   "cell_type": "markdown",
   "metadata": {},
   "source": [
    "## Data Preparation"
   ]
  },
  {
   "cell_type": "markdown",
   "metadata": {},
   "source": [
    "Dari dataframe <code>df</code>, kita akan menghapus kolom <code>CUST_ID</code> karena ID bukan merupakan fitur yang penting untuk pemodelan."
   ]
  },
  {
   "cell_type": "code",
   "execution_count": null,
   "metadata": {},
   "outputs": [],
   "source": [
    "# Menghapus kolom 'CUST_ID'\n",
    "\n",
    "df_cc = df.drop('CUST_ID', axis=1)\n",
    "df_cc.head()"
   ]
  },
  {
   "cell_type": "markdown",
   "metadata": {},
   "source": [
    "### Normalisasi"
   ]
  },
  {
   "cell_type": "markdown",
   "metadata": {},
   "source": [
    "Kemudian kita lakukan normalisasi untuk dataframe <code>df_cc</code>."
   ]
  },
  {
   "cell_type": "code",
   "execution_count": null,
   "metadata": {},
   "outputs": [],
   "source": [
    "from sklearn.preprocessing import StandardScaler\n",
    "\n",
    "X = df_cc.values[:,:]\n",
    "X = np.nan_to_num(X)\n",
    "\n",
    "cc_norm = StandardScaler().fit_transform(X)\n",
    "cc_norm"
   ]
  },
  {
   "cell_type": "markdown",
   "metadata": {},
   "source": [
    "<hr>"
   ]
  },
  {
   "cell_type": "markdown",
   "metadata": {},
   "source": [
    "## Modeling"
   ]
  },
  {
   "cell_type": "markdown",
   "metadata": {},
   "source": [
    "### Customer segmentation dengan K-Means"
   ]
  },
  {
   "cell_type": "markdown",
   "metadata": {},
   "source": [
    "Sekarang kita dapat menerapakan proses <i>modeling</i> dengan K-Means untuk segmentasi pelanggan. Disini kita akan mendefinisikan jumlah klasternya adalah 3."
   ]
  },
  {
   "cell_type": "code",
   "execution_count": null,
   "metadata": {},
   "outputs": [],
   "source": [
    "from sklearn.cluster import KMeans\n",
    "\n",
    "clusterNum = 3\n",
    "\n",
    "k_means = KMeans(init = \"k-means++\", n_clusters = clusterNum, n_init = 12)\n",
    "k_means.fit(X)"
   ]
  },
  {
   "cell_type": "markdown",
   "metadata": {},
   "source": [
    "Setelah pemodelan, kita dapat menampilkan label klaster dengan atribut <code>.labels_</code>."
   ]
  },
  {
   "cell_type": "code",
   "execution_count": null,
   "metadata": {},
   "outputs": [],
   "source": [
    "# Menampilkan label klaster\n",
    "\n",
    "k_means_labels = k_means.labels_\n",
    "k_means_labels"
   ]
  },
  {
   "cell_type": "markdown",
   "metadata": {},
   "source": [
    "Kemudian, kita dapat menampilkan <i>cluster center</i> dengan atribut <code>.cluster_centers_</code>. Outputnya adalah berupa array (n_cluster, n_features)."
   ]
  },
  {
   "cell_type": "code",
   "execution_count": null,
   "metadata": {},
   "outputs": [],
   "source": [
    "# Menampilkan cluster centers\n",
    "\n",
    "k_means_cluster_centers = k_means.cluster_centers_\n",
    "k_means_cluster_centers"
   ]
  },
  {
   "cell_type": "markdown",
   "metadata": {},
   "source": [
    "### Insight"
   ]
  },
  {
   "cell_type": "markdown",
   "metadata": {},
   "source": [
    "Sekarang mari kita masukkan label klaster ke dalam dataframe <code>df</code>."
   ]
  },
  {
   "cell_type": "code",
   "execution_count": null,
   "metadata": {},
   "outputs": [],
   "source": [
    "# Memasukkan label ke dalam dataframe\n",
    "\n",
    "df['CLUSTER'] = k_means_labels\n",
    "df.head(5)"
   ]
  },
  {
   "cell_type": "markdown",
   "metadata": {},
   "source": [
    "Selanjutnya mari kita cek jumlah data pada masing-masing klaster."
   ]
  },
  {
   "cell_type": "code",
   "execution_count": null,
   "metadata": {},
   "outputs": [],
   "source": [
    "# Jumlah data pada tiap klaster\n",
    "\n",
    "df['CLUSTER'].value_counts()"
   ]
  },
  {
   "cell_type": "markdown",
   "metadata": {},
   "source": [
    "Kita dapat menampilkan nilai <i>centroid</i> dengan merata-ratakan nilai fitur pada tiap klaster."
   ]
  },
  {
   "cell_type": "code",
   "execution_count": null,
   "metadata": {},
   "outputs": [],
   "source": [
    "# Mengecek centroid\n",
    "\n",
    "df.groupby('CLUSTER').mean()"
   ]
  },
  {
   "cell_type": "markdown",
   "metadata": {},
   "source": [
    "### Visualisasi"
   ]
  },
  {
   "cell_type": "markdown",
   "metadata": {},
   "source": [
    "Mari kita visualisasikan klaster dengan <i>scatter plot</i>."
   ]
  },
  {
   "cell_type": "code",
   "execution_count": null,
   "metadata": {},
   "outputs": [],
   "source": [
    "# Visualisasi klaster\n",
    "\n",
    "plt.figure(figsize=(12,8))\n",
    "\n",
    "area = df['CREDIT_LIMIT']/50\n",
    "plt.scatter(df['BALANCE'], df['PAYMENTS'], s=area, c=df['CLUSTER'], cmap='coolwarm', alpha=0.7)\n",
    "plt.xlabel('Balance', fontsize=18)\n",
    "plt.ylabel('Payments', fontsize=16)\n",
    "\n",
    "plt.show()"
   ]
  },
  {
   "cell_type": "markdown",
   "metadata": {},
   "source": [
    "Kita juga dapat membuat visualisasi 3D dengan <code>Axes3D</code> dari <code>mpl_toolkits.mplot3d</code> seperti di bawah ini."
   ]
  },
  {
   "cell_type": "code",
   "execution_count": null,
   "metadata": {},
   "outputs": [],
   "source": [
    "from mpl_toolkits.mplot3d import Axes3D \n",
    "\n",
    "fig = plt.figure(1, figsize=(8, 6))\n",
    "plt.clf()\n",
    "ax = Axes3D(fig, rect=[0, 0, .95, 1], elev=48, azim=134)\n",
    "\n",
    "plt.cla()\n",
    "ax.set_xlabel('PURCHASES')\n",
    "ax.set_ylabel('BALANCE')\n",
    "ax.set_zlabel('PURCHASES_TRX')\n",
    "\n",
    "ax.scatter(df['PURCHASES'], df['BALANCE'], df['PURCHASES_TRX'], c=df['CLUSTER'], cmap='coolwarm')\n"
   ]
  },
  {
   "cell_type": "markdown",
   "metadata": {},
   "source": [
    "Dari hasil di atas, dapat kita simpulkan untuk masing-masing klaster (0, 1, dan 2)\n",
    "\n",
    "* __Klaster 0 (Biru) :__ Bersaldo rendah serta sedikit melakukan pembelian dan memiliki jumlah total pengeluaran untuk pembelian yang juga rendah.\n",
    "* __Klaster 1 (Abu-abu) :__  Bersaldo sedang hingga tingi, intensitas pembelian dari rendah hingga sedang, dan total pengeluaran untuk pembelian juga dari rendah hingga sedang.\n",
    "* __Klaster 2 (Merah) :__  Saldo, jumlah pembelian, dan total pengeluaran dapat dikatakan dari level sedang hingga tinggi.\n",
    "\n",
    "Definisi tiap klaster bisa berbeda tergantung pada variabel apa yang ingin kita lihat. Anda dapat mendefinisikannya sendiri."
   ]
  },
  {
   "cell_type": "markdown",
   "metadata": {},
   "source": [
    "<hr>"
   ]
  },
  {
   "cell_type": "markdown",
   "metadata": {},
   "source": [
    "Copyright @ <a href=\"https://ilmudatapy.com/\">ilmudatapy.com</a>"
   ]
  }
 ],
 "metadata": {
  "kernelspec": {
   "display_name": "Python 3",
   "language": "python",
   "name": "python3"
  },
  "language_info": {
   "codemirror_mode": {
    "name": "ipython",
    "version": 3
   },
   "file_extension": ".py",
   "mimetype": "text/x-python",
   "name": "python",
   "nbconvert_exporter": "python",
   "pygments_lexer": "ipython3",
   "version": "3.7.3"
  }
 },
 "nbformat": 4,
 "nbformat_minor": 2
}
