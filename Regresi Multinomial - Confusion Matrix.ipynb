{
 "cells": [
  {
   "cell_type": "markdown",
   "metadata": {},
   "source": [
    "<center><h1>Indra Rusyadi Adiwijaya<br/>20921001<br/>Laporan Kemajuan Riset XII<br/>\n",
    "ANALISIS REGRESI LOGISTIK MULTINOMIAL</h1><br/>SK6091 Independent Research in Computational Science 1<br/>19 November 2021</center>"
   ]
  },
  {
   "cell_type": "markdown",
   "metadata": {},
   "source": [
    "<center><h1>SVM CLASSIFICATION DAN MENAMPILKAN PREDICTION REPORT DENGAN CONFUSION MATRIX PADA DATA MONITORING & EVALUASI TENANT BIT BPPT</h1></center>\n",
    "<hr>"
   ]
  },
  {
   "cell_type": "markdown",
   "metadata": {},
   "source": [
    "## Load dataset"
   ]
  },
  {
   "cell_type": "markdown",
   "metadata": {},
   "source": [
    "Dataset yang digunakan adalah dataset yang berasal dari data MONEV tenant Balai Inkubator Teknologi BPPT menggunakan Balanced Scorecard (BSC) yakni metode pengukuran hasil kerja yang digunakan perusahaan atau biasa disebut dengan strategi menajemen. Informasi tiap kolom sebagai berikut:\n",
    "\n",
    "__Informasi Atribut pada Data Tersebut :__\n",
    "\n",
    "1. __Nama Tenant__\n",
    "2. __Bidang Teknologi__ \n",
    "3. __Omset__\n",
    "4. __Jumlah Tenaga Kerja__\n",
    "5. __Score MONEV__\n",
    "6. __Predikat MONEV__"
   ]
  },
  {
   "cell_type": "code",
   "execution_count": 1,
   "metadata": {},
   "outputs": [],
   "source": [
    "import seaborn as sns #Untuk memanggil data \n",
    "import pandas as pd\n",
    "import numpy as np\n",
    "import matplotlib.pyplot as plt\n",
    "from sklearn.metrics import classification_report #Untuk mengukur pemodelan klasifikasi (F1 score, Sensitivity, Recall dsb) \n",
    "from sklearn.metrics import accuracy_score #Untuk mengukur baik tidaknya model yang digunakan \n",
    "from sklearn.model_selection import train_test_split #Split data training dan data test\n",
    "from sklearn.linear_model import LogisticRegression #Menampung pemodelan regresi logistic\n",
    "from sklearn import svm\n",
    "from sklearn.metrics import confusion_matrix"
   ]
  },
  {
   "cell_type": "code",
   "execution_count": 2,
   "metadata": {
    "scrolled": true
   },
   "outputs": [
    {
     "data": {
      "text/html": [
       "<div>\n",
       "<style scoped>\n",
       "    .dataframe tbody tr th:only-of-type {\n",
       "        vertical-align: middle;\n",
       "    }\n",
       "\n",
       "    .dataframe tbody tr th {\n",
       "        vertical-align: top;\n",
       "    }\n",
       "\n",
       "    .dataframe thead th {\n",
       "        text-align: right;\n",
       "    }\n",
       "</style>\n",
       "<table border=\"1\" class=\"dataframe\">\n",
       "  <thead>\n",
       "    <tr style=\"text-align: right;\">\n",
       "      <th></th>\n",
       "      <th>Nama.Tenant</th>\n",
       "      <th>Bidang.Teknologi</th>\n",
       "      <th>Omset</th>\n",
       "      <th>Tenaga_Kerja</th>\n",
       "      <th>Score</th>\n",
       "      <th>Predikat</th>\n",
       "    </tr>\n",
       "  </thead>\n",
       "  <tbody>\n",
       "    <tr>\n",
       "      <th>0</th>\n",
       "      <td>CV. Sentra Susu Cipageuran</td>\n",
       "      <td>Pertanian &amp; Tahan Pangan</td>\n",
       "      <td>360000000</td>\n",
       "      <td>5</td>\n",
       "      <td>190</td>\n",
       "      <td>FAIR</td>\n",
       "    </tr>\n",
       "    <tr>\n",
       "      <th>1</th>\n",
       "      <td>CV Gerbang Organik Nusantara</td>\n",
       "      <td>Pertanian &amp; Tahan Pangan</td>\n",
       "      <td>250000000</td>\n",
       "      <td>3</td>\n",
       "      <td>159</td>\n",
       "      <td>FAIR</td>\n",
       "    </tr>\n",
       "    <tr>\n",
       "      <th>2</th>\n",
       "      <td>PT. Agro Teknologi Pintar</td>\n",
       "      <td>ICT</td>\n",
       "      <td>230000000</td>\n",
       "      <td>5</td>\n",
       "      <td>296</td>\n",
       "      <td>EXCELLENT</td>\n",
       "    </tr>\n",
       "    <tr>\n",
       "      <th>3</th>\n",
       "      <td>PT. Mikata Sukses Mandiri</td>\n",
       "      <td>Pertanian &amp; Tahan Pangan</td>\n",
       "      <td>3600000000</td>\n",
       "      <td>5</td>\n",
       "      <td>310</td>\n",
       "      <td>EXCELLENT</td>\n",
       "    </tr>\n",
       "    <tr>\n",
       "      <th>4</th>\n",
       "      <td>PT. Adhiguna Jaya Laboratorium</td>\n",
       "      <td>Pertanian &amp; Tahan Pangan</td>\n",
       "      <td>500000000</td>\n",
       "      <td>5</td>\n",
       "      <td>223</td>\n",
       "      <td>GOOD</td>\n",
       "    </tr>\n",
       "    <tr>\n",
       "      <th>...</th>\n",
       "      <td>...</td>\n",
       "      <td>...</td>\n",
       "      <td>...</td>\n",
       "      <td>...</td>\n",
       "      <td>...</td>\n",
       "      <td>...</td>\n",
       "    </tr>\n",
       "    <tr>\n",
       "      <th>72</th>\n",
       "      <td>CV. Mabol Store</td>\n",
       "      <td>Pertanian &amp; Tahan Pangan</td>\n",
       "      <td>17880924</td>\n",
       "      <td>10</td>\n",
       "      <td>133</td>\n",
       "      <td>DROP OUT</td>\n",
       "    </tr>\n",
       "    <tr>\n",
       "      <th>73</th>\n",
       "      <td>PT Bali Lengis Alus</td>\n",
       "      <td>Pertanian &amp; Tahan Pangan</td>\n",
       "      <td>28539126</td>\n",
       "      <td>5</td>\n",
       "      <td>93</td>\n",
       "      <td>DROP OUT</td>\n",
       "    </tr>\n",
       "    <tr>\n",
       "      <th>74</th>\n",
       "      <td>MAS Food</td>\n",
       "      <td>Pertanian &amp; Tahan Pangan</td>\n",
       "      <td>38806530</td>\n",
       "      <td>10</td>\n",
       "      <td>155</td>\n",
       "      <td>FAIR</td>\n",
       "    </tr>\n",
       "    <tr>\n",
       "      <th>75</th>\n",
       "      <td>Sentosa Quail Farm</td>\n",
       "      <td>Pertanian &amp; Tahan Pangan</td>\n",
       "      <td>8627720</td>\n",
       "      <td>4</td>\n",
       "      <td>184</td>\n",
       "      <td>FAIR</td>\n",
       "    </tr>\n",
       "    <tr>\n",
       "      <th>76</th>\n",
       "      <td>PT. Tristania Vegetasi Indonesia</td>\n",
       "      <td>Material Maju</td>\n",
       "      <td>16997291</td>\n",
       "      <td>7</td>\n",
       "      <td>136</td>\n",
       "      <td>DROP OUT</td>\n",
       "    </tr>\n",
       "  </tbody>\n",
       "</table>\n",
       "<p>77 rows × 6 columns</p>\n",
       "</div>"
      ],
      "text/plain": [
       "                         Nama.Tenant          Bidang.Teknologi       Omset  \\\n",
       "0         CV. Sentra Susu Cipageuran  Pertanian & Tahan Pangan   360000000   \n",
       "1       CV Gerbang Organik Nusantara  Pertanian & Tahan Pangan   250000000   \n",
       "2          PT. Agro Teknologi Pintar                       ICT   230000000   \n",
       "3          PT. Mikata Sukses Mandiri  Pertanian & Tahan Pangan  3600000000   \n",
       "4     PT. Adhiguna Jaya Laboratorium  Pertanian & Tahan Pangan   500000000   \n",
       "..                               ...                       ...         ...   \n",
       "72                  CV. Mabol Store   Pertanian & Tahan Pangan    17880924   \n",
       "73               PT Bali Lengis Alus  Pertanian & Tahan Pangan    28539126   \n",
       "74                          MAS Food  Pertanian & Tahan Pangan    38806530   \n",
       "75                Sentosa Quail Farm  Pertanian & Tahan Pangan     8627720   \n",
       "76  PT. Tristania Vegetasi Indonesia             Material Maju    16997291   \n",
       "\n",
       "    Tenaga_Kerja  Score   Predikat  \n",
       "0              5    190       FAIR  \n",
       "1              3    159       FAIR  \n",
       "2              5    296  EXCELLENT  \n",
       "3              5    310  EXCELLENT  \n",
       "4              5    223       GOOD  \n",
       "..           ...    ...        ...  \n",
       "72            10    133   DROP OUT  \n",
       "73             5     93   DROP OUT  \n",
       "74            10    155       FAIR  \n",
       "75             4    184       FAIR  \n",
       "76             7    136   DROP OUT  \n",
       "\n",
       "[77 rows x 6 columns]"
      ]
     },
     "execution_count": 2,
     "metadata": {},
     "output_type": "execute_result"
    }
   ],
   "source": [
    "data = pd.read_csv(\"datasets/bit.csv\")\n",
    "#data= sns.load_dataset(\"tenant_bit\")\n",
    "data"
   ]
  },
  {
   "cell_type": "code",
   "execution_count": 3,
   "metadata": {
    "scrolled": true
   },
   "outputs": [
    {
     "name": "stdout",
     "output_type": "stream",
     "text": [
      "<class 'pandas.core.frame.DataFrame'>\n",
      "RangeIndex: 77 entries, 0 to 76\n",
      "Data columns (total 6 columns):\n",
      " #   Column            Non-Null Count  Dtype \n",
      "---  ------            --------------  ----- \n",
      " 0   Nama.Tenant       77 non-null     object\n",
      " 1   Bidang.Teknologi  77 non-null     object\n",
      " 2   Omset             77 non-null     int64 \n",
      " 3   Tenaga_Kerja      77 non-null     int64 \n",
      " 4   Score             77 non-null     int64 \n",
      " 5   Predikat          77 non-null     object\n",
      "dtypes: int64(3), object(3)\n",
      "memory usage: 3.7+ KB\n"
     ]
    }
   ],
   "source": [
    "data.info()"
   ]
  },
  {
   "cell_type": "code",
   "execution_count": 4,
   "metadata": {
    "scrolled": true
   },
   "outputs": [],
   "source": [
    "# Mengubah tipe data Bidang Teknologi & Predikat Kelulusan menjadi category\n",
    "\n",
    "data['Bidang.Teknologi'] = data['Bidang.Teknologi'].astype('category')\n",
    "data['Predikat'] = data['Predikat'].astype('category')\n",
    "#data['Tenaga.Kerja'] = data['Tenaga.Kerja'].astype('int64')\n",
    "#data_obj = data.select_dtypes(include='object').copy()\n",
    "#data_obj.head()"
   ]
  },
  {
   "cell_type": "code",
   "execution_count": 5,
   "metadata": {
    "scrolled": true
   },
   "outputs": [
    {
     "data": {
      "text/plain": [
       "CategoricalDtype(categories=['Energi', 'Farmasi', 'Hankam', 'ICT', 'Kreatif',\n",
       "                  'Material Maju', 'Pertanian & Tahan Pangan'],\n",
       ", ordered=False)"
      ]
     },
     "execution_count": 5,
     "metadata": {},
     "output_type": "execute_result"
    }
   ],
   "source": [
    "# Mengecek tipe data kolom Bidang Teknologi\n",
    "\n",
    "data['Bidang.Teknologi'].dtype"
   ]
  },
  {
   "cell_type": "code",
   "execution_count": 6,
   "metadata": {
    "scrolled": true
   },
   "outputs": [
    {
     "data": {
      "text/plain": [
       "CategoricalDtype(categories=['DROP OUT', 'EXCELLENT', 'FAIR', 'GOOD', 'VERY GOOD'], ordered=False)"
      ]
     },
     "execution_count": 6,
     "metadata": {},
     "output_type": "execute_result"
    }
   ],
   "source": [
    "# Mengecek tipe data kolom Predikat\n",
    "\n",
    "data['Predikat'].dtype"
   ]
  },
  {
   "cell_type": "code",
   "execution_count": 7,
   "metadata": {
    "scrolled": false
   },
   "outputs": [
    {
     "data": {
      "text/html": [
       "<div>\n",
       "<style scoped>\n",
       "    .dataframe tbody tr th:only-of-type {\n",
       "        vertical-align: middle;\n",
       "    }\n",
       "\n",
       "    .dataframe tbody tr th {\n",
       "        vertical-align: top;\n",
       "    }\n",
       "\n",
       "    .dataframe thead th {\n",
       "        text-align: right;\n",
       "    }\n",
       "</style>\n",
       "<table border=\"1\" class=\"dataframe\">\n",
       "  <thead>\n",
       "    <tr style=\"text-align: right;\">\n",
       "      <th></th>\n",
       "      <th>Nama.Tenant</th>\n",
       "      <th>Bidang.Teknologi</th>\n",
       "      <th>Omset</th>\n",
       "      <th>Tenaga_Kerja</th>\n",
       "      <th>Score</th>\n",
       "      <th>Predikat</th>\n",
       "      <th>BidTek-encode</th>\n",
       "    </tr>\n",
       "  </thead>\n",
       "  <tbody>\n",
       "    <tr>\n",
       "      <th>0</th>\n",
       "      <td>CV. Sentra Susu Cipageuran</td>\n",
       "      <td>Pertanian &amp; Tahan Pangan</td>\n",
       "      <td>360000000</td>\n",
       "      <td>5</td>\n",
       "      <td>190</td>\n",
       "      <td>FAIR</td>\n",
       "      <td>6</td>\n",
       "    </tr>\n",
       "    <tr>\n",
       "      <th>1</th>\n",
       "      <td>CV Gerbang Organik Nusantara</td>\n",
       "      <td>Pertanian &amp; Tahan Pangan</td>\n",
       "      <td>250000000</td>\n",
       "      <td>3</td>\n",
       "      <td>159</td>\n",
       "      <td>FAIR</td>\n",
       "      <td>6</td>\n",
       "    </tr>\n",
       "    <tr>\n",
       "      <th>2</th>\n",
       "      <td>PT. Agro Teknologi Pintar</td>\n",
       "      <td>ICT</td>\n",
       "      <td>230000000</td>\n",
       "      <td>5</td>\n",
       "      <td>296</td>\n",
       "      <td>EXCELLENT</td>\n",
       "      <td>3</td>\n",
       "    </tr>\n",
       "    <tr>\n",
       "      <th>3</th>\n",
       "      <td>PT. Mikata Sukses Mandiri</td>\n",
       "      <td>Pertanian &amp; Tahan Pangan</td>\n",
       "      <td>3600000000</td>\n",
       "      <td>5</td>\n",
       "      <td>310</td>\n",
       "      <td>EXCELLENT</td>\n",
       "      <td>6</td>\n",
       "    </tr>\n",
       "    <tr>\n",
       "      <th>4</th>\n",
       "      <td>PT. Adhiguna Jaya Laboratorium</td>\n",
       "      <td>Pertanian &amp; Tahan Pangan</td>\n",
       "      <td>500000000</td>\n",
       "      <td>5</td>\n",
       "      <td>223</td>\n",
       "      <td>GOOD</td>\n",
       "      <td>6</td>\n",
       "    </tr>\n",
       "  </tbody>\n",
       "</table>\n",
       "</div>"
      ],
      "text/plain": [
       "                      Nama.Tenant          Bidang.Teknologi       Omset  \\\n",
       "0      CV. Sentra Susu Cipageuran  Pertanian & Tahan Pangan   360000000   \n",
       "1    CV Gerbang Organik Nusantara  Pertanian & Tahan Pangan   250000000   \n",
       "2       PT. Agro Teknologi Pintar                       ICT   230000000   \n",
       "3       PT. Mikata Sukses Mandiri  Pertanian & Tahan Pangan  3600000000   \n",
       "4  PT. Adhiguna Jaya Laboratorium  Pertanian & Tahan Pangan   500000000   \n",
       "\n",
       "   Tenaga_Kerja  Score   Predikat  BidTek-encode  \n",
       "0             5    190       FAIR              6  \n",
       "1             3    159       FAIR              6  \n",
       "2             5    296  EXCELLENT              3  \n",
       "3             5    310  EXCELLENT              6  \n",
       "4             5    223       GOOD              6  "
      ]
     },
     "execution_count": 7,
     "metadata": {},
     "output_type": "execute_result"
    }
   ],
   "source": [
    "# Mengaplikasikan Endcoding kolom Bidang Teknologi menggunakan .cat.codes\n",
    "\n",
    "data['BidTek-encode'] = data['Bidang.Teknologi'].cat.codes\n",
    "data.head()"
   ]
  },
  {
   "cell_type": "code",
   "execution_count": 8,
   "metadata": {},
   "outputs": [
    {
     "name": "stdout",
     "output_type": "stream",
     "text": [
      "<class 'pandas.core.frame.DataFrame'>\n",
      "RangeIndex: 77 entries, 0 to 76\n",
      "Data columns (total 7 columns):\n",
      " #   Column            Non-Null Count  Dtype   \n",
      "---  ------            --------------  -----   \n",
      " 0   Nama.Tenant       77 non-null     object  \n",
      " 1   Bidang.Teknologi  77 non-null     category\n",
      " 2   Omset             77 non-null     int64   \n",
      " 3   Tenaga_Kerja      77 non-null     int64   \n",
      " 4   Score             77 non-null     int64   \n",
      " 5   Predikat          77 non-null     category\n",
      " 6   BidTek-encode     77 non-null     int8    \n",
      "dtypes: category(2), int64(3), int8(1), object(1)\n",
      "memory usage: 3.3+ KB\n"
     ]
    }
   ],
   "source": [
    "data.info()"
   ]
  },
  {
   "cell_type": "code",
   "execution_count": 9,
   "metadata": {
    "scrolled": false
   },
   "outputs": [
    {
     "name": "stdout",
     "output_type": "stream",
     "text": [
      "Berikut ini tampilan data X\n",
      "   BidTek-encode  Tenaga_Kerja       Omset\n",
      "0              6             5   360000000\n",
      "1              6             3   250000000\n",
      "2              3             5   230000000\n",
      "3              6             5  3600000000\n",
      "4              6             5   500000000\n",
      "\n",
      "Berikut ini tampilan data Y\n",
      "0         FAIR\n",
      "1         FAIR\n",
      "2    EXCELLENT\n",
      "3    EXCELLENT\n",
      "4         GOOD\n",
      "Name: Predikat, dtype: category\n",
      "Categories (5, object): ['DROP OUT', 'EXCELLENT', 'FAIR', 'GOOD', 'VERY GOOD']\n"
     ]
    }
   ],
   "source": [
    "#X=data.iloc[:, :-1] #Semua baris kecuali kolom paling kanan \":-1\"\n",
    "X=data[['BidTek-encode','Tenaga_Kerja','Omset']]\n",
    "#X=data[['Score']]\n",
    "y=data['Predikat'] #Menagmbil kolom \"Predikat\"\n",
    "print(\"Berikut ini tampilan data X\")\n",
    "print(X.head()) #Variabel Independen (X)\n",
    "print(\"\")\n",
    "print(\"Berikut ini tampilan data Y\")\n",
    "print(y.head()) #Variabel Dependen (Y)"
   ]
  },
  {
   "cell_type": "code",
   "execution_count": 10,
   "metadata": {
    "scrolled": true
   },
   "outputs": [],
   "source": [
    "X_train,x_test,y_train,y_test=train_test_split(X,y,test_size=0.3) #Data train 70% Data Test 30%"
   ]
  },
  {
   "cell_type": "code",
   "execution_count": 11,
   "metadata": {
    "scrolled": true
   },
   "outputs": [
    {
     "data": {
      "text/plain": [
       "LogisticRegression()"
      ]
     },
     "execution_count": 11,
     "metadata": {},
     "output_type": "execute_result"
    }
   ],
   "source": [
    "#data.replace([np.inf, -np.inf], np.nan, inplace=True)\n",
    "#data.fillna(999, inplace=True)\n",
    "\n",
    "model=LogisticRegression(multi_class='auto') #Membentuk model regresi logstik, \"auto\" supaya python mendeteksi\n",
    "model.fit(X_train,y_train) #Fit model logistik regresion data train 70%\n",
    "\n",
    "\n",
    "#data.fillna(df.mean(), inplace=True)\n"
   ]
  },
  {
   "cell_type": "code",
   "execution_count": 12,
   "metadata": {
    "scrolled": true
   },
   "outputs": [
    {
     "name": "stdout",
     "output_type": "stream",
     "text": [
      "Berikut ini tampilan data x_test\n",
      "    BidTek-encode  Tenaga_Kerja       Omset\n",
      "69              3             1    46805730\n",
      "55              6            12  5000000000\n",
      "76              5             7    16997291\n",
      "33              5             5    34113292\n",
      "13              5             3    32000000\n"
     ]
    }
   ],
   "source": [
    "print(\"Berikut ini tampilan data x_test\")\n",
    "print(x_test.head()) "
   ]
  },
  {
   "cell_type": "code",
   "execution_count": 13,
   "metadata": {
    "scrolled": true
   },
   "outputs": [
    {
     "data": {
      "text/plain": [
       "array([[0.2017194 , 0.20337078, 0.19902839, 0.19878191, 0.19709952],\n",
       "       [0.25508804, 0.60945567, 0.06076044, 0.05322696, 0.02146889],\n",
       "       [0.20062561, 0.20122049, 0.19964952, 0.19955969, 0.19894469],\n",
       "       [0.20125419, 0.20245365, 0.19929387, 0.19911396, 0.19788432],\n",
       "       [0.20117666, 0.20230117, 0.19933793, 0.19916912, 0.19801512]])"
      ]
     },
     "execution_count": 13,
     "metadata": {},
     "output_type": "execute_result"
    }
   ],
   "source": [
    "model.predict_proba(x_test)[0:5] #Prediksi Probabilitas x_test di 5 data pertama"
   ]
  },
  {
   "cell_type": "code",
   "execution_count": 14,
   "metadata": {
    "scrolled": true
   },
   "outputs": [
    {
     "data": {
      "text/plain": [
       "array(['EXCELLENT', 'EXCELLENT', 'EXCELLENT', 'EXCELLENT', 'EXCELLENT',\n",
       "       'EXCELLENT', 'EXCELLENT', 'EXCELLENT', 'EXCELLENT', 'EXCELLENT',\n",
       "       'EXCELLENT', 'EXCELLENT', 'EXCELLENT', 'EXCELLENT', 'EXCELLENT',\n",
       "       'EXCELLENT', 'EXCELLENT', 'EXCELLENT', 'EXCELLENT', 'EXCELLENT',\n",
       "       'EXCELLENT', 'EXCELLENT', 'EXCELLENT', 'EXCELLENT'], dtype=object)"
      ]
     },
     "execution_count": 14,
     "metadata": {},
     "output_type": "execute_result"
    }
   ],
   "source": [
    "predictions=model.predict(x_test)\n",
    "predictions"
   ]
  },
  {
   "cell_type": "code",
   "execution_count": 15,
   "metadata": {
    "scrolled": false
   },
   "outputs": [
    {
     "name": "stdout",
     "output_type": "stream",
     "text": [
      "              precision    recall  f1-score   support\n",
      "\n",
      "    DROP OUT       0.00      0.00      0.00         3\n",
      "   EXCELLENT       0.33      1.00      0.50         8\n",
      "        FAIR       0.00      0.00      0.00         5\n",
      "        GOOD       0.00      0.00      0.00         4\n",
      "   VERY GOOD       0.00      0.00      0.00         4\n",
      "\n",
      "    accuracy                           0.33        24\n",
      "   macro avg       0.07      0.20      0.10        24\n",
      "weighted avg       0.11      0.33      0.17        24\n",
      "\n",
      "akurasi hasil prediksi adalah sebesar:\n",
      "0.3333333333333333\n"
     ]
    },
    {
     "name": "stderr",
     "output_type": "stream",
     "text": [
      "C:\\Users\\Indra_BIT\\anaconda3\\lib\\site-packages\\sklearn\\metrics\\_classification.py:1245: UndefinedMetricWarning: Precision and F-score are ill-defined and being set to 0.0 in labels with no predicted samples. Use `zero_division` parameter to control this behavior.\n",
      "  _warn_prf(average, modifier, msg_start, len(result))\n",
      "C:\\Users\\Indra_BIT\\anaconda3\\lib\\site-packages\\sklearn\\metrics\\_classification.py:1245: UndefinedMetricWarning: Precision and F-score are ill-defined and being set to 0.0 in labels with no predicted samples. Use `zero_division` parameter to control this behavior.\n",
      "  _warn_prf(average, modifier, msg_start, len(result))\n",
      "C:\\Users\\Indra_BIT\\anaconda3\\lib\\site-packages\\sklearn\\metrics\\_classification.py:1245: UndefinedMetricWarning: Precision and F-score are ill-defined and being set to 0.0 in labels with no predicted samples. Use `zero_division` parameter to control this behavior.\n",
      "  _warn_prf(average, modifier, msg_start, len(result))\n"
     ]
    }
   ],
   "source": [
    "print(classification_report(y_test,predictions))\n",
    "print(\"akurasi hasil prediksi adalah sebesar:\")\n",
    "print(accuracy_score(y_test,predictions))"
   ]
  },
  {
   "cell_type": "markdown",
   "metadata": {},
   "source": [
    "SVM classifier akan dibuat terlebih dahulu dengan menggunakan library svm. Kemudian classification report dapat ditampilkan dengan library classification_report. Caranya adalah sebagai berikut:"
   ]
  },
  {
   "cell_type": "code",
   "execution_count": 16,
   "metadata": {},
   "outputs": [],
   "source": [
    "#menggunakan SVM library untuk membuat SVM classifier\n",
    "#classifier = svm.SVC(kernel = 'linear')\n",
    " \n",
    "#memasukkan training data kedalam classifier\n",
    "#classifier.fit(X_train, y_train)\n",
    " \n",
    "#memasukkan testing data ke variabel y_predict\n",
    "#y_predict = classifier.predict(X_test)\n",
    " \n",
    "#menampilkan classification report\n",
    "#print(classification_report(y_test, y_predict))\n"
   ]
  },
  {
   "cell_type": "markdown",
   "metadata": {},
   "source": [
    "Menampilkan detail dari hasil prediksi yang diberikan oleh classification model yang di buat dengan confusion matrix. Caranya adalah sebagai berikut:"
   ]
  },
  {
   "cell_type": "code",
   "execution_count": 17,
   "metadata": {},
   "outputs": [
    {
     "data": {
      "text/plain": [
       "Text(69.0, 0.5, 'Truth')"
      ]
     },
     "execution_count": 17,
     "metadata": {},
     "output_type": "execute_result"
    },
    {
     "data": {
      "image/png": "[encoded data removed]",
      "text/plain": [
       "<Figure size 720x504 with 2 Axes>"
      ]
     },
     "metadata": {
      "needs_background": "light"
     },
     "output_type": "display_data"
    }
   ],
   "source": [
    "#mengimplementasikan testing data dan hasil prediksi dalam confusion matrix\n",
    "cm = confusion_matrix(y_test, predictions)\n",
    " \n",
    "#membuat plotting confusion matrix\n",
    "%matplotlib inline\n",
    "plt.figure (figsize=(10,7))\n",
    "sns.heatmap(cm, annot=True)\n",
    "plt.xlabel('Predicted')\n",
    "plt.ylabel('Truth')"
   ]
  },
  {
   "cell_type": "markdown",
   "metadata": {},
   "source": [
    "<hr>"
   ]
  },
  {
   "cell_type": "markdown",
   "metadata": {},
   "source": [
    "Referensi @ <a href=\"https://ilmudatapy.com/\">ilmudatapy.com</a>"
   ]
  }
 ],
 "metadata": {
  "kernelspec": {
   "display_name": "Python 3",
   "language": "python",
   "name": "python3"
  },
  "language_info": {
   "codemirror_mode": {
    "name": "ipython",
    "version": 3
   },
   "file_extension": ".py",
   "mimetype": "text/x-python",
   "name": "python",
   "nbconvert_exporter": "python",
   "pygments_lexer": "ipython3",
   "version": "3.8.8"
  }
 },
 "nbformat": 4,
 "nbformat_minor": 2
}
