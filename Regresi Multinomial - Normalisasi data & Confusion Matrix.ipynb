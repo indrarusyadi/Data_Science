{
 "cells": [
  {
   "cell_type": "markdown",
   "metadata": {},
   "source": [
    "<center><h1>Indra Rusyadi Adiwijaya<br/>20921001<br/>Laporan Kemajuan Riset XIII<br/>\n",
    "NORMALISASI DATA pada ANALISIS REGRESI LOGISTIK MULTINOMIAL</h1><br/>SK6091 Independent Research in Computational Science 1<br/>26 November 2021</center>"
   ]
  },
  {
   "cell_type": "markdown",
   "metadata": {},
   "source": [
    "<center><h1>NORMALISASI DATA DAN MENAMPILKAN PREDICTION REPORT DENGAN CONFUSION MATRIX PADA DATA MONITORING & EVALUASI TENANT BIT BPPT</h1></center>\n",
    "<hr>"
   ]
  },
  {
   "cell_type": "markdown",
   "metadata": {},
   "source": [
    "## Normalisasi Data"
   ]
  },
  {
   "cell_type": "markdown",
   "metadata": {},
   "source": [
    "__Data scaling / Normalisasi Data__ adalah proses mentranformasi nilai dari beberapa kolom/variabel numerik ke dalam range yang mirip. Saat mengolah data, bukan hal yang jarang terjadi jika rentang nilai antara variabel tersebut sangat jauh. Data kasus penelitian ini nilai pada variabel omset, jumlah tenaga kerja dan score MONEV mempunyai rentang nilai yang bisa dikatakan jauh, nilai variabel omset berkisar nilai jutaan hingga ratusan juta sedangkan jumlah tenaga kerja dan score MONEV berkisar puluhan hingga ratusan. Perbedaan range yang jauh tersebut dapat mempengaruhi hasil akurasi model machine learning. Karena itu, sebelum dilakukan proses modeling perlu melakukan scaling data agar hasil model machine learning menjadi lebih akurat, misalnya dengan\n",
    "mengubahnya ke dalam range tertentu. Pada penelitian ini dilakukan normalisasi data menggunakan Z-Score.  "
   ]
  },
  {
   "cell_type": "markdown",
   "metadata": {},
   "source": [
    "## Load dataset"
   ]
  },
  {
   "cell_type": "markdown",
   "metadata": {},
   "source": [
    "Dataset yang digunakan adalah dataset yang berasal dari data MONEV tenant Balai Inkubator Teknologi BPPT menggunakan Balanced Scorecard (BSC) yakni metode pengukuran hasil kerja yang digunakan perusahaan atau biasa disebut dengan strategi menajemen. Informasi tiap kolom sebagai berikut:\n",
    "\n",
    "__Informasi Atribut pada Data Tersebut :__\n",
    "\n",
    "1. __Nama Tenant__\n",
    "2. __Bidang Teknologi__ \n",
    "3. __Omset__\n",
    "4. __Jumlah Tenaga Kerja__\n",
    "5. __Score MONEV__\n",
    "6. __Predikat MONEV__"
   ]
  },
  {
   "cell_type": "code",
   "execution_count": 1,
   "metadata": {},
   "outputs": [],
   "source": [
    "import seaborn as sns #Untuk memanggil data \n",
    "import pandas as pd\n",
    "import numpy as np\n",
    "import matplotlib.pyplot as plt\n",
    "from sklearn.metrics import classification_report #Untuk mengukur pemodelan klasifikasi (F1 score, Sensitivity, Recall dsb) \n",
    "from sklearn.metrics import accuracy_score #Untuk mengukur baik tidaknya model yang digunakan \n",
    "from sklearn.model_selection import train_test_split #Split data training dan data test\n",
    "from sklearn.linear_model import LogisticRegression #Menampung pemodelan regresi logistic\n",
    "from sklearn import svm\n",
    "from sklearn.metrics import confusion_matrix"
   ]
  },
  {
   "cell_type": "code",
   "execution_count": 2,
   "metadata": {
    "scrolled": true
   },
   "outputs": [
    {
     "data": {
      "text/html": [
       "<div>\n",
       "<style scoped>\n",
       "    .dataframe tbody tr th:only-of-type {\n",
       "        vertical-align: middle;\n",
       "    }\n",
       "\n",
       "    .dataframe tbody tr th {\n",
       "        vertical-align: top;\n",
       "    }\n",
       "\n",
       "    .dataframe thead th {\n",
       "        text-align: right;\n",
       "    }\n",
       "</style>\n",
       "<table border=\"1\" class=\"dataframe\">\n",
       "  <thead>\n",
       "    <tr style=\"text-align: right;\">\n",
       "      <th></th>\n",
       "      <th>Nama.Tenant</th>\n",
       "      <th>Bidang.Teknologi</th>\n",
       "      <th>Omset</th>\n",
       "      <th>Tenaga_Kerja</th>\n",
       "      <th>Score</th>\n",
       "      <th>Predikat</th>\n",
       "    </tr>\n",
       "  </thead>\n",
       "  <tbody>\n",
       "    <tr>\n",
       "      <th>0</th>\n",
       "      <td>CV. Sentra Susu Cipageuran</td>\n",
       "      <td>Pertanian &amp; Tahan Pangan</td>\n",
       "      <td>360000000</td>\n",
       "      <td>5</td>\n",
       "      <td>190</td>\n",
       "      <td>FAIR</td>\n",
       "    </tr>\n",
       "    <tr>\n",
       "      <th>1</th>\n",
       "      <td>CV Gerbang Organik Nusantara</td>\n",
       "      <td>Pertanian &amp; Tahan Pangan</td>\n",
       "      <td>250000000</td>\n",
       "      <td>3</td>\n",
       "      <td>159</td>\n",
       "      <td>FAIR</td>\n",
       "    </tr>\n",
       "    <tr>\n",
       "      <th>2</th>\n",
       "      <td>PT. Agro Teknologi Pintar</td>\n",
       "      <td>ICT</td>\n",
       "      <td>230000000</td>\n",
       "      <td>5</td>\n",
       "      <td>296</td>\n",
       "      <td>EXCELLENT</td>\n",
       "    </tr>\n",
       "    <tr>\n",
       "      <th>3</th>\n",
       "      <td>PT. Mikata Sukses Mandiri</td>\n",
       "      <td>Pertanian &amp; Tahan Pangan</td>\n",
       "      <td>3600000000</td>\n",
       "      <td>5</td>\n",
       "      <td>310</td>\n",
       "      <td>EXCELLENT</td>\n",
       "    </tr>\n",
       "    <tr>\n",
       "      <th>4</th>\n",
       "      <td>PT. Adhiguna Jaya Laboratorium</td>\n",
       "      <td>Pertanian &amp; Tahan Pangan</td>\n",
       "      <td>500000000</td>\n",
       "      <td>5</td>\n",
       "      <td>223</td>\n",
       "      <td>GOOD</td>\n",
       "    </tr>\n",
       "    <tr>\n",
       "      <th>...</th>\n",
       "      <td>...</td>\n",
       "      <td>...</td>\n",
       "      <td>...</td>\n",
       "      <td>...</td>\n",
       "      <td>...</td>\n",
       "      <td>...</td>\n",
       "    </tr>\n",
       "    <tr>\n",
       "      <th>72</th>\n",
       "      <td>CV. Mabol Store</td>\n",
       "      <td>Pertanian &amp; Tahan Pangan</td>\n",
       "      <td>17880924</td>\n",
       "      <td>10</td>\n",
       "      <td>133</td>\n",
       "      <td>DROP OUT</td>\n",
       "    </tr>\n",
       "    <tr>\n",
       "      <th>73</th>\n",
       "      <td>PT Bali Lengis Alus</td>\n",
       "      <td>Pertanian &amp; Tahan Pangan</td>\n",
       "      <td>28539126</td>\n",
       "      <td>5</td>\n",
       "      <td>93</td>\n",
       "      <td>DROP OUT</td>\n",
       "    </tr>\n",
       "    <tr>\n",
       "      <th>74</th>\n",
       "      <td>MAS Food</td>\n",
       "      <td>Pertanian &amp; Tahan Pangan</td>\n",
       "      <td>38806530</td>\n",
       "      <td>10</td>\n",
       "      <td>155</td>\n",
       "      <td>FAIR</td>\n",
       "    </tr>\n",
       "    <tr>\n",
       "      <th>75</th>\n",
       "      <td>Sentosa Quail Farm</td>\n",
       "      <td>Pertanian &amp; Tahan Pangan</td>\n",
       "      <td>8627720</td>\n",
       "      <td>4</td>\n",
       "      <td>184</td>\n",
       "      <td>FAIR</td>\n",
       "    </tr>\n",
       "    <tr>\n",
       "      <th>76</th>\n",
       "      <td>PT. Tristania Vegetasi Indonesia</td>\n",
       "      <td>Material Maju</td>\n",
       "      <td>16997291</td>\n",
       "      <td>7</td>\n",
       "      <td>136</td>\n",
       "      <td>DROP OUT</td>\n",
       "    </tr>\n",
       "  </tbody>\n",
       "</table>\n",
       "<p>77 rows × 6 columns</p>\n",
       "</div>"
      ],
      "text/plain": [
       "                         Nama.Tenant          Bidang.Teknologi       Omset  \\\n",
       "0         CV. Sentra Susu Cipageuran  Pertanian & Tahan Pangan   360000000   \n",
       "1       CV Gerbang Organik Nusantara  Pertanian & Tahan Pangan   250000000   \n",
       "2          PT. Agro Teknologi Pintar                       ICT   230000000   \n",
       "3          PT. Mikata Sukses Mandiri  Pertanian & Tahan Pangan  3600000000   \n",
       "4     PT. Adhiguna Jaya Laboratorium  Pertanian & Tahan Pangan   500000000   \n",
       "..                               ...                       ...         ...   \n",
       "72                  CV. Mabol Store   Pertanian & Tahan Pangan    17880924   \n",
       "73               PT Bali Lengis Alus  Pertanian & Tahan Pangan    28539126   \n",
       "74                          MAS Food  Pertanian & Tahan Pangan    38806530   \n",
       "75                Sentosa Quail Farm  Pertanian & Tahan Pangan     8627720   \n",
       "76  PT. Tristania Vegetasi Indonesia             Material Maju    16997291   \n",
       "\n",
       "    Tenaga_Kerja  Score   Predikat  \n",
       "0              5    190       FAIR  \n",
       "1              3    159       FAIR  \n",
       "2              5    296  EXCELLENT  \n",
       "3              5    310  EXCELLENT  \n",
       "4              5    223       GOOD  \n",
       "..           ...    ...        ...  \n",
       "72            10    133   DROP OUT  \n",
       "73             5     93   DROP OUT  \n",
       "74            10    155       FAIR  \n",
       "75             4    184       FAIR  \n",
       "76             7    136   DROP OUT  \n",
       "\n",
       "[77 rows x 6 columns]"
      ]
     },
     "execution_count": 2,
     "metadata": {},
     "output_type": "execute_result"
    }
   ],
   "source": [
    "data = pd.read_csv(\"datasets/bit.csv\")\n",
    "#data= sns.load_dataset(\"tenant_bit\")\n",
    "data"
   ]
  },
  {
   "cell_type": "code",
   "execution_count": 3,
   "metadata": {
    "scrolled": true
   },
   "outputs": [
    {
     "name": "stdout",
     "output_type": "stream",
     "text": [
      "<class 'pandas.core.frame.DataFrame'>\n",
      "RangeIndex: 77 entries, 0 to 76\n",
      "Data columns (total 6 columns):\n",
      " #   Column            Non-Null Count  Dtype \n",
      "---  ------            --------------  ----- \n",
      " 0   Nama.Tenant       77 non-null     object\n",
      " 1   Bidang.Teknologi  77 non-null     object\n",
      " 2   Omset             77 non-null     int64 \n",
      " 3   Tenaga_Kerja      77 non-null     int64 \n",
      " 4   Score             77 non-null     int64 \n",
      " 5   Predikat          77 non-null     object\n",
      "dtypes: int64(3), object(3)\n",
      "memory usage: 3.7+ KB\n"
     ]
    }
   ],
   "source": [
    "data.info()"
   ]
  },
  {
   "cell_type": "code",
   "execution_count": 4,
   "metadata": {
    "scrolled": true
   },
   "outputs": [],
   "source": [
    "# Mengubah tipe data Bidang Teknologi & Predikat Kelulusan menjadi category\n",
    "\n",
    "data['Bidang.Teknologi'] = data['Bidang.Teknologi'].astype('category')\n",
    "data['Predikat'] = data['Predikat'].astype('category')\n",
    "#data['Tenaga.Kerja'] = data['Tenaga.Kerja'].astype('int64')\n",
    "#data_obj = data.select_dtypes(include='object').copy()\n",
    "#data_obj.head()"
   ]
  },
  {
   "cell_type": "code",
   "execution_count": 5,
   "metadata": {
    "scrolled": true
   },
   "outputs": [
    {
     "data": {
      "text/plain": [
       "CategoricalDtype(categories=['Energi', 'Farmasi', 'Hankam', 'ICT', 'Kreatif',\n",
       "                  'Material Maju', 'Pertanian & Tahan Pangan'],\n",
       ", ordered=False)"
      ]
     },
     "execution_count": 5,
     "metadata": {},
     "output_type": "execute_result"
    }
   ],
   "source": [
    "# Mengecek tipe data kolom Bidang Teknologi\n",
    "\n",
    "data['Bidang.Teknologi'].dtype"
   ]
  },
  {
   "cell_type": "code",
   "execution_count": 7,
   "metadata": {
    "scrolled": true
   },
   "outputs": [
    {
     "data": {
      "text/plain": [
       "CategoricalDtype(categories=['DROP OUT', 'EXCELLENT', 'FAIR', 'GOOD', 'VERY GOOD'], ordered=False)"
      ]
     },
     "execution_count": 7,
     "metadata": {},
     "output_type": "execute_result"
    }
   ],
   "source": [
    "# Mengecek tipe data kolom Predikat\n",
    "\n",
    "data['Predikat'].dtype"
   ]
  },
  {
   "cell_type": "code",
   "execution_count": 19,
   "metadata": {
    "scrolled": false
   },
   "outputs": [
    {
     "data": {
      "text/html": [
       "<div>\n",
       "<style scoped>\n",
       "    .dataframe tbody tr th:only-of-type {\n",
       "        vertical-align: middle;\n",
       "    }\n",
       "\n",
       "    .dataframe tbody tr th {\n",
       "        vertical-align: top;\n",
       "    }\n",
       "\n",
       "    .dataframe thead th {\n",
       "        text-align: right;\n",
       "    }\n",
       "</style>\n",
       "<table border=\"1\" class=\"dataframe\">\n",
       "  <thead>\n",
       "    <tr style=\"text-align: right;\">\n",
       "      <th></th>\n",
       "      <th>Nama.Tenant</th>\n",
       "      <th>Bidang.Teknologi</th>\n",
       "      <th>Omset</th>\n",
       "      <th>Tenaga_Kerja</th>\n",
       "      <th>Score</th>\n",
       "      <th>Predikat</th>\n",
       "      <th>BidTek-encode</th>\n",
       "      <th>Predikat-encode</th>\n",
       "    </tr>\n",
       "  </thead>\n",
       "  <tbody>\n",
       "    <tr>\n",
       "      <th>0</th>\n",
       "      <td>CV. Sentra Susu Cipageuran</td>\n",
       "      <td>Pertanian &amp; Tahan Pangan</td>\n",
       "      <td>360000000</td>\n",
       "      <td>5</td>\n",
       "      <td>190</td>\n",
       "      <td>FAIR</td>\n",
       "      <td>6</td>\n",
       "      <td>2</td>\n",
       "    </tr>\n",
       "    <tr>\n",
       "      <th>1</th>\n",
       "      <td>CV Gerbang Organik Nusantara</td>\n",
       "      <td>Pertanian &amp; Tahan Pangan</td>\n",
       "      <td>250000000</td>\n",
       "      <td>3</td>\n",
       "      <td>159</td>\n",
       "      <td>FAIR</td>\n",
       "      <td>6</td>\n",
       "      <td>2</td>\n",
       "    </tr>\n",
       "    <tr>\n",
       "      <th>2</th>\n",
       "      <td>PT. Agro Teknologi Pintar</td>\n",
       "      <td>ICT</td>\n",
       "      <td>230000000</td>\n",
       "      <td>5</td>\n",
       "      <td>296</td>\n",
       "      <td>EXCELLENT</td>\n",
       "      <td>3</td>\n",
       "      <td>1</td>\n",
       "    </tr>\n",
       "    <tr>\n",
       "      <th>3</th>\n",
       "      <td>PT. Mikata Sukses Mandiri</td>\n",
       "      <td>Pertanian &amp; Tahan Pangan</td>\n",
       "      <td>3600000000</td>\n",
       "      <td>5</td>\n",
       "      <td>310</td>\n",
       "      <td>EXCELLENT</td>\n",
       "      <td>6</td>\n",
       "      <td>1</td>\n",
       "    </tr>\n",
       "    <tr>\n",
       "      <th>4</th>\n",
       "      <td>PT. Adhiguna Jaya Laboratorium</td>\n",
       "      <td>Pertanian &amp; Tahan Pangan</td>\n",
       "      <td>500000000</td>\n",
       "      <td>5</td>\n",
       "      <td>223</td>\n",
       "      <td>GOOD</td>\n",
       "      <td>6</td>\n",
       "      <td>3</td>\n",
       "    </tr>\n",
       "  </tbody>\n",
       "</table>\n",
       "</div>"
      ],
      "text/plain": [
       "                      Nama.Tenant          Bidang.Teknologi       Omset  \\\n",
       "0      CV. Sentra Susu Cipageuran  Pertanian & Tahan Pangan   360000000   \n",
       "1    CV Gerbang Organik Nusantara  Pertanian & Tahan Pangan   250000000   \n",
       "2       PT. Agro Teknologi Pintar                       ICT   230000000   \n",
       "3       PT. Mikata Sukses Mandiri  Pertanian & Tahan Pangan  3600000000   \n",
       "4  PT. Adhiguna Jaya Laboratorium  Pertanian & Tahan Pangan   500000000   \n",
       "\n",
       "   Tenaga_Kerja  Score   Predikat  BidTek-encode  Predikat-encode  \n",
       "0             5    190       FAIR              6                2  \n",
       "1             3    159       FAIR              6                2  \n",
       "2             5    296  EXCELLENT              3                1  \n",
       "3             5    310  EXCELLENT              6                1  \n",
       "4             5    223       GOOD              6                3  "
      ]
     },
     "execution_count": 19,
     "metadata": {},
     "output_type": "execute_result"
    }
   ],
   "source": [
    "# Mengaplikasikan Endcoding kolom Bidang Teknologi menggunakan .cat.codes\n",
    "\n",
    "data['BidTek-encode'] = data['Bidang.Teknologi'].cat.codes\n",
    "data['Predikat-encode'] = data['Predikat'].cat.codes\n",
    "data.head()"
   ]
  },
  {
   "cell_type": "code",
   "execution_count": 22,
   "metadata": {},
   "outputs": [
    {
     "name": "stdout",
     "output_type": "stream",
     "text": [
      "<class 'pandas.core.frame.DataFrame'>\n",
      "RangeIndex: 77 entries, 0 to 76\n",
      "Data columns (total 8 columns):\n",
      " #   Column            Non-Null Count  Dtype   \n",
      "---  ------            --------------  -----   \n",
      " 0   Nama.Tenant       77 non-null     object  \n",
      " 1   Bidang.Teknologi  77 non-null     category\n",
      " 2   Omset             77 non-null     int64   \n",
      " 3   Tenaga_Kerja      77 non-null     int64   \n",
      " 4   Score             77 non-null     int64   \n",
      " 5   Predikat          77 non-null     category\n",
      " 6   BidTek-encode     77 non-null     int8    \n",
      " 7   Predikat-encode   77 non-null     int8    \n",
      "dtypes: category(2), int64(3), int8(2), object(1)\n",
      "memory usage: 3.4+ KB\n"
     ]
    }
   ],
   "source": [
    "data.info()"
   ]
  },
  {
   "cell_type": "code",
   "execution_count": 23,
   "metadata": {},
   "outputs": [
    {
     "name": "stdout",
     "output_type": "stream",
     "text": [
      "<class 'pandas.core.frame.DataFrame'>\n",
      "RangeIndex: 77 entries, 0 to 76\n",
      "Data columns (total 8 columns):\n",
      " #   Column            Non-Null Count  Dtype   \n",
      "---  ------            --------------  -----   \n",
      " 0   Nama.Tenant       77 non-null     object  \n",
      " 1   Bidang.Teknologi  77 non-null     category\n",
      " 2   Omset             77 non-null     int64   \n",
      " 3   Tenaga_Kerja      77 non-null     int64   \n",
      " 4   Score             77 non-null     int64   \n",
      " 5   Predikat          77 non-null     category\n",
      " 6   BidTek-encode     77 non-null     int64   \n",
      " 7   Predikat-encode   77 non-null     int64   \n",
      "dtypes: category(2), int64(5), object(1)\n",
      "memory usage: 4.4+ KB\n"
     ]
    }
   ],
   "source": [
    "data['BidTek-encode'] = data['BidTek-encode'].astype('int64')\n",
    "data['Predikat-encode'] = data['Predikat-encode'].astype('int64')\n",
    "data.info()"
   ]
  },
  {
   "cell_type": "code",
   "execution_count": 30,
   "metadata": {},
   "outputs": [],
   "source": [
    "# Standarisasi data menggunakan Z-Score/StandarScaler (Karena selisih nilai antar kolom berbeda jauh)\n",
    "# berdasarkan https://developers.google.com/machine-learning/data-prep/transform/normalization\n",
    "# Pemilihan metode standarisasi https://www.researchgate.net/post/What_are_the_best_normalization_methods_Z-Score_Min-Max_etc_How_would_you_choose_a_data_normalization_method\n",
    "def denorm(x, mean, std, normalize=True):\n",
    "  # Jika ingin normalisasi\n",
    "  if normalize:\n",
    "    xx = (x - mean) / std #Rumus Z-Score\n",
    "\n",
    "  # Jika ingin denormalisasi\n",
    "  else:\n",
    "    xx = x * std + mean\n",
    "\n",
    "  return xx\n",
    "\n",
    "# Hitung rata-rata\n",
    "x_mean_Omset = data.Omset.mean()\n",
    "x_mean_Tenaga_Kerja = data.Tenaga_Kerja.mean()\n",
    "#x_mean_BidTek = data.BidTek-encode.mean()\n",
    "#y_mean_Predikat = data.Predikat-encode.mean()\n",
    "# Hitung standar deviasi\n",
    "x_std_Omset = data.Omset.std()\n",
    "x_std_Tenaga_Kerja = data.Tenaga_Kerja.std()\n",
    "#x_std_BidTek = data.BidTek-encode.std()\n",
    "#y_std_Predikat = data.Predikat-encode.std()\n",
    "\n",
    "# Lakukan standarisasi\n",
    "data['x_Omset'] = denorm(data.Omset, x_mean_Omset, x_std_Omset) #Menambah kolom data x yang sudah distandarisasi\n",
    "data['x_Tenaga_Kerja'] = denorm(data.Tenaga_Kerja, x_mean_Tenaga_Kerja, x_std_Tenaga_Kerja) #Menambah kolom data x yang sudah distandarisasi\n",
    "#df['x_BidTek'] = denorm(data.BidTek-encode, x_mean_BidTek, x_std_BidTek) #Menambah kolom data x yang sudah distandarisasi\n",
    "#df['y_Predikat'] = denorm(data.Predikat-encode, y_mean_Predikat, y_std_Predikat) #Menambah kolom data y yang sudah distandarisasi"
   ]
  },
  {
   "cell_type": "code",
   "execution_count": 31,
   "metadata": {},
   "outputs": [
    {
     "data": {
      "text/html": [
       "<div>\n",
       "<style scoped>\n",
       "    .dataframe tbody tr th:only-of-type {\n",
       "        vertical-align: middle;\n",
       "    }\n",
       "\n",
       "    .dataframe tbody tr th {\n",
       "        vertical-align: top;\n",
       "    }\n",
       "\n",
       "    .dataframe thead th {\n",
       "        text-align: right;\n",
       "    }\n",
       "</style>\n",
       "<table border=\"1\" class=\"dataframe\">\n",
       "  <thead>\n",
       "    <tr style=\"text-align: right;\">\n",
       "      <th></th>\n",
       "      <th>Nama.Tenant</th>\n",
       "      <th>Bidang.Teknologi</th>\n",
       "      <th>Omset</th>\n",
       "      <th>Tenaga_Kerja</th>\n",
       "      <th>Score</th>\n",
       "      <th>Predikat</th>\n",
       "      <th>BidTek-encode</th>\n",
       "      <th>Predikat-encode</th>\n",
       "      <th>x_Omset</th>\n",
       "      <th>x_Tenaga_Kerja</th>\n",
       "    </tr>\n",
       "  </thead>\n",
       "  <tbody>\n",
       "    <tr>\n",
       "      <th>0</th>\n",
       "      <td>CV. Sentra Susu Cipageuran</td>\n",
       "      <td>Pertanian &amp; Tahan Pangan</td>\n",
       "      <td>360000000</td>\n",
       "      <td>5</td>\n",
       "      <td>190</td>\n",
       "      <td>FAIR</td>\n",
       "      <td>6</td>\n",
       "      <td>2</td>\n",
       "      <td>-0.149339</td>\n",
       "      <td>-0.202450</td>\n",
       "    </tr>\n",
       "    <tr>\n",
       "      <th>1</th>\n",
       "      <td>CV Gerbang Organik Nusantara</td>\n",
       "      <td>Pertanian &amp; Tahan Pangan</td>\n",
       "      <td>250000000</td>\n",
       "      <td>3</td>\n",
       "      <td>159</td>\n",
       "      <td>FAIR</td>\n",
       "      <td>6</td>\n",
       "      <td>2</td>\n",
       "      <td>-0.185392</td>\n",
       "      <td>-0.378593</td>\n",
       "    </tr>\n",
       "    <tr>\n",
       "      <th>2</th>\n",
       "      <td>PT. Agro Teknologi Pintar</td>\n",
       "      <td>ICT</td>\n",
       "      <td>230000000</td>\n",
       "      <td>5</td>\n",
       "      <td>296</td>\n",
       "      <td>EXCELLENT</td>\n",
       "      <td>3</td>\n",
       "      <td>1</td>\n",
       "      <td>-0.191947</td>\n",
       "      <td>-0.202450</td>\n",
       "    </tr>\n",
       "    <tr>\n",
       "      <th>3</th>\n",
       "      <td>PT. Mikata Sukses Mandiri</td>\n",
       "      <td>Pertanian &amp; Tahan Pangan</td>\n",
       "      <td>3600000000</td>\n",
       "      <td>5</td>\n",
       "      <td>310</td>\n",
       "      <td>EXCELLENT</td>\n",
       "      <td>6</td>\n",
       "      <td>1</td>\n",
       "      <td>0.912585</td>\n",
       "      <td>-0.202450</td>\n",
       "    </tr>\n",
       "    <tr>\n",
       "      <th>4</th>\n",
       "      <td>PT. Adhiguna Jaya Laboratorium</td>\n",
       "      <td>Pertanian &amp; Tahan Pangan</td>\n",
       "      <td>500000000</td>\n",
       "      <td>5</td>\n",
       "      <td>223</td>\n",
       "      <td>GOOD</td>\n",
       "      <td>6</td>\n",
       "      <td>3</td>\n",
       "      <td>-0.103454</td>\n",
       "      <td>-0.202450</td>\n",
       "    </tr>\n",
       "  </tbody>\n",
       "</table>\n",
       "</div>"
      ],
      "text/plain": [
       "                      Nama.Tenant          Bidang.Teknologi       Omset  \\\n",
       "0      CV. Sentra Susu Cipageuran  Pertanian & Tahan Pangan   360000000   \n",
       "1    CV Gerbang Organik Nusantara  Pertanian & Tahan Pangan   250000000   \n",
       "2       PT. Agro Teknologi Pintar                       ICT   230000000   \n",
       "3       PT. Mikata Sukses Mandiri  Pertanian & Tahan Pangan  3600000000   \n",
       "4  PT. Adhiguna Jaya Laboratorium  Pertanian & Tahan Pangan   500000000   \n",
       "\n",
       "   Tenaga_Kerja  Score   Predikat  BidTek-encode  Predikat-encode   x_Omset  \\\n",
       "0             5    190       FAIR              6                2 -0.149339   \n",
       "1             3    159       FAIR              6                2 -0.185392   \n",
       "2             5    296  EXCELLENT              3                1 -0.191947   \n",
       "3             5    310  EXCELLENT              6                1  0.912585   \n",
       "4             5    223       GOOD              6                3 -0.103454   \n",
       "\n",
       "   x_Tenaga_Kerja  \n",
       "0       -0.202450  \n",
       "1       -0.378593  \n",
       "2       -0.202450  \n",
       "3       -0.202450  \n",
       "4       -0.202450  "
      ]
     },
     "execution_count": 31,
     "metadata": {},
     "output_type": "execute_result"
    }
   ],
   "source": [
    "# Sampel hasil standarisasi\n",
    "data.head()"
   ]
  },
  {
   "cell_type": "code",
   "execution_count": 33,
   "metadata": {
    "scrolled": false
   },
   "outputs": [
    {
     "name": "stdout",
     "output_type": "stream",
     "text": [
      "Berikut ini tampilan data X\n",
      "    x_Omset  x_Tenaga_Kerja\n",
      "0 -0.149339       -0.202450\n",
      "1 -0.185392       -0.378593\n",
      "2 -0.191947       -0.202450\n",
      "3  0.912585       -0.202450\n",
      "4 -0.103454       -0.202450\n",
      "\n",
      "Berikut ini tampilan data Y\n",
      "0         FAIR\n",
      "1         FAIR\n",
      "2    EXCELLENT\n",
      "3    EXCELLENT\n",
      "4         GOOD\n",
      "Name: Predikat, dtype: category\n",
      "Categories (5, object): ['DROP OUT', 'EXCELLENT', 'FAIR', 'GOOD', 'VERY GOOD']\n"
     ]
    }
   ],
   "source": [
    "#X=data.iloc[:, :-1] #Semua baris kecuali kolom paling kanan \":-1\"\n",
    "X=data[['x_Omset','x_Tenaga_Kerja']]\n",
    "#X=data[['Score']]\n",
    "y=data['Predikat'] #Menagmbil kolom \"Predikat\"\n",
    "print(\"Berikut ini tampilan data X\")\n",
    "print(X.head()) #Variabel Independen (X)\n",
    "print(\"\")\n",
    "print(\"Berikut ini tampilan data Y\")\n",
    "print(y.head()) #Variabel Dependen (Y)"
   ]
  },
  {
   "cell_type": "code",
   "execution_count": 34,
   "metadata": {
    "scrolled": true
   },
   "outputs": [],
   "source": [
    "X_train,x_test,y_train,y_test=train_test_split(X,y,test_size=0.3) #Data train 70% Data Test 30%"
   ]
  },
  {
   "cell_type": "code",
   "execution_count": 35,
   "metadata": {
    "scrolled": true
   },
   "outputs": [
    {
     "data": {
      "text/plain": [
       "LogisticRegression()"
      ]
     },
     "execution_count": 35,
     "metadata": {},
     "output_type": "execute_result"
    }
   ],
   "source": [
    "#data.replace([np.inf, -np.inf], np.nan, inplace=True)\n",
    "#data.fillna(999, inplace=True)\n",
    "\n",
    "model=LogisticRegression(multi_class='auto') #Membentuk model regresi logstik, \"auto\" supaya python mendeteksi\n",
    "model.fit(X_train,y_train) #Fit model logistik regresion data train 70%\n",
    "\n",
    "\n",
    "#data.fillna(df.mean(), inplace=True)\n"
   ]
  },
  {
   "cell_type": "code",
   "execution_count": 36,
   "metadata": {
    "scrolled": true
   },
   "outputs": [
    {
     "name": "stdout",
     "output_type": "stream",
     "text": [
      "Berikut ini tampilan data x_test\n",
      "     x_Omset  x_Tenaga_Kerja\n",
      "14 -0.262087       -0.378593\n",
      "8  -0.201780       -0.466664\n",
      "42 -0.251530       -0.378593\n",
      "56 -0.152617       -0.202450\n",
      "68 -0.262900        0.149836\n"
     ]
    }
   ],
   "source": [
    "print(\"Berikut ini tampilan data x_test\")\n",
    "print(x_test.head()) "
   ]
  },
  {
   "cell_type": "code",
   "execution_count": 37,
   "metadata": {
    "scrolled": true
   },
   "outputs": [
    {
     "data": {
      "text/plain": [
       "array([[0.14149527, 0.19835139, 0.24414329, 0.2805702 , 0.13543985],\n",
       "       [0.13873843, 0.21311631, 0.24001377, 0.28272303, 0.12540846],\n",
       "       [0.14105412, 0.20026969, 0.24338344, 0.27968363, 0.13560912],\n",
       "       [0.13671656, 0.21072698, 0.23469451, 0.25644322, 0.16141873],\n",
       "       [0.13890565, 0.17393286, 0.23598546, 0.23345503, 0.21772101]])"
      ]
     },
     "execution_count": 37,
     "metadata": {},
     "output_type": "execute_result"
    }
   ],
   "source": [
    "model.predict_proba(x_test)[0:5] #Prediksi Probabilitas x_test di 5 data pertama"
   ]
  },
  {
   "cell_type": "code",
   "execution_count": 38,
   "metadata": {
    "scrolled": true
   },
   "outputs": [
    {
     "data": {
      "text/plain": [
       "array(['GOOD', 'GOOD', 'GOOD', 'GOOD', 'FAIR', 'GOOD', 'GOOD', 'GOOD',\n",
       "       'VERY GOOD', 'FAIR', 'GOOD', 'EXCELLENT', 'VERY GOOD', 'GOOD',\n",
       "       'GOOD', 'GOOD', 'EXCELLENT', 'GOOD', 'GOOD', 'GOOD', 'GOOD',\n",
       "       'GOOD', 'VERY GOOD', 'GOOD'], dtype=object)"
      ]
     },
     "execution_count": 38,
     "metadata": {},
     "output_type": "execute_result"
    }
   ],
   "source": [
    "predictions=model.predict(x_test)\n",
    "predictions"
   ]
  },
  {
   "cell_type": "code",
   "execution_count": 39,
   "metadata": {
    "scrolled": false
   },
   "outputs": [
    {
     "name": "stdout",
     "output_type": "stream",
     "text": [
      "              precision    recall  f1-score   support\n",
      "\n",
      "    DROP OUT       0.00      0.00      0.00         6\n",
      "   EXCELLENT       0.50      0.20      0.29         5\n",
      "        FAIR       0.50      0.12      0.20         8\n",
      "        GOOD       0.12      0.50      0.19         4\n",
      "   VERY GOOD       0.00      0.00      0.00         1\n",
      "\n",
      "    accuracy                           0.17        24\n",
      "   macro avg       0.22      0.16      0.14        24\n",
      "weighted avg       0.29      0.17      0.16        24\n",
      "\n",
      "akurasi hasil prediksi adalah sebesar:\n",
      "0.16666666666666666\n"
     ]
    },
    {
     "name": "stderr",
     "output_type": "stream",
     "text": [
      "C:\\Users\\Indra_BIT\\anaconda3\\lib\\site-packages\\sklearn\\metrics\\_classification.py:1245: UndefinedMetricWarning: Precision and F-score are ill-defined and being set to 0.0 in labels with no predicted samples. Use `zero_division` parameter to control this behavior.\n",
      "  _warn_prf(average, modifier, msg_start, len(result))\n",
      "C:\\Users\\Indra_BIT\\anaconda3\\lib\\site-packages\\sklearn\\metrics\\_classification.py:1245: UndefinedMetricWarning: Precision and F-score are ill-defined and being set to 0.0 in labels with no predicted samples. Use `zero_division` parameter to control this behavior.\n",
      "  _warn_prf(average, modifier, msg_start, len(result))\n",
      "C:\\Users\\Indra_BIT\\anaconda3\\lib\\site-packages\\sklearn\\metrics\\_classification.py:1245: UndefinedMetricWarning: Precision and F-score are ill-defined and being set to 0.0 in labels with no predicted samples. Use `zero_division` parameter to control this behavior.\n",
      "  _warn_prf(average, modifier, msg_start, len(result))\n"
     ]
    }
   ],
   "source": [
    "print(classification_report(y_test,predictions))\n",
    "print(\"akurasi hasil prediksi adalah sebesar:\")\n",
    "print(accuracy_score(y_test,predictions))"
   ]
  },
  {
   "cell_type": "markdown",
   "metadata": {},
   "source": [
    "SVM classifier akan dibuat terlebih dahulu dengan menggunakan library svm. Kemudian classification report dapat ditampilkan dengan library classification_report. Caranya adalah sebagai berikut:"
   ]
  },
  {
   "cell_type": "code",
   "execution_count": 40,
   "metadata": {},
   "outputs": [],
   "source": [
    "#menggunakan SVM library untuk membuat SVM classifier\n",
    "#classifier = svm.SVC(kernel = 'linear')\n",
    " \n",
    "#memasukkan training data kedalam classifier\n",
    "#classifier.fit(X_train, y_train)\n",
    " \n",
    "#memasukkan testing data ke variabel y_predict\n",
    "#y_predict = classifier.predict(X_test)\n",
    " \n",
    "#menampilkan classification report\n",
    "#print(classification_report(y_test, y_predict))\n"
   ]
  },
  {
   "cell_type": "markdown",
   "metadata": {},
   "source": [
    "Menampilkan detail dari hasil prediksi yang diberikan oleh classification model yang di buat dengan confusion matrix. Caranya adalah sebagai berikut:"
   ]
  },
  {
   "cell_type": "code",
   "execution_count": 41,
   "metadata": {},
   "outputs": [
    {
     "data": {
      "text/plain": [
       "Text(69.0, 0.5, 'Truth')"
      ]
     },
     "execution_count": 41,
     "metadata": {},
     "output_type": "execute_result"
    },
    {
     "data": {
      "image/png": "[encoded data removed]",
      "text/plain": [
       "<Figure size 720x504 with 2 Axes>"
      ]
     },
     "metadata": {
      "needs_background": "light"
     },
     "output_type": "display_data"
    }
   ],
   "source": [
    "#mengimplementasikan testing data dan hasil prediksi dalam confusion matrix\n",
    "cm = confusion_matrix(y_test, predictions)\n",
    " \n",
    "#membuat plotting confusion matrix\n",
    "%matplotlib inline\n",
    "plt.figure (figsize=(10,7))\n",
    "sns.heatmap(cm, annot=True)\n",
    "plt.xlabel('Predicted')\n",
    "plt.ylabel('Truth')"
   ]
  },
  {
   "cell_type": "markdown",
   "metadata": {},
   "source": [
    "<hr>"
   ]
  },
  {
   "cell_type": "markdown",
   "metadata": {},
   "source": [
    "Referensi @ <a href=\"https://ilmudatapy.com/\">ilmudatapy.com</a>"
   ]
  }
 ],
 "metadata": {
  "kernelspec": {
   "display_name": "Python 3",
   "language": "python",
   "name": "python3"
  },
  "language_info": {
   "codemirror_mode": {
    "name": "ipython",
    "version": 3
   },
   "file_extension": ".py",
   "mimetype": "text/x-python",
   "name": "python",
   "nbconvert_exporter": "python",
   "pygments_lexer": "ipython3",
   "version": "3.8.8"
  }
 },
 "nbformat": 4,
 "nbformat_minor": 2
}
